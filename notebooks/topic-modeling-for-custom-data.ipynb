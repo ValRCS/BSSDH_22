{
  "cells": [
    {
      "cell_type": "markdown",
      "metadata": {
        "id": "wHNrQ3OvLK8e"
      },
      "source": [
        "<img align=\"left\" src=\"https://ithaka-labs.s3.amazonaws.com/static-files/images/tdm/tdmdocs/CC_BY.png\"><br />\n",
        "\n",
        "Adopted by Valdis Saulespurens from  [Nathan Kelber](http://nkelber.com) and Ted Lawless for [JSTOR Labs](https://labs.jstor.org/) under [Creative Commons CC BY License](https://creativecommons.org/licenses/by/4.0/)<br />\n",
        "For questions/comments/improvements, email valdis.s.coding at gmail com<br />\n",
        "___\n",
        "\n",
        "# Latent Dirichlet Allocation (LDA) Topic Modeling\n",
        "\n",
        "**Description:**\n",
        "This [notebook](https://docs.constellate.org/key-terms/#jupyter-notebook) demonstrates how to do topic modeling. The following processes are described:\n",
        "\n",
        "* Filtering based on a [stop words list](https://docs.constellate.org/key-terms/#stop-words)\n",
        "* Cleaning the tokens in the dataset\n",
        "* Creating a [gensim dictionary](https://docs.constellate.org/key-terms/#gensim-dictionary)\n",
        "* Creating a [gensim](https://docs.constellate.org/key-terms/#gensim) [bag of words](https://docs.constellate.org/key-terms/#bag-of-words) [corpus](https://docs.constellate.org/key-terms/#corpus)\n",
        "* Computing a topic list using [gensim](https://docs.constellate.org/key-terms/#gensim)\n",
        "* Visualizing the topic list with `pyldavis`\n",
        "\n",
        "**Use Case:** For Researchers (Mostly code without explanation, not ideal for learners)\n",
        "\n",
        "**Difficulty:** Intermediate\n",
        "\n",
        "**Completion time:** 60 minutes\n",
        "\n",
        "**Knowledge Required:** \n",
        "* Python Basics Series ([Start Python Basics I](./python-basics-1.ipynb))\n",
        "\n",
        "**Knowledge Recommended:**\n",
        "* [Exploring Metadata](./metadata.ipynb)\n",
        "* [Working with Dataset Files](./working-with-dataset-files.ipynb)\n",
        "* [Pandas I](./pandas-1.ipynb)\n",
        "* [Creating a Stopwords List](./creating-stopwords-list.ipynb)\n",
        "* A familiarity with [gensim](https://docs.constellate.org/key-terms/#gensim) is helpful but not required.\n",
        "\n",
        "**Data Format:** [JSON Lines (.jsonl)](https://docs.constellate.org/key-terms/#jsonl)\n",
        "\n",
        "**Libraries Used:**\n",
        "\n",
        "* [pandas](https://constellate.org/docs/key-terms/#pandas) to load a preprocessing list\n",
        "* `csv` to load a custom stopwords list\n",
        "* [gensim](https://docs.constellate.org/key-terms/#gensim) to accomplish the topic modeling\n",
        "* [NLTK](https://docs.constellate.org/key-terms/#nltk) to create a stopwords list (if no list is supplied)\n",
        "* `pyldavis` to visualize our topic model\n",
        "\n",
        "**Research Pipeline**\n",
        "1. Build a dataset\n",
        "2. Create a \"Pre-Processing CSV\" with [Exploring Metadata](./exploring-metadata.ipynb) (Optional)\n",
        "3. Create a \"Custom Stopwords List\" with [Creating a Stopwords List](./creating-stopwords-list.ipynb) (Optional)\n",
        "4. Complete the Topic Modeling analysis with this notebook\n",
        "____"
      ]
    },
    {
      "cell_type": "markdown",
      "metadata": {
        "id": "lDnWvD2vLK8j"
      },
      "source": [
        "## What is Topic Modeling?\n",
        "\n",
        "**Topic modeling** is a **machine learning** technique that attempts to discover groupings of words (called topics) that commonly occur together in a body of texts. The body of texts could be anything from journal articles to newspaper articles to tweets.\n",
        "\n",
        "**Topic modeling** is an unsupervised, clustering technique for text. We give the machine a series of texts that it then attempts to cluster the texts into a given number of topics. There is also a *supervised*, clustering technique called **Topic Classification**, where we supply the machine with examples of pre-labeled topics and then see if the machine can identify them given the examples.\n",
        "\n",
        "**Topic modeling** is usually considered an exploratory technique; it helps us discover new patterns within a set of texts. **Topic Classification**, using labeled data, is intended to be a predictive technique; we want it to find more things like the examples we give it.\n",
        "\n",
        "<font color='red'>Read more</font>\n",
        "\n",
        "* [\"Latent Dirichlet Allocation: Intuition, math, implementation and visualisation with pyLDAvis\" Ioana](https://towardsdatascience.com/latent-dirichlet-allocation-intuition-math-implementation-and-visualisation-63ccb616e094) 2020\n",
        "* [\"Latent Dirichlet Allocation\" Blei, Ng, Jordan](https://www.jmlr.org/papers/volume3/blei03a/blei03a.pdf?TB_iframe=true&width=370.8&height=658.8) 2003"
      ]
    },
    {
      "cell_type": "markdown",
      "metadata": {
        "id": "Qt93KdoELK8k"
      },
      "source": [
        "## Import your dataset"
      ]
    },
    {
      "cell_type": "code",
      "execution_count": 1,
      "metadata": {
        "scrolled": true,
        "id": "Cff71WEkLK8l"
      },
      "outputs": [],
      "source": [
        "\n",
        "import pandas\n",
        "import os\n",
        "import gensim\n",
        "import requests\n"
      ]
    },
    {
      "cell_type": "code",
      "source": [
        "pandas.__version__"
      ],
      "metadata": {
        "id": "D38oh4b36YH5",
        "outputId": "00573b9d-ecfc-4bc6-83e4-b5adf12e1fde",
        "colab": {
          "base_uri": "https://localhost:8080/",
          "height": 35
        }
      },
      "execution_count": 2,
      "outputs": [
        {
          "output_type": "execute_result",
          "data": {
            "text/plain": [
              "'1.3.5'"
            ],
            "application/vnd.google.colaboratory.intrinsic+json": {
              "type": "string"
            }
          },
          "metadata": {},
          "execution_count": 2
        }
      ]
    },
    {
      "cell_type": "code",
      "source": [
        "gensim.__version__"
      ],
      "metadata": {
        "id": "36KgNTB76bV0",
        "outputId": "117e3e6a-81f0-40d1-a83e-182137d97818",
        "colab": {
          "base_uri": "https://localhost:8080/",
          "height": 35
        }
      },
      "execution_count": 3,
      "outputs": [
        {
          "output_type": "execute_result",
          "data": {
            "text/plain": [
              "'3.6.0'"
            ],
            "application/vnd.google.colaboratory.intrinsic+json": {
              "type": "string"
            }
          },
          "metadata": {},
          "execution_count": 3
        }
      ]
    },
    {
      "cell_type": "code",
      "source": [
        "url = \"https://github.com/ValRCS/BSSDH_22/raw/main/corpora/lv_old_newspapers_5k.tsv\"\n",
        "\n",
        "df = pandas.read_csv(url, sep=\"\\t\") \n",
        "df.head()"
      ],
      "metadata": {
        "id": "784x8uBHv_p3",
        "outputId": "74b5ed57-2bda-456a-d969-7598e6069a2a",
        "colab": {
          "base_uri": "https://localhost:8080/",
          "height": 206
        }
      },
      "execution_count": 4,
      "outputs": [
        {
          "output_type": "execute_result",
          "data": {
            "text/plain": [
              "  Language           Source        Date  \\\n",
              "0  Latvian     rekurzeme.lv  2008/09/04   \n",
              "1  Latvian         diena.lv  2012/01/10   \n",
              "2  Latvian  bauskasdzive.lv  2007/12/27   \n",
              "3  Latvian  bauskasdzive.lv  2008/10/08   \n",
              "4  Latvian         diena.lv  2011/10/05   \n",
              "\n",
              "                                                Text  \n",
              "0  \"Viņa pirmsnāves zīmītē bija rakstīts vienīgi ...  \n",
              "1                               info@zurnalistiem.lv  \n",
              "2  Bhuto, kas Pakistānā no trimdas atgriezās tika...  \n",
              "3  Plkst. 4.00 Samoilovs / Pļaviņš (pludmales vol...  \n",
              "4  CVK bija vērsusies Skaburska, lūdzot izskaidro...  "
            ],
            "text/html": [
              "\n",
              "  <div id=\"df-1c53e5a1-a776-4879-a511-1ac2ae964db7\">\n",
              "    <div class=\"colab-df-container\">\n",
              "      <div>\n",
              "<style scoped>\n",
              "    .dataframe tbody tr th:only-of-type {\n",
              "        vertical-align: middle;\n",
              "    }\n",
              "\n",
              "    .dataframe tbody tr th {\n",
              "        vertical-align: top;\n",
              "    }\n",
              "\n",
              "    .dataframe thead th {\n",
              "        text-align: right;\n",
              "    }\n",
              "</style>\n",
              "<table border=\"1\" class=\"dataframe\">\n",
              "  <thead>\n",
              "    <tr style=\"text-align: right;\">\n",
              "      <th></th>\n",
              "      <th>Language</th>\n",
              "      <th>Source</th>\n",
              "      <th>Date</th>\n",
              "      <th>Text</th>\n",
              "    </tr>\n",
              "  </thead>\n",
              "  <tbody>\n",
              "    <tr>\n",
              "      <th>0</th>\n",
              "      <td>Latvian</td>\n",
              "      <td>rekurzeme.lv</td>\n",
              "      <td>2008/09/04</td>\n",
              "      <td>\"Viņa pirmsnāves zīmītē bija rakstīts vienīgi ...</td>\n",
              "    </tr>\n",
              "    <tr>\n",
              "      <th>1</th>\n",
              "      <td>Latvian</td>\n",
              "      <td>diena.lv</td>\n",
              "      <td>2012/01/10</td>\n",
              "      <td>info@zurnalistiem.lv</td>\n",
              "    </tr>\n",
              "    <tr>\n",
              "      <th>2</th>\n",
              "      <td>Latvian</td>\n",
              "      <td>bauskasdzive.lv</td>\n",
              "      <td>2007/12/27</td>\n",
              "      <td>Bhuto, kas Pakistānā no trimdas atgriezās tika...</td>\n",
              "    </tr>\n",
              "    <tr>\n",
              "      <th>3</th>\n",
              "      <td>Latvian</td>\n",
              "      <td>bauskasdzive.lv</td>\n",
              "      <td>2008/10/08</td>\n",
              "      <td>Plkst. 4.00 Samoilovs / Pļaviņš (pludmales vol...</td>\n",
              "    </tr>\n",
              "    <tr>\n",
              "      <th>4</th>\n",
              "      <td>Latvian</td>\n",
              "      <td>diena.lv</td>\n",
              "      <td>2011/10/05</td>\n",
              "      <td>CVK bija vērsusies Skaburska, lūdzot izskaidro...</td>\n",
              "    </tr>\n",
              "  </tbody>\n",
              "</table>\n",
              "</div>\n",
              "      <button class=\"colab-df-convert\" onclick=\"convertToInteractive('df-1c53e5a1-a776-4879-a511-1ac2ae964db7')\"\n",
              "              title=\"Convert this dataframe to an interactive table.\"\n",
              "              style=\"display:none;\">\n",
              "        \n",
              "  <svg xmlns=\"http://www.w3.org/2000/svg\" height=\"24px\"viewBox=\"0 0 24 24\"\n",
              "       width=\"24px\">\n",
              "    <path d=\"M0 0h24v24H0V0z\" fill=\"none\"/>\n",
              "    <path d=\"M18.56 5.44l.94 2.06.94-2.06 2.06-.94-2.06-.94-.94-2.06-.94 2.06-2.06.94zm-11 1L8.5 8.5l.94-2.06 2.06-.94-2.06-.94L8.5 2.5l-.94 2.06-2.06.94zm10 10l.94 2.06.94-2.06 2.06-.94-2.06-.94-.94-2.06-.94 2.06-2.06.94z\"/><path d=\"M17.41 7.96l-1.37-1.37c-.4-.4-.92-.59-1.43-.59-.52 0-1.04.2-1.43.59L10.3 9.45l-7.72 7.72c-.78.78-.78 2.05 0 2.83L4 21.41c.39.39.9.59 1.41.59.51 0 1.02-.2 1.41-.59l7.78-7.78 2.81-2.81c.8-.78.8-2.07 0-2.86zM5.41 20L4 18.59l7.72-7.72 1.47 1.35L5.41 20z\"/>\n",
              "  </svg>\n",
              "      </button>\n",
              "      \n",
              "  <style>\n",
              "    .colab-df-container {\n",
              "      display:flex;\n",
              "      flex-wrap:wrap;\n",
              "      gap: 12px;\n",
              "    }\n",
              "\n",
              "    .colab-df-convert {\n",
              "      background-color: #E8F0FE;\n",
              "      border: none;\n",
              "      border-radius: 50%;\n",
              "      cursor: pointer;\n",
              "      display: none;\n",
              "      fill: #1967D2;\n",
              "      height: 32px;\n",
              "      padding: 0 0 0 0;\n",
              "      width: 32px;\n",
              "    }\n",
              "\n",
              "    .colab-df-convert:hover {\n",
              "      background-color: #E2EBFA;\n",
              "      box-shadow: 0px 1px 2px rgba(60, 64, 67, 0.3), 0px 1px 3px 1px rgba(60, 64, 67, 0.15);\n",
              "      fill: #174EA6;\n",
              "    }\n",
              "\n",
              "    [theme=dark] .colab-df-convert {\n",
              "      background-color: #3B4455;\n",
              "      fill: #D2E3FC;\n",
              "    }\n",
              "\n",
              "    [theme=dark] .colab-df-convert:hover {\n",
              "      background-color: #434B5C;\n",
              "      box-shadow: 0px 1px 3px 1px rgba(0, 0, 0, 0.15);\n",
              "      filter: drop-shadow(0px 1px 2px rgba(0, 0, 0, 0.3));\n",
              "      fill: #FFFFFF;\n",
              "    }\n",
              "  </style>\n",
              "\n",
              "      <script>\n",
              "        const buttonEl =\n",
              "          document.querySelector('#df-1c53e5a1-a776-4879-a511-1ac2ae964db7 button.colab-df-convert');\n",
              "        buttonEl.style.display =\n",
              "          google.colab.kernel.accessAllowed ? 'block' : 'none';\n",
              "\n",
              "        async function convertToInteractive(key) {\n",
              "          const element = document.querySelector('#df-1c53e5a1-a776-4879-a511-1ac2ae964db7');\n",
              "          const dataTable =\n",
              "            await google.colab.kernel.invokeFunction('convertToInteractive',\n",
              "                                                     [key], {});\n",
              "          if (!dataTable) return;\n",
              "\n",
              "          const docLinkHtml = 'Like what you see? Visit the ' +\n",
              "            '<a target=\"_blank\" href=https://colab.research.google.com/notebooks/data_table.ipynb>data table notebook</a>'\n",
              "            + ' to learn more about interactive tables.';\n",
              "          element.innerHTML = '';\n",
              "          dataTable['output_type'] = 'display_data';\n",
              "          await google.colab.output.renderOutput(dataTable, element);\n",
              "          const docLink = document.createElement('div');\n",
              "          docLink.innerHTML = docLinkHtml;\n",
              "          element.appendChild(docLink);\n",
              "        }\n",
              "      </script>\n",
              "    </div>\n",
              "  </div>\n",
              "  "
            ]
          },
          "metadata": {},
          "execution_count": 4
        }
      ]
    },
    {
      "cell_type": "code",
      "source": [
        "full_url = \"https://github.com/ValRCS/BSSDH_22/raw/main/corpora/lv_old_newspapers.zip\"\n",
        "# so Estonian one is \"https://github.com/ValRCS/BSSDH_22/raw/main/corpora/ee_old_newspapers.zip\"\n",
        "# Ukranian \"https://github.com/ValRCS/BSSDH_22/raw/main/corpora/ua_old_newspapers.zip\"\n",
        "full_df = pandas.read_csv(full_url, sep=\"\\t\", compression=\"zip\")\n",
        "full_df.shape"
      ],
      "metadata": {
        "id": "E76FEwvtKf70",
        "outputId": "da3e6688-3aef-4c90-e512-3f1cd6161428",
        "colab": {
          "base_uri": "https://localhost:8080/"
        }
      },
      "execution_count": 55,
      "outputs": [
        {
          "output_type": "execute_result",
          "data": {
            "text/plain": [
              "(319428, 4)"
            ]
          },
          "metadata": {},
          "execution_count": 55
        }
      ]
    },
    {
      "cell_type": "code",
      "source": [
        "raw_documents = list(df.Text)\n",
        "len(raw_documents) # we will use each document separately so again we have a list of strings so far"
      ],
      "metadata": {
        "id": "ZPW079krxDhq",
        "outputId": "0bdad53f-9879-40f4-fa8f-7e06a70d4b08",
        "colab": {
          "base_uri": "https://localhost:8080/"
        }
      },
      "execution_count": 5,
      "outputs": [
        {
          "output_type": "execute_result",
          "data": {
            "text/plain": [
              "4999"
            ]
          },
          "metadata": {},
          "execution_count": 5
        }
      ]
    },
    {
      "cell_type": "code",
      "source": [
        "type(raw_documents)"
      ],
      "metadata": {
        "id": "kzQFTWAg69Cz",
        "outputId": "694a5111-f46f-418d-aa65-a4788b8cba04",
        "colab": {
          "base_uri": "https://localhost:8080/"
        }
      },
      "execution_count": 6,
      "outputs": [
        {
          "output_type": "execute_result",
          "data": {
            "text/plain": [
              "list"
            ]
          },
          "metadata": {},
          "execution_count": 6
        }
      ]
    },
    {
      "cell_type": "code",
      "source": [
        "type(raw_documents[0]) # each document is a string so far"
      ],
      "metadata": {
        "id": "kq9OmLuW6_FM",
        "outputId": "4e550492-d1a2-4233-d9b5-0f3caedca7fc",
        "colab": {
          "base_uri": "https://localhost:8080/"
        }
      },
      "execution_count": 7,
      "outputs": [
        {
          "output_type": "execute_result",
          "data": {
            "text/plain": [
              "str"
            ]
          },
          "metadata": {},
          "execution_count": 7
        }
      ]
    },
    {
      "cell_type": "markdown",
      "metadata": {
        "id": "HH4HHrMCLK8m"
      },
      "source": [
        "## Load Stopwords List\n",
        "\n",
        "If you have created a stopword list in the stopwords notebook, we will import it here. (You can always modify the CSV file to add or subtract words then reload the list.) Otherwise, we'll load the NLTK [stopwords](https://docs.constellate.org/key-terms/#stop-words) list automatically."
      ]
    },
    {
      "cell_type": "code",
      "execution_count": 8,
      "metadata": {
        "scrolled": true,
        "id": "Y6m7PhOlLK8m",
        "outputId": "2af2d566-5741-428e-96ca-3c95fd5beff8",
        "colab": {
          "base_uri": "https://localhost:8080/"
        }
      },
      "outputs": [
        {
          "output_type": "execute_result",
          "data": {
            "text/plain": [
              "(161, ['aiz', 'ap', 'apakš', 'apakšpus', 'ar'])"
            ]
          },
          "metadata": {},
          "execution_count": 8
        }
      ],
      "source": [
        "# how to find all languages stopwords built in NLTK\n",
        "# https://stackoverflow.com/questions/54573853/nltk-available-languages-for-stopwords\n",
        "# bigger collection of all stopwords\n",
        "# https://github.com/stopwords-iso\n",
        "# latvian https://github.com/stopwords-iso/stopwords-lv/raw/master/stopwords-lv.txt\n",
        "url = \"https://github.com/stopwords-iso/stopwords-lv/raw/master/stopwords-lv.txt\"\n",
        "stop_words = []\n",
        "response = requests.get(url)\n",
        "if response.status_code == 200:\n",
        "    stop_words = response.text.split()\n",
        "len(stop_words), stop_words[:5]\n",
        "# see previous session on how to save locally your stopwords"
      ]
    },
    {
      "cell_type": "markdown",
      "metadata": {
        "id": "txPYYaLiLK8n"
      },
      "source": [
        "## Define a Function to Process Tokens\n",
        "Next, we create a short function to clean up our tokens."
      ]
    },
    {
      "cell_type": "code",
      "execution_count": 12,
      "metadata": {
        "scrolled": true,
        "id": "vX50-YNsLK8n"
      },
      "outputs": [],
      "source": [
        "def process_token(token):\n",
        "    token = token.lower()\n",
        "    if token in stop_words:\n",
        "        return # return None\n",
        "    if len(token) < 4:\n",
        "        return\n",
        "    if not token.isalpha(): # if we hav any non alphabethic then we return nothing\n",
        "        return\n",
        "    return token"
      ]
    },
    {
      "cell_type": "code",
      "source": [
        "\"Valdis\".isalpha()"
      ],
      "metadata": {
        "id": "eeDKMdan7jlY",
        "outputId": "7b6b681e-822f-4b46-eb3e-e402328c9ce4",
        "colab": {
          "base_uri": "https://localhost:8080/"
        }
      },
      "execution_count": 9,
      "outputs": [
        {
          "output_type": "execute_result",
          "data": {
            "text/plain": [
              "True"
            ]
          },
          "metadata": {},
          "execution_count": 9
        }
      ]
    },
    {
      "cell_type": "code",
      "source": [
        "\"Valdis34\".isalpha()"
      ],
      "metadata": {
        "id": "nptZA1MU7lw2",
        "outputId": "8d40bdcc-b465-4f6e-9060-6dfacff0899c",
        "colab": {
          "base_uri": "https://localhost:8080/"
        }
      },
      "execution_count": 10,
      "outputs": [
        {
          "output_type": "execute_result",
          "data": {
            "text/plain": [
              "False"
            ]
          },
          "metadata": {},
          "execution_count": 10
        }
      ]
    },
    {
      "cell_type": "code",
      "source": [
        "process_token(\"Valdis\")"
      ],
      "metadata": {
        "id": "CJwHU59Y7wrB",
        "outputId": "590e551b-d92a-4060-b47b-b43dc8efee21",
        "colab": {
          "base_uri": "https://localhost:8080/",
          "height": 35
        }
      },
      "execution_count": 13,
      "outputs": [
        {
          "output_type": "execute_result",
          "data": {
            "text/plain": [
              "'valdis'"
            ],
            "application/vnd.google.colaboratory.intrinsic+json": {
              "type": "string"
            }
          },
          "metadata": {},
          "execution_count": 13
        }
      ]
    },
    {
      "cell_type": "code",
      "source": [
        "process_token(\"Valdis324\")"
      ],
      "metadata": {
        "id": "BwxF4W8Y8f4B"
      },
      "execution_count": 14,
      "outputs": []
    },
    {
      "cell_type": "code",
      "execution_count": 15,
      "metadata": {
        "scrolled": true,
        "id": "XeISd_yfLK8q",
        "outputId": "d4302d69-7f9d-4849-b5bc-4e421cb72f22",
        "colab": {
          "base_uri": "https://localhost:8080/"
        }
      },
      "outputs": [
        {
          "output_type": "stream",
          "name": "stdout",
          "text": [
            "Converted all documents to list of clean tokens\n"
          ]
        },
        {
          "output_type": "execute_result",
          "data": {
            "text/plain": [
              "[['pirmsnāves',\n",
              "  'zīmītē',\n",
              "  'rakstīts',\n",
              "  'vienīgi',\n",
              "  'smēķēšanas',\n",
              "  'aizlieguma',\n",
              "  'radītajiem',\n",
              "  'laikrakstam',\n",
              "  'paskaidroja',\n",
              "  'nelaiķa',\n",
              "  'svainis',\n",
              "  'helmuts',\n",
              "  'nebija',\n",
              "  'vērsta',\n",
              "  'viņa',\n",
              "  'ģimeni'],\n",
              " [],\n",
              " ['pakistānā',\n",
              "  'trimdas',\n",
              "  'atgriezās',\n",
              "  'diviem',\n",
              "  'uzstājās',\n",
              "  'priekšvēlēšanu',\n",
              "  'organizēts',\n",
              "  'nākamajā',\n",
              "  'mēnesī',\n",
              "  'gaidāmajām',\n",
              "  'parlamenta']]"
            ]
          },
          "metadata": {},
          "execution_count": 15
        }
      ],
      "source": [
        "# %%time\n",
        "# Limit to n documents. Set to None to use all documents.\n",
        "\n",
        "documents = [] # start with a blank list of documents\n",
        "for document in raw_documents:\n",
        "    # so we get tokens out of each individual document\n",
        "    tokens = document.split() # here you could modify to use nltk.word_tokenize\n",
        "    # we create a list of processed tokens for each document\n",
        "    processed_document = [process_token(token) for token in tokens if process_token(token) is not None] # TODO could be improved with new walrus :=\n",
        "    documents.append(processed_document)\n",
        "print(f'Converted all documents to list of clean tokens')\n",
        "documents[:3]"
      ]
    },
    {
      "cell_type": "code",
      "source": [
        "documents[-2:] # lets check last two documents"
      ],
      "metadata": {
        "id": "NpffzNRd9Nrx",
        "outputId": "7b87cac5-8492-41c1-df82-6eb82f695269",
        "colab": {
          "base_uri": "https://localhost:8080/"
        }
      },
      "execution_count": 16,
      "outputs": [
        {
          "output_type": "execute_result",
          "data": {
            "text/plain": [
              "[['vairāki',\n",
              "  'pasākumi',\n",
              "  'veltīti',\n",
              "  'jaunākajiem',\n",
              "  'lasītājiem',\n",
              "  'šodien',\n",
              "  'apgāds',\n",
              "  'rīko',\n",
              "  'gada',\n",
              "  'rakstnieki',\n",
              "  'oficiālo',\n",
              "  'pasludināšanu',\n",
              "  'notiks',\n",
              "  'antoloģijas',\n",
              "  'skaitāmi',\n",
              "  'atvēršanas',\n",
              "  'sestdien',\n",
              "  'baudīt',\n",
              "  'māra',\n",
              "  'putniņa',\n",
              "  'stāstus',\n",
              "  'romānā',\n",
              "  'atdzīvinātajiem',\n",
              "  'ēdamajiem',\n",
              "  'svētdien',\n",
              "  'risināsies',\n",
              "  'latvijas',\n",
              "  'bērnu',\n",
              "  'žūrijas',\n",
              "  'lielie',\n",
              "  'lasīšanas',\n",
              "  'sveikti',\n",
              "  'populārākie',\n",
              "  'bērnu',\n",
              "  'grāmatu',\n",
              "  'tulkotāji'],\n",
              " ['piecu',\n",
              "  'stundu',\n",
              "  'pavadīšanas',\n",
              "  'taškentas',\n",
              "  'lidostas',\n",
              "  'uzgaidāmajā',\n",
              "  'telpā',\n",
              "  'nakts',\n",
              "  'lidmašīnā',\n",
              "  'citā',\n",
              "  'izkāpjot',\n",
              "  'lidmašīnas',\n",
              "  'sajūtams',\n",
              "  'taizemi',\n",
              "  'brauc',\n",
              "  'vairums',\n",
              "  'ziemeļvalstīs']]"
            ]
          },
          "metadata": {},
          "execution_count": 16
        }
      ]
    },
    {
      "cell_type": "markdown",
      "metadata": {
        "id": "Dr5Nz3cYLK8r"
      },
      "source": [
        "Build a gensim dictionary corpus and then train the model. More information about parameters can be found at the [Gensim LDA Model page](https://radimrehurek.com/gensim/models/ldamodel.html)."
      ]
    },
    {
      "cell_type": "code",
      "execution_count": 17,
      "metadata": {
        "scrolled": true,
        "id": "dYPa00rRLK8r"
      },
      "outputs": [],
      "source": [
        "dictionary = gensim.corpora.Dictionary(documents)"
      ]
    },
    {
      "cell_type": "code",
      "source": [
        "len(dictionary)"
      ],
      "metadata": {
        "id": "HrZkFSjc-WiK",
        "outputId": "e1d3ffdd-f1d1-43c8-ab1e-8de73572b20e",
        "colab": {
          "base_uri": "https://localhost:8080/"
        }
      },
      "execution_count": 18,
      "outputs": [
        {
          "output_type": "execute_result",
          "data": {
            "text/plain": [
              "31687"
            ]
          },
          "metadata": {},
          "execution_count": 18
        }
      ]
    },
    {
      "cell_type": "code",
      "source": [
        "# so dictionary is just a mapping of ids to tokens - because ML algorithms most often work with numbers\n",
        "list(dictionary.items())[:10]"
      ],
      "metadata": {
        "id": "8T362oSD-Yi3",
        "outputId": "384da585-9e06-4c0b-bba3-e8abded3ea44",
        "colab": {
          "base_uri": "https://localhost:8080/"
        }
      },
      "execution_count": 20,
      "outputs": [
        {
          "output_type": "execute_result",
          "data": {
            "text/plain": [
              "[(0, 'aizlieguma'),\n",
              " (1, 'helmuts'),\n",
              " (2, 'laikrakstam'),\n",
              " (3, 'nebija'),\n",
              " (4, 'nelaiķa'),\n",
              " (5, 'paskaidroja'),\n",
              " (6, 'pirmsnāves'),\n",
              " (7, 'radītajiem'),\n",
              " (8, 'rakstīts'),\n",
              " (9, 'smēķēšanas')]"
            ]
          },
          "metadata": {},
          "execution_count": 20
        }
      ]
    },
    {
      "cell_type": "code",
      "execution_count": 30,
      "metadata": {
        "scrolled": false,
        "id": "okazgqZPLK8s"
      },
      "outputs": [],
      "source": [
        "doc_count = len(documents)\n",
        "num_topics = 7 # Change the number of topics 7 is just a wild guess here\n",
        "passes = 5 # The number of passes used to train the model\n",
        "# By default: Remove terms that appear in less than 5 documents and terms that occur in more than 90% of documents.\n",
        "dictionary.filter_extremes()"
      ]
    },
    {
      "cell_type": "code",
      "source": [
        "single_bow = dictionary.doc2bow(documents[0])\n",
        "single_bow"
      ],
      "metadata": {
        "id": "aqvYewIj-9EB",
        "outputId": "29dfd3f1-995a-402a-fa6f-9a1596bc2c5b",
        "colab": {
          "base_uri": "https://localhost:8080/"
        }
      },
      "execution_count": 21,
      "outputs": [
        {
          "output_type": "execute_result",
          "data": {
            "text/plain": [
              "[(0, 1),\n",
              " (1, 1),\n",
              " (2, 1),\n",
              " (3, 1),\n",
              " (4, 1),\n",
              " (5, 1),\n",
              " (6, 1),\n",
              " (7, 1),\n",
              " (8, 1),\n",
              " (9, 1),\n",
              " (10, 1),\n",
              " (11, 1),\n",
              " (12, 1),\n",
              " (13, 1),\n",
              " (14, 1),\n",
              " (15, 1)]"
            ]
          },
          "metadata": {},
          "execution_count": 21
        }
      ]
    },
    {
      "cell_type": "code",
      "source": [
        "last_bow = dictionary.doc2bow(documents[-1])\n",
        "last_bow\n"
      ],
      "metadata": {
        "id": "Hn179bP3_KoX",
        "outputId": "b650c6c9-6094-45ff-c47a-e04733435522",
        "colab": {
          "base_uri": "https://localhost:8080/"
        }
      },
      "execution_count": 22,
      "outputs": [
        {
          "output_type": "execute_result",
          "data": {
            "text/plain": [
              "[(1296, 1),\n",
              " (1778, 1),\n",
              " (1786, 1),\n",
              " (4857, 1),\n",
              " (6202, 1),\n",
              " (6330, 1),\n",
              " (6764, 1),\n",
              " (9817, 1),\n",
              " (10769, 1),\n",
              " (17773, 1),\n",
              " (24955, 1),\n",
              " (31681, 1),\n",
              " (31682, 1),\n",
              " (31683, 1),\n",
              " (31684, 1),\n",
              " (31685, 1),\n",
              " (31686, 1)]"
            ]
          },
          "metadata": {},
          "execution_count": 22
        }
      ]
    },
    {
      "cell_type": "code",
      "source": [
        "dictionary[1296],dictionary[1778],dictionary[31686]"
      ],
      "metadata": {
        "id": "Bl7hHETH_3cl",
        "outputId": "ca230873-792a-4eb8-8142-5eb14771d2b2",
        "colab": {
          "base_uri": "https://localhost:8080/"
        }
      },
      "execution_count": 27,
      "outputs": [
        {
          "output_type": "execute_result",
          "data": {
            "text/plain": [
              "('stundu', 'piecu', 'ziemeļvalstīs')"
            ]
          },
          "metadata": {},
          "execution_count": 27
        }
      ]
    },
    {
      "cell_type": "code",
      "source": [
        "documents[-1]"
      ],
      "metadata": {
        "id": "pWLW0G_QAWY6",
        "outputId": "e52b5843-5782-4a5d-cd74-bd9c3c188244",
        "colab": {
          "base_uri": "https://localhost:8080/"
        }
      },
      "execution_count": 28,
      "outputs": [
        {
          "output_type": "execute_result",
          "data": {
            "text/plain": [
              "['piecu',\n",
              " 'stundu',\n",
              " 'pavadīšanas',\n",
              " 'taškentas',\n",
              " 'lidostas',\n",
              " 'uzgaidāmajā',\n",
              " 'telpā',\n",
              " 'nakts',\n",
              " 'lidmašīnā',\n",
              " 'citā',\n",
              " 'izkāpjot',\n",
              " 'lidmašīnas',\n",
              " 'sajūtams',\n",
              " 'taizemi',\n",
              " 'brauc',\n",
              " 'vairums',\n",
              " 'ziemeļvalstīs']"
            ]
          },
          "metadata": {},
          "execution_count": 28
        }
      ]
    },
    {
      "cell_type": "code",
      "source": [
        "documents[-1]"
      ],
      "metadata": {
        "id": "bw1Bqr6N_6Yr",
        "outputId": "4c28e94a-d903-4f16-9747-2b3c530c9ff9",
        "colab": {
          "base_uri": "https://localhost:8080/"
        }
      },
      "execution_count": 25,
      "outputs": [
        {
          "output_type": "execute_result",
          "data": {
            "text/plain": [
              "['piecu',\n",
              " 'stundu',\n",
              " 'pavadīšanas',\n",
              " 'taškentas',\n",
              " 'lidostas',\n",
              " 'uzgaidāmajā',\n",
              " 'telpā',\n",
              " 'nakts',\n",
              " 'lidmašīnā',\n",
              " 'citā',\n",
              " 'izkāpjot',\n",
              " 'lidmašīnas',\n",
              " 'sajūtams',\n",
              " 'taizemi',\n",
              " 'brauc',\n",
              " 'vairums',\n",
              " 'ziemeļvalstīs']"
            ]
          },
          "metadata": {},
          "execution_count": 25
        }
      ]
    },
    {
      "cell_type": "code",
      "execution_count": 23,
      "metadata": {
        "scrolled": true,
        "id": "e6ouGd8NLK8t"
      },
      "outputs": [],
      "source": [
        "# now we are going to generated a bag of words for each document\n",
        "# we are creating a list of bag of words \n",
        "bow_corpus = [dictionary.doc2bow(doc) for doc in documents]"
      ]
    },
    {
      "cell_type": "code",
      "execution_count": 32,
      "metadata": {
        "id": "3ci01tpKLK8t"
      },
      "outputs": [],
      "source": [
        "# this code does the same thing (slightly slower) than the above one line\n",
        "bow_corpus = []\n",
        "for doc in documents:\n",
        "    bow = dictionary.doc2bow(doc)\n",
        "    bow_corpus.append(bow)"
      ]
    },
    {
      "cell_type": "code",
      "execution_count": 33,
      "metadata": {
        "scrolled": true,
        "id": "iA7Kquv-LK8u",
        "outputId": "4ed59d2d-3987-4451-b425-ab3358f2bb99",
        "colab": {
          "base_uri": "https://localhost:8080/"
        }
      },
      "outputs": [
        {
          "output_type": "stream",
          "name": "stdout",
          "text": [
            "CPU times: user 8.87 s, sys: 213 ms, total: 9.09 s\n",
            "Wall time: 8.87 s\n"
          ]
        }
      ],
      "source": [
        "%%time\n",
        "# %%time is a jupyter so called magic command which times your cell\n",
        "# Train the LDA model\n",
        "model = gensim.models.LdaModel(\n",
        "    corpus=bow_corpus, # so list of bag of words\n",
        "    id2word=dictionary,# so dictionary mapping ids to words\n",
        "    num_topics=num_topics, # so called hyper parameter which we can adjust\n",
        "    passes=passes # for optimization no need to run toomuch 5 is a good starting compromise\n",
        ")"
      ]
    },
    {
      "cell_type": "markdown",
      "metadata": {
        "id": "NIIAIEFJLK8u"
      },
      "source": [
        "## Perplexity\n",
        "\n",
        "After each pass, the LDA model will output a \"perplexity\" score that measures the \"held out log-likelihood\". Perplexity is a measure of how \"surpised\" the machine is to see certain data. In other words, perplexity measures how successfully a trained topic model predicts new data. The model may be trained many times with different parameters, optimizing for the lowest possible perplexity.\n",
        "\n",
        "In general, the perplexity score should trend downward as the machine \"learns\" what to expect from the data. While a low perplexity score may signal the machine has learned the documents' patterns, that does not mean that the topics formed from a model with low perplexity will form the most coherent topics. (See [\"Reading Tea Leaves: How Humans Interpret Topic Models\" Chang, et al. 2009](https://papers.nips.cc/paper/2009/hash/f92586a25bb3145facd64ab20fd554ff-Abstract.html).)\n",
        "\n"
      ]
    },
    {
      "cell_type": "markdown",
      "metadata": {
        "id": "RNZTbhlTLK8v"
      },
      "source": [
        "## Topic Coherence\n",
        "\n",
        "The failure of perplexity scores to consistently create \"good\" topics has led to new methods in \"topic coherence\". Here we demonstrate two of these methods with Gensim but there are additional methods available. Ideally, a researcher would run many topic models, discovering the optimum settings for topic coherence.\n",
        "\n",
        "Ultimately, however, the best judgment of topic coherence is a disciplinary expert, particularly someone with familiarity with the materials in question.\n",
        "\n",
        "<font color='red'>Read more</font>\n",
        "\n",
        "* [\"Optimizing Semantic Coherence in Topic Models\" Mimno, et al. 2011](http://dirichlet.net/pdf/mimno11optimizing.pdf)\n",
        "* [\"Automatic Evaluation of Topic Coherence\" Newman, et al. 2010](https://mimno.infosci.cornell.edu/info6150/readings/N10-1012.pdf))\n"
      ]
    },
    {
      "cell_type": "code",
      "execution_count": 35,
      "metadata": {
        "id": "GjmmKTGpLK8v",
        "outputId": "517fa6d6-3344-45b1-fd05-e00c08c9f14b",
        "colab": {
          "base_uri": "https://localhost:8080/"
        }
      },
      "outputs": [
        {
          "output_type": "stream",
          "name": "stdout",
          "text": [
            "\n",
            "Coherence Score:  -4.75814787728133\n"
          ]
        }
      ],
      "source": [
        "# Compute the coherence score using UMass\n",
        "# u_mass is measured from -14 to 14, higher is better\n",
        "from gensim.models import CoherenceModel\n",
        "\n",
        "coherence_model_lda = CoherenceModel(\n",
        "    model=model,\n",
        "    corpus=bow_corpus,\n",
        "    dictionary=dictionary, \n",
        "    coherence='u_mass'\n",
        ")\n",
        "\n",
        "# Compute Coherence Score using UMass\n",
        "coherence_lda = coherence_model_lda.get_coherence()\n",
        "print('\\nCoherence Score: ', coherence_lda)"
      ]
    },
    {
      "cell_type": "markdown",
      "metadata": {
        "id": "GLW4IdaoLK8w"
      },
      "source": [
        "## Display a List of Topics\n",
        "Print the most significant terms, as determined by the model, for each topic."
      ]
    },
    {
      "cell_type": "code",
      "source": [
        "num_topics"
      ],
      "metadata": {
        "id": "MfBOWCtrCx_G",
        "outputId": "f4ea2e85-6a44-4906-a609-cea77f2cc72a",
        "colab": {
          "base_uri": "https://localhost:8080/"
        }
      },
      "execution_count": 36,
      "outputs": [
        {
          "output_type": "execute_result",
          "data": {
            "text/plain": [
              "7"
            ]
          },
          "metadata": {},
          "execution_count": 36
        }
      ]
    },
    {
      "cell_type": "code",
      "source": [
        "model.get_topic_terms(0) #  you can adjust topn to see more or less than default 10 terms"
      ],
      "metadata": {
        "id": "R05xI3uLC0lE",
        "outputId": "8ebec0d5-0960-4a7b-8a23-66a6ad69d2f5",
        "colab": {
          "base_uri": "https://localhost:8080/"
        }
      },
      "execution_count": 37,
      "outputs": [
        {
          "output_type": "execute_result",
          "data": {
            "text/plain": [
              "[(59, 0.01357901),\n",
              " (4, 0.009470687),\n",
              " (58, 0.00822398),\n",
              " (14, 0.007737055),\n",
              " (451, 0.007566931),\n",
              " (84, 0.0064007454),\n",
              " (146, 0.00633214),\n",
              " (56, 0.0058322484),\n",
              " (567, 0.0056131748),\n",
              " (350, 0.0053895665)]"
            ]
          },
          "metadata": {},
          "execution_count": 37
        }
      ]
    },
    {
      "cell_type": "code",
      "source": [
        "dictionary[59], dictionary[350]"
      ],
      "metadata": {
        "id": "XiS5SkKFDFBV",
        "outputId": "4fa2a856-7ba5-48b1-8ae2-f35f6b9bf438",
        "colab": {
          "base_uri": "https://localhost:8080/"
        }
      },
      "execution_count": 40,
      "outputs": [
        {
          "output_type": "execute_result",
          "data": {
            "text/plain": [
              "('viņš', 'kuri')"
            ]
          },
          "metadata": {},
          "execution_count": 40
        }
      ]
    },
    {
      "cell_type": "code",
      "execution_count": 39,
      "metadata": {
        "scrolled": true,
        "id": "dzESr9QCLK8x",
        "outputId": "6176cac9-b1b1-4051-bad9-d5698c048813",
        "colab": {
          "base_uri": "https://localhost:8080/"
        }
      },
      "outputs": [
        {
          "output_type": "stream",
          "name": "stdout",
          "text": [
            "Topic 0     viņš viņa viņi latvijas ļoti savu gadā visu tagad kuri\n",
            "Topic 1     gada eiropas šogad latvijas darba latvijā valsts pagasta savu šajā\n",
            "Topic 2     latvijas viņa vairāk eiropas savukārt laikā lielu ļoti pirmā komandas\n",
            "Topic 3     rīgas novada policijas domes latu savukārt eiro gada pārvaldes varētu\n",
            "Topic 4     valsts izglītības kultūras mākslas latvijas skolas jēkabpils bērnu novada darba\n",
            "Topic 5     latvijas daudz mājas ļoti mums gadā gadus laikā vismaz savukārt\n",
            "Topic 6     valsts darba gada mūsu kuriem būtu varētu šādu viņš kopumā\n"
          ]
        }
      ],
      "source": [
        "for topic_num in range(0, num_topics): # so this loop goes from 0 to 6 (since 7 is not included in range)\n",
        "    word_ids = model.get_topic_terms(topic_num)\n",
        "    words = []\n",
        "    for wid, weight in word_ids:\n",
        "        word = dictionary.id2token[wid]\n",
        "        words.append(word)\n",
        "    print(\"Topic {}\".format(str(topic_num).ljust(5)), \" \".join(words))"
      ]
    },
    {
      "cell_type": "markdown",
      "metadata": {
        "id": "VYT-uAYdLK8x"
      },
      "source": [
        "## Visualize the Topic Distances\n",
        "\n",
        "Visualize the model using [`pyLDAvis`](https://pyldavis.readthedocs.io/en/latest/). This visualization can take a while to generate depending on the size of your dataset.\n",
        "\n",
        "Try choosing a topic and adjusting the λ slider. When λ approaches 0, the words in a given document occur almost entirely in that topic. When λ approaches 1, the words occur more often in other topics."
      ]
    },
    {
      "cell_type": "code",
      "source": [
        "# most likely we do not have pyLDAvis visualization library so we will install it\n",
        "!pip install pyLDAvis"
      ],
      "metadata": {
        "id": "UDJLYKsPyqvi"
      },
      "execution_count": null,
      "outputs": []
    },
    {
      "cell_type": "code",
      "source": [
        "# later versions pyLDAvis do not play well with colab\n",
        "# https://stackoverflow.com/questions/66096149/pyldavis-visualization-from-gensim-not-displaying-the-result-in-google-colab"
      ],
      "metadata": {
        "id": "nD4tS4EB0Tuc"
      },
      "execution_count": null,
      "outputs": []
    },
    {
      "cell_type": "code",
      "source": [
        "import pyLDAvis\n",
        "# you can try installing an older version\n",
        "# !pip install pyLDAvis==2.1.2"
      ],
      "metadata": {
        "id": "x7l3thlwD9Bs"
      },
      "execution_count": null,
      "outputs": []
    },
    {
      "cell_type": "code",
      "source": [
        "pyLDAvis.__version__"
      ],
      "metadata": {
        "id": "2YQwKcn_EEQA",
        "outputId": "25b88dc1-11ce-42f5-feda-6d5b5089cfd3",
        "colab": {
          "base_uri": "https://localhost:8080/",
          "height": 35
        }
      },
      "execution_count": 43,
      "outputs": [
        {
          "output_type": "execute_result",
          "data": {
            "text/plain": [
              "'3.3.1'"
            ],
            "application/vnd.google.colaboratory.intrinsic+json": {
              "type": "string"
            }
          },
          "metadata": {},
          "execution_count": 43
        }
      ]
    },
    {
      "cell_type": "code",
      "execution_count": null,
      "metadata": {
        "scrolled": true,
        "id": "arSk_QbjLK8y"
      },
      "outputs": [],
      "source": [
        "# import pyLDAvis\n",
        "import pyLDAvis.gensim_models as gensimvis\n",
        "pyLDAvis.enable_notebook()\n",
        "\n",
        "# feed the LDA model into the pyLDAvis instance\n",
        "# model is our LDA model\n",
        "# bow_corpus is our list of bag of words for each document\n",
        "# again dictionary is our mapping of ids to actual words \n",
        "lda_viz = gensimvis.prepare(model, bow_corpus, dictionary)\n"
      ]
    },
    {
      "cell_type": "code",
      "execution_count": null,
      "metadata": {
        "scrolled": true,
        "id": "738u2GbILK8y"
      },
      "outputs": [],
      "source": [
        "# Export this visualization as an HTML file\n",
        "# An internet connection is still required to view the HTML\n",
        "p = gensimvis.prepare(model, bow_corpus, dictionary)\n",
        "pyLDAvis.save_html(p, 'my_visualization.html')\n",
        "# there are other options such as save_json and some other ones"
      ]
    },
    {
      "cell_type": "code",
      "source": [
        "type(p)"
      ],
      "metadata": {
        "id": "7d9ZpGH7GkNR",
        "outputId": "973e7439-e999-442a-d201-d49eaef152a0",
        "colab": {
          "base_uri": "https://localhost:8080/"
        }
      },
      "execution_count": 48,
      "outputs": [
        {
          "output_type": "execute_result",
          "data": {
            "text/plain": [
              "pyLDAvis._prepare.PreparedData"
            ]
          },
          "metadata": {},
          "execution_count": 48
        }
      ]
    },
    {
      "cell_type": "code",
      "source": [
        "p # so you can in fact run inside colab"
      ],
      "metadata": {
        "id": "TbEn_D5VHASm",
        "outputId": "ae91da00-020f-4573-dc36-a4b7f06e7a40",
        "colab": {
          "base_uri": "https://localhost:8080/",
          "height": 881
        }
      },
      "execution_count": 49,
      "outputs": [
        {
          "output_type": "execute_result",
          "data": {
            "text/plain": [
              "PreparedData(topic_coordinates=              x         y  topics  cluster       Freq\n",
              "topic                                                \n",
              "0      0.094331 -0.048290       1        1  17.775522\n",
              "5      0.120294  0.001472       2        1  16.362629\n",
              "1     -0.003002 -0.085842       3        1  14.519239\n",
              "2      0.060112 -0.109146       4        1  13.992723\n",
              "4     -0.230141 -0.084933       5        1  13.493227\n",
              "3     -0.079637  0.180960       6        1  12.046386\n",
              "6      0.038043  0.145778       7        1  11.810275, topic_info=            Term        Freq       Total Category  logprob  loglift\n",
              "225       valsts  501.000000  501.000000  Default  30.0000  30.0000\n",
              "1420  izglītības  127.000000  127.000000  Default  29.0000  29.0000\n",
              "428     kultūras  106.000000  106.000000  Default  28.0000  28.0000\n",
              "254        darba  261.000000  261.000000  Default  27.0000  27.0000\n",
              "555      mākslas  107.000000  107.000000  Default  26.0000  26.0000\n",
              "...          ...         ...         ...      ...      ...      ...\n",
              "14      latvijas   28.233518  525.826451   Topic7  -5.6234  -0.7883\n",
              "1779  atbilstoši   21.506527   42.028536   Topic7  -5.8955   1.4662\n",
              "823     pilsētas   21.926863  110.943570   Topic7  -5.8762   0.5149\n",
              "1813    uzņēmumu   21.295358   42.085936   Topic7  -5.9054   1.4550\n",
              "116     savukārt   21.463612  242.237863   Topic7  -5.8975  -0.2874\n",
              "\n",
              "[522 rows x 6 columns], token_table=      Topic      Freq             Term\n",
              "term                                  \n",
              "1103      5  0.918452  administrācijas\n",
              "1654      6  0.901939         advokāts\n",
              "635       3  0.210746           aicina\n",
              "635       4  0.026343           aicina\n",
              "635       5  0.737611           aicina\n",
              "...     ...       ...              ...\n",
              "1415      2  0.094369             šādu\n",
              "1415      4  0.264233             šādu\n",
              "1415      7  0.622834             šādu\n",
              "3111      2  0.115173          žūrijas\n",
              "3111      3  0.863800          žūrijas\n",
              "\n",
              "[1161 rows x 3 columns], R=30, lambda_step=0.01, plot_opts={'xlab': 'PC1', 'ylab': 'PC2'}, topic_order=[1, 6, 2, 3, 5, 4, 7])"
            ],
            "text/html": [
              "\n",
              "<link rel=\"stylesheet\" type=\"text/css\" href=\"https://cdn.jsdelivr.net/gh/bmabey/pyLDAvis@3.3.1/pyLDAvis/js/ldavis.v1.0.0.css\">\n",
              "\n",
              "\n",
              "<div id=\"ldavis_el581398320936675366323249824\"></div>\n",
              "<script type=\"text/javascript\">\n",
              "\n",
              "var ldavis_el581398320936675366323249824_data = {\"mdsDat\": {\"x\": [0.0943309990923475, 0.12029351690368774, -0.0030017990806086676, 0.06011164754675506, -0.23014093565114438, -0.07963682225965961, 0.03804339344862234], \"y\": [-0.04828976800410443, 0.0014717755645888846, -0.08584167217709715, -0.10914550966970393, -0.0849331514374494, 0.18096003251466777, 0.1457782932090982], \"topics\": [1, 2, 3, 4, 5, 6, 7], \"cluster\": [1, 1, 1, 1, 1, 1, 1], \"Freq\": [17.775521531240244, 16.362629069562068, 14.5192389696892, 13.992722790102258, 13.493226798682786, 12.046386007652348, 11.810274833071094]}, \"tinfo\": {\"Term\": [\"valsts\", \"izgl\\u012bt\\u012bbas\", \"kult\\u016bras\", \"darba\", \"m\\u0101kslas\", \"eiropas\", \"j\\u0113kabpils\", \"novada\", \"policijas\", \"domes\", \"vi\\u0146a\", \"vi\\u0146\\u0161\", \"tautas\", \"eiro\", \"pulksten\", \"r\\u012bgas\", \"\\u0161ogad\", \"latu\", \"skolas\", \"darbu\", \"m\\u0101jas\", \"b\\u0113rnu\", \"pagasta\", \"ministrijas\", \"vi\\u0146i\", \"m\\u0101c\\u012bbu\", \"jaunie\\u0161u\", \"vidusskolas\", \"\\u0161\\u0101du\", \"lielu\", \"mart\\u0101\", \"skatuves\", \"balso\\u0161anas\", \"bi\\u0161u\", \"izdevumus\", \"dodas\", \"pal\\u012bdz\\u0113tu\", \"sp\\u0113l\\u0113t\", \"gadsimta\", \"tuv\\u0101kaj\\u0101\", \"aptaujas\", \"ideju\", \"sol\\u012bja\", \"t\\u0113vs\", \"goda\", \"lietot\", \"lieto\", \"k\\u0101pums\", \"rakst\\u012bt\", \"treneris\", \"ietekm\\u0113t\", \"atgriezies\", \"t\\u016bristi\", \"t\\u012bri\", \"pien\\u0101kas\", \"priek\\u0161v\\u0113l\\u0113\\u0161anu\", \"piedal\\u012bjies\", \"firmas\", \"mobil\\u0101\", \"atbilde\", \"veikalu\", \"p\\u0101rstr\\u0101des\", \"pied\\u0101v\\u0101jumu\", \"namu\", \"varot\", \"cilv\\u0113ks\", \"viss\", \"gados\", \"brauk\\u0161anas\", \"vi\\u0146i\", \"vi\\u0146\\u0161\", \"zemnieku\", \"valdes\", \"akciju\", \"cenu\", \"izdevies\", \"vi\\u0146a\", \"tagad\", \"esot\", \"kuri\", \"tie\\u0161i\", \"visu\", \"str\\u0101d\\u0101\", \"daudzi\", \"gad\\u0101\", \"\\u013coti\", \"k\\u0101p\\u0113c\", \"savu\", \"bankas\", \"\\u0161aj\\u0101\", \"vienm\\u0113r\", \"k\\u0101du\", \"bijis\", \"latvijas\", \"kur\\u0161\", \"gadu\", \"\\u012bpa\\u0161i\", \"laik\\u0101\", \"var\\u0113tu\", \"gada\", \"mums\", \"b\\u016btu\", \"m\\u016bsu\", \"viens\", \"savuk\\u0101rt\", \"vair\\u0101k\", \"medic\\u012bnas\", \"janv\\u0101r\\u012b\", \"koris\", \"gadam\", \"valod\\u0101\", \"siltuma\", \"dz\\u012bvot\", \"j\\u0101maks\\u0101\", \"izteica\", \"vecs\", \"g\\u0101zes\", \"nakt\\u012b\", \"pacientam\", \"gaisa\", \"asins\", \"nogal\\u0113\", \"iest\\u0101d\\u0113\", \"temperat\\u016bra\", \"ierodas\", \"distances\", \"j\\u016bnijam\", \"atsevi\\u0161\\u0137u\", \"vesel\\u012bbai\", \"teikts\", \"biju\\u0161\\u0101\", \"atkar\\u012bb\\u0101\", \"tauta\", \"rita\", \"plus\", \"ie\\u0146\\u0113ma\", \"vair\\u0101kiem\", \"klases\", \"jaunajiem\", \"procentiem\", \"m\\u0101jas\", \"jaunie\\u0161iem\", \"\\u0101rsta\", \"r\\u012bta\", \"main\\u012bt\", \"apm\\u0113ram\", \"tikpat\", \"literat\\u016bras\", \"auto\", \"slimn\\u012bc\\u0101\", \"vismaz\", \"v\\u012brietis\", \"dro\\u0161\\u012bbas\", \"daudz\", \"pagast\\u0101\", \"gadus\", \"vairs\", \"mums\", \"iesp\\u0113ja\", \"latvijas\", \"gad\\u0101\", \"\\u013coti\", \"latvie\\u0161u\", \"kur\\u0161\", \"gadu\", \"saka\", \"kura\", \"laik\\u0101\", \"savuk\\u0101rt\", \"b\\u016btu\", \"t\\u0101pat\", \"latvij\\u0101\", \"vi\\u0146u\", \"var\\u0113tu\", \"valsts\", \"divas\", \"gada\", \"vair\\u0101k\", \"alus\", \"vid\\u0113j\\u0101\", \"j\\u0101\\u0146em\", \"balvu\", \"pusi\", \"fondu\", \"iek\\u0101rtas\", \"\\u012bpa\\u0161a\", \"augstu\", \"algas\", \"talkas\", \"infl\\u0101cija\", \"lab\\u0101kais\", \"jaunas\", \"valst\\u012bs\", \"noz\\u012bm\\u012bgs\", \"muguras\", \"nosl\\u0113gum\\u0101\", \"pieaugs\", \"re\\u0123istr\\u0113tas\", \"balva\", \"alga\", \"iniciat\\u012bvu\", \"apr\\u012bl\\u012b\", \"dal\\u012bbnieks\", \"skol\\u0101m\", \"izr\\u0101di\", \"izveide\", \"t\\u016bksto\\u0161us\", \"ien\\u0101kumu\", \"m\\u016b\\u017ea\", \"st\\u0101st\\u012bja\", \"ziedu\", \"sak\\u0146u\", \"sv\\u0113tku\", \"finans\\u0113juma\", \"dal\\u012bbnieki\", \"inese\", \"\\u0161ogad\", \"\\u017e\\u016brijas\", \"pagasta\", \"eiropas\", \"t\\u0101ds\", \"n\\u0101kamgad\", \"gada\", \"savien\\u012bbas\", \"latvij\\u0101\", \"dienas\", \"sevi\", \"nodok\\u013cu\", \"j\\u0101nis\", \"taj\\u0101\", \"darba\", \"\\u0161aj\\u0101\", \"tr\\u012bs\", \"bauskas\", \"latvijas\", \"savu\", \"kuras\", \"vair\\u0101k\", \"pils\\u0113tas\", \"m\\u016bzikas\", \"gadu\", \"valsts\", \"m\\u016bsu\", \"viena\", \"b\\u016btu\", \"var\\u0113tu\", \"laik\\u0101\", \"\\u013coti\", \"kur\\u0101\", \"pre\\u010du\", \"uzvaru\", \"guva\", \"sv\\u0113tdien\", \"rallija\", \"piemi\\u0146as\", \"bazn\\u012bcas\", \"sekm\\u012bgi\", \"m\\u0113r\\u0101\", \"att\\u012bst\\u012bbu\", \"stingri\", \"noskat\\u012bties\", \"r\\u016bpniec\\u012bbas\", \"r\\u012bga\", \"asinis\", \"slimn\\u012bcu\", \"v\\u0101rtus\", \"sabiedr\\u012bb\\u0101\", \"prokurat\\u016bra\", \"anna\", \"krievij\\u0101\", \"p\\u0101rmai\\u0146as\", \"annas\", \"uz\\u0146\\u0113mumi\", \"draudzes\", \"p\\u0101rvalde\", \"labas\", \"\\u012bpa\\u0161s\", \"z\\u012bmi\", \"cilv\\u0113kus\", \"posm\\u0101\", \"izc\\u012bn\\u012bja\", \"pan\\u0101kt\", \"lielu\", \"akc\\u012bzes\", \"universit\\u0101tes\", \"slimn\\u012bcas\", \"airbaltic\", \"pirm\\u0101\", \"otraj\\u0101\", \"otro\", \"nodok\\u013ca\", \"otr\\u0101s\", \"latvijas\", \"komandas\", \"vi\\u0146a\", \"eiropas\", \"vair\\u0101k\", \"sp\\u0113les\", \"produktu\", \"savuk\\u0101rt\", \"pasaules\", \"t\\u0101d\\u0113j\\u0101di\", \"visiem\", \"sav\\u0101\", \"nevar\", \"laik\\u0101\", \"iesp\\u0113ju\", \"vietu\", \"vi\\u0146as\", \"joproj\\u0101m\", \"\\u013coti\", \"kura\", \"r\\u012bgas\", \"latu\", \"valsts\", \"savu\", \"b\\u016btu\", \"vi\\u0146\\u0161\", \"visu\", \"ledus\", \"komandu\", \"pirmsskolas\", \"kla\\u0161u\", \"v\\u012bru\", \"skol\\u0101s\", \"noteikumiem\", \"ugunsdz\\u0113s\\u012bbas\", \"zin\\u0101tnes\", \"\\u012bpa\\u0161nieki\", \"administr\\u0101cijas\", \"komandai\", \"start\\u0113ja\", \"deju\", \"direktora\", \"skolot\\u0101ju\", \"c\\u0113su\", \"ierad\\u012bsies\", \"j\\u0101mekl\\u0113\", \"tuvu\", \"viet\\u0113jiem\", \"nams\", \"l\\u012bgas\", \"foto\", \"studijas\", \"konkr\\u0113tiem\", \"speci\\u0101listiem\", \"operas\", \"labkl\\u0101j\\u012bbas\", \"r\\u0101d\\u012bs\", \"n\\u0101kam\\u0101\", \"kult\\u016bras\", \"izgl\\u012bt\\u012bbas\", \"vecumnieku\", \"pamatskolas\", \"gl\\u0101b\\u0161anas\", \"j\\u0113kabpils\", \"m\\u0101kslas\", \"pils\", \"vidusskolas\", \"tautas\", \"jaunie\\u0161u\", \"skol\\u0113nu\", \"pulksten\", \"piedal\\u012bties\", \"skolas\", \"b\\u0113rnu\", \"nama\", \"m\\u0101c\\u012bbu\", \"darbu\", \"aicina\", \"ministrijas\", \"valsts\", \"novada\", \"jelgavas\", \"rajona\", \"vesel\\u012bbas\", \"skolu\", \"darba\", \"domes\", \"latvijas\", \"pa\\u0161vald\\u012bbas\", \"r\\u012bgas\", \"dienesta\", \"savu\", \"kop\\u0101\", \"\\u012bpa\\u0161umu\", \"kartes\", \"tilta\", \"muitas\", \"nekustamo\", \"dol\\u0101ru\", \"min\\u016btes\", \"k\\u0101rta\", \"eiro\", \"pie\\u0146\\u0113ma\", \"ietekm\\u0113s\", \"iemaksas\", \"kokneses\", \"paredz\\u0113ti\", \"novembra\", \"\\u0161tata\", \"pla\\u0161s\", \"ilgtermi\\u0146a\", \"pa\\u0161vald\\u012bb\\u0101\", \"br\\u0101lis\", \"dobeles\", \"minim\\u0101lo\", \"s\\u0101kotn\\u0113j\\u0101\", \"veidoja\", \"atl\\u012bdz\\u012bbas\", \"advok\\u0101ts\", \"kvadr\\u0101tmetru\", \"viet\\u0101s\", \"kadastr\\u0101l\\u0101s\", \"neizdev\\u0101s\", \"transporta\", \"policijas\", \"piebilda\", \"ielas\", \"maks\\u0101jumu\", \"miljonus\", \"\\u012bpa\\u0161uma\", \"\\u0113kas\", \"br\\u012bv\\u012bbas\", \"novad\\u0101\", \"centr\\u0101\", \"miljoni\", \"latu\", \"priek\\u0161s\\u0113d\\u0113t\\u0101js\", \"domes\", \"p\\u0101rvaldes\", \"zemes\", \"lauku\", \"novada\", \"r\\u012bgas\", \"\\u0161obr\\u012bd\", \"p\\u0113rn\", \"gadiem\", \"paredz\\u0113ts\", \"automa\\u0161\\u012bnu\", \"dzimis\", \"savuk\\u0101rt\", \"pils\\u0113tas\", \"pa\\u0161vald\\u012bbas\", \"gada\", \"var\\u0113tu\", \"kur\\u0161\", \"t\\u0101pat\", \"vad\\u012bt\\u0101ja\", \"laik\\u0101\", \"kop\\u0101\", \"bezmaksas\", \"dz\\u012bvok\\u013ca\", \"laikraksts\", \"nevajag\", \"gad\\u012bjumos\", \"tarifu\", \"\\u0161\\u0101dos\", \"ieviest\", \"mantas\", \"pal\\u012bdz\", \"statistikas\", \"nam\\u0101\", \"nodro\\u0161in\\u0101ta\", \"pa\\u0161reiz\\u0113jo\", \"iek\\u0161lietu\", \"pu\\u0137es\", \"pav\\u0113st\\u012bja\", \"palielin\\u0101jies\", \"aps\\u016bdz\\u012bba\", \"veikala\", \"gribam\", \"pazi\\u0146oja\", \"ekonomiski\", \"automa\\u0161\\u012bnai\", \"ma\\u0161\\u012bnas\", \"iel\\u0101m\", \"produkcijas\", \"sm\\u0101rdes\", \"\\u0101rlietu\", \"kl\\u0101st\\u012bja\", \"papildus\", \"da\\u017e\\u0101d\\u0101m\", \"likuma\", \"korupcijas\", \"ceturtdien\", \"likum\\u0101\", \"daudziem\", \"valstij\", \"likumu\", \"apm\\u0113r\\u0101\", \"valsts\", \"finans\\u0113jums\", \"vald\\u012bba\", \"jums\", \"\\u0161\\u0101du\", \"prezidenta\", \"darba\", \"pils\\u0113tu\", \"kuriem\", \"alkohola\", \"vienlaikus\", \"kopum\\u0101\", \"paredz\", \"preses\", \"bud\\u017eeta\", \"sac\\u012bja\", \"iel\\u0101\", \"m\\u016bsu\", \"uz\\u0146\\u0113muma\", \"degvielas\", \"b\\u016btu\", \"gada\", \"var\\u0113tu\", \"varb\\u016bt\", \"vi\\u0146a\", \"vi\\u0146\\u0161\", \"latvijas\", \"atbilsto\\u0161i\", \"pils\\u0113tas\", \"uz\\u0146\\u0113mumu\", \"savuk\\u0101rt\"], \"Freq\": [501.0, 127.0, 106.0, 261.0, 107.0, 190.0, 81.0, 159.0, 74.0, 126.0, 265.0, 289.0, 78.0, 47.0, 82.0, 178.0, 140.0, 98.0, 105.0, 107.0, 85.0, 108.0, 94.0, 59.0, 157.0, 100.0, 61.0, 50.0, 52.0, 47.0, 24.14633638541729, 19.80728503356607, 19.78775423491014, 18.815303417580335, 16.44918317640118, 16.242293927449975, 15.239062450928659, 14.820143115965926, 14.373209368711484, 13.502320895479173, 14.332616749600623, 13.192534109001116, 13.875913494730739, 12.49392530160184, 12.45260551560791, 13.290527720712033, 12.299374609367081, 14.514894617718536, 17.724806437374365, 12.377847008426174, 11.845484161988383, 11.255434796971025, 11.253041719516863, 10.796332986930347, 11.466204323442321, 10.519207085878174, 10.369779769124571, 14.643798984391006, 10.368774608122367, 10.366771133263747, 15.29200595161839, 13.527811449832104, 10.948873700875385, 23.574169711063824, 13.309423104238505, 29.188615629218788, 60.48536884876869, 42.86864871600204, 19.960414602049187, 96.74120849075227, 159.73408429415065, 26.644479183462405, 53.29208066540578, 29.06279795586917, 48.82011662773569, 22.58397246127138, 111.4066115895449, 66.02950279621898, 55.06489435431451, 63.39913065750499, 55.97839124637873, 68.60653293035816, 26.070997857116957, 32.12621646074309, 74.48691651334184, 89.01214484348904, 36.12111246252994, 75.29394302720515, 28.432578440636288, 60.401756982078425, 33.83577895568744, 44.12645844248383, 42.90525355740388, 91.01336288285532, 50.01328382022823, 52.757329534515875, 38.08420559412865, 55.17161122976392, 54.70498646064202, 57.42473302394447, 44.16589526338507, 49.41031320638757, 41.51858328598269, 39.27926807657631, 41.98753882353205, 40.90578290964362, 28.89132163298591, 19.800900820445538, 19.642217788961986, 18.0531865019943, 17.71739580633312, 17.347038755095554, 17.624474695921325, 17.03103537876928, 16.464975852402358, 14.315044591723533, 31.677533011453644, 21.70423244058339, 13.885770567110495, 32.02321925765181, 13.616735129313826, 13.431935407890759, 13.430802146752828, 12.710283791430948, 12.13895378139586, 11.991015931157817, 11.986825764280756, 11.983279753623364, 11.755015244618749, 11.30348442506546, 11.269402132088594, 12.251515983898956, 11.122238277777901, 11.121481929966158, 11.070367944848508, 10.992817082551035, 12.195149163228743, 33.71879726085985, 12.23468598450797, 14.07456002324051, 59.93432673241452, 17.8507550524998, 17.88531762633712, 16.182816519492246, 15.099584007570474, 33.04882436921713, 22.497061428447044, 13.213470645366971, 26.048348872406173, 16.470571565629577, 46.47020620397469, 24.149822582032268, 26.88350560497439, 70.4332764266499, 27.473981299284084, 47.24360209539527, 38.935116341070064, 54.47345015075504, 34.35956756349115, 96.4894282873139, 51.43700109877185, 57.529907123518235, 32.0866516274634, 42.949462605813146, 45.36418871422413, 28.939806048878065, 37.39727719516058, 46.747387507703834, 46.149287827451765, 45.885635064915334, 37.3744733086365, 38.638368319451104, 34.47568964302818, 38.456380951308034, 41.23840216289871, 30.07238899493644, 31.971374136316136, 30.296928490968217, 20.11709804958556, 20.796831862375132, 18.074820558555974, 16.90702345212288, 28.627068205467005, 15.718624622814142, 15.381330415008453, 14.517907041522054, 14.510523396571351, 14.445309961596191, 13.51748634960171, 12.752326639443519, 12.670897373404829, 33.30165483046621, 17.230861327742993, 10.985047137731577, 10.673044794185905, 10.533223100126971, 10.531442345277476, 10.687223719105633, 10.262316820130593, 10.258272090522693, 10.248369438083882, 30.400876768772232, 9.985163356821129, 10.09563838993071, 9.806056555306704, 9.804753427543098, 12.027787602877941, 9.587576279733076, 14.262538742439212, 14.99175337904932, 10.794190933617212, 10.320110816087722, 26.37427461884395, 13.947568846999248, 32.45158152552801, 12.112968534598295, 78.01615854283408, 14.69891204716939, 54.83822478524546, 90.40423468608121, 26.778456752836917, 25.112567302521235, 106.50324286237458, 31.99312216269275, 56.925828751156494, 34.808911685778256, 28.533677009553625, 22.612761094406874, 37.56088933533736, 39.22462443022582, 65.2232559723821, 48.93191284956794, 42.22648493804998, 34.92025808071432, 75.19224824072386, 50.270123273413525, 37.55636586007897, 46.52310187198529, 34.45711864357611, 27.960412650026875, 40.119735620377654, 55.67877239401638, 38.42301181818936, 30.228707304931536, 38.49250599990385, 35.86188142422779, 33.67807866524744, 32.263875199338386, 29.08362153421713, 20.554055925454133, 20.721950379658946, 20.97341368236623, 17.456088145475725, 16.375935822841747, 21.884514854961395, 15.326398748749732, 14.206887505710274, 13.354151501655915, 12.775154627628245, 12.26592279021643, 12.438905412488781, 14.108593153859804, 12.927664919440723, 11.986124212582194, 11.838771080946646, 11.47281752870951, 13.052510453389381, 12.237582125280928, 17.27095644394042, 11.814624920661736, 10.822215469148341, 10.788624935888919, 10.990624130168454, 10.643487097765826, 10.639517895472464, 10.549144700181373, 10.366709080920835, 10.366267100220053, 11.065483802862103, 21.425788475628437, 18.07919038143459, 17.276420834604476, 36.45404644766148, 17.514915776749792, 27.25185949314705, 28.205356316962582, 20.863776596531302, 32.32202924414749, 26.728228786905127, 19.218696400176736, 25.243635017009588, 17.792437614774148, 141.54102074016407, 31.832987300747728, 79.80275035513729, 63.522048437293535, 65.35859682923022, 24.09850614135213, 19.540406606263897, 57.84637375023561, 29.64549760837656, 26.947589198711718, 30.621886876489175, 27.981246229625153, 27.93206779165035, 39.72392316020986, 26.30982398350399, 26.433281051251168, 26.378199475916652, 24.304695528275417, 33.6711117311833, 28.12371277951279, 30.092359500897796, 26.68247623836224, 31.25352904198851, 25.897581037872772, 25.497817040027535, 25.300659151424124, 24.807760117908764, 21.683849889337207, 27.288414023594026, 22.369839832346916, 25.641352076870874, 18.32646078104104, 18.47302276989549, 15.91764344299513, 15.395655523501981, 15.833393428733933, 14.6963867462088, 14.430373461948545, 13.713029502995663, 13.561695075735436, 23.981628771014115, 13.127309623968664, 23.30375332467082, 12.800130956176275, 12.603154304328259, 12.146057409675524, 12.143413909160191, 11.763564818988362, 11.14962923626978, 11.312571988443388, 10.913856641546122, 10.768937095009496, 10.194656099061826, 11.082150845018564, 11.183145454757936, 9.912574947139161, 9.752453453478575, 23.1820608231655, 95.88660581477424, 114.13014820725607, 20.44651492968392, 35.27964435453567, 17.733227248170223, 65.76975227085977, 84.98154559531257, 22.72020396435244, 40.70676442628113, 57.38853128819396, 46.1132604122129, 42.218721978597344, 55.792875706977796, 33.11224628632128, 66.12478592874609, 64.08423638349045, 29.47032587639162, 56.34072793489486, 58.11356354042699, 27.809629579389618, 37.71909532084991, 137.7249589429726, 61.11279627139205, 36.86218118761833, 40.70847339790804, 42.9110051784375, 30.01305742655071, 58.307001664648496, 43.774767672422136, 75.68025753277438, 38.68077232546777, 43.61849448348344, 31.384846040806533, 36.72184176820344, 29.54485533488448, 30.593963424165285, 22.07160474510725, 21.3912898773155, 18.626432210300553, 17.594091005579607, 15.771510459794188, 15.431967398703696, 15.724290991005743, 44.63723947019121, 15.261173614918071, 14.443312555112435, 14.64569827948429, 14.28323781347513, 13.878348501670569, 13.130120381382733, 12.860301209258576, 11.951077716180958, 11.811648499360237, 11.54376061093397, 11.238199233592649, 10.815376175426689, 10.55381020172894, 10.518233190408086, 10.4087365507657, 10.25136430702761, 10.282531198150297, 10.137577266359102, 13.042987097467453, 9.83542370917091, 10.081641499401218, 28.30639918248611, 56.896066918811826, 14.80346680296241, 29.065262819918512, 15.226671291978843, 26.374291371223595, 22.72490948279643, 23.46211230258885, 18.687650469718026, 24.747563966460937, 24.995679630387638, 18.93708768481522, 50.68643949311939, 30.7203330426214, 55.06162767860466, 36.595062325487625, 33.22745296527729, 33.11127154116786, 59.962618755494326, 60.87096616408814, 32.98103564309356, 24.90167316671907, 29.699418058413887, 22.295158489596947, 26.158353250964993, 23.80161174506627, 48.35335969272833, 31.771597300970424, 29.593979805898304, 39.693123505808195, 33.85707558023566, 30.192935751700908, 28.815639993701865, 26.018361632452333, 26.336222530624106, 24.559617859126806, 27.431598421930005, 21.13191316133649, 20.12953611860077, 19.170266686025144, 18.466811412809808, 20.177396866408642, 16.010631172783707, 15.741096240887343, 16.134048975826385, 13.996071466249845, 13.279364911123668, 20.19323762568272, 12.455881084049798, 11.138862524638137, 11.769460313713799, 10.872452980915607, 10.847555419929055, 10.957812927616175, 10.427275782977512, 10.569216628943893, 10.42207681120887, 10.282340569476899, 10.135849485881016, 10.04921208794433, 10.015236798337591, 10.006411102475525, 9.869686515723291, 9.921904609663475, 11.769555849596841, 9.705938012187636, 20.67997748207227, 14.741062101950055, 24.886002054568998, 12.847656452963529, 15.207084319702574, 21.898895247447644, 21.05803753764324, 22.518892192967744, 14.587676057195127, 13.019925847401066, 210.70768376457883, 16.719298155885426, 24.670054564269766, 19.021003242089908, 33.40919309656689, 25.828373464098203, 102.35557284456642, 15.038922058370332, 39.07210895004016, 19.17232662163666, 22.853351491249008, 31.685318146703995, 22.2098745552736, 26.050451628492137, 28.396243340191514, 27.173638799596237, 30.84737200666852, 39.13428916191784, 28.605952792260815, 22.473981229282018, 38.879494051976685, 41.45691023744987, 35.2908059781237, 24.232760441481048, 31.41982301786202, 31.87548004723715, 28.233517525537195, 21.506526646193493, 21.92686269480931, 21.295357769777514, 21.46361192753059], \"Total\": [501.0, 127.0, 106.0, 261.0, 107.0, 190.0, 81.0, 159.0, 74.0, 126.0, 265.0, 289.0, 78.0, 47.0, 82.0, 178.0, 140.0, 98.0, 105.0, 107.0, 85.0, 108.0, 94.0, 59.0, 157.0, 100.0, 61.0, 50.0, 52.0, 47.0, 24.947293898985688, 20.607448573889933, 20.59531727084374, 19.61570330427264, 17.25009378582275, 17.132959841753877, 16.083475753046, 15.656438888239617, 15.196033221259027, 14.307945710788736, 15.196482870790057, 13.996030214005632, 14.731463712635781, 13.292943613510241, 13.257483600457508, 14.155788377904939, 13.1075658794847, 15.46967420857451, 18.899174333340866, 13.201434492369984, 12.645609484829999, 12.057073331630031, 12.05704258097653, 11.59526558146696, 12.333300989673463, 11.318677332393527, 11.16862776083462, 15.77207840280386, 11.16865442381776, 11.168550657079601, 16.543145370580316, 14.614633847965582, 11.81408309129146, 26.872999873959433, 14.672434071376951, 35.48875732141982, 85.16587042085305, 58.82871093490025, 23.722539125509734, 157.68386250310115, 289.83810959048714, 34.31248201954361, 83.1142556658712, 39.034433925059304, 75.96882880628056, 28.527746707275483, 265.0646412399963, 130.59223798000744, 106.6844836188605, 131.51130400200566, 112.53691767209287, 161.43290466664178, 37.34626675608867, 51.35531715858058, 188.38358616991624, 252.5795250578384, 64.26830473293717, 223.6376643011108, 44.40249037921721, 169.53626405258672, 61.929181200121945, 108.0697463058188, 107.3320858882789, 525.8264507747676, 157.7969161790581, 190.37557192033717, 91.13234354453584, 231.6765292372402, 227.9005621893781, 313.529813794011, 154.0451374812289, 241.09980318484386, 172.85407247768256, 135.94710945404745, 242.23786293367087, 230.39338048837536, 29.855818801648702, 20.606378563972218, 20.44808194635858, 18.858532846382754, 18.53385175296391, 18.148727862859662, 18.442004889819554, 17.84696803355697, 17.268937050129402, 15.116034156007402, 33.45064291183114, 22.93067466991274, 14.687561160357308, 33.8815868217112, 14.417340509803307, 14.236280043412748, 14.2361991470923, 13.529385527040736, 12.93972587625711, 12.793209305974612, 12.793102969859259, 12.793232475014987, 12.55749987655577, 12.106202342992262, 12.071643629740384, 13.134343329927956, 11.925108535920625, 11.925137944723279, 11.870467213446322, 11.801533096452513, 13.097700112250644, 40.89408986287086, 13.278475080981817, 15.571336802841325, 85.57715771702, 20.660644277669057, 20.72102822454451, 18.452808573469497, 17.061648089533907, 46.26866043105875, 29.05753684313359, 14.534944909605, 36.198669247962584, 19.528950216996428, 83.44762127513697, 33.842537492952346, 39.924518908425306, 168.3368208058874, 42.344252430771625, 102.02201140801105, 82.49422433391437, 154.0451374812289, 76.0389105226629, 525.8264507747676, 188.38358616991624, 252.5795250578384, 75.6321622831014, 157.7969161790581, 190.37557192033717, 64.21310629709146, 122.77978864796441, 231.6765292372402, 242.23786293367087, 241.09980318484386, 136.03523675888744, 159.73305826044418, 136.10218833079358, 227.9005621893781, 501.41501084427387, 94.78833590509926, 313.529813794011, 230.39338048837536, 20.929928328990062, 21.648159521554636, 18.886030227345255, 17.732883875626058, 30.028541714145604, 16.544974352317457, 16.201471554434967, 15.321944393628012, 15.321932828693278, 15.266022172363197, 14.317475283922493, 13.551671938374682, 13.47313080883982, 35.587663738805084, 18.424399007294884, 11.79291425969025, 11.48427410936901, 11.335948981417467, 11.33593141060939, 11.518886398403618, 11.062299568582233, 11.06224445094349, 11.061663625733056, 32.8459609939967, 10.78844026683917, 10.914017102153563, 10.60514809218104, 10.605133441607064, 13.010952033935213, 10.401221699896263, 15.473132012003646, 16.46448695013054, 11.734428134466533, 11.208512212308275, 33.64258937490103, 16.035406959176036, 44.02855169915248, 13.603731695024472, 140.47505265908194, 17.36513136342663, 94.48560365900273, 190.9938470494468, 39.96053570396386, 37.73688208149563, 313.529813794011, 58.95627192199176, 159.73305826044418, 75.16525325386199, 53.87718529889279, 36.536557796426564, 89.43862064372038, 97.82952787287851, 261.56548924884885, 169.53626405258672, 127.62796562007345, 88.61088286366261, 525.8264507747676, 223.6376643011108, 122.77606746854859, 230.39338048837536, 110.94357036417296, 64.10854875179197, 190.37557192033717, 501.41501084427387, 172.85407247768256, 84.89894367387095, 241.09980318484386, 227.9005621893781, 231.6765292372402, 252.5795250578384, 102.66803833726613, 21.374857197013007, 21.57879668954438, 21.888502587174344, 18.258223330571923, 17.184686852550175, 22.980596822888405, 16.14882836785596, 15.005572540079616, 14.152699544185745, 13.59911269589481, 13.067312421628069, 13.252244842278266, 15.037600868023937, 13.783662906990287, 12.790679334520378, 12.640919243212638, 12.273189727177842, 13.966046193363857, 13.10008642614821, 18.50981022315484, 12.674862109108426, 11.62615070985623, 11.59084489608688, 11.810989497211466, 11.441041879627884, 11.440913783715281, 11.349737830889566, 11.164558951276316, 11.164541488371219, 11.936893892736158, 24.057162028761063, 21.103684483154655, 20.036499678725068, 47.754416634318346, 20.700141171275188, 35.88729388783013, 37.44954701644536, 26.900627868759454, 50.08370965964139, 40.215591379144314, 25.426426749113393, 38.480743223112114, 23.047841009281687, 525.8264507747676, 56.44437581324981, 265.0646412399963, 190.9938470494468, 230.39338048837536, 42.06556640742053, 29.229939623751097, 242.23786293367087, 66.21392692456055, 55.81512866942798, 73.178344296516, 78.35734903456341, 80.23631685356123, 231.6765292372402, 69.73448211863166, 72.78296371812785, 72.94453366596031, 56.60976703871555, 252.5795250578384, 122.77978864796441, 178.300302321234, 98.84917458671598, 501.41501084427387, 223.6376643011108, 241.09980318484386, 289.83810959048714, 161.43290466664178, 22.503592047397866, 28.323307507783806, 23.233572249019783, 26.64010591641128, 19.13293744727361, 19.30956795627793, 16.723889103186767, 16.20143589043233, 16.672307820241205, 15.504049974713649, 15.24303310255964, 14.52342291452675, 14.370401714350377, 25.450779188090035, 13.93407507506657, 24.75941985114935, 13.620661173357474, 13.411727904771794, 12.953356285632271, 12.953433574571472, 12.572605149866783, 11.96153456401228, 12.137324569528932, 11.733871165542256, 11.592742099310016, 11.002659447332066, 11.963612039468233, 12.085574699402526, 10.719302189747731, 10.566729140569151, 25.144080885372528, 106.05780011147925, 127.5003367201817, 22.305278265268942, 40.66309674244236, 19.66469509956532, 81.69053093546789, 107.93355140533717, 26.33732500860751, 50.47384469981303, 78.8096714520901, 61.55816285023185, 58.20474622629505, 82.01671205265058, 43.47754611961392, 105.98419038884005, 108.49773968126789, 39.80043840489608, 100.9305218051143, 107.92189705798572, 37.96040434689594, 59.67841229257277, 501.41501084427387, 159.944671488882, 67.85193761964648, 84.92439156791733, 100.17487123760014, 47.52093315526233, 261.56548924884885, 126.36423022922668, 525.8264507747676, 109.41134967931617, 178.300302321234, 61.76960303092018, 223.6376643011108, 127.38872310462693, 31.42874252958451, 22.881722073254966, 22.19650240864415, 19.441693678766523, 18.39500862183048, 16.574593438768478, 16.236187677278878, 16.563315205954268, 47.05912679400389, 16.09014588823877, 15.247089711151572, 15.462268468246936, 15.101348092724272, 14.685298345490633, 13.931215648299906, 13.661711414538475, 12.761604518769243, 12.615396575939707, 12.345834177680706, 12.04186659366485, 11.62624886310841, 11.356661639339903, 11.322274505412704, 11.210580525303577, 11.052775366138807, 11.08722896628982, 10.94107047229658, 14.095997586467245, 10.637080693109496, 10.905970997703196, 32.78811480523336, 74.36001197750959, 17.104491507418146, 38.668007124783756, 17.891586660230065, 35.36406116926942, 29.75350756509204, 31.40330533924775, 23.70810219007631, 34.60023873715715, 35.082636230348434, 24.155269011501495, 98.84917458671598, 49.10175485304328, 126.36423022922668, 67.56252567471498, 60.720057319494025, 60.40224125489881, 159.944671488882, 178.300302321234, 68.12221290741391, 44.96448905694687, 65.58789439040349, 36.60805990535009, 52.278840916095135, 42.49377885136121, 242.23786293367087, 110.94357036417296, 109.41134967931617, 313.529813794011, 227.9005621893781, 157.7969161790581, 136.03523675888744, 103.8328514199286, 231.6765292372402, 127.38872310462693, 28.235338859409946, 21.953265825645634, 20.935993762506843, 19.99002540416123, 19.311698817292935, 21.15052122696261, 16.813097923605287, 16.546052226043912, 16.993800884689836, 14.830661023576415, 14.082597141717489, 21.521870258500176, 13.281023936730513, 11.943001495874597, 12.63495889874988, 11.675853296882895, 11.653323818359064, 11.799414838558695, 11.2297651005423, 11.386652074403314, 11.22977320425852, 11.084930029183788, 10.940123331867369, 10.851931743617696, 10.817809735653833, 10.817894435326497, 10.672977830583278, 10.72954288469746, 12.729595698384314, 10.51673770313947, 22.46388762226077, 16.085232359439715, 27.90583828930357, 14.186365652520738, 17.466876755006112, 27.05853684141966, 25.84152829326171, 28.354867803954093, 16.829724484710745, 14.738228306192132, 501.41501084427387, 20.316112634269683, 34.02868523298761, 24.46207683706822, 52.98363980810042, 38.04703129880821, 261.56548924884885, 18.178330516195047, 87.01615878762196, 28.092318565243218, 38.40159771217729, 69.499320347436, 38.445502881454914, 53.22676675902122, 65.05190436984914, 62.231607777067694, 88.1724424472207, 172.85407247768256, 80.65004814924188, 43.207327108952256, 241.09980318484386, 313.529813794011, 227.9005621893781, 67.46219868572973, 265.0646412399963, 289.83810959048714, 525.8264507747676, 42.02853591854595, 110.94357036417296, 42.08593550877639, 242.23786293367087], \"Category\": [\"Default\", \"Default\", \"Default\", \"Default\", \"Default\", \"Default\", \"Default\", \"Default\", \"Default\", \"Default\", \"Default\", \"Default\", \"Default\", \"Default\", \"Default\", \"Default\", \"Default\", \"Default\", \"Default\", \"Default\", \"Default\", \"Default\", \"Default\", \"Default\", \"Default\", \"Default\", \"Default\", \"Default\", \"Default\", \"Default\", \"Topic1\", \"Topic1\", \"Topic1\", \"Topic1\", \"Topic1\", \"Topic1\", \"Topic1\", \"Topic1\", \"Topic1\", \"Topic1\", \"Topic1\", \"Topic1\", \"Topic1\", \"Topic1\", \"Topic1\", \"Topic1\", \"Topic1\", \"Topic1\", \"Topic1\", \"Topic1\", \"Topic1\", \"Topic1\", \"Topic1\", \"Topic1\", \"Topic1\", \"Topic1\", \"Topic1\", \"Topic1\", \"Topic1\", \"Topic1\", \"Topic1\", \"Topic1\", \"Topic1\", \"Topic1\", \"Topic1\", \"Topic1\", \"Topic1\", \"Topic1\", \"Topic1\", \"Topic1\", \"Topic1\", \"Topic1\", \"Topic1\", \"Topic1\", \"Topic1\", \"Topic1\", \"Topic1\", \"Topic1\", \"Topic1\", \"Topic1\", \"Topic1\", \"Topic1\", \"Topic1\", \"Topic1\", \"Topic1\", \"Topic1\", \"Topic1\", \"Topic1\", \"Topic1\", \"Topic1\", \"Topic1\", \"Topic1\", \"Topic1\", \"Topic1\", \"Topic1\", \"Topic1\", \"Topic1\", \"Topic1\", \"Topic1\", \"Topic1\", \"Topic1\", \"Topic1\", \"Topic1\", \"Topic1\", \"Topic1\", \"Topic1\", \"Topic2\", \"Topic2\", \"Topic2\", \"Topic2\", \"Topic2\", \"Topic2\", \"Topic2\", \"Topic2\", \"Topic2\", \"Topic2\", \"Topic2\", \"Topic2\", \"Topic2\", \"Topic2\", \"Topic2\", \"Topic2\", \"Topic2\", \"Topic2\", \"Topic2\", \"Topic2\", \"Topic2\", \"Topic2\", \"Topic2\", \"Topic2\", \"Topic2\", \"Topic2\", \"Topic2\", \"Topic2\", \"Topic2\", \"Topic2\", \"Topic2\", \"Topic2\", \"Topic2\", \"Topic2\", \"Topic2\", \"Topic2\", \"Topic2\", \"Topic2\", \"Topic2\", \"Topic2\", \"Topic2\", \"Topic2\", \"Topic2\", \"Topic2\", \"Topic2\", \"Topic2\", \"Topic2\", \"Topic2\", \"Topic2\", \"Topic2\", \"Topic2\", \"Topic2\", \"Topic2\", \"Topic2\", \"Topic2\", \"Topic2\", \"Topic2\", \"Topic2\", \"Topic2\", \"Topic2\", \"Topic2\", \"Topic2\", \"Topic2\", \"Topic2\", \"Topic2\", \"Topic2\", \"Topic2\", \"Topic2\", \"Topic2\", \"Topic2\", \"Topic2\", \"Topic2\", \"Topic3\", \"Topic3\", \"Topic3\", \"Topic3\", \"Topic3\", \"Topic3\", \"Topic3\", \"Topic3\", \"Topic3\", \"Topic3\", \"Topic3\", \"Topic3\", \"Topic3\", \"Topic3\", \"Topic3\", \"Topic3\", \"Topic3\", \"Topic3\", \"Topic3\", \"Topic3\", \"Topic3\", \"Topic3\", \"Topic3\", \"Topic3\", \"Topic3\", \"Topic3\", \"Topic3\", \"Topic3\", \"Topic3\", \"Topic3\", \"Topic3\", \"Topic3\", \"Topic3\", \"Topic3\", \"Topic3\", \"Topic3\", \"Topic3\", \"Topic3\", \"Topic3\", \"Topic3\", \"Topic3\", \"Topic3\", \"Topic3\", \"Topic3\", \"Topic3\", \"Topic3\", \"Topic3\", \"Topic3\", \"Topic3\", \"Topic3\", \"Topic3\", \"Topic3\", \"Topic3\", \"Topic3\", \"Topic3\", \"Topic3\", \"Topic3\", \"Topic3\", \"Topic3\", \"Topic3\", \"Topic3\", \"Topic3\", \"Topic3\", \"Topic3\", \"Topic3\", \"Topic3\", \"Topic3\", \"Topic3\", \"Topic3\", \"Topic3\", \"Topic3\", \"Topic4\", \"Topic4\", \"Topic4\", \"Topic4\", \"Topic4\", \"Topic4\", \"Topic4\", \"Topic4\", \"Topic4\", \"Topic4\", \"Topic4\", \"Topic4\", \"Topic4\", \"Topic4\", \"Topic4\", \"Topic4\", \"Topic4\", \"Topic4\", \"Topic4\", \"Topic4\", \"Topic4\", \"Topic4\", \"Topic4\", \"Topic4\", \"Topic4\", \"Topic4\", \"Topic4\", \"Topic4\", \"Topic4\", \"Topic4\", \"Topic4\", \"Topic4\", \"Topic4\", \"Topic4\", \"Topic4\", \"Topic4\", \"Topic4\", \"Topic4\", \"Topic4\", \"Topic4\", \"Topic4\", \"Topic4\", \"Topic4\", \"Topic4\", \"Topic4\", \"Topic4\", \"Topic4\", \"Topic4\", \"Topic4\", \"Topic4\", \"Topic4\", \"Topic4\", \"Topic4\", \"Topic4\", \"Topic4\", \"Topic4\", \"Topic4\", \"Topic4\", \"Topic4\", \"Topic4\", \"Topic4\", \"Topic4\", \"Topic4\", \"Topic4\", \"Topic4\", \"Topic4\", \"Topic4\", \"Topic4\", \"Topic4\", \"Topic4\", \"Topic5\", \"Topic5\", \"Topic5\", \"Topic5\", \"Topic5\", \"Topic5\", \"Topic5\", \"Topic5\", \"Topic5\", \"Topic5\", \"Topic5\", \"Topic5\", \"Topic5\", \"Topic5\", \"Topic5\", \"Topic5\", \"Topic5\", \"Topic5\", \"Topic5\", \"Topic5\", \"Topic5\", \"Topic5\", \"Topic5\", \"Topic5\", \"Topic5\", \"Topic5\", \"Topic5\", \"Topic5\", \"Topic5\", \"Topic5\", \"Topic5\", \"Topic5\", \"Topic5\", \"Topic5\", \"Topic5\", \"Topic5\", \"Topic5\", \"Topic5\", \"Topic5\", \"Topic5\", \"Topic5\", \"Topic5\", \"Topic5\", \"Topic5\", \"Topic5\", \"Topic5\", \"Topic5\", \"Topic5\", \"Topic5\", \"Topic5\", \"Topic5\", \"Topic5\", \"Topic5\", \"Topic5\", \"Topic5\", \"Topic5\", \"Topic5\", \"Topic5\", \"Topic5\", \"Topic5\", \"Topic5\", \"Topic5\", \"Topic5\", \"Topic5\", \"Topic5\", \"Topic5\", \"Topic6\", \"Topic6\", \"Topic6\", \"Topic6\", \"Topic6\", \"Topic6\", \"Topic6\", \"Topic6\", \"Topic6\", \"Topic6\", \"Topic6\", \"Topic6\", \"Topic6\", \"Topic6\", \"Topic6\", \"Topic6\", \"Topic6\", \"Topic6\", \"Topic6\", \"Topic6\", \"Topic6\", \"Topic6\", \"Topic6\", \"Topic6\", \"Topic6\", \"Topic6\", \"Topic6\", \"Topic6\", \"Topic6\", \"Topic6\", \"Topic6\", \"Topic6\", \"Topic6\", \"Topic6\", \"Topic6\", \"Topic6\", \"Topic6\", \"Topic6\", \"Topic6\", \"Topic6\", \"Topic6\", \"Topic6\", \"Topic6\", \"Topic6\", \"Topic6\", \"Topic6\", \"Topic6\", \"Topic6\", \"Topic6\", \"Topic6\", \"Topic6\", \"Topic6\", \"Topic6\", \"Topic6\", \"Topic6\", \"Topic6\", \"Topic6\", \"Topic6\", \"Topic6\", \"Topic6\", \"Topic6\", \"Topic6\", \"Topic6\", \"Topic6\", \"Topic6\", \"Topic6\", \"Topic7\", \"Topic7\", \"Topic7\", \"Topic7\", \"Topic7\", \"Topic7\", \"Topic7\", \"Topic7\", \"Topic7\", \"Topic7\", \"Topic7\", \"Topic7\", \"Topic7\", \"Topic7\", \"Topic7\", \"Topic7\", \"Topic7\", \"Topic7\", \"Topic7\", \"Topic7\", \"Topic7\", \"Topic7\", \"Topic7\", \"Topic7\", \"Topic7\", \"Topic7\", \"Topic7\", \"Topic7\", \"Topic7\", \"Topic7\", \"Topic7\", \"Topic7\", \"Topic7\", \"Topic7\", \"Topic7\", \"Topic7\", \"Topic7\", \"Topic7\", \"Topic7\", \"Topic7\", \"Topic7\", \"Topic7\", \"Topic7\", \"Topic7\", \"Topic7\", \"Topic7\", \"Topic7\", \"Topic7\", \"Topic7\", \"Topic7\", \"Topic7\", \"Topic7\", \"Topic7\", \"Topic7\", \"Topic7\", \"Topic7\", \"Topic7\", \"Topic7\", \"Topic7\", \"Topic7\", \"Topic7\", \"Topic7\", \"Topic7\", \"Topic7\", \"Topic7\", \"Topic7\", \"Topic7\", \"Topic7\", \"Topic7\", \"Topic7\", \"Topic7\"], \"logprob\": [30.0, 29.0, 28.0, 27.0, 26.0, 25.0, 24.0, 23.0, 22.0, 21.0, 20.0, 19.0, 18.0, 17.0, 16.0, 15.0, 14.0, 13.0, 12.0, 11.0, 10.0, 9.0, 8.0, 7.0, 6.0, 5.0, 4.0, 3.0, 2.0, 1.0, -6.1886, -6.3867, -6.3877, -6.4381, -6.5725, -6.5851, -6.6489, -6.6768, -6.7074, -6.7699, -6.7102, -6.7931, -6.7426, -6.8475, -6.8508, -6.7857, -6.8632, -6.6976, -6.4978, -6.8568, -6.9008, -6.9519, -6.9521, -6.9935, -6.9333, -7.0195, -7.0338, -6.6887, -7.0339, -7.0341, -6.6454, -6.768, -6.9795, -6.2126, -6.7843, -5.999, -5.2703, -5.6146, -6.379, -4.8007, -4.2992, -6.0902, -5.397, -6.0033, -5.4846, -6.2555, -4.6596, -5.1826, -5.3642, -5.2233, -5.3478, -5.1444, -6.1119, -5.9031, -5.0621, -4.884, -5.7859, -5.0513, -6.0252, -5.2717, -5.8512, -5.5857, -5.6137, -4.8617, -5.4605, -5.407, -5.7329, -5.3623, -5.3708, -5.3223, -5.5848, -5.4726, -5.6466, -5.702, -5.6354, -5.6615, -5.9264, -6.3042, -6.3122, -6.3966, -6.4154, -6.4365, -6.4206, -6.4549, -6.4887, -6.6286, -5.8343, -6.2124, -6.6591, -5.8235, -6.6786, -6.6923, -6.6924, -6.7475, -6.7935, -6.8058, -6.8061, -6.8064, -6.8256, -6.8648, -6.8678, -6.7843, -6.881, -6.881, -6.8856, -6.8927, -6.7889, -5.7719, -6.7856, -6.6455, -5.1967, -6.4079, -6.4059, -6.506, -6.5753, -5.7919, -6.1765, -6.7087, -6.03, -6.4883, -5.4511, -6.1056, -5.9984, -5.0353, -5.9767, -5.4346, -5.628, -5.2922, -5.753, -4.7205, -5.3496, -5.2376, -5.8215, -5.5299, -5.4752, -5.9247, -5.6683, -5.4452, -5.458, -5.4638, -5.6689, -5.6357, -5.7497, -5.6404, -5.5705, -5.8863, -5.8251, -5.8789, -6.1688, -6.1356, -6.2759, -6.3427, -5.816, -6.4155, -6.4372, -6.495, -6.4955, -6.5, -6.5664, -6.6247, -6.6311, -5.6648, -6.3237, -6.7739, -6.8027, -6.8159, -6.816, -6.8013, -6.8419, -6.8423, -6.8433, -5.7559, -6.8693, -6.8583, -6.8874, -6.8875, -6.6832, -6.9099, -6.5128, -6.4629, -6.7914, -6.8363, -5.898, -6.5351, -5.6906, -6.6761, -4.8135, -6.4826, -5.166, -4.6661, -5.8828, -5.947, -4.5022, -5.7049, -5.1286, -5.6205, -5.8193, -6.0519, -5.5444, -5.5011, -4.9926, -5.28, -5.4273, -5.6173, -4.8503, -5.253, -5.5445, -5.3304, -5.6307, -5.8396, -5.4785, -5.1508, -5.5217, -5.7616, -5.5199, -5.5907, -5.6535, -5.6964, -5.8002, -6.1104, -6.1023, -6.0902, -6.2738, -6.3376, -6.0477, -6.4039, -6.4797, -6.5416, -6.586, -6.6266, -6.6126, -6.4867, -6.5741, -6.6497, -6.6621, -6.6935, -6.5645, -6.6289, -6.2844, -6.6641, -6.7519, -6.755, -6.7364, -6.7685, -6.7689, -6.7774, -6.7949, -6.7949, -6.7296, -6.0689, -6.2387, -6.2841, -5.5374, -6.2704, -5.8283, -5.7939, -6.0954, -5.6577, -5.8477, -6.1776, -5.9049, -6.2547, -4.1809, -5.673, -4.7539, -4.9821, -4.9536, -5.9513, -6.161, -5.0757, -5.7441, -5.8396, -5.7117, -5.8019, -5.8037, -5.4515, -5.8635, -5.8588, -5.8609, -5.9428, -5.6168, -5.7968, -5.7292, -5.8494, -5.6913, -5.8793, -5.8949, -5.9026, -5.9223, -6.0205, -5.7906, -5.9894, -5.8529, -6.1888, -6.1808, -6.3297, -6.363, -6.335, -6.4095, -6.4278, -6.4788, -6.4899, -5.9198, -6.5224, -5.9485, -6.5477, -6.5632, -6.6001, -6.6003, -6.6321, -6.6857, -6.6712, -6.7071, -6.7204, -6.7752, -6.6918, -6.6827, -6.8033, -6.8196, -5.9537, -4.5339, -4.3598, -6.0793, -5.5338, -6.2217, -4.9109, -4.6547, -5.9739, -5.3907, -5.0473, -5.266, -5.3542, -5.0755, -5.5972, -4.9056, -4.9369, -5.7137, -5.0657, -5.0347, -5.7717, -5.4669, -4.1718, -4.9844, -5.4899, -5.3907, -5.338, -5.6955, -5.0314, -5.318, -4.7706, -5.4418, -5.3216, -5.6508, -5.4937, -5.7112, -5.5629, -5.8894, -5.9207, -6.0591, -6.1161, -6.2255, -6.2472, -6.2285, -5.1851, -6.2584, -6.3135, -6.2995, -6.3246, -6.3534, -6.4088, -6.4295, -6.5029, -6.5146, -6.5375, -6.5644, -6.6027, -6.6272, -6.6306, -6.641, -6.6563, -6.6532, -6.6674, -6.4154, -6.6977, -6.673, -5.6406, -4.9425, -6.2888, -5.6141, -6.2606, -5.7113, -5.8602, -5.8283, -6.0558, -5.775, -5.765, -6.0426, -5.058, -5.5588, -4.9752, -5.3838, -5.4803, -5.4838, -4.89, -4.8749, -5.4878, -5.7687, -5.5926, -5.8793, -5.7195, -5.8139, -5.1051, -5.5251, -5.5961, -5.3025, -5.4615, -5.5761, -5.6228, -5.7249, -5.7127, -5.7826, -5.6522, -5.9131, -5.9617, -6.0105, -6.0479, -5.9593, -6.1906, -6.2076, -6.183, -6.3251, -6.3777, -5.9585, -6.4417, -6.5534, -6.4984, -6.5777, -6.5799, -6.5698, -6.6195, -6.6059, -6.62, -6.6335, -6.6478, -6.6564, -6.6598, -6.6607, -6.6744, -6.6691, -6.4984, -6.6912, -5.9347, -6.2733, -5.7496, -6.4107, -6.2421, -5.8775, -5.9166, -5.8495, -6.2837, -6.3974, -3.6134, -6.1473, -5.7583, -6.0183, -5.4551, -5.7124, -4.3354, -6.2532, -5.2985, -6.0104, -5.8348, -5.508, -5.8634, -5.7039, -5.6176, -5.6616, -5.5348, -5.2969, -5.6103, -5.8515, -5.3034, -5.2392, -5.4003, -5.7762, -5.5164, -5.5021, -5.6234, -5.8955, -5.8762, -5.9054, -5.8975], \"loglift\": [30.0, 29.0, 28.0, 27.0, 26.0, 25.0, 24.0, 23.0, 22.0, 21.0, 20.0, 19.0, 18.0, 17.0, 16.0, 15.0, 14.0, 13.0, 12.0, 11.0, 10.0, 9.0, 8.0, 7.0, 6.0, 5.0, 4.0, 3.0, 2.0, 1.0, 1.6947, 1.6877, 1.6873, 1.6857, 1.6798, 1.674, 1.6734, 1.6725, 1.6717, 1.6694, 1.6688, 1.6682, 1.6675, 1.6654, 1.6647, 1.6643, 1.6637, 1.6636, 1.6632, 1.6629, 1.662, 1.6585, 1.6583, 1.656, 1.6544, 1.6541, 1.6531, 1.6531, 1.653, 1.6529, 1.6487, 1.6501, 1.6513, 1.5964, 1.6298, 1.5319, 1.3851, 1.4109, 1.5547, 1.2388, 1.1315, 1.4744, 1.2829, 1.4324, 1.2852, 1.4937, 0.8606, 1.0454, 1.066, 0.9977, 1.029, 0.8716, 1.3679, 1.2583, 0.7995, 0.6844, 1.1512, 0.6387, 1.2816, 0.6953, 1.1229, 0.8316, 0.8104, -0.0266, 0.5783, 0.4441, 0.8548, 0.2925, 0.3004, 0.0299, 0.4781, 0.1423, 0.301, 0.4858, -0.0252, -0.0012, 1.7773, 1.7703, 1.77, 1.7665, 1.7651, 1.765, 1.7648, 1.7634, 1.7625, 1.7557, 1.7557, 1.7552, 1.754, 1.7538, 1.753, 1.752, 1.7519, 1.7477, 1.7463, 1.7454, 1.7451, 1.7448, 1.7441, 1.7416, 1.7414, 1.7406, 1.7405, 1.7404, 1.7404, 1.7392, 1.7388, 1.6172, 1.7283, 1.7091, 1.454, 1.664, 1.663, 1.6789, 1.688, 1.4737, 1.5543, 1.7149, 1.4811, 1.6398, 1.2248, 1.4727, 1.4147, 0.9389, 1.3776, 1.0403, 1.0593, 0.7706, 1.0158, 0.1146, 0.512, 0.3307, 0.9527, 0.5089, 0.3759, 1.0132, 0.6214, 0.2096, 0.1521, 0.1511, 0.5182, 0.3909, 0.437, 0.0308, -0.6879, 0.6621, -0.4729, -0.2186, 1.8901, 1.8896, 1.8858, 1.882, 1.8819, 1.8785, 1.8777, 1.8758, 1.8753, 1.8744, 1.8722, 1.8689, 1.8683, 1.8633, 1.8627, 1.8587, 1.8564, 1.8563, 1.8561, 1.8548, 1.8546, 1.8542, 1.8533, 1.8523, 1.8523, 1.8518, 1.8514, 1.8512, 1.8511, 1.8482, 1.8482, 1.836, 1.8462, 1.8471, 1.6863, 1.7902, 1.6246, 1.8136, 1.3416, 1.763, 1.3856, 1.1817, 1.5294, 1.5224, 0.85, 1.3184, 0.8979, 1.1599, 1.2941, 1.4499, 1.0621, 1.0158, 0.5408, 0.6871, 0.8236, 0.9985, -0.0152, 0.4371, 0.7452, 0.3299, 0.7604, 1.0999, 0.3726, -0.2681, 0.4259, 0.897, 0.0949, 0.0805, 0.0012, -0.1281, 0.6684, 1.9275, 1.9261, 1.9239, 1.9217, 1.9184, 1.9178, 1.9144, 1.9119, 1.9086, 1.9041, 1.9033, 1.9033, 1.9029, 1.9025, 1.9017, 1.9011, 1.8992, 1.899, 1.8985, 1.8974, 1.8964, 1.895, 1.8949, 1.8946, 1.8944, 1.894, 1.8935, 1.8925, 1.8924, 1.8908, 1.8508, 1.8119, 1.8184, 1.6966, 1.7995, 1.6914, 1.6832, 1.7125, 1.5287, 1.5581, 1.6867, 1.545, 1.7078, 0.6543, 1.3939, 0.7662, 0.8658, 0.7067, 1.4096, 1.5639, 0.5345, 1.1631, 1.2385, 1.0954, 0.9369, 0.9114, 0.2032, 0.9919, 0.9538, 0.9495, 1.1211, -0.0485, 0.4929, 0.1874, 0.657, -0.8087, -0.1892, -0.28, -0.4719, 0.0937, 1.9659, 1.9658, 1.9651, 1.9648, 1.9599, 1.9587, 1.9536, 1.952, 1.9514, 1.9495, 1.9482, 1.9456, 1.9451, 1.9435, 1.9433, 1.9424, 1.9408, 1.9408, 1.9386, 1.9384, 1.9365, 1.9327, 1.9326, 1.9305, 1.9293, 1.9267, 1.9264, 1.9254, 1.9247, 1.9228, 1.9217, 1.9022, 1.8922, 1.916, 1.861, 1.8996, 1.7862, 1.7639, 1.8552, 1.7879, 1.6858, 1.7141, 1.6819, 1.6177, 1.7306, 1.5312, 1.4765, 1.7025, 1.42, 1.384, 1.6918, 1.5442, 0.7108, 1.0409, 1.3928, 1.2677, 1.1552, 1.5434, 0.502, 0.9429, 0.0645, 0.9632, 0.595, 1.3259, 0.1963, 0.5416, 2.0895, 2.0804, 2.0795, 2.0736, 2.0719, 2.0667, 2.0656, 2.0644, 2.0636, 2.0635, 2.0622, 2.0621, 2.0607, 2.0599, 2.0572, 2.056, 2.0508, 2.0506, 2.0492, 2.0473, 2.0441, 2.0431, 2.0427, 2.0422, 2.0411, 2.0411, 2.0401, 2.0388, 2.038, 2.0378, 1.9694, 1.8487, 1.9719, 1.8309, 1.9551, 1.8231, 1.8469, 1.8249, 1.8785, 1.7813, 1.7774, 1.873, 1.4485, 1.6474, 1.2857, 1.5033, 1.5135, 1.5153, 1.1353, 1.0417, 1.391, 1.5255, 1.3241, 1.6205, 1.424, 1.5368, 0.505, 0.866, 0.8089, 0.0497, 0.2096, 0.4627, 0.5644, 0.7324, -0.058, 0.4703, 2.1073, 2.0981, 2.0969, 2.0943, 2.0915, 2.0891, 2.0873, 2.0863, 2.0843, 2.0783, 2.0775, 2.0725, 2.0721, 2.0665, 2.0652, 2.0649, 2.0645, 2.0622, 2.0621, 2.0617, 2.0616, 2.061, 2.0598, 2.0594, 2.0591, 2.0582, 2.058, 2.0579, 2.0578, 2.056, 2.0535, 2.0489, 2.0217, 2.0371, 1.9977, 1.9246, 1.9315, 1.9058, 1.9932, 2.0122, 1.2692, 1.9413, 1.8146, 1.8846, 1.675, 1.7489, 1.198, 1.9466, 1.3355, 1.7542, 1.6172, 1.3507, 1.5875, 1.4217, 1.3073, 1.3076, 1.086, 0.6508, 1.0997, 1.4825, 0.3115, 0.113, 0.2709, 1.1123, 0.0037, -0.0713, -0.7883, 1.4662, 0.5149, 1.455, -0.2874]}, \"token.table\": {\"Topic\": [5, 6, 3, 4, 5, 4, 7, 1, 2, 4, 5, 4, 7, 3, 3, 1, 4, 7, 3, 3, 4, 4, 2, 4, 6, 7, 4, 7, 1, 3, 7, 1, 4, 2, 1, 2, 3, 4, 5, 7, 1, 2, 6, 2, 4, 3, 1, 2, 4, 7, 7, 2, 3, 5, 6, 7, 1, 3, 3, 1, 4, 6, 1, 2, 3, 4, 5, 6, 4, 7, 1, 2, 3, 5, 6, 2, 1, 1, 5, 6, 2, 4, 6, 1, 3, 4, 5, 7, 1, 2, 3, 4, 5, 6, 1, 2, 3, 4, 5, 6, 7, 1, 2, 6, 1, 2, 3, 5, 6, 2, 7, 1, 3, 4, 4, 5, 2, 3, 4, 6, 3, 1, 2, 3, 4, 5, 6, 7, 1, 2, 3, 5, 6, 1, 2, 3, 4, 5, 6, 7, 1, 3, 4, 5, 7, 6, 7, 6, 7, 1, 2, 3, 5, 7, 3, 5, 1, 2, 3, 4, 6, 7, 1, 2, 3, 4, 5, 6, 7, 5, 2, 1, 2, 3, 4, 5, 6, 7, 6, 1, 6, 1, 3, 5, 6, 7, 4, 2, 6, 1, 2, 6, 7, 2, 6, 7, 1, 2, 3, 4, 6, 7, 7, 1, 2, 3, 4, 5, 6, 7, 2, 3, 5, 7, 1, 3, 5, 1, 2, 3, 4, 5, 6, 7, 2, 1, 2, 3, 4, 6, 7, 1, 2, 3, 4, 1, 1, 2, 3, 4, 5, 1, 2, 4, 5, 6, 7, 1, 2, 3, 4, 6, 7, 7, 2, 7, 4, 5, 1, 7, 4, 2, 3, 1, 3, 7, 2, 6, 7, 1, 2, 3, 4, 5, 6, 7, 7, 6, 3, 5, 2, 1, 2, 3, 4, 5, 6, 7, 2, 3, 4, 5, 6, 7, 2, 6, 1, 7, 2, 6, 3, 4, 3, 3, 3, 4, 5, 1, 6, 1, 1, 2, 4, 5, 6, 3, 2, 3, 2, 2, 1, 3, 2, 6, 2, 3, 4, 5, 6, 1, 2, 3, 4, 5, 6, 1, 2, 4, 5, 7, 1, 7, 2, 5, 1, 2, 3, 4, 5, 6, 3, 1, 3, 5, 6, 2, 6, 6, 2, 3, 4, 5, 7, 6, 5, 2, 4, 5, 5, 5, 1, 2, 3, 4, 6, 7, 1, 2, 3, 4, 5, 6, 7, 2, 3, 7, 4, 2, 5, 6, 1, 2, 3, 4, 5, 6, 7, 1, 2, 3, 4, 5, 7, 1, 2, 3, 4, 5, 6, 7, 1, 2, 3, 4, 5, 6, 7, 1, 2, 3, 4, 5, 6, 7, 1, 2, 3, 4, 6, 7, 6, 1, 2, 4, 5, 6, 7, 1, 1, 2, 7, 6, 4, 5, 3, 7, 1, 2, 3, 4, 5, 6, 7, 1, 2, 4, 5, 6, 7, 1, 2, 3, 4, 5, 1, 2, 3, 4, 5, 6, 7, 1, 2, 3, 4, 6, 7, 2, 3, 6, 7, 5, 3, 4, 1, 1, 2, 7, 2, 7, 1, 7, 2, 7, 5, 2, 6, 3, 5, 6, 7, 1, 7, 2, 4, 6, 4, 6, 7, 6, 2, 3, 5, 7, 6, 1, 3, 6, 1, 2, 3, 4, 5, 6, 7, 1, 2, 3, 5, 6, 7, 1, 2, 6, 7, 1, 2, 5, 4, 1, 2, 3, 4, 5, 6, 7, 1, 2, 3, 4, 5, 1, 3, 2, 1, 3, 5, 6, 5, 1, 4, 2, 7, 6, 6, 7, 1, 2, 4, 7, 2, 3, 4, 7, 3, 4, 5, 6, 7, 2, 4, 3, 5, 1, 2, 3, 4, 5, 6, 7, 1, 2, 5, 6, 6, 3, 2, 3, 4, 6, 5, 7, 5, 2, 4, 6, 2, 3, 4, 3, 4, 2, 1, 2, 3, 5, 6, 7, 2, 6, 7, 7, 7, 1, 2, 5, 6, 2, 4, 4, 7, 3, 5, 6, 7, 6, 3, 4, 5, 6, 1, 2, 4, 6, 7, 7, 7, 1, 2, 3, 4, 5, 6, 7, 6, 3, 5, 6, 1, 2, 3, 5, 6, 1, 4, 1, 6, 1, 5, 7, 2, 3, 4, 5, 6, 7, 2, 7, 5, 1, 3, 4, 5, 6, 2, 2, 3, 4, 6, 7, 4, 6, 7, 3, 4, 5, 6, 7, 1, 2, 4, 7, 4, 1, 3, 5, 6, 7, 1, 2, 4, 7, 1, 2, 4, 7, 4, 2, 5, 6, 7, 3, 7, 7, 4, 1, 4, 1, 2, 3, 5, 6, 7, 1, 3, 5, 6, 7, 1, 2, 3, 5, 6, 7, 1, 7, 4, 3, 2, 5, 4, 1, 2, 3, 4, 5, 6, 7, 2, 4, 4, 4, 1, 2, 3, 4, 5, 7, 1, 2, 3, 4, 5, 3, 1, 3, 4, 6, 7, 1, 2, 3, 4, 5, 6, 7, 1, 2, 3, 4, 5, 6, 7, 1, 2, 3, 4, 5, 6, 4, 1, 2, 3, 4, 2, 1, 1, 2, 3, 4, 5, 6, 5, 6, 1, 2, 5, 6, 7, 3, 5, 2, 3, 5, 6, 3, 4, 4, 2, 3, 7, 1, 5, 4, 5, 1, 5, 7, 4, 1, 4, 6, 7, 5, 3, 6, 4, 1, 3, 5, 6, 1, 2, 3, 4, 5, 6, 7, 1, 2, 3, 4, 5, 6, 7, 3, 7, 2, 1, 2, 3, 5, 2, 2, 1, 2, 3, 4, 5, 6, 7, 2, 6, 6, 2, 6, 1, 1, 2, 3, 4, 5, 6, 7, 5, 1, 3, 4, 1, 3, 4, 5, 7, 1, 2, 3, 4, 5, 6, 7, 1, 1, 3, 1, 5, 2, 3, 4, 7, 4, 1, 2, 3, 4, 6, 7, 4, 1, 3, 4, 5, 7, 1, 2, 3, 4, 5, 6, 7, 1, 2, 3, 4, 5, 6, 1, 2, 3, 4, 5, 6, 7, 2, 1, 3, 4, 6, 7, 4, 5, 6, 7, 2, 2, 4, 7, 1, 2, 3, 4, 5, 6, 7, 3, 1, 3, 4, 5, 7, 1, 3, 1, 2, 3, 4, 5, 6, 7, 2, 5, 6, 6, 7, 1, 7, 2, 1, 2, 3, 4, 5, 6, 7, 2, 3, 4, 5, 3, 2, 3, 4, 6, 7, 2, 7, 1, 3, 4, 7, 1, 2, 3, 4, 5, 6, 7, 1, 2, 3, 4, 6, 7, 6, 5, 1, 2, 3, 4, 5, 6, 7, 1, 2, 3, 4, 5, 6, 7, 1, 2, 3, 4, 1, 2, 3, 4, 5, 6, 7, 1, 2, 3, 4, 5, 6, 7, 1, 2, 4, 5, 6, 7, 1, 2, 3, 4, 5, 6, 1, 2, 3, 4, 5, 6, 7, 1, 2, 3, 4, 5, 6, 7, 4, 1, 2, 6, 5, 1, 2, 6, 7, 1, 2, 5, 3, 5, 4, 7, 2, 5, 2, 3, 6, 3, 1, 2, 3, 4, 5, 6, 7, 5, 4, 1, 6, 7, 6, 1, 2, 3, 4, 5, 6, 7, 1, 2, 3, 4, 5, 6, 7, 1, 2, 4, 5, 6, 7, 1, 2, 3, 4, 5, 6, 7, 6, 7, 2, 4, 7, 2, 3], \"Freq\": [0.9184523779357989, 0.9019386205881121, 0.21074591110497926, 0.026343238888122407, 0.7376106888674274, 0.7806509239283579, 0.18586926760198996, 0.7429337916280783, 0.05123681321572954, 0.1537104396471886, 0.02561840660786477, 0.8695592871114293, 0.09661769856793659, 0.9039756845318228, 0.9170692824843961, 0.21358151645850287, 0.07119383881950095, 0.676341468785259, 0.9555694451326898, 0.05402540533608769, 0.9184318907134907, 0.9490248639004434, 0.7132257491908736, 0.02161290149063253, 0.19451611341569278, 0.06483870447189759, 0.06785076056800254, 0.8820598873840331, 0.06089028725222997, 0.9133543087834496, 0.8904905766476885, 0.9212658033465179, 0.9381831633925465, 0.9710528783363667, 0.8953713249857651, 0.19034686374763382, 0.023793357968454228, 0.1665535057791796, 0.11896678984227115, 0.5234538753059931, 0.9123275356668066, 0.9136353221905478, 0.9047501345803082, 0.9379959305387313, 0.9559447215938092, 0.9789887586447059, 0.08287597478929015, 0.718258448173848, 0.05525064985952677, 0.13812662464881692, 0.9214949224022959, 0.11476918567551436, 0.05738459283775718, 0.019128197612585728, 0.49733313792722894, 0.30605116180137165, 0.971094532654444, 0.9039711804949448, 0.9586709144002566, 0.6305952607808126, 0.33781888970400675, 0.02252125931360045, 0.03385588658015995, 0.022570591053439965, 0.39498534343519937, 0.09028236421375986, 0.2708470926412796, 0.18056472842751972, 0.9288599555530178, 0.9562484847247283, 0.40062577414882583, 0.09316878468577346, 0.21428820477727895, 0.1397531770286602, 0.1397531770286602, 0.9112263696138094, 0.9686117140577607, 0.8430800722547129, 0.12646201083820693, 0.9134796432462581, 0.04217967309161414, 0.16871869236645656, 0.8014137887406686, 0.07686170064403905, 0.015372340128807808, 0.07686170064403905, 0.36893616309138744, 0.4304255236066187, 0.10138460056692912, 0.07373425495776663, 0.11060138243664995, 0.08295103682748746, 0.589874039662133, 0.046083909348604145, 0.20323533803315963, 0.19079235815357842, 0.15761107847469522, 0.10369149899651002, 0.07880553923734761, 0.09954383903664961, 0.16175873843455563, 0.14252064660051747, 0.11401651728041398, 0.7126032330025874, 0.6450013876737433, 0.2501025788939005, 0.01316329362599476, 0.01316329362599476, 0.09214305538196332, 0.11450243956331735, 0.8587682967248801, 0.8171601991399281, 0.02817793790137683, 0.14088968950688416, 0.9215127569068636, 0.9544323755317025, 0.13627520707467414, 0.7268011043982621, 0.02271253451244569, 0.09085013804978276, 0.9269180486392803, 0.06117014918882467, 0.026761940270110793, 0.24850373107960022, 0.042054477567316964, 0.22174179080948944, 0.007646268648603084, 0.38995970107875727, 0.22238304416669918, 0.0833936415625122, 0.037063840694449866, 0.537425690069523, 0.11119152208334959, 0.20791648453643546, 0.41583296907287093, 0.07722612282781889, 0.1306903617086166, 0.10098800677484009, 0.017821412960265896, 0.0475237678940424, 0.6231097726684637, 0.03894436079177898, 0.09736090197944745, 0.1752496235630054, 0.03894436079177898, 0.15478960665971978, 0.8126454349635288, 0.06216882527115898, 0.9325323790673847, 0.046288445359204226, 0.27773067215522534, 0.11572111339801057, 0.023144222679602113, 0.5091728989512465, 0.03929152787856337, 0.9429966690855208, 0.013304019566362867, 0.1596482347963544, 0.4656406848227003, 0.18625627392908012, 0.10643215653090293, 0.0798241173981772, 0.032378385190509555, 0.032378385190509555, 0.032378385190509555, 0.11332434816678344, 0.5018649704528981, 0.17808111854780254, 0.09713515557152866, 0.9329646876427421, 0.9379976292888312, 0.10549821245951463, 0.3164946373785439, 0.07384874872166024, 0.09494839121356316, 0.29539499488664095, 0.08439856996761169, 0.010549821245951461, 0.9461349167317776, 0.9338724976759242, 0.9653328788491133, 0.06330905498722127, 0.06330905498722127, 0.348199802429717, 0.43524975303714625, 0.0949635824808319, 0.9614508989418865, 0.6762761515531291, 0.30056717846805736, 0.25886142153835856, 0.16472999552440998, 0.5647885560836914, 0.9565774936077148, 0.9760327094336934, 0.9562438376084307, 0.04249972611593025, 0.0471219368531279, 0.057593478376045205, 0.471219368531279, 0.33508932873335395, 0.0052357707614586555, 0.07853656142187983, 0.9140664777398904, 0.5155388875151914, 0.0374937372738321, 0.24370929227990865, 0.028120302955374075, 0.01874686863691605, 0.10310777750303828, 0.0374937372738321, 0.062361996957474415, 0.8730679574046418, 0.1476660448780704, 0.8367742543090656, 0.951047770427859, 0.9670610337186094, 0.93745702887063, 0.18180089258576534, 0.10206365899551739, 0.3412753597662613, 0.031894893436099185, 0.0861162122774678, 0.12757957374439674, 0.13076906308800665, 0.9544750987059193, 0.1829605922180021, 0.22870074027250262, 0.09148029610900105, 0.04574014805450052, 0.45740148054500523, 0.015246716018166842, 0.7309356148834151, 0.20398203206048793, 0.016998502671707327, 0.033997005343414655, 0.9212930635354367, 0.278397062529524, 0.23637486441186, 0.21011099058832, 0.12081381958828401, 0.152330468176532, 0.0392072254290598, 0.46068489879145263, 0.1568289017162392, 0.04900903178632475, 0.1176216762871794, 0.16663070807350416, 0.3928155393180288, 0.27072422304350635, 0.12209131627452247, 0.010616636197784562, 0.09024140768116878, 0.10616636197784562, 0.9320775023625392, 0.9444657999162693, 0.029514556247383417, 0.05085255555384149, 0.9153459999691468, 0.905149149087832, 0.8904899340449575, 0.95940779486236, 0.9566333324099412, 0.029894791637810662, 0.9288348053858215, 0.9258418255157768, 0.9497458674904986, 0.18102820705009753, 0.7499740006361183, 0.05172234487145644, 0.03402423610750916, 0.03402423610750916, 0.011341412035836386, 0.011341412035836386, 0.29487671293174605, 0.2608524768242369, 0.351583773110928, 0.9243943042505931, 0.9701034509136713, 0.9614255217826705, 0.9693009053199398, 0.9273766782044898, 0.0394534847932345, 0.4471394943233244, 0.013151161597744834, 0.2761743935526415, 0.013151161597744834, 0.18411626236842768, 0.013151161597744834, 0.1434010792965823, 0.12906097136692407, 0.372842806171114, 0.21510161894487348, 0.07170053964829115, 0.04302032378897469, 0.913165084702767, 0.9182080164295575, 0.948945957440447, 0.966998035629042, 0.9320822905039812, 0.9512186103516237, 0.8821108993489608, 0.0735092416124134, 0.9592912268771431, 0.9040231504361352, 0.047385090541806486, 0.8529316297525168, 0.047385090541806486, 0.8062326210339728, 0.17526796109434192, 0.9275311890274963, 0.03137246616672543, 0.015686233083362713, 0.007843116541681357, 0.8941152857516746, 0.03921558270840678, 0.9429382704587405, 0.9265190992099949, 0.9429395730908064, 0.9705732590474486, 0.903718230204542, 0.028099624840210898, 0.9272876197269596, 0.8712216210728336, 0.09680240234142597, 0.08122399643674824, 0.11371359501144754, 0.0324895985746993, 0.7472607672180839, 0.01624479928734965, 0.08842783582148883, 0.11790378109531843, 0.16211769900606285, 0.07368986318457402, 0.5453049875658478, 0.014737972636914804, 0.31796633234137417, 0.12365357368831219, 0.42395510978849893, 0.03532959248237491, 0.08832398120593728, 0.20439801711452926, 0.7767124650352112, 0.9525427494482845, 0.9264008288963901, 0.2683404532322142, 0.03354255665402678, 0.4248723842843392, 0.022361704436017853, 0.24597874879619638, 0.011180852218008927, 0.9530854172804212, 0.012241320855044488, 0.14689585026053387, 0.8079271764329362, 0.03672396256513347, 0.9380054259136489, 0.940107562263565, 0.9614660963701872, 0.8314159849017636, 0.09781364528256042, 0.04890682264128021, 0.9759720956658453, 0.9508652095615913, 0.9270695512770217, 0.9639600858828392, 0.035433113949512714, 0.5669298231922034, 0.38976425344463983, 0.9532784966084863, 0.9088711731802994, 0.02877725983508535, 0.014388629917542676, 0.2302180786806828, 0.15827492909296942, 0.1151090393403414, 0.4604361573613656, 0.2119496870835604, 0.03139995364200895, 0.19624971026255594, 0.1255998145680358, 0.23549965231506712, 0.19624971026255594, 0.015699976821004474, 0.9780868470923565, 0.07049021747316322, 0.916372827151122, 0.946755861854824, 0.03771528351328736, 0.9051668043188967, 0.0471441043916092, 0.1221699447863375, 0.30135253047296584, 0.06515730388604667, 0.22805056360116333, 0.0733019668718025, 0.09773595582907, 0.11402528180058166, 0.08959400823631901, 0.17104310663297265, 0.3095065739072838, 0.1384634672743112, 0.16289819679330728, 0.13031855743464582, 0.4790462726994114, 0.1748899090807375, 0.060831272723734786, 0.09124690908560218, 0.13687036362840327, 0.007603909090466848, 0.04562345454280109, 0.011492118405739715, 0.2298423681147943, 0.02298423681147943, 0.1493975392746163, 0.12641330246313687, 0.011492118405739715, 0.4481926178238489, 0.038960518431840854, 0.10714142568756234, 0.28246375863084616, 0.07792103686368171, 0.19480259215920426, 0.15584207372736342, 0.1461019441194032, 0.31686297305875816, 0.272502156830532, 0.03802355676705098, 0.12674518922350325, 0.19011778383525488, 0.0506980756894013, 0.9139873493476324, 0.4071444738612374, 0.1943189534337724, 0.07402626797477044, 0.07402626797477044, 0.12029268545900196, 0.12954596895584827, 0.969639036850939, 0.5601516976306703, 0.35787469570848385, 0.062239077514518924, 0.9659901898291615, 0.9691853824202251, 0.9328965470872074, 0.9648833804441804, 0.9552926040614769, 0.23739996529246682, 0.2028690612499262, 0.14675634218079767, 0.17265452021270314, 0.06906180808508126, 0.11222543813825704, 0.060429082074446104, 0.05058211179713719, 0.06069853415656463, 0.2731434037045408, 0.020232844718854878, 0.5159375403307993, 0.08093137887541951, 0.1983283241837378, 0.4231004249253073, 0.09255321795241098, 0.039665664836747556, 0.23799398902048535, 0.17306090225381018, 0.1825697430369866, 0.14263261174764577, 0.2700510782422093, 0.14453437990428103, 0.034231826819434985, 0.05324950838578775, 0.15651112094302727, 0.24415734867112254, 0.3568453557501022, 0.08138578289037418, 0.05008355870176873, 0.11894845191670073, 0.03311135412277096, 0.1821124476752403, 0.5463373430257209, 0.23177947885939673, 0.9776217038445604, 0.2303451863779011, 0.7538569736004036, 0.9155017880765943, 0.9183522424149155, 0.07166959040132505, 0.895869880016563, 0.11883735837844135, 0.8912801878383101, 0.1478276531891787, 0.8130520925404828, 0.8943962347878817, 0.06879971036829859, 0.9062952825382774, 0.8791647747793732, 0.05861098498529154, 0.05589219217895464, 0.05589219217895464, 0.8383828826843196, 0.9415197994001931, 0.9620281901988494, 0.924401541935198, 0.9713349411940616, 0.1655953406312886, 0.7865778679986208, 0.08483188584140706, 0.7352096772921946, 0.16966377168281413, 0.9685944998040258, 0.016756477955504424, 0.016756477955504424, 0.6367461623091681, 0.3351295591100885, 0.9238621958645616, 0.895363006189399, 0.9578315438348921, 0.9772811110973874, 0.2856305672443676, 0.35054660525445114, 0.14930688742319215, 0.09088245321411696, 0.01298320760201671, 0.038949622806050126, 0.06491603801008354, 0.1288014741972856, 0.18824830844218662, 0.08917025136735157, 0.5548371196190764, 0.03963122282993403, 0.009907805707483508, 0.12853897340659476, 0.7011216731268806, 0.14022433462537612, 0.011685361218781342, 0.027794878987477234, 0.17603423358735582, 0.787521571311855, 0.9185526732488785, 0.24297952254160907, 0.13306021472516688, 0.2198386156328844, 0.052067040544630516, 0.12148976127080453, 0.011570453454362337, 0.22562384236006558, 0.031197087423447498, 0.2027810682524087, 0.43675922392826494, 0.3275694179461987, 0.015598543711723749, 0.06462815667986459, 0.9047941935181042, 0.959413550481623, 0.025125351379973352, 0.025125351379973352, 0.7286351900192272, 0.20100281103978682, 0.9196144475554856, 0.8930897224934148, 0.11163621531167685, 0.04646436336568123, 0.9292872673136247, 0.9169289008842959, 0.9785263149394939, 0.9504740297150828, 0.36143234307386896, 0.28665323761030986, 0.34896915882994245, 0.012463184243926517, 0.05197404812074341, 0.025987024060371705, 0.6496756015092927, 0.25987024060371705, 0.6295064830176613, 0.054739694175448814, 0.16421908252634643, 0.16421908252634643, 0.9035447912123956, 0.9131598957281832, 0.9055069645043635, 0.9703642825167815, 0.9567152652878552, 0.07502594421117767, 0.037512972105588835, 0.0812781062287758, 0.012504324035196279, 0.38138188307348647, 0.3751297210558883, 0.0312608100879907, 0.2023107428008209, 0.028901534685831558, 0.057803069371663116, 0.7225383671457889, 0.9331561816420847, 0.9327635016901178, 0.0794978237343847, 0.6624818644532059, 0.0794978237343847, 0.1589956474687694, 0.914728206008125, 0.03977079156557065, 0.9101759968885721, 0.17406184417395337, 0.6713813989566773, 0.14919586643481716, 0.03932915977015408, 0.19664579885077038, 0.7472540356329275, 0.21694005950433407, 0.7809842142156026, 0.9531875201845572, 0.2540069499541504, 0.05291811457378134, 0.5820992603115948, 0.010583622914756268, 0.10583622914756267, 0.010583622914756268, 0.6376308105602323, 0.21254360352007745, 0.11807977973337636, 0.9322496200450272, 0.943990289963751, 0.9326342284663933, 0.09836929108807826, 0.8607312970206848, 0.024592322772019566, 0.09981783405629566, 0.8484515894785131, 0.04451589220954978, 0.9348337364005455, 0.10404337829404472, 0.05202168914702236, 0.2601084457351118, 0.572238580617246, 0.9533343940743931, 0.10926555546352293, 0.16389833319528438, 0.10926555546352293, 0.6009605550493761, 0.4077691998355857, 0.060410251827494175, 0.4530768887062063, 0.07551281478436772, 0.9439366975000048, 0.9021256763617412, 0.9210414989732412, 0.16451675308601768, 0.07311855692711898, 0.10967783539067846, 0.009139819615889873, 0.356452965019705, 0.27419458847669614, 0.018279639231779745, 0.9719877836763823, 0.9703657865912112, 0.058464175890075666, 0.876962638351135, 0.8953651436989705, 0.06900113432682019, 0.11500189054470032, 0.7590124775950221, 0.04600075621788013, 0.9310921478204647, 0.9573293578732585, 0.891894230847863, 0.9322476069632395, 0.037968928115257795, 0.8732853466509293, 0.07593785623051559, 0.01802718258872495, 0.30646210400832413, 0.0360543651774499, 0.15323105200416207, 0.2884349214195992, 0.19829900847597445, 0.1100211044253048, 0.8251582831897859, 0.9469056141776981, 0.039933144201809115, 0.0998328605045228, 0.6389303072289458, 0.1996657210090456, 0.9403206299294805, 0.9266695069541748, 0.05379235282008578, 0.013448088205021445, 0.013448088205021445, 0.7665410276862223, 0.14792897025523588, 0.8729209195537639, 0.08313532567178704, 0.04156766283589352, 0.05636261946141113, 0.2254504778456445, 0.13151277874329262, 0.09393769910235188, 0.4884760353322298, 0.052566519166572886, 0.21026607666629155, 0.07884977874985932, 0.6833647491654474, 0.9824627040284792, 0.20365870893879487, 0.020365870893879486, 0.04073174178775897, 0.6313419977102641, 0.10182935446939743, 0.9718450024649534, 0.8990878674877419, 0.06422056196341014, 0.9369456358604186, 0.1368459891292337, 0.10263449184692527, 0.6842299456461685, 0.06842299456461685, 0.9160244909566092, 0.19508219239182387, 0.6827876733713836, 0.09754109619591193, 0.024385274048977983, 0.965747863351583, 0.033301650460399415, 0.9421152972979433, 0.9461429044330725, 0.9579439447912586, 0.9614616636353936, 0.13320994012762635, 0.0296022089172503, 0.0888066267517509, 0.0888066267517509, 0.5476408649691306, 0.1184088356690012, 0.06671931701927145, 0.2668772680770858, 0.0444795446795143, 0.5559943084939287, 0.06671931701927145, 0.14130216040939353, 0.023550360068232253, 0.058875900170580635, 0.4827823813987612, 0.21195324061409027, 0.08242626023881289, 0.9524225599763587, 0.052912364443131035, 0.9310614814971522, 0.9549534234077064, 0.9224211955441035, 0.9463666444904609, 0.9431455258099167, 0.005608515448270829, 0.033651092689624976, 0.1346043707584999, 0.16825546344812486, 0.24677467972391648, 0.3421194423445206, 0.07291070082752077, 0.867076680294835, 0.10838458503685437, 0.9309995738595311, 0.9308289418502077, 0.14462104260974107, 0.16069004734415673, 0.016069004734415672, 0.16069004734415673, 0.06427601893766269, 0.43386312782922315, 0.21802402667185924, 0.4516211981059941, 0.17130459238503226, 0.06229257904910264, 0.09343886857365395, 0.8921790698518234, 0.08480861894754423, 0.542775161264283, 0.2544258568426327, 0.050885171368526536, 0.06784689515803538, 0.3353639031885895, 0.044715187091811937, 0.22357593545905968, 0.11625948643871103, 0.16544619223970417, 0.031300630964268356, 0.08495885547444268, 0.17338329975070976, 0.18989599496506307, 0.08669164987535488, 0.239434080608123, 0.020640869017941637, 0.1981523425722397, 0.08669164987535488, 0.2169547618628765, 0.1148584033391699, 0.15314453778555986, 0.357337254832973, 0.05104817926185329, 0.1148584033391699, 0.9329867262716068, 0.11136439230657626, 0.018560732051096044, 0.5382612294817852, 0.3526539089708248, 0.936704772282664, 0.9705228635310252, 0.0849183257142443, 0.07548295619043938, 0.07548295619043938, 0.07548295619043938, 0.622734388571125, 0.06604758666663446, 0.9289393749236949, 0.040388668474943254, 0.06313007343938887, 0.10521678906564812, 0.6313007343938887, 0.1893902203181666, 0.02104335781312962, 0.9162529164469415, 0.9321803595376579, 0.08590364745446066, 0.12026510643624494, 0.7215906386174696, 0.06872291796356854, 0.2136207414334526, 0.747672595017084, 0.9492980509659714, 0.8192964712498927, 0.10241205890623659, 0.9320061541728922, 0.950346840822859, 0.9194547569505552, 0.5705379018922779, 0.40413101384036354, 0.9580722734636226, 0.9742246791903881, 0.9231251784863983, 0.9183219634466281, 0.6961873905578835, 0.026776438098380134, 0.1606586285902808, 0.10710575239352053, 0.9488695518081701, 0.9110517713326666, 0.0607367847555111, 0.931087307467363, 0.1783453685189965, 0.7728299302489848, 0.029724228086499417, 0.9715362398907889, 0.5053899145989369, 0.1148613442270311, 0.14549103602090607, 0.02297226884540622, 0.07657422948468741, 0.06891680653621866, 0.06891680653621866, 0.1942153909266428, 0.030665588041048866, 0.39865264453363525, 0.10221862680349622, 0.22488097896769169, 0.030665588041048866, 0.020443725360699244, 0.9778260288474886, 0.9456031738122874, 0.9224234703496386, 0.17764317173319097, 0.07613278788565328, 0.012688797980942213, 0.7232614849137061, 0.9086251566220853, 0.9608714286408152, 0.49761448205975695, 0.03554389157569692, 0.10663167472709077, 0.13328959340886345, 0.16883348498456038, 0.00888597289392423, 0.053315837363545386, 0.7571185444508414, 0.20648687575932037, 0.9460950024190213, 0.121995424981297, 0.8539679748690789, 0.9089921255857176, 0.14103492061906645, 0.21938765429632556, 0.32908148144448834, 0.08618800704498504, 0.02350582010317774, 0.15670546735451826, 0.039176366838629566, 0.9263953013629428, 0.978477293874792, 0.6756666176855519, 0.300296274526912, 0.12541402603330665, 0.1791628943332952, 0.483739814699897, 0.14333031546663616, 0.07166515773331808, 0.10291451195703052, 0.27198835302929497, 0.014702073136718646, 0.13231865823046782, 0.13231865823046782, 0.21318006048242039, 0.13231865823046782, 0.9027345897867074, 0.9486630489586725, 0.9222999184611207, 0.9123298624951097, 0.9258438635589189, 0.13932507743905337, 0.05573003097562135, 0.7523554181708882, 0.027865015487810674, 0.973177527094232, 0.19838797827364224, 0.04959699456841056, 0.037197745926307924, 0.09919398913682112, 0.24798497284205281, 0.35957821062097656, 0.9313360241829918, 0.1188045350437161, 0.16632634906120253, 0.19008725606994575, 0.02376090700874322, 0.49897904718360764, 0.2985567628748581, 0.06741604322980667, 0.05778517991126286, 0.019261726637087622, 0.2696641729192267, 0.2504024462821391, 0.02889258995563143, 0.10909854687002604, 0.4727603697701128, 0.048488243053344905, 0.1818309114500434, 0.15758678992337094, 0.024244121526672453, 0.17795650167157767, 0.13021207439383733, 0.20399891655034513, 0.2821261611866475, 0.0390636223181512, 0.0954888545554807, 0.06944643967671324, 0.9161913845298737, 0.6376764079205143, 0.024063260676245823, 0.2045377157480895, 0.09625304270498329, 0.03609489101436873, 0.058773942816373874, 0.14693485704093467, 0.058773942816373874, 0.7346742852046734, 0.9711958550181812, 0.14106925229403464, 0.03526731307350866, 0.8111482006906992, 0.015954847435719444, 0.08176859310806214, 0.1116839320500361, 0.061825033813412845, 0.2752211182661604, 0.03390405080090382, 0.42080910111710035, 0.9226895267123278, 0.17787739258101526, 0.11858492838734351, 0.31128543701677674, 0.014823116048417939, 0.3557547851620305, 0.8860152267005552, 0.06815501743850425, 0.24133332305822378, 0.16673938684022732, 0.15796362963811011, 0.08336969342011366, 0.048266664611644756, 0.14918787243599288, 0.15357575103705148, 0.9261688519297326, 0.8966487556060468, 0.04483243778030234, 0.8920144659260815, 0.966043392572564, 0.9067199534301025, 0.06044799689534017, 0.9556042299792019, 0.07986034722246031, 0.039930173611230156, 0.2096334114589583, 0.05989526041684523, 0.4292493663207242, 0.129773064236498, 0.05989526041684523, 0.03962448297518752, 0.11887344892556255, 0.01981224148759376, 0.812301900991344, 0.9700593705941017, 0.12956580522668426, 0.35336128698186614, 0.14134451479274646, 0.15312322435880865, 0.21201677218911968, 0.36456816471364023, 0.5989334134581232, 0.5490142020468542, 0.032294953061579666, 0.24221214796184748, 0.17762224183868816, 0.28687627237254865, 0.17653924453695302, 0.08091382041277013, 0.12504863154700838, 0.15447183896983388, 0.05149061298994463, 0.12504863154700838, 0.013739478978525477, 0.13739478978525477, 0.13739478978525477, 0.3572264534416624, 0.19235270569935667, 0.15113426876378025, 0.9222476039922531, 0.9544561255967821, 0.05466097980834528, 0.09565671466460424, 0.25963965408964007, 0.4236225935146759, 0.01366524495208632, 0.10932195961669056, 0.04099573485625896, 0.2636384316751621, 0.5512439935026117, 0.05991782538071866, 0.011983565076143732, 0.011983565076143732, 0.035950695228431195, 0.05991782538071866, 0.7045075651021453, 0.12915972026872663, 0.0587089637585121, 0.08219254926191695, 0.42742215499674424, 0.17344667159288174, 0.15486309963650155, 0.15486309963650155, 0.018583571956380183, 0.06194523985460062, 0.018583571956380183, 0.4187657753245849, 0.026408652497946796, 0.056589969638457416, 0.3018131714051062, 0.02263598785538297, 0.05281730499589359, 0.11695260391947866, 0.31530806825533236, 0.2056356966882602, 0.35643520759298436, 0.08225427867530409, 0.013709046445884015, 0.013709046445884015, 0.6151548957528378, 0.12049425793096823, 0.1141524548819699, 0.0697598335389816, 0.038050818293989964, 0.038050818293989964, 0.28654939702520654, 0.24981229484248774, 0.06612678392889382, 0.17633809047705018, 0.1028638861116126, 0.022042261309631273, 0.09551646567506884, 0.5520323059864845, 0.1000558554600503, 0.01380080764966211, 0.08625504781038819, 0.09315545163521925, 0.048302826773817385, 0.11040646119729688, 0.8962625238035324, 0.1477430586001786, 0.7091666812808574, 0.11819444688014288, 0.9407860162405408, 0.16469022661461694, 0.2470353399219254, 0.5434777478282359, 0.04940706798438508, 0.7868856582459238, 0.0582878265367351, 0.14571956634183775, 0.9374125329286938, 0.9596751794958475, 0.8956928513737726, 0.9426850847684882, 0.8686827605725959, 0.09652030673028843, 0.03184378170377509, 0.19106269022265052, 0.732406979186827, 0.9789880197083929, 0.41697599910211486, 0.09875747347155352, 0.19751494694310703, 0.10973052607950391, 0.02194610521590078, 0.03291915782385117, 0.1207035786874543, 0.967489141512332, 0.8956914503870137, 0.16804741387419453, 0.7730181038212949, 0.033609482774838904, 0.9863582665077698, 0.35236427014271965, 0.22963064795817686, 0.12669277128727, 0.13461106949272436, 0.07522383295181656, 0.011877447308181561, 0.07126468384908938, 0.35390658355777627, 0.06488287365225898, 0.2890237099055173, 0.11207041812662914, 0.08257820283014779, 0.029492215296481356, 0.06488287365225898, 0.10275649749537383, 0.17615399570635512, 0.04403849892658878, 0.02935899928439252, 0.4844234881924766, 0.17615399570635512, 0.17796754318129604, 0.021356105181755524, 0.5552587347256437, 0.04983091209076289, 0.14237403454503683, 0.028474806909007368, 0.03559350863625921, 0.9515645299142904, 0.9516390181452692, 0.09436875265854373, 0.26423250744392246, 0.6228337675463886, 0.11517332971130162, 0.8637999728347622], \"Term\": [\"administr\\u0101cijas\", \"advok\\u0101ts\", \"aicina\", \"aicina\", \"aicina\", \"airbaltic\", \"airbaltic\", \"akciju\", \"akciju\", \"akciju\", \"akciju\", \"akc\\u012bzes\", \"akc\\u012bzes\", \"alga\", \"algas\", \"alkohola\", \"alkohola\", \"alkohola\", \"alus\", \"anna\", \"anna\", \"annas\", \"apm\\u0113ram\", \"apm\\u0113ram\", \"apm\\u0113ram\", \"apm\\u0113ram\", \"apm\\u0113r\\u0101\", \"apm\\u0113r\\u0101\", \"apr\\u012bl\\u012b\", \"apr\\u012bl\\u012b\", \"aps\\u016bdz\\u012bba\", \"aptaujas\", \"asinis\", \"asins\", \"atbilde\", \"atbilsto\\u0161i\", \"atbilsto\\u0161i\", \"atbilsto\\u0161i\", \"atbilsto\\u0161i\", \"atbilsto\\u0161i\", \"atgriezies\", \"atkar\\u012bb\\u0101\", \"atl\\u012bdz\\u012bbas\", \"atsevi\\u0161\\u0137u\", \"att\\u012bst\\u012bbu\", \"augstu\", \"auto\", \"auto\", \"auto\", \"auto\", \"automa\\u0161\\u012bnai\", \"automa\\u0161\\u012bnu\", \"automa\\u0161\\u012bnu\", \"automa\\u0161\\u012bnu\", \"automa\\u0161\\u012bnu\", \"automa\\u0161\\u012bnu\", \"balso\\u0161anas\", \"balva\", \"balvu\", \"bankas\", \"bankas\", \"bankas\", \"bauskas\", \"bauskas\", \"bauskas\", \"bauskas\", \"bauskas\", \"bauskas\", \"bazn\\u012bcas\", \"bezmaksas\", \"bijis\", \"bijis\", \"bijis\", \"bijis\", \"bijis\", \"biju\\u0161\\u0101\", \"bi\\u0161u\", \"brauk\\u0161anas\", \"brauk\\u0161anas\", \"br\\u0101lis\", \"br\\u012bv\\u012bbas\", \"br\\u012bv\\u012bbas\", \"br\\u012bv\\u012bbas\", \"bud\\u017eeta\", \"bud\\u017eeta\", \"bud\\u017eeta\", \"bud\\u017eeta\", \"bud\\u017eeta\", \"b\\u0113rnu\", \"b\\u0113rnu\", \"b\\u0113rnu\", \"b\\u0113rnu\", \"b\\u0113rnu\", \"b\\u0113rnu\", \"b\\u016btu\", \"b\\u016btu\", \"b\\u016btu\", \"b\\u016btu\", \"b\\u016btu\", \"b\\u016btu\", \"b\\u016btu\", \"centr\\u0101\", \"centr\\u0101\", \"centr\\u0101\", \"cenu\", \"cenu\", \"cenu\", \"cenu\", \"cenu\", \"ceturtdien\", \"ceturtdien\", \"cilv\\u0113ks\", \"cilv\\u0113ks\", \"cilv\\u0113ks\", \"cilv\\u0113kus\", \"c\\u0113su\", \"dal\\u012bbnieki\", \"dal\\u012bbnieki\", \"dal\\u012bbnieki\", \"dal\\u012bbnieki\", \"dal\\u012bbnieks\", \"darba\", \"darba\", \"darba\", \"darba\", \"darba\", \"darba\", \"darba\", \"darbu\", \"darbu\", \"darbu\", \"darbu\", \"darbu\", \"daudz\", \"daudz\", \"daudz\", \"daudz\", \"daudz\", \"daudz\", \"daudz\", \"daudzi\", \"daudzi\", \"daudzi\", \"daudzi\", \"daudzi\", \"daudziem\", \"daudziem\", \"da\\u017e\\u0101d\\u0101m\", \"da\\u017e\\u0101d\\u0101m\", \"degvielas\", \"degvielas\", \"degvielas\", \"degvielas\", \"degvielas\", \"deju\", \"deju\", \"dienas\", \"dienas\", \"dienas\", \"dienas\", \"dienas\", \"dienas\", \"dienesta\", \"dienesta\", \"dienesta\", \"dienesta\", \"dienesta\", \"dienesta\", \"dienesta\", \"direktora\", \"distances\", \"divas\", \"divas\", \"divas\", \"divas\", \"divas\", \"divas\", \"divas\", \"dobeles\", \"dodas\", \"dol\\u0101ru\", \"domes\", \"domes\", \"domes\", \"domes\", \"domes\", \"draudzes\", \"dro\\u0161\\u012bbas\", \"dro\\u0161\\u012bbas\", \"dzimis\", \"dzimis\", \"dzimis\", \"dz\\u012bvok\\u013ca\", \"dz\\u012bvot\", \"eiro\", \"eiro\", \"eiropas\", \"eiropas\", \"eiropas\", \"eiropas\", \"eiropas\", \"eiropas\", \"ekonomiski\", \"esot\", \"esot\", \"esot\", \"esot\", \"esot\", \"esot\", \"esot\", \"finans\\u0113juma\", \"finans\\u0113juma\", \"finans\\u0113jums\", \"finans\\u0113jums\", \"firmas\", \"fondu\", \"foto\", \"gada\", \"gada\", \"gada\", \"gada\", \"gada\", \"gada\", \"gada\", \"gadam\", \"gadiem\", \"gadiem\", \"gadiem\", \"gadiem\", \"gadiem\", \"gadiem\", \"gados\", \"gados\", \"gados\", \"gados\", \"gadsimta\", \"gadu\", \"gadu\", \"gadu\", \"gadu\", \"gadu\", \"gadus\", \"gadus\", \"gadus\", \"gadus\", \"gadus\", \"gadus\", \"gad\\u0101\", \"gad\\u0101\", \"gad\\u0101\", \"gad\\u0101\", \"gad\\u0101\", \"gad\\u0101\", \"gad\\u012bjumos\", \"gaisa\", \"gaisa\", \"gl\\u0101b\\u0161anas\", \"gl\\u0101b\\u0161anas\", \"goda\", \"gribam\", \"guva\", \"g\\u0101zes\", \"g\\u0101zes\", \"ideju\", \"iek\\u0101rtas\", \"iek\\u0161lietu\", \"ielas\", \"ielas\", \"ielas\", \"iel\\u0101\", \"iel\\u0101\", \"iel\\u0101\", \"iel\\u0101\", \"iel\\u0101\", \"iel\\u0101\", \"iel\\u0101\", \"iel\\u0101m\", \"iemaksas\", \"ien\\u0101kumu\", \"ierad\\u012bsies\", \"ierodas\", \"iesp\\u0113ja\", \"iesp\\u0113ja\", \"iesp\\u0113ja\", \"iesp\\u0113ja\", \"iesp\\u0113ja\", \"iesp\\u0113ja\", \"iesp\\u0113ja\", \"iesp\\u0113ju\", \"iesp\\u0113ju\", \"iesp\\u0113ju\", \"iesp\\u0113ju\", \"iesp\\u0113ju\", \"iesp\\u0113ju\", \"iest\\u0101d\\u0113\", \"ietekm\\u0113s\", \"ietekm\\u0113t\", \"ieviest\", \"ie\\u0146\\u0113ma\", \"ilgtermi\\u0146a\", \"inese\", \"inese\", \"infl\\u0101cija\", \"iniciat\\u012bvu\", \"izc\\u012bn\\u012bja\", \"izc\\u012bn\\u012bja\", \"izc\\u012bn\\u012bja\", \"izdevies\", \"izdevies\", \"izdevumus\", \"izgl\\u012bt\\u012bbas\", \"izgl\\u012bt\\u012bbas\", \"izgl\\u012bt\\u012bbas\", \"izgl\\u012bt\\u012bbas\", \"izgl\\u012bt\\u012bbas\", \"izr\\u0101di\", \"izteica\", \"izveide\", \"janv\\u0101r\\u012b\", \"jaunajiem\", \"jaunas\", \"jaunas\", \"jaunie\\u0161iem\", \"jaunie\\u0161iem\", \"jaunie\\u0161u\", \"jaunie\\u0161u\", \"jaunie\\u0161u\", \"jaunie\\u0161u\", \"jaunie\\u0161u\", \"jelgavas\", \"jelgavas\", \"jelgavas\", \"jelgavas\", \"jelgavas\", \"jelgavas\", \"joproj\\u0101m\", \"joproj\\u0101m\", \"joproj\\u0101m\", \"joproj\\u0101m\", \"joproj\\u0101m\", \"jums\", \"jums\", \"j\\u0101maks\\u0101\", \"j\\u0101mekl\\u0113\", \"j\\u0101nis\", \"j\\u0101nis\", \"j\\u0101nis\", \"j\\u0101nis\", \"j\\u0101nis\", \"j\\u0101nis\", \"j\\u0101\\u0146em\", \"j\\u0113kabpils\", \"j\\u0113kabpils\", \"j\\u0113kabpils\", \"j\\u0113kabpils\", \"j\\u016bnijam\", \"kadastr\\u0101l\\u0101s\", \"kartes\", \"klases\", \"klases\", \"klases\", \"kla\\u0161u\", \"kl\\u0101st\\u012bja\", \"kokneses\", \"komandai\", \"komandas\", \"komandas\", \"komandas\", \"komandu\", \"konkr\\u0113tiem\", \"kopum\\u0101\", \"kopum\\u0101\", \"kopum\\u0101\", \"kopum\\u0101\", \"kopum\\u0101\", \"kopum\\u0101\", \"kop\\u0101\", \"kop\\u0101\", \"kop\\u0101\", \"kop\\u0101\", \"kop\\u0101\", \"kop\\u0101\", \"kop\\u0101\", \"koris\", \"korupcijas\", \"korupcijas\", \"krievij\\u0101\", \"kult\\u016bras\", \"kult\\u016bras\", \"kult\\u016bras\", \"kura\", \"kura\", \"kura\", \"kura\", \"kura\", \"kura\", \"kura\", \"kuras\", \"kuras\", \"kuras\", \"kuras\", \"kuras\", \"kuras\", \"kuri\", \"kuri\", \"kuri\", \"kuri\", \"kuri\", \"kuri\", \"kuri\", \"kuriem\", \"kuriem\", \"kuriem\", \"kuriem\", \"kuriem\", \"kuriem\", \"kuriem\", \"kur\\u0101\", \"kur\\u0101\", \"kur\\u0101\", \"kur\\u0101\", \"kur\\u0101\", \"kur\\u0101\", \"kur\\u0101\", \"kur\\u0161\", \"kur\\u0161\", \"kur\\u0161\", \"kur\\u0161\", \"kur\\u0161\", \"kur\\u0161\", \"kvadr\\u0101tmetru\", \"k\\u0101du\", \"k\\u0101du\", \"k\\u0101du\", \"k\\u0101du\", \"k\\u0101du\", \"k\\u0101du\", \"k\\u0101pums\", \"k\\u0101p\\u0113c\", \"k\\u0101p\\u0113c\", \"k\\u0101p\\u0113c\", \"k\\u0101rta\", \"labas\", \"labkl\\u0101j\\u012bbas\", \"lab\\u0101kais\", \"laikraksts\", \"laik\\u0101\", \"laik\\u0101\", \"laik\\u0101\", \"laik\\u0101\", \"laik\\u0101\", \"laik\\u0101\", \"laik\\u0101\", \"latu\", \"latu\", \"latu\", \"latu\", \"latu\", \"latu\", \"latvie\\u0161u\", \"latvie\\u0161u\", \"latvie\\u0161u\", \"latvie\\u0161u\", \"latvie\\u0161u\", \"latvijas\", \"latvijas\", \"latvijas\", \"latvijas\", \"latvijas\", \"latvijas\", \"latvijas\", \"latvij\\u0101\", \"latvij\\u0101\", \"latvij\\u0101\", \"latvij\\u0101\", \"latvij\\u0101\", \"latvij\\u0101\", \"lauku\", \"lauku\", \"lauku\", \"lauku\", \"ledus\", \"lielu\", \"lielu\", \"lieto\", \"lietot\", \"likuma\", \"likuma\", \"likumu\", \"likumu\", \"likum\\u0101\", \"likum\\u0101\", \"literat\\u016bras\", \"literat\\u016bras\", \"l\\u012bgas\", \"main\\u012bt\", \"main\\u012bt\", \"maks\\u0101jumu\", \"maks\\u0101jumu\", \"maks\\u0101jumu\", \"mantas\", \"mart\\u0101\", \"ma\\u0161\\u012bnas\", \"medic\\u012bnas\", \"miljoni\", \"miljoni\", \"miljonus\", \"miljonus\", \"miljonus\", \"minim\\u0101lo\", \"ministrijas\", \"ministrijas\", \"ministrijas\", \"ministrijas\", \"min\\u016btes\", \"mobil\\u0101\", \"muguras\", \"muitas\", \"mums\", \"mums\", \"mums\", \"mums\", \"mums\", \"mums\", \"mums\", \"m\\u0101c\\u012bbu\", \"m\\u0101c\\u012bbu\", \"m\\u0101c\\u012bbu\", \"m\\u0101c\\u012bbu\", \"m\\u0101c\\u012bbu\", \"m\\u0101c\\u012bbu\", \"m\\u0101jas\", \"m\\u0101jas\", \"m\\u0101jas\", \"m\\u0101jas\", \"m\\u0101kslas\", \"m\\u0101kslas\", \"m\\u0101kslas\", \"m\\u0113r\\u0101\", \"m\\u016bsu\", \"m\\u016bsu\", \"m\\u016bsu\", \"m\\u016bsu\", \"m\\u016bsu\", \"m\\u016bsu\", \"m\\u016bsu\", \"m\\u016bzikas\", \"m\\u016bzikas\", \"m\\u016bzikas\", \"m\\u016bzikas\", \"m\\u016bzikas\", \"m\\u016b\\u017ea\", \"m\\u016b\\u017ea\", \"nakt\\u012b\", \"nama\", \"nama\", \"nama\", \"nama\", \"nams\", \"namu\", \"namu\", \"nam\\u0101\", \"nam\\u0101\", \"neizdev\\u0101s\", \"nekustamo\", \"nevajag\", \"nevar\", \"nevar\", \"nevar\", \"nevar\", \"nodok\\u013ca\", \"nodok\\u013ca\", \"nodok\\u013ca\", \"nodok\\u013ca\", \"nodok\\u013cu\", \"nodok\\u013cu\", \"nodok\\u013cu\", \"nodok\\u013cu\", \"nodro\\u0161in\\u0101ta\", \"nogal\\u0113\", \"noskat\\u012bties\", \"nosl\\u0113gum\\u0101\", \"noteikumiem\", \"novada\", \"novada\", \"novada\", \"novada\", \"novada\", \"novada\", \"novada\", \"novad\\u0101\", \"novad\\u0101\", \"novad\\u0101\", \"novad\\u0101\", \"novembra\", \"noz\\u012bm\\u012bgs\", \"n\\u0101kamgad\", \"n\\u0101kamgad\", \"n\\u0101kamgad\", \"n\\u0101kamgad\", \"n\\u0101kam\\u0101\", \"n\\u0101kam\\u0101\", \"operas\", \"otraj\\u0101\", \"otraj\\u0101\", \"otraj\\u0101\", \"otro\", \"otro\", \"otro\", \"otr\\u0101s\", \"otr\\u0101s\", \"pacientam\", \"pagasta\", \"pagasta\", \"pagasta\", \"pagasta\", \"pagasta\", \"pagasta\", \"pagast\\u0101\", \"pagast\\u0101\", \"pagast\\u0101\", \"palielin\\u0101jies\", \"pal\\u012bdz\", \"pal\\u012bdz\\u0113tu\", \"pamatskolas\", \"pamatskolas\", \"pamatskolas\", \"pan\\u0101kt\", \"pan\\u0101kt\", \"papildus\", \"papildus\", \"paredz\", \"paredz\", \"paredz\", \"paredz\", \"paredz\\u0113ti\", \"paredz\\u0113ts\", \"paredz\\u0113ts\", \"paredz\\u0113ts\", \"paredz\\u0113ts\", \"pasaules\", \"pasaules\", \"pasaules\", \"pasaules\", \"pav\\u0113st\\u012bja\", \"pazi\\u0146oja\", \"pa\\u0161reiz\\u0113jo\", \"pa\\u0161vald\\u012bbas\", \"pa\\u0161vald\\u012bbas\", \"pa\\u0161vald\\u012bbas\", \"pa\\u0161vald\\u012bbas\", \"pa\\u0161vald\\u012bbas\", \"pa\\u0161vald\\u012bbas\", \"pa\\u0161vald\\u012bbas\", \"pa\\u0161vald\\u012bb\\u0101\", \"pieaugs\", \"piebilda\", \"piebilda\", \"piedal\\u012bjies\", \"piedal\\u012bties\", \"piedal\\u012bties\", \"piedal\\u012bties\", \"piedal\\u012bties\", \"pied\\u0101v\\u0101jumu\", \"piemi\\u0146as\", \"pien\\u0101kas\", \"pie\\u0146\\u0113ma\", \"pils\", \"pils\", \"pils\", \"pils\\u0113tas\", \"pils\\u0113tas\", \"pils\\u0113tas\", \"pils\\u0113tas\", \"pils\\u0113tas\", \"pils\\u0113tas\", \"pils\\u0113tu\", \"pils\\u0113tu\", \"pirmsskolas\", \"pirm\\u0101\", \"pirm\\u0101\", \"pirm\\u0101\", \"pirm\\u0101\", \"pla\\u0161s\", \"plus\", \"policijas\", \"policijas\", \"policijas\", \"policijas\", \"policijas\", \"posm\\u0101\", \"posm\\u0101\", \"posm\\u0101\", \"preses\", \"preses\", \"preses\", \"preses\", \"preses\", \"prezidenta\", \"prezidenta\", \"prezidenta\", \"prezidenta\", \"pre\\u010du\", \"priek\\u0161s\\u0113d\\u0113t\\u0101js\", \"priek\\u0161s\\u0113d\\u0113t\\u0101js\", \"priek\\u0161s\\u0113d\\u0113t\\u0101js\", \"priek\\u0161s\\u0113d\\u0113t\\u0101js\", \"priek\\u0161s\\u0113d\\u0113t\\u0101js\", \"priek\\u0161v\\u0113l\\u0113\\u0161anu\", \"procentiem\", \"procentiem\", \"produkcijas\", \"produktu\", \"produktu\", \"produktu\", \"produktu\", \"prokurat\\u016bra\", \"pulksten\", \"pulksten\", \"pulksten\", \"pulksten\", \"pusi\", \"pusi\", \"pu\\u0137es\", \"p\\u0101rmai\\u0146as\", \"p\\u0101rstr\\u0101des\", \"p\\u0101rvalde\", \"p\\u0101rvaldes\", \"p\\u0101rvaldes\", \"p\\u0101rvaldes\", \"p\\u0101rvaldes\", \"p\\u0101rvaldes\", \"p\\u0101rvaldes\", \"p\\u0113rn\", \"p\\u0113rn\", \"p\\u0113rn\", \"p\\u0113rn\", \"p\\u0113rn\", \"rajona\", \"rajona\", \"rajona\", \"rajona\", \"rajona\", \"rajona\", \"rakst\\u012bt\", \"rakst\\u012bt\", \"rallija\", \"re\\u0123istr\\u0113tas\", \"rita\", \"r\\u0101d\\u012bs\", \"r\\u012bga\", \"r\\u012bgas\", \"r\\u012bgas\", \"r\\u012bgas\", \"r\\u012bgas\", \"r\\u012bgas\", \"r\\u012bgas\", \"r\\u012bgas\", \"r\\u012bta\", \"r\\u012bta\", \"r\\u016bpniec\\u012bbas\", \"sabiedr\\u012bb\\u0101\", \"sac\\u012bja\", \"sac\\u012bja\", \"sac\\u012bja\", \"sac\\u012bja\", \"sac\\u012bja\", \"sac\\u012bja\", \"saka\", \"saka\", \"saka\", \"saka\", \"saka\", \"sak\\u0146u\", \"savien\\u012bbas\", \"savien\\u012bbas\", \"savien\\u012bbas\", \"savien\\u012bbas\", \"savien\\u012bbas\", \"savu\", \"savu\", \"savu\", \"savu\", \"savu\", \"savu\", \"savu\", \"savuk\\u0101rt\", \"savuk\\u0101rt\", \"savuk\\u0101rt\", \"savuk\\u0101rt\", \"savuk\\u0101rt\", \"savuk\\u0101rt\", \"savuk\\u0101rt\", \"sav\\u0101\", \"sav\\u0101\", \"sav\\u0101\", \"sav\\u0101\", \"sav\\u0101\", \"sav\\u0101\", \"sekm\\u012bgi\", \"sevi\", \"sevi\", \"sevi\", \"sevi\", \"siltuma\", \"skatuves\", \"skolas\", \"skolas\", \"skolas\", \"skolas\", \"skolas\", \"skolas\", \"skolot\\u0101ju\", \"skolot\\u0101ju\", \"skolu\", \"skolu\", \"skolu\", \"skolu\", \"skolu\", \"skol\\u0101m\", \"skol\\u0101s\", \"skol\\u0113nu\", \"skol\\u0113nu\", \"skol\\u0113nu\", \"skol\\u0113nu\", \"slimn\\u012bcas\", \"slimn\\u012bcas\", \"slimn\\u012bcu\", \"slimn\\u012bc\\u0101\", \"slimn\\u012bc\\u0101\", \"sm\\u0101rdes\", \"sol\\u012bja\", \"speci\\u0101listiem\", \"sp\\u0113les\", \"sp\\u0113les\", \"sp\\u0113l\\u0113t\", \"start\\u0113ja\", \"statistikas\", \"stingri\", \"str\\u0101d\\u0101\", \"str\\u0101d\\u0101\", \"str\\u0101d\\u0101\", \"str\\u0101d\\u0101\", \"studijas\", \"st\\u0101st\\u012bja\", \"st\\u0101st\\u012bja\", \"sv\\u0113tdien\", \"sv\\u0113tku\", \"sv\\u0113tku\", \"sv\\u0113tku\", \"s\\u0101kotn\\u0113j\\u0101\", \"tagad\", \"tagad\", \"tagad\", \"tagad\", \"tagad\", \"tagad\", \"tagad\", \"taj\\u0101\", \"taj\\u0101\", \"taj\\u0101\", \"taj\\u0101\", \"taj\\u0101\", \"taj\\u0101\", \"taj\\u0101\", \"talkas\", \"tarifu\", \"tauta\", \"tautas\", \"tautas\", \"tautas\", \"tautas\", \"teikts\", \"temperat\\u016bra\", \"tie\\u0161i\", \"tie\\u0161i\", \"tie\\u0161i\", \"tie\\u0161i\", \"tie\\u0161i\", \"tie\\u0161i\", \"tie\\u0161i\", \"tikpat\", \"tikpat\", \"tilta\", \"transporta\", \"transporta\", \"treneris\", \"tr\\u012bs\", \"tr\\u012bs\", \"tr\\u012bs\", \"tr\\u012bs\", \"tr\\u012bs\", \"tr\\u012bs\", \"tr\\u012bs\", \"tuvu\", \"tuv\\u0101kaj\\u0101\", \"t\\u0101ds\", \"t\\u0101ds\", \"t\\u0101d\\u0113j\\u0101di\", \"t\\u0101d\\u0113j\\u0101di\", \"t\\u0101d\\u0113j\\u0101di\", \"t\\u0101d\\u0113j\\u0101di\", \"t\\u0101d\\u0113j\\u0101di\", \"t\\u0101pat\", \"t\\u0101pat\", \"t\\u0101pat\", \"t\\u0101pat\", \"t\\u0101pat\", \"t\\u0101pat\", \"t\\u0101pat\", \"t\\u0113vs\", \"t\\u012bri\", \"t\\u016bksto\\u0161us\", \"t\\u016bristi\", \"ugunsdz\\u0113s\\u012bbas\", \"universit\\u0101tes\", \"universit\\u0101tes\", \"universit\\u0101tes\", \"universit\\u0101tes\", \"uzvaru\", \"uz\\u0146\\u0113muma\", \"uz\\u0146\\u0113muma\", \"uz\\u0146\\u0113muma\", \"uz\\u0146\\u0113muma\", \"uz\\u0146\\u0113muma\", \"uz\\u0146\\u0113muma\", \"uz\\u0146\\u0113mumi\", \"uz\\u0146\\u0113mumu\", \"uz\\u0146\\u0113mumu\", \"uz\\u0146\\u0113mumu\", \"uz\\u0146\\u0113mumu\", \"uz\\u0146\\u0113mumu\", \"vad\\u012bt\\u0101ja\", \"vad\\u012bt\\u0101ja\", \"vad\\u012bt\\u0101ja\", \"vad\\u012bt\\u0101ja\", \"vad\\u012bt\\u0101ja\", \"vad\\u012bt\\u0101ja\", \"vad\\u012bt\\u0101ja\", \"vairs\", \"vairs\", \"vairs\", \"vairs\", \"vairs\", \"vairs\", \"vair\\u0101k\", \"vair\\u0101k\", \"vair\\u0101k\", \"vair\\u0101k\", \"vair\\u0101k\", \"vair\\u0101k\", \"vair\\u0101k\", \"vair\\u0101kiem\", \"valdes\", \"valdes\", \"valdes\", \"valdes\", \"valdes\", \"vald\\u012bba\", \"vald\\u012bba\", \"vald\\u012bba\", \"vald\\u012bba\", \"valod\\u0101\", \"valstij\", \"valstij\", \"valstij\", \"valsts\", \"valsts\", \"valsts\", \"valsts\", \"valsts\", \"valsts\", \"valsts\", \"valst\\u012bs\", \"varb\\u016bt\", \"varb\\u016bt\", \"varb\\u016bt\", \"varb\\u016bt\", \"varb\\u016bt\", \"varot\", \"varot\", \"var\\u0113tu\", \"var\\u0113tu\", \"var\\u0113tu\", \"var\\u0113tu\", \"var\\u0113tu\", \"var\\u0113tu\", \"var\\u0113tu\", \"vecs\", \"vecumnieku\", \"vecumnieku\", \"veidoja\", \"veikala\", \"veikalu\", \"veikalu\", \"vesel\\u012bbai\", \"vesel\\u012bbas\", \"vesel\\u012bbas\", \"vesel\\u012bbas\", \"vesel\\u012bbas\", \"vesel\\u012bbas\", \"vesel\\u012bbas\", \"vesel\\u012bbas\", \"vidusskolas\", \"vidusskolas\", \"vidusskolas\", \"vidusskolas\", \"vid\\u0113j\\u0101\", \"viena\", \"viena\", \"viena\", \"viena\", \"viena\", \"vienlaikus\", \"vienlaikus\", \"vienm\\u0113r\", \"vienm\\u0113r\", \"vienm\\u0113r\", \"vienm\\u0113r\", \"viens\", \"viens\", \"viens\", \"viens\", \"viens\", \"viens\", \"viens\", \"vietu\", \"vietu\", \"vietu\", \"vietu\", \"vietu\", \"vietu\", \"viet\\u0101s\", \"viet\\u0113jiem\", \"visiem\", \"visiem\", \"visiem\", \"visiem\", \"visiem\", \"visiem\", \"visiem\", \"vismaz\", \"vismaz\", \"vismaz\", \"vismaz\", \"vismaz\", \"vismaz\", \"vismaz\", \"viss\", \"viss\", \"viss\", \"viss\", \"visu\", \"visu\", \"visu\", \"visu\", \"visu\", \"visu\", \"visu\", \"vi\\u0146a\", \"vi\\u0146a\", \"vi\\u0146a\", \"vi\\u0146a\", \"vi\\u0146a\", \"vi\\u0146a\", \"vi\\u0146a\", \"vi\\u0146as\", \"vi\\u0146as\", \"vi\\u0146as\", \"vi\\u0146as\", \"vi\\u0146as\", \"vi\\u0146as\", \"vi\\u0146i\", \"vi\\u0146i\", \"vi\\u0146i\", \"vi\\u0146i\", \"vi\\u0146i\", \"vi\\u0146i\", \"vi\\u0146u\", \"vi\\u0146u\", \"vi\\u0146u\", \"vi\\u0146u\", \"vi\\u0146u\", \"vi\\u0146u\", \"vi\\u0146u\", \"vi\\u0146\\u0161\", \"vi\\u0146\\u0161\", \"vi\\u0146\\u0161\", \"vi\\u0146\\u0161\", \"vi\\u0146\\u0161\", \"vi\\u0146\\u0161\", \"vi\\u0146\\u0161\", \"v\\u0101rtus\", \"v\\u012brietis\", \"v\\u012brietis\", \"v\\u012brietis\", \"v\\u012bru\", \"zemes\", \"zemes\", \"zemes\", \"zemes\", \"zemnieku\", \"zemnieku\", \"zemnieku\", \"ziedu\", \"zin\\u0101tnes\", \"z\\u012bmi\", \"\\u0101rlietu\", \"\\u0101rsta\", \"\\u0101rsta\", \"\\u0113kas\", \"\\u0113kas\", \"\\u0113kas\", \"\\u012bpa\\u0161a\", \"\\u012bpa\\u0161i\", \"\\u012bpa\\u0161i\", \"\\u012bpa\\u0161i\", \"\\u012bpa\\u0161i\", \"\\u012bpa\\u0161i\", \"\\u012bpa\\u0161i\", \"\\u012bpa\\u0161i\", \"\\u012bpa\\u0161nieki\", \"\\u012bpa\\u0161s\", \"\\u012bpa\\u0161uma\", \"\\u012bpa\\u0161uma\", \"\\u012bpa\\u0161uma\", \"\\u012bpa\\u0161umu\", \"\\u013coti\", \"\\u013coti\", \"\\u013coti\", \"\\u013coti\", \"\\u013coti\", \"\\u013coti\", \"\\u013coti\", \"\\u0161aj\\u0101\", \"\\u0161aj\\u0101\", \"\\u0161aj\\u0101\", \"\\u0161aj\\u0101\", \"\\u0161aj\\u0101\", \"\\u0161aj\\u0101\", \"\\u0161aj\\u0101\", \"\\u0161obr\\u012bd\", \"\\u0161obr\\u012bd\", \"\\u0161obr\\u012bd\", \"\\u0161obr\\u012bd\", \"\\u0161obr\\u012bd\", \"\\u0161obr\\u012bd\", \"\\u0161ogad\", \"\\u0161ogad\", \"\\u0161ogad\", \"\\u0161ogad\", \"\\u0161ogad\", \"\\u0161ogad\", \"\\u0161ogad\", \"\\u0161tata\", \"\\u0161\\u0101dos\", \"\\u0161\\u0101du\", \"\\u0161\\u0101du\", \"\\u0161\\u0101du\", \"\\u017e\\u016brijas\", \"\\u017e\\u016brijas\"]}, \"R\": 30, \"lambda.step\": 0.01, \"plot.opts\": {\"xlab\": \"PC1\", \"ylab\": \"PC2\"}, \"topic.order\": [1, 6, 2, 3, 5, 4, 7]};\n",
              "\n",
              "function LDAvis_load_lib(url, callback){\n",
              "  var s = document.createElement('script');\n",
              "  s.src = url;\n",
              "  s.async = true;\n",
              "  s.onreadystatechange = s.onload = callback;\n",
              "  s.onerror = function(){console.warn(\"failed to load library \" + url);};\n",
              "  document.getElementsByTagName(\"head\")[0].appendChild(s);\n",
              "}\n",
              "\n",
              "if(typeof(LDAvis) !== \"undefined\"){\n",
              "   // already loaded: just create the visualization\n",
              "   !function(LDAvis){\n",
              "       new LDAvis(\"#\" + \"ldavis_el581398320936675366323249824\", ldavis_el581398320936675366323249824_data);\n",
              "   }(LDAvis);\n",
              "}else if(typeof define === \"function\" && define.amd){\n",
              "   // require.js is available: use it to load d3/LDAvis\n",
              "   require.config({paths: {d3: \"https://d3js.org/d3.v5\"}});\n",
              "   require([\"d3\"], function(d3){\n",
              "      window.d3 = d3;\n",
              "      LDAvis_load_lib(\"https://cdn.jsdelivr.net/gh/bmabey/pyLDAvis@3.3.1/pyLDAvis/js/ldavis.v3.0.0.js\", function(){\n",
              "        new LDAvis(\"#\" + \"ldavis_el581398320936675366323249824\", ldavis_el581398320936675366323249824_data);\n",
              "      });\n",
              "    });\n",
              "}else{\n",
              "    // require.js not available: dynamically load d3 & LDAvis\n",
              "    LDAvis_load_lib(\"https://d3js.org/d3.v5.js\", function(){\n",
              "         LDAvis_load_lib(\"https://cdn.jsdelivr.net/gh/bmabey/pyLDAvis@3.3.1/pyLDAvis/js/ldavis.v3.0.0.js\", function(){\n",
              "                 new LDAvis(\"#\" + \"ldavis_el581398320936675366323249824\", ldavis_el581398320936675366323249824_data);\n",
              "            })\n",
              "         });\n",
              "}\n",
              "</script>"
            ]
          },
          "metadata": {},
          "execution_count": 49
        }
      ]
    },
    {
      "cell_type": "code",
      "source": [
        "# lets try creating a model with 10 topics\n",
        "model_10 = gensim.models.LdaModel(\n",
        "    corpus=bow_corpus, # so list of bag of words\n",
        "    id2word=dictionary,# so dictionary mapping ids to words\n",
        "    num_topics=10, # so called hyper parameter which we can adjust\n",
        "    passes=passes # for optimization no need to run toomuch 5 is a good starting compromise\n",
        ")"
      ],
      "metadata": {
        "id": "srB2U-ILGrjH"
      },
      "execution_count": null,
      "outputs": []
    },
    {
      "cell_type": "markdown",
      "source": [
        ""
      ],
      "metadata": {
        "id": "ueMhxy9GIQnn"
      }
    },
    {
      "cell_type": "code",
      "source": [
        "coherence_model_lda_10 = CoherenceModel(\n",
        "    model=model_10,\n",
        "    corpus=bow_corpus,\n",
        "    dictionary=dictionary, \n",
        "    coherence='u_mass'\n",
        ")\n",
        "\n",
        "# Compute Coherence Score using UMass\n",
        "coherence_lda_10 = coherence_model_lda_10.get_coherence()\n",
        "print('\\nCoherence Score: ', coherence_lda_10)"
      ],
      "metadata": {
        "id": "jL3FfIuTIRQE",
        "outputId": "a5ba2217-5119-488d-8bcf-9b24c986257b",
        "colab": {
          "base_uri": "https://localhost:8080/"
        }
      },
      "execution_count": 52,
      "outputs": [
        {
          "output_type": "stream",
          "name": "stdout",
          "text": [
            "\n",
            "Coherence Score:  -6.056574221505013\n"
          ]
        }
      ]
    },
    {
      "cell_type": "code",
      "source": [
        "model_20 = gensim.models.LdaModel(\n",
        "    corpus=bow_corpus, # so list of bag of words\n",
        "    id2word=dictionary,# so dictionary mapping ids to words\n",
        "    num_topics=20, # so called hyper parameter which we can adjust\n",
        "    passes=passes # for optimization no need to run toomuch 5 is a good starting compromise\n",
        ")"
      ],
      "metadata": {
        "id": "eAA5et2YJDcN"
      },
      "execution_count": null,
      "outputs": []
    },
    {
      "cell_type": "code",
      "source": [
        "model_5 = gensim.models.LdaModel(\n",
        "    corpus=bow_corpus, # so list of bag of words\n",
        "    id2word=dictionary,# so dictionary mapping ids to words\n",
        "    num_topics=5, # so called hyper parameter which we can adjust\n",
        "    passes=passes # for optimization no need to run toomuch 5 is a good starting compromise\n",
        ")"
      ],
      "metadata": {
        "id": "OgiQFGFCJTT0"
      },
      "execution_count": null,
      "outputs": []
    },
    {
      "cell_type": "markdown",
      "source": [
        "## Prepare a topic model on your own corpus"
      ],
      "metadata": {
        "id": "85lIStCPNgKy"
      }
    },
    {
      "cell_type": "code",
      "source": [
        "# Your code goes here"
      ],
      "metadata": {
        "id": "uSoKnbDtNdPv"
      },
      "execution_count": null,
      "outputs": []
    },
    {
      "cell_type": "markdown",
      "source": [
        "## Assignment - Day 2\n",
        "\n",
        "Submit the following for Day2:\n",
        "1. my_wordcloud.png from Day 2- Session 2\n",
        "2. topic-modeling-for-custom-data.ipynb (with your extra code)\n",
        "3. my_visualization.html - with visualization for YOUR corpus\n",
        "\n",
        "Assignment is due Thursday July 28th, 2022 21:00 GMT+2 (Riga time).\n",
        "\n",
        "\n",
        "[Submit Assignment](https://forms.gle/cbBP4LVXNbdMFtfZ8)\n",
        "\n",
        "Note: requires gmail account, if you do not have one, you can email submission directly to valdis.s.coding at gmail com"
      ],
      "metadata": {
        "id": "cgySDYuhNkaj"
      }
    }
  ],
  "metadata": {
    "kernelspec": {
      "display_name": "Python 3 (ipykernel)",
      "language": "python",
      "name": "python3"
    },
    "language_info": {
      "codemirror_mode": {
        "name": "ipython",
        "version": 3
      },
      "file_extension": ".py",
      "mimetype": "text/x-python",
      "name": "python",
      "nbconvert_exporter": "python",
      "pygments_lexer": "ipython3",
      "version": "3.8.8"
    },
    "toc": {
      "base_numbering": 1,
      "nav_menu": {},
      "number_sections": true,
      "sideBar": true,
      "skip_h1_title": true,
      "title_cell": "Table of Contents",
      "title_sidebar": "Contents",
      "toc_cell": false,
      "toc_position": {},
      "toc_section_display": true,
      "toc_window_display": false
    },
    "colab": {
      "name": "topic-modeling-for-custom-data.ipynb",
      "provenance": []
    }
  },
  "nbformat": 4,
  "nbformat_minor": 0
}
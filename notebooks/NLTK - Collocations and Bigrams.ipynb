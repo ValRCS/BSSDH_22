{
 "cells": [
  {
   "cell_type": "markdown",
   "metadata": {},
   "source": [
    "## Collocations and N-grams\n",
    "\n",
    "NLTK book: [Collocations and Bigrams](https://www.nltk.org/book/ch01#collocations-and-bigrams)"
   ]
  },
  {
   "cell_type": "code",
   "execution_count": null,
   "metadata": {},
   "outputs": [],
   "source": [
    "import nltk\n",
    "\n",
    "# make sure that NLTK language resources have been downloaded \n",
    "# (see \"NLTK Introduction\" notebook)\n",
    "\n",
    "from nltk.book import *"
   ]
  },
  {
   "cell_type": "markdown",
   "metadata": {},
   "source": [
    "**Bigrams** are just pairs of words that occur in the text.\n",
    "\n",
    "**Collocations** are sequences (e.g. pairs) of words that occur together unusually often."
   ]
  },
  {
   "cell_type": "code",
   "execution_count": null,
   "metadata": {},
   "outputs": [],
   "source": [
    "help(nltk.bigrams)"
   ]
  },
  {
   "cell_type": "code",
   "execution_count": null,
   "metadata": {},
   "outputs": [],
   "source": [
    "t1_bigrams = nltk.bigrams(text1[:10])\n",
    "\n",
    "# to print bigrams, convert it to a list\n",
    "list(t1_bigrams)"
   ]
  },
  {
   "cell_type": "markdown",
   "metadata": {},
   "source": [
    "To find **collocations**, we want to find bigrams that occur more often than we would expect based on the frequency of the individual words.\n",
    "\n",
    "Additional information:\n",
    "* [nltk.text.Text](https://www.nltk.org/api/nltk.html#nltk.text.Text)\n",
    "* [NLTK documentation: collocations](https://www.nltk.org/api/nltk.html#module-nltk.collocations)"
   ]
  },
  {
   "cell_type": "code",
   "execution_count": null,
   "metadata": {},
   "outputs": [],
   "source": [
    "coll_list = text1.collocation_list()\n",
    "\n",
    "coll_list"
   ]
  },
  {
   "cell_type": "code",
   "execution_count": null,
   "metadata": {},
   "outputs": [],
   "source": [
    "# we can also look for trigram collocations\n",
    "\n",
    "# http://www.nltk.org/howto/collocations.html\n",
    "\n",
    "coll_3 = nltk.collocations.TrigramCollocationFinder.from_words(text1)\n",
    "\n",
    "trigram_measures = nltk.collocations.TrigramAssocMeasures()\n",
    "scored = coll_3.score_ngrams(trigram_measures.raw_freq)\n",
    "\n",
    "sorted(coll_3.nbest(trigram_measures.raw_freq, 15))"
   ]
  },
  {
   "cell_type": "markdown",
   "metadata": {},
   "source": [
    "Note: in order to find unusual trigrams we would need to filter the results (and pick the most appropriate collocation measure) like it is done in `Text.collocation_list()`. \n",
    "\n",
    "Source code for `collocation_list()`: https://www.nltk.org/_modules/nltk/text.html#Text.collocation_list\n",
    "\n",
    "```\n",
    "            # print(\"Building collocations list\")\n",
    "            from nltk.corpus import stopwords\n",
    "\n",
    "            ignored_words = stopwords.words(\"english\")\n",
    "            \n",
    "            finder = BigramCollocationFinder.from_words(self.tokens, window_size)\n",
    "            finder.apply_freq_filter(2)\n",
    "            finder.apply_word_filter(lambda w: len(w) < 3 or w.lower() in ignored_words)\n",
    "            \n",
    "            bigram_measures = BigramAssocMeasures()\n",
    "            self._collocations = finder.nbest(bigram_measures.likelihood_ratio, num)\n",
    "```"
   ]
  }
 ],
 "metadata": {
  "kernelspec": {
   "display_name": "Python 3",
   "language": "python",
   "name": "python3"
  },
  "language_info": {
   "codemirror_mode": {
    "name": "ipython",
    "version": 3
   },
   "file_extension": ".py",
   "mimetype": "text/x-python",
   "name": "python",
   "nbconvert_exporter": "python",
   "pygments_lexer": "ipython3",
   "version": "3.7.4"
  }
 },
 "nbformat": 4,
 "nbformat_minor": 2
}

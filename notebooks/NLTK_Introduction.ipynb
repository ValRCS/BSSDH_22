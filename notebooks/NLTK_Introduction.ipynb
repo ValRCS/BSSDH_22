{
  "cells": [
    {
      "cell_type": "markdown",
      "metadata": {
        "id": "KXReOs-4Kh7w"
      },
      "source": [
        "## Natural Language Toolkit (NLTK)\n",
        "\n",
        "**NLTK** is a leading platform for building Python programs to work with human language data. It provides easy-to-use interfaces to [over 50 corpora and lexical resources](http://www.nltk.org/nltk_data/) such as WordNet, along with a suite of text processing libraries for classification, tokenization, stemming, tagging, parsing, and semantic reasoning, wrappers for industrial-strength NLP libraries, and an active discussion forum.\n",
        "\n",
        "http://www.nltk.org/\n",
        "\n",
        "NLTK library documentation (reference) = *Use it to look up how to use a particular NLTK library function*\n",
        "* https://www.nltk.org/api/nltk.html\n",
        "\n",
        "---\n",
        "\n",
        "NLTK wiki (collaboratively edited documentation):\n",
        "* https://github.com/nltk/nltk/wiki"
      ]
    },
    {
      "cell_type": "markdown",
      "metadata": {
        "id": "3Q4oMz88Kh71"
      },
      "source": [
        "### Book: Natural Language Processing with Python \n",
        "\n",
        "NLTK book provides a practical introduction to programming for language processing.\n",
        "\n",
        "Written by the creators of NLTK, it guides the reader through the fundamentals of writing Python programs, working with corpora, categorizing text, analyzing linguistic structure, and more.\n",
        "\n",
        "Online: http://www.nltk.org/book/\n",
        "\n",
        "* we will start with Chapter 1: [\"Language Processing and Python\"](http://www.nltk.org/book/ch01.html)\n",
        "\n",
        "---"
      ]
    },
    {
      "cell_type": "code",
      "execution_count": 1,
      "metadata": {
        "id": "BrPrMZ4RKh72"
      },
      "outputs": [],
      "source": [
        "# configuration for the notebook \n",
        "%matplotlib notebook"
      ]
    },
    {
      "cell_type": "markdown",
      "metadata": {
        "id": "c211Je63Kh73"
      },
      "source": [
        "## 1) Getting started\n",
        "\n",
        "NLTK book: http://www.nltk.org/book/ch01.html#getting-started-with-nltk\n",
        "\n",
        "* Loading NLTK (Python module)\n",
        "* Downloading NLTK language resources (corpora, ...)\n"
      ]
    },
    {
      "cell_type": "code",
      "execution_count": 2,
      "metadata": {
        "id": "P3wVnd6JKh73"
      },
      "outputs": [],
      "source": [
        "# In order to use a Python library, we need to import (load) it\n",
        "\n",
        "import nltk\n",
        "import pandas as pd # we will use it to read our data\n"
      ]
    },
    {
      "cell_type": "code",
      "execution_count": 3,
      "metadata": {
        "colab": {
          "base_uri": "https://localhost:8080/",
          "height": 35
        },
        "id": "IiDmy3H4Kh74",
        "outputId": "f70c25bd-cd9e-423c-a2cb-6c8540bccaf3"
      },
      "outputs": [
        {
          "output_type": "execute_result",
          "data": {
            "text/plain": [
              "'3.7'"
            ],
            "application/vnd.google.colaboratory.intrinsic+json": {
              "type": "string"
            }
          },
          "metadata": {},
          "execution_count": 3
        }
      ],
      "source": [
        "# Let's check what NLTK version we have (for easier troubleshooting and reproducibility)\n",
        "nltk.__version__"
      ]
    },
    {
      "cell_type": "code",
      "execution_count": null,
      "metadata": {
        "id": "5oaNbYDwKh75"
      },
      "outputs": [],
      "source": [
        "# If your NLTK version is lower than 3.4.3 please update if possible.\n",
        "\n",
        "# Updating in Anaconda can be done using this command: \n",
        "# conda update nltk"
      ]
    },
    {
      "cell_type": "markdown",
      "metadata": {
        "id": "4P25KGyTKh76"
      },
      "source": [
        "### nltk.Text\n",
        "\n",
        "**`ntlk.Text` is a simple NLTK helper for loading and exploring textual content (a sequence of words / string tokens):**\n",
        "\n",
        "... intended to support initial exploration of texts (via the interactive console). It can perform a variety of analyses on the text’s contexts (e.g., counting, concordancing, collocation discovery), and display the results.\n",
        "\n",
        "Documentation: [nltk.Text](https://www.nltk.org/api/nltk.html#nltk.text.Text)\n",
        "* lists what we can do with text once it is loaded into nltk.Text(...)"
      ]
    },
    {
      "cell_type": "code",
      "execution_count": 4,
      "metadata": {
        "colab": {
          "base_uri": "https://localhost:8080/"
        },
        "id": "aGazEviJKh77",
        "outputId": "7f309be8-3086-49d2-e615-763111f2e39c"
      },
      "outputs": [
        {
          "output_type": "execute_result",
          "data": {
            "text/plain": [
              "<Text: This is just an example Another example here...>"
            ]
          },
          "metadata": {},
          "execution_count": 4
        }
      ],
      "source": [
        "# Now we can try a simple example:\n",
        "\n",
        "my_word_list = [\"This\", \"is\", \"just\", \"an\", \"example\", \"Another\", \"example\", \"here\"]\n",
        "my_text = nltk.Text(my_word_list)\n",
        "\n",
        "my_text"
      ]
    },
    {
      "cell_type": "code",
      "source": [
        "my_text"
      ],
      "metadata": {
        "id": "qTbrL4BbN5A_",
        "outputId": "4b2db18d-9fd1-4df6-ce0a-06a9351941ab",
        "colab": {
          "base_uri": "https://localhost:8080/"
        }
      },
      "execution_count": 6,
      "outputs": [
        {
          "output_type": "execute_result",
          "data": {
            "text/plain": [
              "<Text: This is just an example Another example here...>"
            ]
          },
          "metadata": {},
          "execution_count": 6
        }
      ]
    },
    {
      "cell_type": "code",
      "execution_count": 7,
      "metadata": {
        "colab": {
          "base_uri": "https://localhost:8080/"
        },
        "id": "LInOevQ9Kh77",
        "outputId": "57560680-1aea-4823-f62e-014446c4c742"
      },
      "outputs": [
        {
          "output_type": "execute_result",
          "data": {
            "text/plain": [
              "nltk.text.Text"
            ]
          },
          "metadata": {},
          "execution_count": 7
        }
      ],
      "source": [
        "type(my_text)"
      ]
    },
    {
      "cell_type": "code",
      "execution_count": 8,
      "metadata": {
        "colab": {
          "base_uri": "https://localhost:8080/"
        },
        "id": "cGs9PFIfKh78",
        "outputId": "bdb103a1-206e-4054-af2b-4ee3a38ec0ab"
      },
      "outputs": [
        {
          "output_type": "execute_result",
          "data": {
            "text/plain": [
              "2"
            ]
          },
          "metadata": {},
          "execution_count": 8
        }
      ],
      "source": [
        "# How many times does the word \"example\" appear?\n",
        "my_text.count(\"example\")\n",
        "\n",
        "# Notes:\n",
        "#  - my_text = our text, processed (loaded) by NLTK\n",
        "#     - technically: a Python object\n",
        "#  - my_text.count(...) = requesting the object to perform a .count(...) function and return the result\n",
        "#     - technically: calling a .count() method"
      ]
    },
    {
      "cell_type": "code",
      "execution_count": 9,
      "metadata": {
        "colab": {
          "base_uri": "https://localhost:8080/"
        },
        "id": "VB6V_3NjKh78",
        "outputId": "05d8b353-4eba-45ab-a4e0-faab9c719572"
      },
      "outputs": [
        {
          "output_type": "execute_result",
          "data": {
            "text/plain": [
              "0"
            ]
          },
          "metadata": {},
          "execution_count": 9
        }
      ],
      "source": [
        "# count works on tokens (full words in this case)\n",
        "my_text.count('exam')"
      ]
    },
    {
      "cell_type": "code",
      "execution_count": 10,
      "metadata": {
        "colab": {
          "base_uri": "https://localhost:8080/"
        },
        "id": "xJRLD4ZHKh78",
        "outputId": "10c906c4-366f-4400-bded-5caa18918025"
      },
      "outputs": [
        {
          "output_type": "execute_result",
          "data": {
            "text/plain": [
              "False"
            ]
          },
          "metadata": {},
          "execution_count": 10
        }
      ],
      "source": [
        "'exam' in my_text"
      ]
    },
    {
      "cell_type": "code",
      "execution_count": 11,
      "metadata": {
        "colab": {
          "base_uri": "https://localhost:8080/"
        },
        "id": "NUHVkUsAKh79",
        "outputId": "b3b10749-0047-496e-ff04-afffbb448047"
      },
      "outputs": [
        {
          "output_type": "execute_result",
          "data": {
            "text/plain": [
              "True"
            ]
          },
          "metadata": {},
          "execution_count": 11
        }
      ],
      "source": [
        "'example' in my_text"
      ]
    },
    {
      "cell_type": "markdown",
      "metadata": {
        "id": "AnPc8tWVKh79"
      },
      "source": [
        "### Tokenizing\n",
        "\n",
        "Let's convert a text string into nltk.Text.\n",
        "First, we need to split it into tokens (to *tokenize* it). "
      ]
    },
    {
      "cell_type": "code",
      "execution_count": 12,
      "metadata": {
        "colab": {
          "base_uri": "https://localhost:8080/"
        },
        "id": "NkzEe21WKh79",
        "outputId": "ebf7681f-f6c8-4ac5-cfc0-6d5ae6c85bd7"
      },
      "outputs": [
        {
          "output_type": "stream",
          "name": "stderr",
          "text": [
            "[nltk_data] Downloading package punkt to /root/nltk_data...\n",
            "[nltk_data]   Unzipping tokenizers/punkt.zip.\n"
          ]
        },
        {
          "output_type": "execute_result",
          "data": {
            "text/plain": [
              "True"
            ]
          },
          "metadata": {},
          "execution_count": 12
        }
      ],
      "source": [
        "# We need to download a package containing punctuation before we can tokenize\n",
        "import nltk # we already have this so no need to import it\n",
        "nltk.download('punkt')"
      ]
    },
    {
      "cell_type": "code",
      "execution_count": 13,
      "metadata": {
        "colab": {
          "base_uri": "https://localhost:8080/"
        },
        "id": "jv1T6GloKh7-",
        "outputId": "e86c77fe-4dc9-43fa-b615-d06c49666436"
      },
      "outputs": [
        {
          "output_type": "execute_result",
          "data": {
            "text/plain": [
              "['NLTK', 'has', 'been', 'called', '“', 'a']"
            ]
          },
          "metadata": {},
          "execution_count": 13
        }
      ],
      "source": [
        "# Splitting text into tokens (words, ...) = tokenizing\n",
        "\n",
        "from nltk.tokenize import word_tokenize\n",
        "\n",
        "excerpt = \"NLTK has been called “a wonderful tool for teaching, and working in, computational linguistics using Python,” and “an amazing library to play with natural language.”\"\n",
        "tokens = word_tokenize(excerpt)\n",
        "\n",
        "tokens[:6]"
      ]
    },
    {
      "cell_type": "code",
      "source": [
        ""
      ],
      "metadata": {
        "id": "6SLsB1DtPD78",
        "outputId": "1640556f-1b2d-4de1-c45b-c708eca147da",
        "colab": {
          "base_uri": "https://localhost:8080/"
        }
      },
      "execution_count": 15,
      "outputs": [
        {
          "output_type": "execute_result",
          "data": {
            "text/plain": [
              "['NLTK',\n",
              " 'has',\n",
              " 'been',\n",
              " 'called',\n",
              " '“',\n",
              " 'a',\n",
              " 'wonderful',\n",
              " 'tool',\n",
              " 'for',\n",
              " 'teaching',\n",
              " ',',\n",
              " 'and',\n",
              " 'working',\n",
              " 'in',\n",
              " ',',\n",
              " 'computational',\n",
              " 'linguistics',\n",
              " 'using',\n",
              " 'Python',\n",
              " ',',\n",
              " '”',\n",
              " 'and',\n",
              " '“',\n",
              " 'an',\n",
              " 'amazing',\n",
              " 'library',\n",
              " 'to',\n",
              " 'play',\n",
              " 'with',\n",
              " 'natural',\n",
              " 'language',\n",
              " '.',\n",
              " '”']"
            ]
          },
          "metadata": {},
          "execution_count": 15
        }
      ]
    },
    {
      "cell_type": "code",
      "execution_count": 16,
      "metadata": {
        "colab": {
          "base_uri": "https://localhost:8080/"
        },
        "id": "r6pxVMxTKh7-",
        "outputId": "4927a6d8-64b9-411c-c2fd-733c419bf5e7"
      },
      "outputs": [
        {
          "output_type": "stream",
          "name": "stdout",
          "text": [
            "1\n"
          ]
        }
      ],
      "source": [
        "my_text2 = nltk.Text(tokens)\n",
        "\n",
        "print(my_text2.count(\"NLTK\"))"
      ]
    },
    {
      "cell_type": "code",
      "source": [
        "list(my_text2)\n"
      ],
      "metadata": {
        "id": "2EHoT6sWPPVx",
        "outputId": "6f2c8642-6f7a-4e29-cbc1-51fd4302fd98",
        "colab": {
          "base_uri": "https://localhost:8080/"
        }
      },
      "execution_count": 18,
      "outputs": [
        {
          "output_type": "execute_result",
          "data": {
            "text/plain": [
              "['NLTK',\n",
              " 'has',\n",
              " 'been',\n",
              " 'called',\n",
              " '“',\n",
              " 'a',\n",
              " 'wonderful',\n",
              " 'tool',\n",
              " 'for',\n",
              " 'teaching',\n",
              " ',',\n",
              " 'and',\n",
              " 'working',\n",
              " 'in',\n",
              " ',',\n",
              " 'computational',\n",
              " 'linguistics',\n",
              " 'using',\n",
              " 'Python',\n",
              " ',',\n",
              " '”',\n",
              " 'and',\n",
              " '“',\n",
              " 'an',\n",
              " 'amazing',\n",
              " 'library',\n",
              " 'to',\n",
              " 'play',\n",
              " 'with',\n",
              " 'natural',\n",
              " 'language',\n",
              " '.',\n",
              " '”']"
            ]
          },
          "metadata": {},
          "execution_count": 18
        }
      ]
    },
    {
      "cell_type": "code",
      "source": [
        "excerpt = \"NLTK has-been called... more text here\"\n",
        "tokens = word_tokenize(excerpt)"
      ],
      "metadata": {
        "id": "VP-_j2BkPjJ0"
      },
      "execution_count": 23,
      "outputs": []
    },
    {
      "cell_type": "code",
      "source": [
        "tokens"
      ],
      "metadata": {
        "id": "IGttNhGuPv65",
        "outputId": "9cc86d42-ebda-499f-8696-b5fd212590c4",
        "colab": {
          "base_uri": "https://localhost:8080/"
        }
      },
      "execution_count": 24,
      "outputs": [
        {
          "output_type": "execute_result",
          "data": {
            "text/plain": [
              "['NLTK', 'has-been', 'called', '...', 'more', 'text', 'here']"
            ]
          },
          "metadata": {},
          "execution_count": 24
        }
      ]
    },
    {
      "cell_type": "markdown",
      "metadata": {
        "id": "QWmCHfY6Kh7-"
      },
      "source": [
        "### Downloading NLTK language resources\n",
        "\n",
        "NLTK also contains many language resources (corpora, ...) but you have select and download them separately (in order to save disk space and only download what is needed).\n",
        "\n",
        "Let's download text collections used in the NLTK book: \n",
        "* `nltk.download(\"book\")`\n",
        "\n",
        "Note: you can also download resources interactively:\n",
        "* `nltk.download()`"
      ]
    },
    {
      "cell_type": "code",
      "execution_count": 25,
      "metadata": {
        "colab": {
          "base_uri": "https://localhost:8080/"
        },
        "id": "FUvRRRMBKh7-",
        "outputId": "33e61ccc-a8dc-4703-bd77-a0223a6db342"
      },
      "outputs": [
        {
          "output_type": "stream",
          "name": "stderr",
          "text": [
            "[nltk_data] Downloading collection 'book'\n",
            "[nltk_data]    | \n",
            "[nltk_data]    | Downloading package abc to /root/nltk_data...\n",
            "[nltk_data]    |   Unzipping corpora/abc.zip.\n",
            "[nltk_data]    | Downloading package brown to /root/nltk_data...\n",
            "[nltk_data]    |   Unzipping corpora/brown.zip.\n",
            "[nltk_data]    | Downloading package chat80 to /root/nltk_data...\n",
            "[nltk_data]    |   Unzipping corpora/chat80.zip.\n",
            "[nltk_data]    | Downloading package cmudict to /root/nltk_data...\n",
            "[nltk_data]    |   Unzipping corpora/cmudict.zip.\n",
            "[nltk_data]    | Downloading package conll2000 to /root/nltk_data...\n",
            "[nltk_data]    |   Unzipping corpora/conll2000.zip.\n",
            "[nltk_data]    | Downloading package conll2002 to /root/nltk_data...\n",
            "[nltk_data]    |   Unzipping corpora/conll2002.zip.\n",
            "[nltk_data]    | Downloading package dependency_treebank to\n",
            "[nltk_data]    |     /root/nltk_data...\n",
            "[nltk_data]    |   Unzipping corpora/dependency_treebank.zip.\n",
            "[nltk_data]    | Downloading package genesis to /root/nltk_data...\n",
            "[nltk_data]    |   Unzipping corpora/genesis.zip.\n",
            "[nltk_data]    | Downloading package gutenberg to /root/nltk_data...\n",
            "[nltk_data]    |   Unzipping corpora/gutenberg.zip.\n",
            "[nltk_data]    | Downloading package ieer to /root/nltk_data...\n",
            "[nltk_data]    |   Unzipping corpora/ieer.zip.\n",
            "[nltk_data]    | Downloading package inaugural to /root/nltk_data...\n",
            "[nltk_data]    |   Unzipping corpora/inaugural.zip.\n",
            "[nltk_data]    | Downloading package movie_reviews to\n",
            "[nltk_data]    |     /root/nltk_data...\n",
            "[nltk_data]    |   Unzipping corpora/movie_reviews.zip.\n",
            "[nltk_data]    | Downloading package nps_chat to /root/nltk_data...\n",
            "[nltk_data]    |   Unzipping corpora/nps_chat.zip.\n",
            "[nltk_data]    | Downloading package names to /root/nltk_data...\n",
            "[nltk_data]    |   Unzipping corpora/names.zip.\n",
            "[nltk_data]    | Downloading package ppattach to /root/nltk_data...\n",
            "[nltk_data]    |   Unzipping corpora/ppattach.zip.\n",
            "[nltk_data]    | Downloading package reuters to /root/nltk_data...\n",
            "[nltk_data]    | Downloading package senseval to /root/nltk_data...\n",
            "[nltk_data]    |   Unzipping corpora/senseval.zip.\n",
            "[nltk_data]    | Downloading package state_union to /root/nltk_data...\n",
            "[nltk_data]    |   Unzipping corpora/state_union.zip.\n",
            "[nltk_data]    | Downloading package stopwords to /root/nltk_data...\n",
            "[nltk_data]    |   Unzipping corpora/stopwords.zip.\n",
            "[nltk_data]    | Downloading package swadesh to /root/nltk_data...\n",
            "[nltk_data]    |   Unzipping corpora/swadesh.zip.\n",
            "[nltk_data]    | Downloading package timit to /root/nltk_data...\n",
            "[nltk_data]    |   Unzipping corpora/timit.zip.\n",
            "[nltk_data]    | Downloading package treebank to /root/nltk_data...\n",
            "[nltk_data]    |   Unzipping corpora/treebank.zip.\n",
            "[nltk_data]    | Downloading package toolbox to /root/nltk_data...\n",
            "[nltk_data]    |   Unzipping corpora/toolbox.zip.\n",
            "[nltk_data]    | Downloading package udhr to /root/nltk_data...\n",
            "[nltk_data]    |   Unzipping corpora/udhr.zip.\n",
            "[nltk_data]    | Downloading package udhr2 to /root/nltk_data...\n",
            "[nltk_data]    |   Unzipping corpora/udhr2.zip.\n",
            "[nltk_data]    | Downloading package unicode_samples to\n",
            "[nltk_data]    |     /root/nltk_data...\n",
            "[nltk_data]    |   Unzipping corpora/unicode_samples.zip.\n",
            "[nltk_data]    | Downloading package webtext to /root/nltk_data...\n",
            "[nltk_data]    |   Unzipping corpora/webtext.zip.\n",
            "[nltk_data]    | Downloading package wordnet to /root/nltk_data...\n",
            "[nltk_data]    | Downloading package wordnet_ic to /root/nltk_data...\n",
            "[nltk_data]    |   Unzipping corpora/wordnet_ic.zip.\n",
            "[nltk_data]    | Downloading package words to /root/nltk_data...\n",
            "[nltk_data]    |   Unzipping corpora/words.zip.\n",
            "[nltk_data]    | Downloading package maxent_treebank_pos_tagger to\n",
            "[nltk_data]    |     /root/nltk_data...\n",
            "[nltk_data]    |   Unzipping taggers/maxent_treebank_pos_tagger.zip.\n",
            "[nltk_data]    | Downloading package maxent_ne_chunker to\n",
            "[nltk_data]    |     /root/nltk_data...\n",
            "[nltk_data]    |   Unzipping chunkers/maxent_ne_chunker.zip.\n",
            "[nltk_data]    | Downloading package universal_tagset to\n",
            "[nltk_data]    |     /root/nltk_data...\n",
            "[nltk_data]    |   Unzipping taggers/universal_tagset.zip.\n",
            "[nltk_data]    | Downloading package punkt to /root/nltk_data...\n",
            "[nltk_data]    |   Package punkt is already up-to-date!\n",
            "[nltk_data]    | Downloading package book_grammars to\n",
            "[nltk_data]    |     /root/nltk_data...\n",
            "[nltk_data]    |   Unzipping grammars/book_grammars.zip.\n",
            "[nltk_data]    | Downloading package city_database to\n",
            "[nltk_data]    |     /root/nltk_data...\n",
            "[nltk_data]    |   Unzipping corpora/city_database.zip.\n",
            "[nltk_data]    | Downloading package tagsets to /root/nltk_data...\n",
            "[nltk_data]    |   Unzipping help/tagsets.zip.\n",
            "[nltk_data]    | Downloading package panlex_swadesh to\n",
            "[nltk_data]    |     /root/nltk_data...\n",
            "[nltk_data]    | Downloading package averaged_perceptron_tagger to\n",
            "[nltk_data]    |     /root/nltk_data...\n",
            "[nltk_data]    |   Unzipping taggers/averaged_perceptron_tagger.zip.\n",
            "[nltk_data]    | \n",
            "[nltk_data]  Done downloading collection book\n"
          ]
        },
        {
          "output_type": "execute_result",
          "data": {
            "text/plain": [
              "True"
            ]
          },
          "metadata": {},
          "execution_count": 25
        }
      ],
      "source": [
        "# this is a big download of all book packages\n",
        "nltk.download(\"book\")"
      ]
    },
    {
      "cell_type": "code",
      "execution_count": 26,
      "metadata": {
        "id": "nVTBPUs1Kh7_",
        "outputId": "2f0be272-159d-4de6-98df-264a784ce99e",
        "colab": {
          "base_uri": "https://localhost:8080/"
        }
      },
      "outputs": [
        {
          "output_type": "stream",
          "name": "stdout",
          "text": [
            "*** Introductory Examples for the NLTK Book ***\n",
            "Loading text1, ..., text9 and sent1, ..., sent9\n",
            "Type the name of the text or sentence to view it.\n",
            "Type: 'texts()' or 'sents()' to list the materials.\n",
            "text1: Moby Dick by Herman Melville 1851\n",
            "text2: Sense and Sensibility by Jane Austen 1811\n",
            "text3: The Book of Genesis\n",
            "text4: Inaugural Address Corpus\n",
            "text5: Chat Corpus\n",
            "text6: Monty Python and the Holy Grail\n",
            "text7: Wall Street Journal\n",
            "text8: Personals Corpus\n",
            "text9: The Man Who Was Thursday by G . K . Chesterton 1908\n"
          ]
        }
      ],
      "source": [
        "# After downloading the reources we still need to import them\n",
        "\n",
        "# Let's import all NLTK book resource (*)\n",
        "from nltk.book import *"
      ]
    },
    {
      "cell_type": "markdown",
      "metadata": {
        "id": "9EwcXQNvKh7_"
      },
      "source": [
        "## 2) Exploring textual content"
      ]
    },
    {
      "cell_type": "code",
      "execution_count": 28,
      "metadata": {
        "colab": {
          "base_uri": "https://localhost:8080/"
        },
        "id": "ECtX8fzqKh7_",
        "outputId": "e68592d6-f2aa-4e9d-cb63-7f7fe4fa1c6e"
      },
      "outputs": [
        {
          "output_type": "execute_result",
          "data": {
            "text/plain": [
              "nltk.text.Text"
            ]
          },
          "metadata": {},
          "execution_count": 28
        }
      ],
      "source": [
        "# text1, ... resources are of type nltk.Text (same as in the earlier example):\n",
        "\n",
        "type(text1)"
      ]
    },
    {
      "cell_type": "code",
      "execution_count": 29,
      "metadata": {
        "colab": {
          "base_uri": "https://localhost:8080/"
        },
        "id": "u-HDe1sZKh7_",
        "outputId": "31b876e6-8007-4c7f-f0e1-f03e399a64bf"
      },
      "outputs": [
        {
          "output_type": "stream",
          "name": "stdout",
          "text": [
            "906\n"
          ]
        }
      ],
      "source": [
        "# We can run all methods that nltk.Text has.\n",
        "\n",
        "# Count words:\n",
        "print(text1.count(\"whale\"))"
      ]
    },
    {
      "cell_type": "code",
      "execution_count": null,
      "metadata": {
        "colab": {
          "base_uri": "https://localhost:8080/"
        },
        "id": "oBdyd_r1Kh7_",
        "outputId": "2b241f36-0f15-4d88-8be4-3d0f45cf8213"
      },
      "outputs": [
        {
          "name": "stdout",
          "output_type": "stream",
          "text": [
            "Displaying 7 of 7 matches:\n",
            "cean , in order , if possible , to discover a passage through it to India , th\n",
            " throw at the whales , in order to discover when they were nigh enough to risk\n",
            "for ever reach new distances , and discover sights more sweet and strange than\n",
            "gs upon the plain , you will often discover images as of the petrified forms o\n",
            " over numberless unknown worlds to discover his one superficial western one ; \n",
            "se two heads for hours , and never discover that organ . The ear has no extern\n",
            "s keener than man ' s ; Ahab could discover no sign in the sea . But suddenly \n"
          ]
        }
      ],
      "source": [
        "# https://www.nltk.org/api/nltk.html#nltk.text.Text.concordance\n",
        "\n",
        "# Print concordance view (occurences of a word, in context):\n",
        "text1.concordance(\"discover\")"
      ]
    },
    {
      "cell_type": "code",
      "execution_count": 30,
      "metadata": {
        "colab": {
          "base_uri": "https://localhost:8080/"
        },
        "id": "BAd3tH8sKh8A",
        "outputId": "92b96d2f-ca73-4976-d73f-4b7d0a11a101"
      },
      "outputs": [
        {
          "output_type": "stream",
          "name": "stdout",
          "text": [
            "Displaying 25 of 330 matches:\n",
            " to the character of an independent nation seems to have been distinguished by\n",
            "f Heaven can never be expected on a nation that disregards the eternal rules o\n",
            "first , the representatives of this nation , then consisting of little more th\n",
            ", situation , and relations of this nation and country than any which had ever\n",
            ", prosperity , and happiness of the nation I have acquired an habitual attachm\n",
            "an be no spectacle presented by any nation more pleasing , more noble , majest\n",
            "party for its own ends , not of the nation for the national good . If that sol\n",
            "tures and the people throughout the nation . On this subject it might become m\n",
            "if a personal esteem for the French nation , formed in a residence of seven ye\n",
            "f our fellow - citizens by whatever nation , and if success can not be obtaine\n",
            "y , continue His blessing upon this nation and its Government and give it all \n",
            "powers so justly inspire . A rising nation , spread over a wide and fruitful l\n",
            "ing now decided by the voice of the nation , announced according to the rules \n",
            "ars witness to the fact that a just nation is trusted on its word when recours\n",
            "e union of opinion which gives to a nation the blessing of harmony and the ben\n",
            "uil suffrage of a free and virtuous nation , would under any circumstances hav\n",
            "d spirit and united councils of the nation will be safeguards to its honor and\n",
            "iction that the war with a powerful nation , which forms so prominent a featur\n",
            "out breaking down the spirit of the nation , destroying all confidence in itse\n",
            "ed on the military resources of the nation . These resources are amply suffici\n",
            "the war to an honorable issue . Our nation is in number more than half that of\n",
            "ndividually have been happy and the nation prosperous . Under this Constitutio\n",
            "rights , and is able to protect the nation against injustice from foreign powe\n",
            " great agricultural interest of the nation prospers under its protection . Loc\n",
            "ak our Union , and demolish us as a nation . Our distance from Europe and the \n"
          ]
        }
      ],
      "source": [
        "text4.concordance(\"nation\")"
      ]
    },
    {
      "cell_type": "code",
      "source": [
        "text4.concordance(\"nation\", lines=50)"
      ],
      "metadata": {
        "id": "mgUMyqtEQxPM",
        "outputId": "482fcda1-1767-4f79-bcee-20b2d5b2122d",
        "colab": {
          "base_uri": "https://localhost:8080/"
        }
      },
      "execution_count": 31,
      "outputs": [
        {
          "output_type": "stream",
          "name": "stdout",
          "text": [
            "Displaying 50 of 330 matches:\n",
            " to the character of an independent nation seems to have been distinguished by\n",
            "f Heaven can never be expected on a nation that disregards the eternal rules o\n",
            "first , the representatives of this nation , then consisting of little more th\n",
            ", situation , and relations of this nation and country than any which had ever\n",
            ", prosperity , and happiness of the nation I have acquired an habitual attachm\n",
            "an be no spectacle presented by any nation more pleasing , more noble , majest\n",
            "party for its own ends , not of the nation for the national good . If that sol\n",
            "tures and the people throughout the nation . On this subject it might become m\n",
            "if a personal esteem for the French nation , formed in a residence of seven ye\n",
            "f our fellow - citizens by whatever nation , and if success can not be obtaine\n",
            "y , continue His blessing upon this nation and its Government and give it all \n",
            "powers so justly inspire . A rising nation , spread over a wide and fruitful l\n",
            "ing now decided by the voice of the nation , announced according to the rules \n",
            "ars witness to the fact that a just nation is trusted on its word when recours\n",
            "e union of opinion which gives to a nation the blessing of harmony and the ben\n",
            "uil suffrage of a free and virtuous nation , would under any circumstances hav\n",
            "d spirit and united councils of the nation will be safeguards to its honor and\n",
            "iction that the war with a powerful nation , which forms so prominent a featur\n",
            "out breaking down the spirit of the nation , destroying all confidence in itse\n",
            "ed on the military resources of the nation . These resources are amply suffici\n",
            "the war to an honorable issue . Our nation is in number more than half that of\n",
            "ndividually have been happy and the nation prosperous . Under this Constitutio\n",
            "rights , and is able to protect the nation against injustice from foreign powe\n",
            " great agricultural interest of the nation prospers under its protection . Loc\n",
            "ak our Union , and demolish us as a nation . Our distance from Europe and the \n",
            "stration . The movements of a great nation are connected in all their parts . \n",
            "oncluded a war with a very powerful nation on conditions equal and honorable t\n",
            "oon as the war had terminated , the nation , admonished by its events , resolv\n",
            "ct of the highest importance to the nation . Its agriculture , commerce , manu\n",
            "y affect the vital interests of the nation . For all such purposes they are in\n",
            "a certain extent the demands of the nation , without relying altogether on the\n",
            " I may add , on the justice of this nation which we must all feel . We should \n",
            "ransitory existence . In this great nation there is but one order , that of th\n",
            "trious benefactors of their age and nation . It has promoted the lasting welfa\n",
            "ed the conflict of parties till the nation was involved in war and the Union w\n",
            " of the common concerns of a mighty nation , those doubts have been dispelled \n",
            "angerous attachments to one foreign nation and antipathies against another , t\n",
            "e by the individuals throughout the nation who have heretofore followed the st\n",
            "ernment and the rights of the whole nation in that of the Union . Whatsoever i\n",
            " of each other . The harmony of the nation is promoted and the whole Union is \n",
            "n to all the great interests of the nation ; to promote the civilization of th\n",
            "the forbearance becoming a powerful nation rather than the sensibility belongi\n",
            "exception , the friendship of every nation ; at home , while our Government qu\n",
            "utive office of this great and free nation , I appear before you , fellow - ci\n",
            "currence of the general will of the nation ,\" as affording to the President su\n",
            "ch for certain purposes compose one nation are much more so , for no such nati\n",
            "tion are much more so , for no such nation can long exist without the careful \n",
            "happily subsists with every foreign nation , and that although , of course , n\n",
            "r be sacrificed or the honor of the nation tarnished by any admission on the p\n",
            "f justice on the part of a powerful nation in its transactions with a weaker a\n"
          ]
        }
      ]
    },
    {
      "cell_type": "code",
      "execution_count": 32,
      "metadata": {
        "colab": {
          "base_uri": "https://localhost:8080/"
        },
        "id": "7DaGeHZYKh8A",
        "outputId": "ee94c713-7cf9-4bc0-fae9-69c13a657cdd",
        "scrolled": true
      },
      "outputs": [
        {
          "output_type": "stream",
          "name": "stdout",
          "text": [
            "country people government world union time constitution states\n",
            "republic land law earth other future party peace strength president\n",
            "way war\n"
          ]
        }
      ],
      "source": [
        "# https://www.nltk.org/api/nltk.html#nltk.text.Text.similar\n",
        "\n",
        "# Print words that appear in similar context as \"nation\".\n",
        "text4.similar(\"nation\")"
      ]
    },
    {
      "cell_type": "code",
      "execution_count": null,
      "metadata": {
        "colab": {
          "base_uri": "https://localhost:8080/"
        },
        "id": "RChhUPlDKh8A",
        "outputId": "56ee4bd7-a900-4a40-dca6-a5bab6b1879b"
      },
      "outputs": [
        {
          "name": "stdout",
          "output_type": "stream",
          "text": [
            "that_, the_, by_, a_, that_; the_previous -_, one_, all_. the_before\n",
            "every_, by_or of_; of_. the_. this_in all_in after_, the_wore\n",
            "through_into\n"
          ]
        }
      ],
      "source": [
        "# https://www.nltk.org/api/nltk.html#nltk.text.Text.common_contexts\n",
        "\n",
        "# Find contexts common to all given words\n",
        "text1.common_contexts([\"day\", \"night\"])\n"
      ]
    },
    {
      "cell_type": "markdown",
      "metadata": {
        "id": "ZjH8eEJ6Kh8A"
      },
      "source": [
        "### Side note: Python lists\n",
        "\n",
        "A *list* contains multiple values in an ordered sequence.\n",
        "\n",
        "More about Python lists:\n",
        "* https://automatetheboringstuff.com/chapter4/"
      ]
    },
    {
      "cell_type": "code",
      "execution_count": 33,
      "metadata": {
        "colab": {
          "base_uri": "https://localhost:8080/"
        },
        "id": "cbwda6BlKh8A",
        "outputId": "77ac1711-ca0e-45ca-c420-118d3e3cfe64"
      },
      "outputs": [
        {
          "output_type": "stream",
          "name": "stdout",
          "text": [
            "42\n"
          ]
        }
      ],
      "source": [
        "# nltk.Text is also a list - can do everything we can do with lists (access parts of it, ...)\n",
        "\n",
        "# What's the 1st occurence of \"He\" in the text?\n",
        "#  - note: Python is case sensitive (unless you take care of it - e.g. convert all text to lowercase)\n",
        "\n",
        "print(text1.index(\"He\"))"
      ]
    },
    {
      "cell_type": "code",
      "execution_count": 34,
      "metadata": {
        "colab": {
          "base_uri": "https://localhost:8080/"
        },
        "id": "ExM81vXJKh8A",
        "outputId": "3594b111-5f6c-4af0-d629-b91cd7bb55f4"
      },
      "outputs": [
        {
          "output_type": "stream",
          "name": "stdout",
          "text": [
            "He\n"
          ]
        }
      ],
      "source": [
        "# The word at position #42\n",
        "#  - note: list indexes start from 0\n",
        "\n",
        "print(text1[42])"
      ]
    },
    {
      "cell_type": "code",
      "execution_count": 35,
      "metadata": {
        "colab": {
          "base_uri": "https://localhost:8080/"
        },
        "id": "drMJLukzKh8C",
        "outputId": "e106861c-d7e9-4f8b-c9cb-ed6516c56800"
      },
      "outputs": [
        {
          "output_type": "stream",
          "name": "stdout",
          "text": [
            "['He', 'was', 'ever', 'dusting', 'his', 'old', 'lexicons', 'and', 'grammars', ',']\n"
          ]
        }
      ],
      "source": [
        "print(text1[42:52])"
      ]
    },
    {
      "cell_type": "markdown",
      "metadata": {
        "id": "z2nrOBZjKh8C"
      },
      "source": [
        "## Further exploration\n",
        "\n",
        "* Dispersion plots (distribution of words throughout the text)\n",
        "* Generating text (based on example)\n",
        "\n",
        "### Visualizing the corpus"
      ]
    },
    {
      "cell_type": "code",
      "execution_count": null,
      "metadata": {
        "colab": {
          "base_uri": "https://localhost:8080/",
          "height": 295
        },
        "id": "cPtzGbhGKh8C",
        "outputId": "a89c4113-8ce4-4e47-c348-a178e999b0fe",
        "scrolled": true
      },
      "outputs": [
        {
          "data": {
            "application/javascript": [
              "/* Put everything inside the global mpl namespace */\n",
              "/* global mpl */\n",
              "window.mpl = {};\n",
              "\n",
              "mpl.get_websocket_type = function () {\n",
              "    if (typeof WebSocket !== 'undefined') {\n",
              "        return WebSocket;\n",
              "    } else if (typeof MozWebSocket !== 'undefined') {\n",
              "        return MozWebSocket;\n",
              "    } else {\n",
              "        alert(\n",
              "            'Your browser does not have WebSocket support. ' +\n",
              "                'Please try Chrome, Safari or Firefox ≥ 6. ' +\n",
              "                'Firefox 4 and 5 are also supported but you ' +\n",
              "                'have to enable WebSockets in about:config.'\n",
              "        );\n",
              "    }\n",
              "};\n",
              "\n",
              "mpl.figure = function (figure_id, websocket, ondownload, parent_element) {\n",
              "    this.id = figure_id;\n",
              "\n",
              "    this.ws = websocket;\n",
              "\n",
              "    this.supports_binary = this.ws.binaryType !== undefined;\n",
              "\n",
              "    if (!this.supports_binary) {\n",
              "        var warnings = document.getElementById('mpl-warnings');\n",
              "        if (warnings) {\n",
              "            warnings.style.display = 'block';\n",
              "            warnings.textContent =\n",
              "                'This browser does not support binary websocket messages. ' +\n",
              "                'Performance may be slow.';\n",
              "        }\n",
              "    }\n",
              "\n",
              "    this.imageObj = new Image();\n",
              "\n",
              "    this.context = undefined;\n",
              "    this.message = undefined;\n",
              "    this.canvas = undefined;\n",
              "    this.rubberband_canvas = undefined;\n",
              "    this.rubberband_context = undefined;\n",
              "    this.format_dropdown = undefined;\n",
              "\n",
              "    this.image_mode = 'full';\n",
              "\n",
              "    this.root = document.createElement('div');\n",
              "    this.root.setAttribute('style', 'display: inline-block');\n",
              "    this._root_extra_style(this.root);\n",
              "\n",
              "    parent_element.appendChild(this.root);\n",
              "\n",
              "    this._init_header(this);\n",
              "    this._init_canvas(this);\n",
              "    this._init_toolbar(this);\n",
              "\n",
              "    var fig = this;\n",
              "\n",
              "    this.waiting = false;\n",
              "\n",
              "    this.ws.onopen = function () {\n",
              "        fig.send_message('supports_binary', { value: fig.supports_binary });\n",
              "        fig.send_message('send_image_mode', {});\n",
              "        if (fig.ratio !== 1) {\n",
              "            fig.send_message('set_device_pixel_ratio', {\n",
              "                device_pixel_ratio: fig.ratio,\n",
              "            });\n",
              "        }\n",
              "        fig.send_message('refresh', {});\n",
              "    };\n",
              "\n",
              "    this.imageObj.onload = function () {\n",
              "        if (fig.image_mode === 'full') {\n",
              "            // Full images could contain transparency (where diff images\n",
              "            // almost always do), so we need to clear the canvas so that\n",
              "            // there is no ghosting.\n",
              "            fig.context.clearRect(0, 0, fig.canvas.width, fig.canvas.height);\n",
              "        }\n",
              "        fig.context.drawImage(fig.imageObj, 0, 0);\n",
              "    };\n",
              "\n",
              "    this.imageObj.onunload = function () {\n",
              "        fig.ws.close();\n",
              "    };\n",
              "\n",
              "    this.ws.onmessage = this._make_on_message_function(this);\n",
              "\n",
              "    this.ondownload = ondownload;\n",
              "};\n",
              "\n",
              "mpl.figure.prototype._init_header = function () {\n",
              "    var titlebar = document.createElement('div');\n",
              "    titlebar.classList =\n",
              "        'ui-dialog-titlebar ui-widget-header ui-corner-all ui-helper-clearfix';\n",
              "    var titletext = document.createElement('div');\n",
              "    titletext.classList = 'ui-dialog-title';\n",
              "    titletext.setAttribute(\n",
              "        'style',\n",
              "        'width: 100%; text-align: center; padding: 3px;'\n",
              "    );\n",
              "    titlebar.appendChild(titletext);\n",
              "    this.root.appendChild(titlebar);\n",
              "    this.header = titletext;\n",
              "};\n",
              "\n",
              "mpl.figure.prototype._canvas_extra_style = function (_canvas_div) {};\n",
              "\n",
              "mpl.figure.prototype._root_extra_style = function (_canvas_div) {};\n",
              "\n",
              "mpl.figure.prototype._init_canvas = function () {\n",
              "    var fig = this;\n",
              "\n",
              "    var canvas_div = (this.canvas_div = document.createElement('div'));\n",
              "    canvas_div.setAttribute(\n",
              "        'style',\n",
              "        'border: 1px solid #ddd;' +\n",
              "            'box-sizing: content-box;' +\n",
              "            'clear: both;' +\n",
              "            'min-height: 1px;' +\n",
              "            'min-width: 1px;' +\n",
              "            'outline: 0;' +\n",
              "            'overflow: hidden;' +\n",
              "            'position: relative;' +\n",
              "            'resize: both;'\n",
              "    );\n",
              "\n",
              "    function on_keyboard_event_closure(name) {\n",
              "        return function (event) {\n",
              "            return fig.key_event(event, name);\n",
              "        };\n",
              "    }\n",
              "\n",
              "    canvas_div.addEventListener(\n",
              "        'keydown',\n",
              "        on_keyboard_event_closure('key_press')\n",
              "    );\n",
              "    canvas_div.addEventListener(\n",
              "        'keyup',\n",
              "        on_keyboard_event_closure('key_release')\n",
              "    );\n",
              "\n",
              "    this._canvas_extra_style(canvas_div);\n",
              "    this.root.appendChild(canvas_div);\n",
              "\n",
              "    var canvas = (this.canvas = document.createElement('canvas'));\n",
              "    canvas.classList.add('mpl-canvas');\n",
              "    canvas.setAttribute('style', 'box-sizing: content-box;');\n",
              "\n",
              "    this.context = canvas.getContext('2d');\n",
              "\n",
              "    var backingStore =\n",
              "        this.context.backingStorePixelRatio ||\n",
              "        this.context.webkitBackingStorePixelRatio ||\n",
              "        this.context.mozBackingStorePixelRatio ||\n",
              "        this.context.msBackingStorePixelRatio ||\n",
              "        this.context.oBackingStorePixelRatio ||\n",
              "        this.context.backingStorePixelRatio ||\n",
              "        1;\n",
              "\n",
              "    this.ratio = (window.devicePixelRatio || 1) / backingStore;\n",
              "\n",
              "    var rubberband_canvas = (this.rubberband_canvas = document.createElement(\n",
              "        'canvas'\n",
              "    ));\n",
              "    rubberband_canvas.setAttribute(\n",
              "        'style',\n",
              "        'box-sizing: content-box; position: absolute; left: 0; top: 0; z-index: 1;'\n",
              "    );\n",
              "\n",
              "    // Apply a ponyfill if ResizeObserver is not implemented by browser.\n",
              "    if (this.ResizeObserver === undefined) {\n",
              "        if (window.ResizeObserver !== undefined) {\n",
              "            this.ResizeObserver = window.ResizeObserver;\n",
              "        } else {\n",
              "            var obs = _JSXTOOLS_RESIZE_OBSERVER({});\n",
              "            this.ResizeObserver = obs.ResizeObserver;\n",
              "        }\n",
              "    }\n",
              "\n",
              "    this.resizeObserverInstance = new this.ResizeObserver(function (entries) {\n",
              "        var nentries = entries.length;\n",
              "        for (var i = 0; i < nentries; i++) {\n",
              "            var entry = entries[i];\n",
              "            var width, height;\n",
              "            if (entry.contentBoxSize) {\n",
              "                if (entry.contentBoxSize instanceof Array) {\n",
              "                    // Chrome 84 implements new version of spec.\n",
              "                    width = entry.contentBoxSize[0].inlineSize;\n",
              "                    height = entry.contentBoxSize[0].blockSize;\n",
              "                } else {\n",
              "                    // Firefox implements old version of spec.\n",
              "                    width = entry.contentBoxSize.inlineSize;\n",
              "                    height = entry.contentBoxSize.blockSize;\n",
              "                }\n",
              "            } else {\n",
              "                // Chrome <84 implements even older version of spec.\n",
              "                width = entry.contentRect.width;\n",
              "                height = entry.contentRect.height;\n",
              "            }\n",
              "\n",
              "            // Keep the size of the canvas and rubber band canvas in sync with\n",
              "            // the canvas container.\n",
              "            if (entry.devicePixelContentBoxSize) {\n",
              "                // Chrome 84 implements new version of spec.\n",
              "                canvas.setAttribute(\n",
              "                    'width',\n",
              "                    entry.devicePixelContentBoxSize[0].inlineSize\n",
              "                );\n",
              "                canvas.setAttribute(\n",
              "                    'height',\n",
              "                    entry.devicePixelContentBoxSize[0].blockSize\n",
              "                );\n",
              "            } else {\n",
              "                canvas.setAttribute('width', width * fig.ratio);\n",
              "                canvas.setAttribute('height', height * fig.ratio);\n",
              "            }\n",
              "            canvas.setAttribute(\n",
              "                'style',\n",
              "                'width: ' + width + 'px; height: ' + height + 'px;'\n",
              "            );\n",
              "\n",
              "            rubberband_canvas.setAttribute('width', width);\n",
              "            rubberband_canvas.setAttribute('height', height);\n",
              "\n",
              "            // And update the size in Python. We ignore the initial 0/0 size\n",
              "            // that occurs as the element is placed into the DOM, which should\n",
              "            // otherwise not happen due to the minimum size styling.\n",
              "            if (fig.ws.readyState == 1 && width != 0 && height != 0) {\n",
              "                fig.request_resize(width, height);\n",
              "            }\n",
              "        }\n",
              "    });\n",
              "    this.resizeObserverInstance.observe(canvas_div);\n",
              "\n",
              "    function on_mouse_event_closure(name) {\n",
              "        return function (event) {\n",
              "            return fig.mouse_event(event, name);\n",
              "        };\n",
              "    }\n",
              "\n",
              "    rubberband_canvas.addEventListener(\n",
              "        'mousedown',\n",
              "        on_mouse_event_closure('button_press')\n",
              "    );\n",
              "    rubberband_canvas.addEventListener(\n",
              "        'mouseup',\n",
              "        on_mouse_event_closure('button_release')\n",
              "    );\n",
              "    rubberband_canvas.addEventListener(\n",
              "        'dblclick',\n",
              "        on_mouse_event_closure('dblclick')\n",
              "    );\n",
              "    // Throttle sequential mouse events to 1 every 20ms.\n",
              "    rubberband_canvas.addEventListener(\n",
              "        'mousemove',\n",
              "        on_mouse_event_closure('motion_notify')\n",
              "    );\n",
              "\n",
              "    rubberband_canvas.addEventListener(\n",
              "        'mouseenter',\n",
              "        on_mouse_event_closure('figure_enter')\n",
              "    );\n",
              "    rubberband_canvas.addEventListener(\n",
              "        'mouseleave',\n",
              "        on_mouse_event_closure('figure_leave')\n",
              "    );\n",
              "\n",
              "    canvas_div.addEventListener('wheel', function (event) {\n",
              "        if (event.deltaY < 0) {\n",
              "            event.step = 1;\n",
              "        } else {\n",
              "            event.step = -1;\n",
              "        }\n",
              "        on_mouse_event_closure('scroll')(event);\n",
              "    });\n",
              "\n",
              "    canvas_div.appendChild(canvas);\n",
              "    canvas_div.appendChild(rubberband_canvas);\n",
              "\n",
              "    this.rubberband_context = rubberband_canvas.getContext('2d');\n",
              "    this.rubberband_context.strokeStyle = '#000000';\n",
              "\n",
              "    this._resize_canvas = function (width, height, forward) {\n",
              "        if (forward) {\n",
              "            canvas_div.style.width = width + 'px';\n",
              "            canvas_div.style.height = height + 'px';\n",
              "        }\n",
              "    };\n",
              "\n",
              "    // Disable right mouse context menu.\n",
              "    this.rubberband_canvas.addEventListener('contextmenu', function (_e) {\n",
              "        event.preventDefault();\n",
              "        return false;\n",
              "    });\n",
              "\n",
              "    function set_focus() {\n",
              "        canvas.focus();\n",
              "        canvas_div.focus();\n",
              "    }\n",
              "\n",
              "    window.setTimeout(set_focus, 100);\n",
              "};\n",
              "\n",
              "mpl.figure.prototype._init_toolbar = function () {\n",
              "    var fig = this;\n",
              "\n",
              "    var toolbar = document.createElement('div');\n",
              "    toolbar.classList = 'mpl-toolbar';\n",
              "    this.root.appendChild(toolbar);\n",
              "\n",
              "    function on_click_closure(name) {\n",
              "        return function (_event) {\n",
              "            return fig.toolbar_button_onclick(name);\n",
              "        };\n",
              "    }\n",
              "\n",
              "    function on_mouseover_closure(tooltip) {\n",
              "        return function (event) {\n",
              "            if (!event.currentTarget.disabled) {\n",
              "                return fig.toolbar_button_onmouseover(tooltip);\n",
              "            }\n",
              "        };\n",
              "    }\n",
              "\n",
              "    fig.buttons = {};\n",
              "    var buttonGroup = document.createElement('div');\n",
              "    buttonGroup.classList = 'mpl-button-group';\n",
              "    for (var toolbar_ind in mpl.toolbar_items) {\n",
              "        var name = mpl.toolbar_items[toolbar_ind][0];\n",
              "        var tooltip = mpl.toolbar_items[toolbar_ind][1];\n",
              "        var image = mpl.toolbar_items[toolbar_ind][2];\n",
              "        var method_name = mpl.toolbar_items[toolbar_ind][3];\n",
              "\n",
              "        if (!name) {\n",
              "            /* Instead of a spacer, we start a new button group. */\n",
              "            if (buttonGroup.hasChildNodes()) {\n",
              "                toolbar.appendChild(buttonGroup);\n",
              "            }\n",
              "            buttonGroup = document.createElement('div');\n",
              "            buttonGroup.classList = 'mpl-button-group';\n",
              "            continue;\n",
              "        }\n",
              "\n",
              "        var button = (fig.buttons[name] = document.createElement('button'));\n",
              "        button.classList = 'mpl-widget';\n",
              "        button.setAttribute('role', 'button');\n",
              "        button.setAttribute('aria-disabled', 'false');\n",
              "        button.addEventListener('click', on_click_closure(method_name));\n",
              "        button.addEventListener('mouseover', on_mouseover_closure(tooltip));\n",
              "\n",
              "        var icon_img = document.createElement('img');\n",
              "        icon_img.src = '_images/' + image + '.png';\n",
              "        icon_img.srcset = '_images/' + image + '_large.png 2x';\n",
              "        icon_img.alt = tooltip;\n",
              "        button.appendChild(icon_img);\n",
              "\n",
              "        buttonGroup.appendChild(button);\n",
              "    }\n",
              "\n",
              "    if (buttonGroup.hasChildNodes()) {\n",
              "        toolbar.appendChild(buttonGroup);\n",
              "    }\n",
              "\n",
              "    var fmt_picker = document.createElement('select');\n",
              "    fmt_picker.classList = 'mpl-widget';\n",
              "    toolbar.appendChild(fmt_picker);\n",
              "    this.format_dropdown = fmt_picker;\n",
              "\n",
              "    for (var ind in mpl.extensions) {\n",
              "        var fmt = mpl.extensions[ind];\n",
              "        var option = document.createElement('option');\n",
              "        option.selected = fmt === mpl.default_extension;\n",
              "        option.innerHTML = fmt;\n",
              "        fmt_picker.appendChild(option);\n",
              "    }\n",
              "\n",
              "    var status_bar = document.createElement('span');\n",
              "    status_bar.classList = 'mpl-message';\n",
              "    toolbar.appendChild(status_bar);\n",
              "    this.message = status_bar;\n",
              "};\n",
              "\n",
              "mpl.figure.prototype.request_resize = function (x_pixels, y_pixels) {\n",
              "    // Request matplotlib to resize the figure. Matplotlib will then trigger a resize in the client,\n",
              "    // which will in turn request a refresh of the image.\n",
              "    this.send_message('resize', { width: x_pixels, height: y_pixels });\n",
              "};\n",
              "\n",
              "mpl.figure.prototype.send_message = function (type, properties) {\n",
              "    properties['type'] = type;\n",
              "    properties['figure_id'] = this.id;\n",
              "    this.ws.send(JSON.stringify(properties));\n",
              "};\n",
              "\n",
              "mpl.figure.prototype.send_draw_message = function () {\n",
              "    if (!this.waiting) {\n",
              "        this.waiting = true;\n",
              "        this.ws.send(JSON.stringify({ type: 'draw', figure_id: this.id }));\n",
              "    }\n",
              "};\n",
              "\n",
              "mpl.figure.prototype.handle_save = function (fig, _msg) {\n",
              "    var format_dropdown = fig.format_dropdown;\n",
              "    var format = format_dropdown.options[format_dropdown.selectedIndex].value;\n",
              "    fig.ondownload(fig, format);\n",
              "};\n",
              "\n",
              "mpl.figure.prototype.handle_resize = function (fig, msg) {\n",
              "    var size = msg['size'];\n",
              "    if (size[0] !== fig.canvas.width || size[1] !== fig.canvas.height) {\n",
              "        fig._resize_canvas(size[0], size[1], msg['forward']);\n",
              "        fig.send_message('refresh', {});\n",
              "    }\n",
              "};\n",
              "\n",
              "mpl.figure.prototype.handle_rubberband = function (fig, msg) {\n",
              "    var x0 = msg['x0'] / fig.ratio;\n",
              "    var y0 = (fig.canvas.height - msg['y0']) / fig.ratio;\n",
              "    var x1 = msg['x1'] / fig.ratio;\n",
              "    var y1 = (fig.canvas.height - msg['y1']) / fig.ratio;\n",
              "    x0 = Math.floor(x0) + 0.5;\n",
              "    y0 = Math.floor(y0) + 0.5;\n",
              "    x1 = Math.floor(x1) + 0.5;\n",
              "    y1 = Math.floor(y1) + 0.5;\n",
              "    var min_x = Math.min(x0, x1);\n",
              "    var min_y = Math.min(y0, y1);\n",
              "    var width = Math.abs(x1 - x0);\n",
              "    var height = Math.abs(y1 - y0);\n",
              "\n",
              "    fig.rubberband_context.clearRect(\n",
              "        0,\n",
              "        0,\n",
              "        fig.canvas.width / fig.ratio,\n",
              "        fig.canvas.height / fig.ratio\n",
              "    );\n",
              "\n",
              "    fig.rubberband_context.strokeRect(min_x, min_y, width, height);\n",
              "};\n",
              "\n",
              "mpl.figure.prototype.handle_figure_label = function (fig, msg) {\n",
              "    // Updates the figure title.\n",
              "    fig.header.textContent = msg['label'];\n",
              "};\n",
              "\n",
              "mpl.figure.prototype.handle_cursor = function (fig, msg) {\n",
              "    fig.rubberband_canvas.style.cursor = msg['cursor'];\n",
              "};\n",
              "\n",
              "mpl.figure.prototype.handle_message = function (fig, msg) {\n",
              "    fig.message.textContent = msg['message'];\n",
              "};\n",
              "\n",
              "mpl.figure.prototype.handle_draw = function (fig, _msg) {\n",
              "    // Request the server to send over a new figure.\n",
              "    fig.send_draw_message();\n",
              "};\n",
              "\n",
              "mpl.figure.prototype.handle_image_mode = function (fig, msg) {\n",
              "    fig.image_mode = msg['mode'];\n",
              "};\n",
              "\n",
              "mpl.figure.prototype.handle_history_buttons = function (fig, msg) {\n",
              "    for (var key in msg) {\n",
              "        if (!(key in fig.buttons)) {\n",
              "            continue;\n",
              "        }\n",
              "        fig.buttons[key].disabled = !msg[key];\n",
              "        fig.buttons[key].setAttribute('aria-disabled', !msg[key]);\n",
              "    }\n",
              "};\n",
              "\n",
              "mpl.figure.prototype.handle_navigate_mode = function (fig, msg) {\n",
              "    if (msg['mode'] === 'PAN') {\n",
              "        fig.buttons['Pan'].classList.add('active');\n",
              "        fig.buttons['Zoom'].classList.remove('active');\n",
              "    } else if (msg['mode'] === 'ZOOM') {\n",
              "        fig.buttons['Pan'].classList.remove('active');\n",
              "        fig.buttons['Zoom'].classList.add('active');\n",
              "    } else {\n",
              "        fig.buttons['Pan'].classList.remove('active');\n",
              "        fig.buttons['Zoom'].classList.remove('active');\n",
              "    }\n",
              "};\n",
              "\n",
              "mpl.figure.prototype.updated_canvas_event = function () {\n",
              "    // Called whenever the canvas gets updated.\n",
              "    this.send_message('ack', {});\n",
              "};\n",
              "\n",
              "// A function to construct a web socket function for onmessage handling.\n",
              "// Called in the figure constructor.\n",
              "mpl.figure.prototype._make_on_message_function = function (fig) {\n",
              "    return function socket_on_message(evt) {\n",
              "        if (evt.data instanceof Blob) {\n",
              "            var img = evt.data;\n",
              "            if (img.type !== 'image/png') {\n",
              "                /* FIXME: We get \"Resource interpreted as Image but\n",
              "                 * transferred with MIME type text/plain:\" errors on\n",
              "                 * Chrome.  But how to set the MIME type?  It doesn't seem\n",
              "                 * to be part of the websocket stream */\n",
              "                img.type = 'image/png';\n",
              "            }\n",
              "\n",
              "            /* Free the memory for the previous frames */\n",
              "            if (fig.imageObj.src) {\n",
              "                (window.URL || window.webkitURL).revokeObjectURL(\n",
              "                    fig.imageObj.src\n",
              "                );\n",
              "            }\n",
              "\n",
              "            fig.imageObj.src = (window.URL || window.webkitURL).createObjectURL(\n",
              "                img\n",
              "            );\n",
              "            fig.updated_canvas_event();\n",
              "            fig.waiting = false;\n",
              "            return;\n",
              "        } else if (\n",
              "            typeof evt.data === 'string' &&\n",
              "            evt.data.slice(0, 21) === 'data:image/png;base64'\n",
              "        ) {\n",
              "            fig.imageObj.src = evt.data;\n",
              "            fig.updated_canvas_event();\n",
              "            fig.waiting = false;\n",
              "            return;\n",
              "        }\n",
              "\n",
              "        var msg = JSON.parse(evt.data);\n",
              "        var msg_type = msg['type'];\n",
              "\n",
              "        // Call the  \"handle_{type}\" callback, which takes\n",
              "        // the figure and JSON message as its only arguments.\n",
              "        try {\n",
              "            var callback = fig['handle_' + msg_type];\n",
              "        } catch (e) {\n",
              "            console.log(\n",
              "                \"No handler for the '\" + msg_type + \"' message type: \",\n",
              "                msg\n",
              "            );\n",
              "            return;\n",
              "        }\n",
              "\n",
              "        if (callback) {\n",
              "            try {\n",
              "                // console.log(\"Handling '\" + msg_type + \"' message: \", msg);\n",
              "                callback(fig, msg);\n",
              "            } catch (e) {\n",
              "                console.log(\n",
              "                    \"Exception inside the 'handler_\" + msg_type + \"' callback:\",\n",
              "                    e,\n",
              "                    e.stack,\n",
              "                    msg\n",
              "                );\n",
              "            }\n",
              "        }\n",
              "    };\n",
              "};\n",
              "\n",
              "// from https://stackoverflow.com/questions/1114465/getting-mouse-location-in-canvas\n",
              "mpl.findpos = function (e) {\n",
              "    //this section is from http://www.quirksmode.org/js/events_properties.html\n",
              "    var targ;\n",
              "    if (!e) {\n",
              "        e = window.event;\n",
              "    }\n",
              "    if (e.target) {\n",
              "        targ = e.target;\n",
              "    } else if (e.srcElement) {\n",
              "        targ = e.srcElement;\n",
              "    }\n",
              "    if (targ.nodeType === 3) {\n",
              "        // defeat Safari bug\n",
              "        targ = targ.parentNode;\n",
              "    }\n",
              "\n",
              "    // pageX,Y are the mouse positions relative to the document\n",
              "    var boundingRect = targ.getBoundingClientRect();\n",
              "    var x = e.pageX - (boundingRect.left + document.body.scrollLeft);\n",
              "    var y = e.pageY - (boundingRect.top + document.body.scrollTop);\n",
              "\n",
              "    return { x: x, y: y };\n",
              "};\n",
              "\n",
              "/*\n",
              " * return a copy of an object with only non-object keys\n",
              " * we need this to avoid circular references\n",
              " * https://stackoverflow.com/a/24161582/3208463\n",
              " */\n",
              "function simpleKeys(original) {\n",
              "    return Object.keys(original).reduce(function (obj, key) {\n",
              "        if (typeof original[key] !== 'object') {\n",
              "            obj[key] = original[key];\n",
              "        }\n",
              "        return obj;\n",
              "    }, {});\n",
              "}\n",
              "\n",
              "mpl.figure.prototype.mouse_event = function (event, name) {\n",
              "    var canvas_pos = mpl.findpos(event);\n",
              "\n",
              "    if (name === 'button_press') {\n",
              "        this.canvas.focus();\n",
              "        this.canvas_div.focus();\n",
              "    }\n",
              "\n",
              "    var x = canvas_pos.x * this.ratio;\n",
              "    var y = canvas_pos.y * this.ratio;\n",
              "\n",
              "    this.send_message(name, {\n",
              "        x: x,\n",
              "        y: y,\n",
              "        button: event.button,\n",
              "        step: event.step,\n",
              "        guiEvent: simpleKeys(event),\n",
              "    });\n",
              "\n",
              "    /* This prevents the web browser from automatically changing to\n",
              "     * the text insertion cursor when the button is pressed.  We want\n",
              "     * to control all of the cursor setting manually through the\n",
              "     * 'cursor' event from matplotlib */\n",
              "    event.preventDefault();\n",
              "    return false;\n",
              "};\n",
              "\n",
              "mpl.figure.prototype._key_event_extra = function (_event, _name) {\n",
              "    // Handle any extra behaviour associated with a key event\n",
              "};\n",
              "\n",
              "mpl.figure.prototype.key_event = function (event, name) {\n",
              "    // Prevent repeat events\n",
              "    if (name === 'key_press') {\n",
              "        if (event.key === this._key) {\n",
              "            return;\n",
              "        } else {\n",
              "            this._key = event.key;\n",
              "        }\n",
              "    }\n",
              "    if (name === 'key_release') {\n",
              "        this._key = null;\n",
              "    }\n",
              "\n",
              "    var value = '';\n",
              "    if (event.ctrlKey && event.key !== 'Control') {\n",
              "        value += 'ctrl+';\n",
              "    }\n",
              "    else if (event.altKey && event.key !== 'Alt') {\n",
              "        value += 'alt+';\n",
              "    }\n",
              "    else if (event.shiftKey && event.key !== 'Shift') {\n",
              "        value += 'shift+';\n",
              "    }\n",
              "\n",
              "    value += 'k' + event.key;\n",
              "\n",
              "    this._key_event_extra(event, name);\n",
              "\n",
              "    this.send_message(name, { key: value, guiEvent: simpleKeys(event) });\n",
              "    return false;\n",
              "};\n",
              "\n",
              "mpl.figure.prototype.toolbar_button_onclick = function (name) {\n",
              "    if (name === 'download') {\n",
              "        this.handle_save(this, null);\n",
              "    } else {\n",
              "        this.send_message('toolbar_button', { name: name });\n",
              "    }\n",
              "};\n",
              "\n",
              "mpl.figure.prototype.toolbar_button_onmouseover = function (tooltip) {\n",
              "    this.message.textContent = tooltip;\n",
              "};\n",
              "\n",
              "///////////////// REMAINING CONTENT GENERATED BY embed_js.py /////////////////\n",
              "// prettier-ignore\n",
              "var _JSXTOOLS_RESIZE_OBSERVER=function(A){var t,i=new WeakMap,n=new WeakMap,a=new WeakMap,r=new WeakMap,o=new Set;function s(e){if(!(this instanceof s))throw new TypeError(\"Constructor requires 'new' operator\");i.set(this,e)}function h(){throw new TypeError(\"Function is not a constructor\")}function c(e,t,i,n){e=0 in arguments?Number(arguments[0]):0,t=1 in arguments?Number(arguments[1]):0,i=2 in arguments?Number(arguments[2]):0,n=3 in arguments?Number(arguments[3]):0,this.right=(this.x=this.left=e)+(this.width=i),this.bottom=(this.y=this.top=t)+(this.height=n),Object.freeze(this)}function d(){t=requestAnimationFrame(d);var s=new WeakMap,p=new Set;o.forEach((function(t){r.get(t).forEach((function(i){var r=t instanceof window.SVGElement,o=a.get(t),d=r?0:parseFloat(o.paddingTop),f=r?0:parseFloat(o.paddingRight),l=r?0:parseFloat(o.paddingBottom),u=r?0:parseFloat(o.paddingLeft),g=r?0:parseFloat(o.borderTopWidth),m=r?0:parseFloat(o.borderRightWidth),w=r?0:parseFloat(o.borderBottomWidth),b=u+f,F=d+l,v=(r?0:parseFloat(o.borderLeftWidth))+m,W=g+w,y=r?0:t.offsetHeight-W-t.clientHeight,E=r?0:t.offsetWidth-v-t.clientWidth,R=b+v,z=F+W,M=r?t.width:parseFloat(o.width)-R-E,O=r?t.height:parseFloat(o.height)-z-y;if(n.has(t)){var k=n.get(t);if(k[0]===M&&k[1]===O)return}n.set(t,[M,O]);var S=Object.create(h.prototype);S.target=t,S.contentRect=new c(u,d,M,O),s.has(i)||(s.set(i,[]),p.add(i)),s.get(i).push(S)}))})),p.forEach((function(e){i.get(e).call(e,s.get(e),e)}))}return s.prototype.observe=function(i){if(i instanceof window.Element){r.has(i)||(r.set(i,new Set),o.add(i),a.set(i,window.getComputedStyle(i)));var n=r.get(i);n.has(this)||n.add(this),cancelAnimationFrame(t),t=requestAnimationFrame(d)}},s.prototype.unobserve=function(i){if(i instanceof window.Element&&r.has(i)){var n=r.get(i);n.has(this)&&(n.delete(this),n.size||(r.delete(i),o.delete(i))),n.size||r.delete(i),o.size||cancelAnimationFrame(t)}},A.DOMRectReadOnly=c,A.ResizeObserver=s,A.ResizeObserverEntry=h,A}; // eslint-disable-line\n",
              "mpl.toolbar_items = [[\"Home\", \"Reset original view\", \"fa fa-home icon-home\", \"home\"], [\"Back\", \"Back to previous view\", \"fa fa-arrow-left icon-arrow-left\", \"back\"], [\"Forward\", \"Forward to next view\", \"fa fa-arrow-right icon-arrow-right\", \"forward\"], [\"\", \"\", \"\", \"\"], [\"Pan\", \"Left button pans, Right button zooms\\nx/y fixes axis, CTRL fixes aspect\", \"fa fa-arrows icon-move\", \"pan\"], [\"Zoom\", \"Zoom to rectangle\\nx/y fixes axis\", \"fa fa-square-o icon-check-empty\", \"zoom\"], [\"\", \"\", \"\", \"\"], [\"Download\", \"Download plot\", \"fa fa-floppy-o icon-save\", \"download\"]];\n",
              "\n",
              "mpl.extensions = [\"eps\", \"jpeg\", \"pgf\", \"pdf\", \"png\", \"ps\", \"raw\", \"svg\", \"tif\"];\n",
              "\n",
              "mpl.default_extension = \"png\";/* global mpl */\n",
              "\n",
              "var comm_websocket_adapter = function (comm) {\n",
              "    // Create a \"websocket\"-like object which calls the given IPython comm\n",
              "    // object with the appropriate methods. Currently this is a non binary\n",
              "    // socket, so there is still some room for performance tuning.\n",
              "    var ws = {};\n",
              "\n",
              "    ws.binaryType = comm.kernel.ws.binaryType;\n",
              "    ws.readyState = comm.kernel.ws.readyState;\n",
              "    function updateReadyState(_event) {\n",
              "        if (comm.kernel.ws) {\n",
              "            ws.readyState = comm.kernel.ws.readyState;\n",
              "        } else {\n",
              "            ws.readyState = 3; // Closed state.\n",
              "        }\n",
              "    }\n",
              "    comm.kernel.ws.addEventListener('open', updateReadyState);\n",
              "    comm.kernel.ws.addEventListener('close', updateReadyState);\n",
              "    comm.kernel.ws.addEventListener('error', updateReadyState);\n",
              "\n",
              "    ws.close = function () {\n",
              "        comm.close();\n",
              "    };\n",
              "    ws.send = function (m) {\n",
              "        //console.log('sending', m);\n",
              "        comm.send(m);\n",
              "    };\n",
              "    // Register the callback with on_msg.\n",
              "    comm.on_msg(function (msg) {\n",
              "        //console.log('receiving', msg['content']['data'], msg);\n",
              "        var data = msg['content']['data'];\n",
              "        if (data['blob'] !== undefined) {\n",
              "            data = {\n",
              "                data: new Blob(msg['buffers'], { type: data['blob'] }),\n",
              "            };\n",
              "        }\n",
              "        // Pass the mpl event to the overridden (by mpl) onmessage function.\n",
              "        ws.onmessage(data);\n",
              "    });\n",
              "    return ws;\n",
              "};\n",
              "\n",
              "mpl.mpl_figure_comm = function (comm, msg) {\n",
              "    // This is the function which gets called when the mpl process\n",
              "    // starts-up an IPython Comm through the \"matplotlib\" channel.\n",
              "\n",
              "    var id = msg.content.data.id;\n",
              "    // Get hold of the div created by the display call when the Comm\n",
              "    // socket was opened in Python.\n",
              "    var element = document.getElementById(id);\n",
              "    var ws_proxy = comm_websocket_adapter(comm);\n",
              "\n",
              "    function ondownload(figure, _format) {\n",
              "        window.open(figure.canvas.toDataURL());\n",
              "    }\n",
              "\n",
              "    var fig = new mpl.figure(id, ws_proxy, ondownload, element);\n",
              "\n",
              "    // Call onopen now - mpl needs it, as it is assuming we've passed it a real\n",
              "    // web socket which is closed, not our websocket->open comm proxy.\n",
              "    ws_proxy.onopen();\n",
              "\n",
              "    fig.parent_element = element;\n",
              "    fig.cell_info = mpl.find_output_cell(\"<div id='\" + id + \"'></div>\");\n",
              "    if (!fig.cell_info) {\n",
              "        console.error('Failed to find cell for figure', id, fig);\n",
              "        return;\n",
              "    }\n",
              "    fig.cell_info[0].output_area.element.on(\n",
              "        'cleared',\n",
              "        { fig: fig },\n",
              "        fig._remove_fig_handler\n",
              "    );\n",
              "};\n",
              "\n",
              "mpl.figure.prototype.handle_close = function (fig, msg) {\n",
              "    var width = fig.canvas.width / fig.ratio;\n",
              "    fig.cell_info[0].output_area.element.off(\n",
              "        'cleared',\n",
              "        fig._remove_fig_handler\n",
              "    );\n",
              "    fig.resizeObserverInstance.unobserve(fig.canvas_div);\n",
              "\n",
              "    // Update the output cell to use the data from the current canvas.\n",
              "    fig.push_to_output();\n",
              "    var dataURL = fig.canvas.toDataURL();\n",
              "    // Re-enable the keyboard manager in IPython - without this line, in FF,\n",
              "    // the notebook keyboard shortcuts fail.\n",
              "    IPython.keyboard_manager.enable();\n",
              "    fig.parent_element.innerHTML =\n",
              "        '<img src=\"' + dataURL + '\" width=\"' + width + '\">';\n",
              "    fig.close_ws(fig, msg);\n",
              "};\n",
              "\n",
              "mpl.figure.prototype.close_ws = function (fig, msg) {\n",
              "    fig.send_message('closing', msg);\n",
              "    // fig.ws.close()\n",
              "};\n",
              "\n",
              "mpl.figure.prototype.push_to_output = function (_remove_interactive) {\n",
              "    // Turn the data on the canvas into data in the output cell.\n",
              "    var width = this.canvas.width / this.ratio;\n",
              "    var dataURL = this.canvas.toDataURL();\n",
              "    this.cell_info[1]['text/html'] =\n",
              "        '<img src=\"' + dataURL + '\" width=\"' + width + '\">';\n",
              "};\n",
              "\n",
              "mpl.figure.prototype.updated_canvas_event = function () {\n",
              "    // Tell IPython that the notebook contents must change.\n",
              "    IPython.notebook.set_dirty(true);\n",
              "    this.send_message('ack', {});\n",
              "    var fig = this;\n",
              "    // Wait a second, then push the new image to the DOM so\n",
              "    // that it is saved nicely (might be nice to debounce this).\n",
              "    setTimeout(function () {\n",
              "        fig.push_to_output();\n",
              "    }, 1000);\n",
              "};\n",
              "\n",
              "mpl.figure.prototype._init_toolbar = function () {\n",
              "    var fig = this;\n",
              "\n",
              "    var toolbar = document.createElement('div');\n",
              "    toolbar.classList = 'btn-toolbar';\n",
              "    this.root.appendChild(toolbar);\n",
              "\n",
              "    function on_click_closure(name) {\n",
              "        return function (_event) {\n",
              "            return fig.toolbar_button_onclick(name);\n",
              "        };\n",
              "    }\n",
              "\n",
              "    function on_mouseover_closure(tooltip) {\n",
              "        return function (event) {\n",
              "            if (!event.currentTarget.disabled) {\n",
              "                return fig.toolbar_button_onmouseover(tooltip);\n",
              "            }\n",
              "        };\n",
              "    }\n",
              "\n",
              "    fig.buttons = {};\n",
              "    var buttonGroup = document.createElement('div');\n",
              "    buttonGroup.classList = 'btn-group';\n",
              "    var button;\n",
              "    for (var toolbar_ind in mpl.toolbar_items) {\n",
              "        var name = mpl.toolbar_items[toolbar_ind][0];\n",
              "        var tooltip = mpl.toolbar_items[toolbar_ind][1];\n",
              "        var image = mpl.toolbar_items[toolbar_ind][2];\n",
              "        var method_name = mpl.toolbar_items[toolbar_ind][3];\n",
              "\n",
              "        if (!name) {\n",
              "            /* Instead of a spacer, we start a new button group. */\n",
              "            if (buttonGroup.hasChildNodes()) {\n",
              "                toolbar.appendChild(buttonGroup);\n",
              "            }\n",
              "            buttonGroup = document.createElement('div');\n",
              "            buttonGroup.classList = 'btn-group';\n",
              "            continue;\n",
              "        }\n",
              "\n",
              "        button = fig.buttons[name] = document.createElement('button');\n",
              "        button.classList = 'btn btn-default';\n",
              "        button.href = '#';\n",
              "        button.title = name;\n",
              "        button.innerHTML = '<i class=\"fa ' + image + ' fa-lg\"></i>';\n",
              "        button.addEventListener('click', on_click_closure(method_name));\n",
              "        button.addEventListener('mouseover', on_mouseover_closure(tooltip));\n",
              "        buttonGroup.appendChild(button);\n",
              "    }\n",
              "\n",
              "    if (buttonGroup.hasChildNodes()) {\n",
              "        toolbar.appendChild(buttonGroup);\n",
              "    }\n",
              "\n",
              "    // Add the status bar.\n",
              "    var status_bar = document.createElement('span');\n",
              "    status_bar.classList = 'mpl-message pull-right';\n",
              "    toolbar.appendChild(status_bar);\n",
              "    this.message = status_bar;\n",
              "\n",
              "    // Add the close button to the window.\n",
              "    var buttongrp = document.createElement('div');\n",
              "    buttongrp.classList = 'btn-group inline pull-right';\n",
              "    button = document.createElement('button');\n",
              "    button.classList = 'btn btn-mini btn-primary';\n",
              "    button.href = '#';\n",
              "    button.title = 'Stop Interaction';\n",
              "    button.innerHTML = '<i class=\"fa fa-power-off icon-remove icon-large\"></i>';\n",
              "    button.addEventListener('click', function (_evt) {\n",
              "        fig.handle_close(fig, {});\n",
              "    });\n",
              "    button.addEventListener(\n",
              "        'mouseover',\n",
              "        on_mouseover_closure('Stop Interaction')\n",
              "    );\n",
              "    buttongrp.appendChild(button);\n",
              "    var titlebar = this.root.querySelector('.ui-dialog-titlebar');\n",
              "    titlebar.insertBefore(buttongrp, titlebar.firstChild);\n",
              "};\n",
              "\n",
              "mpl.figure.prototype._remove_fig_handler = function (event) {\n",
              "    var fig = event.data.fig;\n",
              "    if (event.target !== this) {\n",
              "        // Ignore bubbled events from children.\n",
              "        return;\n",
              "    }\n",
              "    fig.close_ws(fig, {});\n",
              "};\n",
              "\n",
              "mpl.figure.prototype._root_extra_style = function (el) {\n",
              "    el.style.boxSizing = 'content-box'; // override notebook setting of border-box.\n",
              "};\n",
              "\n",
              "mpl.figure.prototype._canvas_extra_style = function (el) {\n",
              "    // this is important to make the div 'focusable\n",
              "    el.setAttribute('tabindex', 0);\n",
              "    // reach out to IPython and tell the keyboard manager to turn it's self\n",
              "    // off when our div gets focus\n",
              "\n",
              "    // location in version 3\n",
              "    if (IPython.notebook.keyboard_manager) {\n",
              "        IPython.notebook.keyboard_manager.register_events(el);\n",
              "    } else {\n",
              "        // location in version 2\n",
              "        IPython.keyboard_manager.register_events(el);\n",
              "    }\n",
              "};\n",
              "\n",
              "mpl.figure.prototype._key_event_extra = function (event, _name) {\n",
              "    // Check for shift+enter\n",
              "    if (event.shiftKey && event.which === 13) {\n",
              "        this.canvas_div.blur();\n",
              "        // select the cell after this one\n",
              "        var index = IPython.notebook.find_cell_index(this.cell_info[0]);\n",
              "        IPython.notebook.select(index + 1);\n",
              "    }\n",
              "};\n",
              "\n",
              "mpl.figure.prototype.handle_save = function (fig, _msg) {\n",
              "    fig.ondownload(fig, null);\n",
              "};\n",
              "\n",
              "mpl.find_output_cell = function (html_output) {\n",
              "    // Return the cell and output element which can be found *uniquely* in the notebook.\n",
              "    // Note - this is a bit hacky, but it is done because the \"notebook_saving.Notebook\"\n",
              "    // IPython event is triggered only after the cells have been serialised, which for\n",
              "    // our purposes (turning an active figure into a static one), is too late.\n",
              "    var cells = IPython.notebook.get_cells();\n",
              "    var ncells = cells.length;\n",
              "    for (var i = 0; i < ncells; i++) {\n",
              "        var cell = cells[i];\n",
              "        if (cell.cell_type === 'code') {\n",
              "            for (var j = 0; j < cell.output_area.outputs.length; j++) {\n",
              "                var data = cell.output_area.outputs[j];\n",
              "                if (data.data) {\n",
              "                    // IPython >= 3 moved mimebundle to data attribute of output\n",
              "                    data = data.data;\n",
              "                }\n",
              "                if (data['text/html'] === html_output) {\n",
              "                    return [cell, data, j];\n",
              "                }\n",
              "            }\n",
              "        }\n",
              "    }\n",
              "};\n",
              "\n",
              "// Register the function which deals with the matplotlib target/channel.\n",
              "// The kernel may be null if the page has been refreshed.\n",
              "if (IPython.notebook.kernel !== null) {\n",
              "    IPython.notebook.kernel.comm_manager.register_target(\n",
              "        'matplotlib',\n",
              "        mpl.mpl_figure_comm\n",
              "    );\n",
              "}\n"
            ],
            "text/plain": [
              "<IPython.core.display.Javascript object>"
            ]
          },
          "metadata": {},
          "output_type": "display_data"
        },
        {
          "data": {
            "text/html": [
              "<img src=\"data:image/png;base64,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\" width=\"640\">"
            ],
            "text/plain": [
              "<IPython.core.display.HTML object>"
            ]
          },
          "metadata": {},
          "output_type": "display_data"
        }
      ],
      "source": [
        "# Dispersion plot\n",
        "\n",
        "# source: Inaugural Address Corpus\n",
        "text4.dispersion_plot([\"citizens\", \"democracy\", \"duty\", \"freedom\", \"America\"])"
      ]
    },
    {
      "cell_type": "code",
      "source": [
        "text4.dispersion_plot([\".\", \":\", \";\", \"...\", \"?\", \"!\"])"
      ],
      "metadata": {
        "id": "VKIzmnZ3Spde",
        "outputId": "f334f70a-0276-480d-bf93-3fa9c1871244",
        "colab": {
          "base_uri": "https://localhost:8080/",
          "height": 295
        }
      },
      "execution_count": 36,
      "outputs": [
        {
          "output_type": "display_data",
          "data": {
            "text/plain": [
              "<Figure size 432x288 with 1 Axes>"
            ],
            "image/png": "[encoded data removed]"
          },
          "metadata": {
            "needs_background": "light"
          }
        }
      ]
    },
    {
      "cell_type": "code",
      "execution_count": 37,
      "metadata": {
        "colab": {
          "base_uri": "https://localhost:8080/"
        },
        "id": "-DKY-LjYKh8C",
        "outputId": "2ce28316-8868-4165-b883-d562ebefd0f4",
        "scrolled": true
      },
      "outputs": [
        {
          "output_type": "stream",
          "name": "stdout",
          "text": [
            "Help on method dispersion_plot in module nltk.text:\n",
            "\n",
            "dispersion_plot(words) method of nltk.text.Text instance\n",
            "    Produce a plot showing the distribution of the words through the text.\n",
            "    Requires pylab to be installed.\n",
            "    \n",
            "    :param words: The words to be plotted\n",
            "    :type words: list(str)\n",
            "    :seealso: nltk.draw.dispersion_plot()\n",
            "\n"
          ]
        }
      ],
      "source": [
        "help(text4.dispersion_plot)"
      ]
    },
    {
      "cell_type": "markdown",
      "metadata": {
        "id": "KtAsGB-tKh8C"
      },
      "source": [
        "### Generating text\n",
        "\n",
        "Note: depending on your version of NLTK `generate()` functionality may or may not work (NLTK version 3.7.4 or newer is required).\n",
        "* In case it does not work, please see subsection \"Saved version of generate() results\".\n",
        "\n"
      ]
    },
    {
      "cell_type": "code",
      "execution_count": 42,
      "metadata": {
        "colab": {
          "base_uri": "https://localhost:8080/",
          "height": 283
        },
        "id": "LRfZyWKpKh8D",
        "outputId": "8ecb797d-784c-425d-ad15-003e19453017"
      },
      "outputs": [
        {
          "output_type": "stream",
          "name": "stdout",
          "text": [
            "Knights who say a single flying - fish are lungless and cold , cheerless rooms were\n",
            "stark nonsense ; bad for the Captain reiterated his demand to the\n",
            "feast , they waded out with one hand was holding close up to the\n",
            "navigation and general management of affairs , hung on to illustrate\n",
            "his position , the otherwise miscellaneously carnivorous shark will\n",
            "seldom touch a man receives money is really marvellous , considering\n",
            "his monomania , not the less true events , as mountain torrents down a\n",
            "lean missionary in his berth , Jonah sleeps his hideous sleep . , tell\n",
            "Quohog there\n"
          ]
        },
        {
          "output_type": "execute_result",
          "data": {
            "text/plain": [
              "'Knights who say a single flying - fish are lungless and cold , cheerless rooms were\\nstark nonsense ; bad for the Captain reiterated his demand to the\\nfeast , they waded out with one hand was holding close up to the\\nnavigation and general management of affairs , hung on to illustrate\\nhis position , the otherwise miscellaneously carnivorous shark will\\nseldom touch a man receives money is really marvellous , considering\\nhis monomania , not the less true events , as mountain torrents down a\\nlean missionary in his berth , Jonah sleeps his hideous sleep . , tell\\nQuohog there'"
            ],
            "application/vnd.google.colaboratory.intrinsic+json": {
              "type": "string"
            }
          },
          "metadata": {},
          "execution_count": 42
        }
      ],
      "source": [
        "# Generate text (based on example)\n",
        "# https://www.nltk.org/api/nltk.html#nltk.text.Text.generate\n",
        "\n",
        "# we need to supply seed words\n",
        "text1.generate(text_seed = [\"Knights\", \"who\", \"say\"])"
      ]
    },
    {
      "cell_type": "markdown",
      "metadata": {
        "id": "7_0AMX-sKh8D"
      },
      "source": [
        "---\n",
        "\n",
        "**NLTK `generate()` builds a [trigram] language model from the supplied text** (words are generated based on previous two words).\n",
        "\n",
        "For more information see nltk.lm: https://www.nltk.org/api/nltk.lm.html"
      ]
    },
    {
      "cell_type": "markdown",
      "metadata": {
        "id": "fLxDqd9JKh8D"
      },
      "source": [
        "**Saved version of `generate()` results:**\n",
        "    \n",
        "`text1.generate(text_seed = [\"Why\", \"is\", \"it\"])`\n",
        "\n",
        "*Building ngram index...*\n",
        "\n",
        "```\n",
        "Why is it stripped off from some mountain torrent we had flip ? , so as to\n",
        "preserve all his might had in former years abounding with them , they\n",
        "toil with their lances , strange tales of Southern whaling .\n",
        "conceivable that this fine old Dutch Fishery , a most wealthy example\n",
        "of the sea - captain orders me to admire the magnanimity of the whole\n",
        ", and many whalemen , but dumplings ; good white cedar of the ship\n",
        "casts off her cables ; and chewed it noiselessly ; and though there\n",
        "are birds called grey albatrosses ; and yet faster\n",
        "```\n"
      ]
    },
    {
      "cell_type": "code",
      "execution_count": null,
      "metadata": {
        "colab": {
          "base_uri": "https://localhost:8080/"
        },
        "id": "Th7Or2AzKh8D",
        "outputId": "00b5bf14-a803-4b69-f0b0-283c70571eb7"
      },
      "outputs": [
        {
          "name": "stdout",
          "output_type": "stream",
          "text": [
            "Help on method generate in module nltk.text:\n",
            "\n",
            "generate(length=100, text_seed=None, random_seed=42) method of nltk.text.Text instance\n",
            "    Print random text, generated using a trigram language model.\n",
            "    See also `help(nltk.lm)`.\n",
            "    \n",
            "    :param length: The length of text to generate (default=100)\n",
            "    :type length: int\n",
            "    \n",
            "    :param text_seed: Generation can be conditioned on preceding context.\n",
            "    :type text_seed: list(str)\n",
            "    \n",
            "    :param random_seed: A random seed or an instance of `random.Random`. If provided,\n",
            "        makes the random sampling part of generation reproducible. (default=42)\n",
            "    :type random_seed: int\n",
            "\n"
          ]
        }
      ],
      "source": [
        "help(text1.generate)"
      ]
    },
    {
      "cell_type": "markdown",
      "metadata": {
        "id": "71CtOpUcLrph"
      },
      "source": [
        "## Converting Our Corpora into a NLTK Text "
      ]
    },
    {
      "cell_type": "code",
      "execution_count": 43,
      "metadata": {
        "colab": {
          "base_uri": "https://localhost:8080/"
        },
        "id": "blikIpXvLqYR",
        "outputId": "b85c8e00-6afc-4b11-fee8-8cd082283f20"
      },
      "outputs": [
        {
          "output_type": "execute_result",
          "data": {
            "text/plain": [
              "(4999, 4)"
            ]
          },
          "metadata": {},
          "execution_count": 43
        }
      ],
      "source": [
        "# As we saw previously we can read data from any publicly accessible source\n",
        "url = \"https://github.com/ValRCS/BSSDH_22/raw/main/corpora/lv_old_newspapers_5k.tsv\"\n",
        "\n",
        "df = pd.read_csv(url, sep=\"\\t\")\n",
        "df.shape"
      ]
    },
    {
      "cell_type": "code",
      "execution_count": 44,
      "metadata": {
        "colab": {
          "base_uri": "https://localhost:8080/",
          "height": 363
        },
        "id": "vckh__2qM3G8",
        "outputId": "f0c5453f-b300-4edd-c595-11a10ad46572"
      },
      "outputs": [
        {
          "output_type": "execute_result",
          "data": {
            "text/plain": [
              "  Language           Source        Date  \\\n",
              "0  Latvian     rekurzeme.lv  2008/09/04   \n",
              "1  Latvian         diena.lv  2012/01/10   \n",
              "2  Latvian  bauskasdzive.lv  2007/12/27   \n",
              "3  Latvian  bauskasdzive.lv  2008/10/08   \n",
              "4  Latvian         diena.lv  2011/10/05   \n",
              "5  Latvian            zz.lv  2011/05/16   \n",
              "6  Latvian           ntz.lv  2010/08/13   \n",
              "7  Latvian            rv.lv  2011/01/22   \n",
              "8  Latvian         diena.lv  2011/11/26   \n",
              "9  Latvian            la.lv  2011/04/30   \n",
              "\n",
              "                                                Text  \n",
              "0  \"Viņa pirmsnāves zīmītē bija rakstīts vienīgi ...  \n",
              "1                               info@zurnalistiem.lv  \n",
              "2  Bhuto, kas Pakistānā no trimdas atgriezās tika...  \n",
              "3  Plkst. 4.00 Samoilovs / Pļaviņš (pludmales vol...  \n",
              "4  CVK bija vērsusies Skaburska, lūdzot izskaidro...  \n",
              "5  Apbalvojumus piešķir piemiņas zīmes valde Saei...  \n",
              "6  - Amerikā biju uzaicināts viesoties ar visu ģi...  \n",
              "7  Mūrniece gan saka, ka Lužkova bitēm Latvijas p...  \n",
              "8  PĒDĒJĀ, kontrolēja PĀRDAUGAVAS telpu, izņemot ...  \n",
              "9  Ar Ivaru tikāmies viņa dzimtajos \"Lazdiņos\" Za...  "
            ],
            "text/html": [
              "\n",
              "  <div id=\"df-d45e262a-674e-46df-a490-a71bec6fdcf5\">\n",
              "    <div class=\"colab-df-container\">\n",
              "      <div>\n",
              "<style scoped>\n",
              "    .dataframe tbody tr th:only-of-type {\n",
              "        vertical-align: middle;\n",
              "    }\n",
              "\n",
              "    .dataframe tbody tr th {\n",
              "        vertical-align: top;\n",
              "    }\n",
              "\n",
              "    .dataframe thead th {\n",
              "        text-align: right;\n",
              "    }\n",
              "</style>\n",
              "<table border=\"1\" class=\"dataframe\">\n",
              "  <thead>\n",
              "    <tr style=\"text-align: right;\">\n",
              "      <th></th>\n",
              "      <th>Language</th>\n",
              "      <th>Source</th>\n",
              "      <th>Date</th>\n",
              "      <th>Text</th>\n",
              "    </tr>\n",
              "  </thead>\n",
              "  <tbody>\n",
              "    <tr>\n",
              "      <th>0</th>\n",
              "      <td>Latvian</td>\n",
              "      <td>rekurzeme.lv</td>\n",
              "      <td>2008/09/04</td>\n",
              "      <td>\"Viņa pirmsnāves zīmītē bija rakstīts vienīgi ...</td>\n",
              "    </tr>\n",
              "    <tr>\n",
              "      <th>1</th>\n",
              "      <td>Latvian</td>\n",
              "      <td>diena.lv</td>\n",
              "      <td>2012/01/10</td>\n",
              "      <td>info@zurnalistiem.lv</td>\n",
              "    </tr>\n",
              "    <tr>\n",
              "      <th>2</th>\n",
              "      <td>Latvian</td>\n",
              "      <td>bauskasdzive.lv</td>\n",
              "      <td>2007/12/27</td>\n",
              "      <td>Bhuto, kas Pakistānā no trimdas atgriezās tika...</td>\n",
              "    </tr>\n",
              "    <tr>\n",
              "      <th>3</th>\n",
              "      <td>Latvian</td>\n",
              "      <td>bauskasdzive.lv</td>\n",
              "      <td>2008/10/08</td>\n",
              "      <td>Plkst. 4.00 Samoilovs / Pļaviņš (pludmales vol...</td>\n",
              "    </tr>\n",
              "    <tr>\n",
              "      <th>4</th>\n",
              "      <td>Latvian</td>\n",
              "      <td>diena.lv</td>\n",
              "      <td>2011/10/05</td>\n",
              "      <td>CVK bija vērsusies Skaburska, lūdzot izskaidro...</td>\n",
              "    </tr>\n",
              "    <tr>\n",
              "      <th>5</th>\n",
              "      <td>Latvian</td>\n",
              "      <td>zz.lv</td>\n",
              "      <td>2011/05/16</td>\n",
              "      <td>Apbalvojumus piešķir piemiņas zīmes valde Saei...</td>\n",
              "    </tr>\n",
              "    <tr>\n",
              "      <th>6</th>\n",
              "      <td>Latvian</td>\n",
              "      <td>ntz.lv</td>\n",
              "      <td>2010/08/13</td>\n",
              "      <td>- Amerikā biju uzaicināts viesoties ar visu ģi...</td>\n",
              "    </tr>\n",
              "    <tr>\n",
              "      <th>7</th>\n",
              "      <td>Latvian</td>\n",
              "      <td>rv.lv</td>\n",
              "      <td>2011/01/22</td>\n",
              "      <td>Mūrniece gan saka, ka Lužkova bitēm Latvijas p...</td>\n",
              "    </tr>\n",
              "    <tr>\n",
              "      <th>8</th>\n",
              "      <td>Latvian</td>\n",
              "      <td>diena.lv</td>\n",
              "      <td>2011/11/26</td>\n",
              "      <td>PĒDĒJĀ, kontrolēja PĀRDAUGAVAS telpu, izņemot ...</td>\n",
              "    </tr>\n",
              "    <tr>\n",
              "      <th>9</th>\n",
              "      <td>Latvian</td>\n",
              "      <td>la.lv</td>\n",
              "      <td>2011/04/30</td>\n",
              "      <td>Ar Ivaru tikāmies viņa dzimtajos \"Lazdiņos\" Za...</td>\n",
              "    </tr>\n",
              "  </tbody>\n",
              "</table>\n",
              "</div>\n",
              "      <button class=\"colab-df-convert\" onclick=\"convertToInteractive('df-d45e262a-674e-46df-a490-a71bec6fdcf5')\"\n",
              "              title=\"Convert this dataframe to an interactive table.\"\n",
              "              style=\"display:none;\">\n",
              "        \n",
              "  <svg xmlns=\"http://www.w3.org/2000/svg\" height=\"24px\"viewBox=\"0 0 24 24\"\n",
              "       width=\"24px\">\n",
              "    <path d=\"M0 0h24v24H0V0z\" fill=\"none\"/>\n",
              "    <path d=\"M18.56 5.44l.94 2.06.94-2.06 2.06-.94-2.06-.94-.94-2.06-.94 2.06-2.06.94zm-11 1L8.5 8.5l.94-2.06 2.06-.94-2.06-.94L8.5 2.5l-.94 2.06-2.06.94zm10 10l.94 2.06.94-2.06 2.06-.94-2.06-.94-.94-2.06-.94 2.06-2.06.94z\"/><path d=\"M17.41 7.96l-1.37-1.37c-.4-.4-.92-.59-1.43-.59-.52 0-1.04.2-1.43.59L10.3 9.45l-7.72 7.72c-.78.78-.78 2.05 0 2.83L4 21.41c.39.39.9.59 1.41.59.51 0 1.02-.2 1.41-.59l7.78-7.78 2.81-2.81c.8-.78.8-2.07 0-2.86zM5.41 20L4 18.59l7.72-7.72 1.47 1.35L5.41 20z\"/>\n",
              "  </svg>\n",
              "      </button>\n",
              "      \n",
              "  <style>\n",
              "    .colab-df-container {\n",
              "      display:flex;\n",
              "      flex-wrap:wrap;\n",
              "      gap: 12px;\n",
              "    }\n",
              "\n",
              "    .colab-df-convert {\n",
              "      background-color: #E8F0FE;\n",
              "      border: none;\n",
              "      border-radius: 50%;\n",
              "      cursor: pointer;\n",
              "      display: none;\n",
              "      fill: #1967D2;\n",
              "      height: 32px;\n",
              "      padding: 0 0 0 0;\n",
              "      width: 32px;\n",
              "    }\n",
              "\n",
              "    .colab-df-convert:hover {\n",
              "      background-color: #E2EBFA;\n",
              "      box-shadow: 0px 1px 2px rgba(60, 64, 67, 0.3), 0px 1px 3px 1px rgba(60, 64, 67, 0.15);\n",
              "      fill: #174EA6;\n",
              "    }\n",
              "\n",
              "    [theme=dark] .colab-df-convert {\n",
              "      background-color: #3B4455;\n",
              "      fill: #D2E3FC;\n",
              "    }\n",
              "\n",
              "    [theme=dark] .colab-df-convert:hover {\n",
              "      background-color: #434B5C;\n",
              "      box-shadow: 0px 1px 3px 1px rgba(0, 0, 0, 0.15);\n",
              "      filter: drop-shadow(0px 1px 2px rgba(0, 0, 0, 0.3));\n",
              "      fill: #FFFFFF;\n",
              "    }\n",
              "  </style>\n",
              "\n",
              "      <script>\n",
              "        const buttonEl =\n",
              "          document.querySelector('#df-d45e262a-674e-46df-a490-a71bec6fdcf5 button.colab-df-convert');\n",
              "        buttonEl.style.display =\n",
              "          google.colab.kernel.accessAllowed ? 'block' : 'none';\n",
              "\n",
              "        async function convertToInteractive(key) {\n",
              "          const element = document.querySelector('#df-d45e262a-674e-46df-a490-a71bec6fdcf5');\n",
              "          const dataTable =\n",
              "            await google.colab.kernel.invokeFunction('convertToInteractive',\n",
              "                                                     [key], {});\n",
              "          if (!dataTable) return;\n",
              "\n",
              "          const docLinkHtml = 'Like what you see? Visit the ' +\n",
              "            '<a target=\"_blank\" href=https://colab.research.google.com/notebooks/data_table.ipynb>data table notebook</a>'\n",
              "            + ' to learn more about interactive tables.';\n",
              "          element.innerHTML = '';\n",
              "          dataTable['output_type'] = 'display_data';\n",
              "          await google.colab.output.renderOutput(dataTable, element);\n",
              "          const docLink = document.createElement('div');\n",
              "          docLink.innerHTML = docLinkHtml;\n",
              "          element.appendChild(docLink);\n",
              "        }\n",
              "      </script>\n",
              "    </div>\n",
              "  </div>\n",
              "  "
            ]
          },
          "metadata": {},
          "execution_count": 44
        }
      ],
      "source": [
        "df.head(10)"
      ]
    },
    {
      "cell_type": "code",
      "execution_count": 45,
      "metadata": {
        "colab": {
          "base_uri": "https://localhost:8080/",
          "height": 363
        },
        "id": "Itqdnsz6M80z",
        "outputId": "a36aff65-6066-467b-c10e-fd360fc4bb6a"
      },
      "outputs": [
        {
          "output_type": "execute_result",
          "data": {
            "text/plain": [
              "     Language           Source        Date  \\\n",
              "1137  Latvian            la.lv  2005/04/27   \n",
              "1977  Latvian         diena.lv  2006/09/21   \n",
              "808   Latvian            zz.lv  2007/01/07   \n",
              "17    Latvian            zz.lv  2007/01/07   \n",
              "2818  Latvian    dzirkstele.lv  2007/01/08   \n",
              "4839  Latvian            zz.lv  2007/01/09   \n",
              "4222  Latvian    dzirkstele.lv  2007/01/10   \n",
              "1572  Latvian    dzirkstele.lv  2007/01/10   \n",
              "3927  Latvian            zz.lv  2007/01/11   \n",
              "3167  Latvian  bauskasdzive.lv  2007/01/12   \n",
              "\n",
              "                                                   Text  \n",
              "1137                   Kad maz naudas veselības aprūpei  \n",
              "1977  Idejas, kā palīdzēt skolai, uzņēmējiem rodotie...  \n",
              "808   Ja samazinās mazuta cenas, samazinās arī tarif...  \n",
              "17    2008.gadā gāzes piegādes cena pieaugs vēl par ...  \n",
              "2818  Kā norādīja Šlesers, komersanti, kas Latvijas ...  \n",
              "4839  Vispirms pasākuma dalībniekiem Rīgas Skolēnu p...  \n",
              "4222  Sestdien pulksten 11.00 Gulbenes kultūras cent...  \n",
              "1572  Informāciju, ka būtu interese par VP \"Wimm-Bil...  \n",
              "3927  Piektdien, 2. novembrī, I.Minusai un I.Jursone...  \n",
              "3167  Republikāņu partijas biedrs, jurists Larsons, ...  "
            ],
            "text/html": [
              "\n",
              "  <div id=\"df-6ba266fa-cbfe-4aea-8edd-239492327d09\">\n",
              "    <div class=\"colab-df-container\">\n",
              "      <div>\n",
              "<style scoped>\n",
              "    .dataframe tbody tr th:only-of-type {\n",
              "        vertical-align: middle;\n",
              "    }\n",
              "\n",
              "    .dataframe tbody tr th {\n",
              "        vertical-align: top;\n",
              "    }\n",
              "\n",
              "    .dataframe thead th {\n",
              "        text-align: right;\n",
              "    }\n",
              "</style>\n",
              "<table border=\"1\" class=\"dataframe\">\n",
              "  <thead>\n",
              "    <tr style=\"text-align: right;\">\n",
              "      <th></th>\n",
              "      <th>Language</th>\n",
              "      <th>Source</th>\n",
              "      <th>Date</th>\n",
              "      <th>Text</th>\n",
              "    </tr>\n",
              "  </thead>\n",
              "  <tbody>\n",
              "    <tr>\n",
              "      <th>1137</th>\n",
              "      <td>Latvian</td>\n",
              "      <td>la.lv</td>\n",
              "      <td>2005/04/27</td>\n",
              "      <td>Kad maz naudas veselības aprūpei</td>\n",
              "    </tr>\n",
              "    <tr>\n",
              "      <th>1977</th>\n",
              "      <td>Latvian</td>\n",
              "      <td>diena.lv</td>\n",
              "      <td>2006/09/21</td>\n",
              "      <td>Idejas, kā palīdzēt skolai, uzņēmējiem rodotie...</td>\n",
              "    </tr>\n",
              "    <tr>\n",
              "      <th>808</th>\n",
              "      <td>Latvian</td>\n",
              "      <td>zz.lv</td>\n",
              "      <td>2007/01/07</td>\n",
              "      <td>Ja samazinās mazuta cenas, samazinās arī tarif...</td>\n",
              "    </tr>\n",
              "    <tr>\n",
              "      <th>17</th>\n",
              "      <td>Latvian</td>\n",
              "      <td>zz.lv</td>\n",
              "      <td>2007/01/07</td>\n",
              "      <td>2008.gadā gāzes piegādes cena pieaugs vēl par ...</td>\n",
              "    </tr>\n",
              "    <tr>\n",
              "      <th>2818</th>\n",
              "      <td>Latvian</td>\n",
              "      <td>dzirkstele.lv</td>\n",
              "      <td>2007/01/08</td>\n",
              "      <td>Kā norādīja Šlesers, komersanti, kas Latvijas ...</td>\n",
              "    </tr>\n",
              "    <tr>\n",
              "      <th>4839</th>\n",
              "      <td>Latvian</td>\n",
              "      <td>zz.lv</td>\n",
              "      <td>2007/01/09</td>\n",
              "      <td>Vispirms pasākuma dalībniekiem Rīgas Skolēnu p...</td>\n",
              "    </tr>\n",
              "    <tr>\n",
              "      <th>4222</th>\n",
              "      <td>Latvian</td>\n",
              "      <td>dzirkstele.lv</td>\n",
              "      <td>2007/01/10</td>\n",
              "      <td>Sestdien pulksten 11.00 Gulbenes kultūras cent...</td>\n",
              "    </tr>\n",
              "    <tr>\n",
              "      <th>1572</th>\n",
              "      <td>Latvian</td>\n",
              "      <td>dzirkstele.lv</td>\n",
              "      <td>2007/01/10</td>\n",
              "      <td>Informāciju, ka būtu interese par VP \"Wimm-Bil...</td>\n",
              "    </tr>\n",
              "    <tr>\n",
              "      <th>3927</th>\n",
              "      <td>Latvian</td>\n",
              "      <td>zz.lv</td>\n",
              "      <td>2007/01/11</td>\n",
              "      <td>Piektdien, 2. novembrī, I.Minusai un I.Jursone...</td>\n",
              "    </tr>\n",
              "    <tr>\n",
              "      <th>3167</th>\n",
              "      <td>Latvian</td>\n",
              "      <td>bauskasdzive.lv</td>\n",
              "      <td>2007/01/12</td>\n",
              "      <td>Republikāņu partijas biedrs, jurists Larsons, ...</td>\n",
              "    </tr>\n",
              "  </tbody>\n",
              "</table>\n",
              "</div>\n",
              "      <button class=\"colab-df-convert\" onclick=\"convertToInteractive('df-6ba266fa-cbfe-4aea-8edd-239492327d09')\"\n",
              "              title=\"Convert this dataframe to an interactive table.\"\n",
              "              style=\"display:none;\">\n",
              "        \n",
              "  <svg xmlns=\"http://www.w3.org/2000/svg\" height=\"24px\"viewBox=\"0 0 24 24\"\n",
              "       width=\"24px\">\n",
              "    <path d=\"M0 0h24v24H0V0z\" fill=\"none\"/>\n",
              "    <path d=\"M18.56 5.44l.94 2.06.94-2.06 2.06-.94-2.06-.94-.94-2.06-.94 2.06-2.06.94zm-11 1L8.5 8.5l.94-2.06 2.06-.94-2.06-.94L8.5 2.5l-.94 2.06-2.06.94zm10 10l.94 2.06.94-2.06 2.06-.94-2.06-.94-.94-2.06-.94 2.06-2.06.94z\"/><path d=\"M17.41 7.96l-1.37-1.37c-.4-.4-.92-.59-1.43-.59-.52 0-1.04.2-1.43.59L10.3 9.45l-7.72 7.72c-.78.78-.78 2.05 0 2.83L4 21.41c.39.39.9.59 1.41.59.51 0 1.02-.2 1.41-.59l7.78-7.78 2.81-2.81c.8-.78.8-2.07 0-2.86zM5.41 20L4 18.59l7.72-7.72 1.47 1.35L5.41 20z\"/>\n",
              "  </svg>\n",
              "      </button>\n",
              "      \n",
              "  <style>\n",
              "    .colab-df-container {\n",
              "      display:flex;\n",
              "      flex-wrap:wrap;\n",
              "      gap: 12px;\n",
              "    }\n",
              "\n",
              "    .colab-df-convert {\n",
              "      background-color: #E8F0FE;\n",
              "      border: none;\n",
              "      border-radius: 50%;\n",
              "      cursor: pointer;\n",
              "      display: none;\n",
              "      fill: #1967D2;\n",
              "      height: 32px;\n",
              "      padding: 0 0 0 0;\n",
              "      width: 32px;\n",
              "    }\n",
              "\n",
              "    .colab-df-convert:hover {\n",
              "      background-color: #E2EBFA;\n",
              "      box-shadow: 0px 1px 2px rgba(60, 64, 67, 0.3), 0px 1px 3px 1px rgba(60, 64, 67, 0.15);\n",
              "      fill: #174EA6;\n",
              "    }\n",
              "\n",
              "    [theme=dark] .colab-df-convert {\n",
              "      background-color: #3B4455;\n",
              "      fill: #D2E3FC;\n",
              "    }\n",
              "\n",
              "    [theme=dark] .colab-df-convert:hover {\n",
              "      background-color: #434B5C;\n",
              "      box-shadow: 0px 1px 3px 1px rgba(0, 0, 0, 0.15);\n",
              "      filter: drop-shadow(0px 1px 2px rgba(0, 0, 0, 0.3));\n",
              "      fill: #FFFFFF;\n",
              "    }\n",
              "  </style>\n",
              "\n",
              "      <script>\n",
              "        const buttonEl =\n",
              "          document.querySelector('#df-6ba266fa-cbfe-4aea-8edd-239492327d09 button.colab-df-convert');\n",
              "        buttonEl.style.display =\n",
              "          google.colab.kernel.accessAllowed ? 'block' : 'none';\n",
              "\n",
              "        async function convertToInteractive(key) {\n",
              "          const element = document.querySelector('#df-6ba266fa-cbfe-4aea-8edd-239492327d09');\n",
              "          const dataTable =\n",
              "            await google.colab.kernel.invokeFunction('convertToInteractive',\n",
              "                                                     [key], {});\n",
              "          if (!dataTable) return;\n",
              "\n",
              "          const docLinkHtml = 'Like what you see? Visit the ' +\n",
              "            '<a target=\"_blank\" href=https://colab.research.google.com/notebooks/data_table.ipynb>data table notebook</a>'\n",
              "            + ' to learn more about interactive tables.';\n",
              "          element.innerHTML = '';\n",
              "          dataTable['output_type'] = 'display_data';\n",
              "          await google.colab.output.renderOutput(dataTable, element);\n",
              "          const docLink = document.createElement('div');\n",
              "          docLink.innerHTML = docLinkHtml;\n",
              "          element.appendChild(docLink);\n",
              "        }\n",
              "      </script>\n",
              "    </div>\n",
              "  </div>\n",
              "  "
            ]
          },
          "metadata": {},
          "execution_count": 45
        }
      ],
      "source": [
        "# Let us sort by Date - even though it is a string type\n",
        "df = df.sort_values(by=\"Date\", ascending=True)  # ascending is True by default, if you wanted Descending you could use ascending=False\n",
        "df.head(10)"
      ]
    },
    {
      "cell_type": "markdown",
      "metadata": {
        "id": "ME-ddPn8OhY4"
      },
      "source": [
        "<img align=\"left\" src=\"https://ithaka-labs.s3.amazonaws.com/static-files/images/tdm/tdmdocs/CC_BY.png\"><br />\n",
        "\n",
        "The following section is adopted by Valdis Saulespurens from notebook by [Nathan Kelber](http://nkelber.com) under [Creative Commons CC BY License](https://creativecommons.org/licenses/by/4.0/)<br />\n"
      ]
    },
    {
      "cell_type": "markdown",
      "metadata": {
        "id": "cUPq_fLRO6FL"
      },
      "source": [
        "# Concordance and Collocation\n",
        "\n",
        "**Description:** This notebook section describes how to create a concordance and collocation starting from text files and from your own CSV file.\n",
        "\n",
        "**Use Case:** For Learners (Detailed explanation, not ideal for researchers)\n",
        "\n",
        "**Difficulty:** Intermediate\n",
        "\n",
        "**Completion Time:** 45 minutes\n",
        "\n",
        "**Knowledge Required:** \n",
        "* Python Day 1 Series ([Python Introduction](https://github.com/ValRCS/BSSDH_22/blob/main/notebooks/Python%20Introduction.ipynb))\n",
        "\n",
        "**Knowledge Recommended:** None\n",
        "\n",
        "**Data Format:** Text, CSV file from previous lessons \n",
        "\n",
        "**Libraries Used:** NLTK\n",
        "\n",
        "**Research Pipeline:** None\n",
        "___"
      ]
    },
    {
      "cell_type": "markdown",
      "metadata": {
        "id": "iaK8BnPhPYlI"
      },
      "source": [
        "## Concordance\n",
        "\n",
        "The concordance has a long history in humanities study and Roberto Busa's concordance Index Thomisticus—started in 1946—is arguably the first digital humanities project. Before computers were common, they were printed in large volumes such as John Bartlett's 1982 reference book A Complete Concordance to Shakespeare—it was 1909 pages pages long! \n",
        "\n",
        "A concordance gives the context of a given word or phrase in a body of texts. For example, a literary scholar might ask: how often and in what context does Shakespeare use the phrase \"honest Iago\" in Othello? A historian might examine a particular politician's speeches, looking for examples of a particular \"dog whistle\".\n",
        "\n",
        "<font color=\"red\">Read more</font>\n",
        "\n",
        "* Geoffrey Rockwell and Stéfan Sinclair. [Tremendous Mechanical Labor: Father Busa's Algorithm](http://www.digitalhumanities.org/dhq/vol/14/3/000456/000456.html) (2020)\n",
        "* Julianne Nyhan and Marco Passarotti, eds. [One Origin of Digital Humanities: Fr Roberto Busa in His Own Words](https://www.amazon.com/One-Origin-Digital-Humanities-Roberto/dp/3030183114/) (2019)\n",
        "* Julianne Nyhan and Melissa Terras. [Uncovering 'hidden contributions to the history of Digital Humanities: the Index Thomisticus' femal keypunch operators](https://discovery.ucl.ac.uk/id/eprint/10052279/9/Nyhan_DH2017.redacted.pdf) (2017)\n",
        "* Steven E. Jones [Roberto Busa, S.J., and the Emergence of Humanities Computing](https://www.routledge.com/Roberto-Busa-S-J-and-the-Emergence-of-Humanities-Computing-The-Priest/Jones/p/book/9781138587250) (2016)\n",
        "___"
      ]
    },
    {
      "cell_type": "markdown",
      "metadata": {
        "id": "h5JPnHPNNdRo"
      },
      "source": [
        "### Extracting Text from dataframe"
      ]
    },
    {
      "cell_type": "code",
      "execution_count": 46,
      "metadata": {
        "colab": {
          "base_uri": "https://localhost:8080/"
        },
        "id": "zV0TktGUNYa_",
        "outputId": "f71555b9-55e5-48ce-ab40-cc8c80f4c753"
      },
      "outputs": [
        {
          "output_type": "execute_result",
          "data": {
            "text/plain": [
              "4999"
            ]
          },
          "metadata": {},
          "execution_count": 46
        }
      ],
      "source": [
        "### Extracting text from dataframe\n",
        "documents = list(df.Text) # df[\"Text\"].tolist() would do the same\n",
        "len(documents)\n"
      ]
    },
    {
      "cell_type": "code",
      "source": [
        "type(documents)"
      ],
      "metadata": {
        "id": "2ftwKgGZVKUg",
        "outputId": "5843110e-c3f9-459e-d190-4a8a21eaad9d",
        "colab": {
          "base_uri": "https://localhost:8080/"
        }
      },
      "execution_count": 47,
      "outputs": [
        {
          "output_type": "execute_result",
          "data": {
            "text/plain": [
              "list"
            ]
          },
          "metadata": {},
          "execution_count": 47
        }
      ]
    },
    {
      "cell_type": "code",
      "execution_count": 48,
      "metadata": {
        "colab": {
          "base_uri": "https://localhost:8080/"
        },
        "id": "gN_MVv2PN1Xb",
        "outputId": "75d2bc0e-4c6a-495e-f092-7bb1079dd2c4"
      },
      "outputs": [
        {
          "output_type": "execute_result",
          "data": {
            "text/plain": [
              "['Kad maz naudas veselības aprūpei',\n",
              " 'Idejas, kā palīdzēt skolai, uzņēmējiem rodoties vēl un vēl, tagad kopīgi ar pagasta vadību prātojot, kā skolai, 100 gadu jubileju sagaidot, uzlikt jaunu jumtu. Tā kā internāta audzēkņiem nav kur nomazgāties, viesnīca Radi un draugi uzbūvējuši viņiem jauku pirtiņu ar saunu. Bērniem gan nākas bez tās iztikt vēl joprojām, jo, kā apgalvojot rajona sanitāri epidemioloģiskās stacijas ierēdņi, pirts ģērbtuves izmēri īsti neatbilstot noteiktajām prasībām. \"Mēs esam tā kā saauguši kopā, ik nedēļas sazvanāmies, dzīvojam līdzi skolas priekiem un bēdām, pārdzīvojam, lai tikai to neaizslēgtu. Šiem Latgales pagasta cilvēkiem ir tāds siltums un mīļums, viņi nekad neko mums neprasa, bet prot ar pateicību saņemt dāvāto,\" Dienai saka Aigars Bērziņš, kurš Malnavā pie vecāsmātes pavadījis bērnības vasaras.',\n",
              " 'Ja samazinās mazuta cenas, samazinās arī tarifi, un otrādi.']"
            ]
          },
          "metadata": {},
          "execution_count": 48
        }
      ],
      "source": [
        "documents[:3]  # first three documents"
      ]
    },
    {
      "cell_type": "code",
      "execution_count": 50,
      "metadata": {
        "colab": {
          "base_uri": "https://localhost:8080/"
        },
        "id": "xLLGPiE4OBs8",
        "outputId": "93c8be29-c8ae-4992-9884-3ac6a1a94b99"
      },
      "outputs": [
        {
          "output_type": "execute_result",
          "data": {
            "text/plain": [
              "1415137"
            ]
          },
          "metadata": {},
          "execution_count": 50
        }
      ],
      "source": [
        "# for the purpose of this analysis we will join all the documents together \n",
        "# this is not always appropriate depending on your needs\n",
        "all_docs = \"\\n\".join(documents)\n",
        "len(all_docs)"
      ]
    },
    {
      "cell_type": "code",
      "execution_count": 51,
      "metadata": {
        "colab": {
          "base_uri": "https://localhost:8080/",
          "height": 53
        },
        "id": "1ek62y91OQLs",
        "outputId": "1455bc10-a907-4610-bd2f-f0f12645171d"
      },
      "outputs": [
        {
          "output_type": "execute_result",
          "data": {
            "text/plain": [
              "'Kad maz naudas veselības aprūpei\\nIdejas, kā palīdzēt skolai, uzņēmējiem rodoties vēl un vēl, tagad k'"
            ],
            "application/vnd.google.colaboratory.intrinsic+json": {
              "type": "string"
            }
          },
          "metadata": {},
          "execution_count": 51
        }
      ],
      "source": [
        "all_docs[:100] # so now all documents are in one big string \n",
        "# notice the \\n indicating newlinesb"
      ]
    },
    {
      "cell_type": "markdown",
      "metadata": {
        "id": "5ziR_UYJQKJs"
      },
      "source": [
        "Next, we lowercase our text and use the Natural Language Toolkit (NLTK) to tokenize it. Tokenizing breaks up the the document into individual words. Finally, we use our tokens to create an NLTK Text object."
      ]
    },
    {
      "cell_type": "code",
      "execution_count": 53,
      "metadata": {
        "colab": {
          "base_uri": "https://localhost:8080/"
        },
        "id": "EOfqusj6QQfj",
        "outputId": "06d4bc03-7a76-42a6-c0b6-59edb2659a5a"
      },
      "outputs": [
        {
          "output_type": "stream",
          "name": "stderr",
          "text": [
            "[nltk_data] Downloading package punkt to /root/nltk_data...\n",
            "[nltk_data]   Package punkt is already up-to-date!\n"
          ]
        }
      ],
      "source": [
        "# Tokenize one of the files\n",
        "import nltk  # not needed if you already imported\n",
        "nltk.download('punkt')  # again not needed if you already downloaded punkt\n",
        "file_contents = all_docs.lower()\n",
        "tokens = nltk.word_tokenize(file_contents)\n",
        "text = nltk.Text(tokens)"
      ]
    },
    {
      "cell_type": "code",
      "execution_count": 54,
      "metadata": {
        "colab": {
          "base_uri": "https://localhost:8080/"
        },
        "id": "xtBcbq1eQbtr",
        "outputId": "ea7fe910-91b5-4f77-da72-1f165a70ed26"
      },
      "outputs": [
        {
          "output_type": "execute_result",
          "data": {
            "text/plain": [
              "nltk.text.Text"
            ]
          },
          "metadata": {},
          "execution_count": 54
        }
      ],
      "source": [
        "# Verify that we have created an NLTK Text object\n",
        "type(text)"
      ]
    },
    {
      "cell_type": "code",
      "execution_count": 55,
      "metadata": {
        "colab": {
          "base_uri": "https://localhost:8080/"
        },
        "id": "Fd4bZGsHQd28",
        "outputId": "7976c45e-3b03-4991-fd49-7eee354bccb4"
      },
      "outputs": [
        {
          "output_type": "stream",
          "name": "stdout",
          "text": [
            "Displaying 25 of 33 matches:\n",
            "tāji , ceturto - basketbola skolas „ rīga '' komanda , piekto - igaunijas spor\n",
            "ajai lielupes tilta šuvei uz šosejas rīga - jelgava . tur darbi risināsies būv\n",
            "ēc budapeštas , krakovas un berlīnes rīga kļūs par ceturto pilsētu aiz čehijas\n",
            "? es nesaku , ka tie nav vajadzīgi . rīga ir rīga — latvijas galvaspilsēta . t\n",
            "aku , ka tie nav vajadzīgi . rīga ir rīga — latvijas galvaspilsēta . tikai ner\n",
            "ēlē profesionālajā pūtēju orķestrī « rīga » , jānis retenais aktīvi muzicē un \n",
            "spēlējis hokeja komandā « dinamo » ( rīga ) un latvijas valsts izlasē ; jaunie\n",
            "tikās lielajā pasākumā pie `` arēnas rīga '' . `` protams , visiem gribas izju\n",
            "kcija „ mēs par velo '' 18. jūlijs : rīga - slampe xxiv vispārējo latviešu dzi\n",
            "dzelzceļa vēstures muzejā , `` arēnā rīga '' , latvijas universitātē , starpta\n",
            "limits - 8 , - rēzekne — varakļāni — rīga ( 17.20 un 4.40 ( darba dienās ) . l\n",
            "erhofa ( roja ) , viola puškarjova ( rīga ) , diāna ančikovska ( aizkraukle ) \n",
            "ga ( ventspils ) , kristiāna pelše ( rīga ) , alīna anna petkēviča ( rīga ) un\n",
            "še ( rīga ) , alīna anna petkēviča ( rīga ) un katrīna karlīna caune ( jelgava\n",
            "adi , draugi vai paziņas . apskatīta rīga , vecrīga , ādaži , mākoņkalns , tau\n",
            "sinās ceļu un atslogos a6 maģistrāli rīga — daugavpils . — vai šis ceļš būs ar\n",
            "vai un aleksandrai tihovskai . svk « rīga » komandā par labākajām tika atzītas\n",
            "t 80 % no latvijas tūrisma tirgus un rīga kā simbols ārzemniekam pagaidām esot\n",
            "aču aizvadīs arī abi rīgas klubi vef rīga un barons , kas jau nodrošinājuši vi\n",
            "esers ( lpp/lc ) , konkursu par live rīga satura izstrādi , atjaunošanu un tul\n",
            "izdevumus ? ” 6.oktobrī kinoteātrī « rīga » notiks īpašs koncerts « liepājniek\n",
            "lapā , kas atrodas uz pieprasījumu « rīga » krievijā populārā meklētājā yandex\n",
            "ielā saimniecībā tas ir īsti vietā . rīga ir ļoti mainījusies . pirms dažām di\n",
            "jānis dūklavs . · vilciens sigulda – rīga , atiet pl.17:20 , pienāk rīgā pl . \n",
            " , ka , piemēram , 700 gadu jubileju rīga svinējusi arī ar jauniem pilsētas at\n"
          ]
        }
      ],
      "source": [
        "# Create a concordance for the given word\n",
        "text.concordance('Rīga')  # notice it gives you matches in lowercase"
      ]
    },
    {
      "cell_type": "markdown",
      "metadata": {
        "id": "ewhALtehQt7B"
      },
      "source": [
        "By default, the first 25 matches are printed along with 80 characters on each side of our string text. We can specify that more lines should be shown using a `lines` and `width` argument that accept integers."
      ]
    },
    {
      "cell_type": "code",
      "execution_count": 56,
      "metadata": {
        "colab": {
          "base_uri": "https://localhost:8080/"
        },
        "id": "D2uJ1SoCQvOq",
        "outputId": "cf901b7f-f64a-4fea-df9d-15ef650b8099"
      },
      "outputs": [
        {
          "output_type": "stream",
          "name": "stdout",
          "text": [
            "Displaying 50 of 56 matches:\n",
            "rsvars 20:17. tomēr līdz ceturtdaļas izskaņai latvija spēja panākt 24:17. kā aģentūra leta noskaidr\n",
            " nesēju latvijas valstī , pasludināja , ka `` latvija , apvienota etnogrāfiskās robežās ( kurzeme ,\n",
            "ēstis ” sazinājās pa telefonu ar sia “ maxima latvija ” preses sekretāru , lai uzzinātu par kompāni\n",
            "ficiālais nosaukums ir latvijas republika jeb latvija . `` provizoriski izvērtējot transportlīdzekļ\n",
            "ncē bronzas godalgu izcīnīja latvieši – “ ddb latvija ” tekstu autors raimonds platacis un “ cube -\n",
            "pājas tramvajs ” , projektētājs – ps „ epkb – latvija ” ; iesildoties ieteicams izmantot nūjas , sā\n",
            "tbilisi . mišu sargāt no krievu lāča : varenā latvija grib karot visās debesu pusēs . kamēr eiropas\n",
            ", kaut kā no šīs bedres reiz izķepurosies arī latvija , tai atkal vajadzēs celtniekus , oficiantus \n",
            "nīca . dome atgādina , ka nedz rēzekne , nedz latvija un a/s “ latvijas gāze ” nevar ietekmēt dabas\n",
            "iāliem pamatskolas līmenī jābūt bez maksas un latvija šai konvencijai ir pievienojusies . turklāt l\n",
            " muļķi , vai nezina situāciju . '' nē , tukša latvija nepaliks — bēdīga gan . `` šī iemesla dēļ vis\n",
            " lieliski tiek ar šo uzdevumu galā ! ” 1. sia latvija statoil liene šomase : « ziemassvētki ir dāvi\n",
            "īvi atspoguļos ltv1 rīta raidījums „ labrīt , latvija ! ” nekustamā īpašuma nodokļa ieņēmumi ( iesk\n",
            "mniekam pagaidām esot vairāk atpazīstams nekā latvija . jubilejas gadā ir ieplānota muižu nedēļa . \n",
            "avstarpējās spēlēs . īpaši sāpīgas neveiksmes latvija piedzīvoja 2006.gada turīnas olimpiādē , kad \n",
            "s pirkšanu nevienam intereses neesot . šobrīd latvija atjaunojamo energoresursu īpatsvara ziņā ir o\n",
            "ja pilsētā » un prezentācijas tēma « lidojošā latvija , kur austrumi satiek rietumus » uzrunā izstā\n",
            "ēts inkriminēt izmeklēšanas gaitā . `` maxima latvija '' preses sekretārs ivars andiņš atklāja , ka\n",
            "jums ievērojami sarucis . '' « sorosa fonda - latvija » konsultants jānis baltačs atgādināja , ka š\n",
            "o parūpējās šī gada konkursa « mis un misters latvija » finālisti . pirmdienas vakarā jaunieši tika\n",
            "mgales olimpiskajā centrā lielais volejbols : latvija – ungārija skatoties televīzijas raidījumus s\n",
            " kauperu , '' komentē kristīne britāne , bite latvija marketinga vadītāja . - kāda , arī ņemot vērā\n",
            "latu mēnesī , liecina veikalu tīkla `` maxima latvija '' veiktā aptauja . santai piemīt īpašības , \n",
            "ā un patlaban 95. markas benzīna litrs sia `` latvija statoil '' maksā 90,5 santīmus , `` lukoil ''\n",
            " . tā būs maksa par sen pieņemtiem lēmumiem - latvija ir apsolījusi pildīt direktīvu , kas paredz e\n",
            " solījumu zaļās enerģijas īpatsvara pieaugumā latvija ir eiropas rekordiste tūlīt aiz zviedrijas , \n",
            "oda ir pirmā valoda . 2015. gada pirmajā pusē latvija pārņems es prezidentūru , un starptautiskā fr\n",
            "entu koridora noteikšana maksājumu lielumam . latvija kopā ar citām sabiedrotajām valstīm ir ieinte\n",
            "is ar pašreiz zemāku atbalsta likmi , t.sk. , latvija , pastāv uz pēc iespējas īsāku pārejas period\n",
            " » rīgas maratonā , kur viņš skrēja 10 km . — latvija ir silta zeme ar simpātiskiem , laipniem un i\n",
            "n '' , `` mans vīriņš '' , `` johaidī '' , `` latvija , zeme visskaistākā '' , `` kāzu jubileja '' \n",
            " ieguves vietas , un dombrovskis atklāja , ka latvija ir ieinteresēta piesaistīt asv ekspertus , la\n",
            "tiņš : – valsts prezidents jau paziņojis , ka latvija atbalstot bezvīzu režīma ieviešanu ar krievij\n",
            "upā ; par ko ? man kā latvietim ir kauns , ka latvija , kas 1935. gadā bija eiropas čempioni , krie\n",
            " ka jauniešiem interesē gan vēsture , gan rūp latvija šodien , tikai viņiem jāpastāsta lietas būtīb\n",
            "a urbanoviča grāmatu `` nākotnes melnraksti . latvija 1934 . -1941. '' . liepājā nopietnas problēma\n",
            "esko eesti » as ) , latvijā ( sia « konekesko latvija » ) , lietuvā ( « uab konekesko lietuva » ) u\n",
            " 75 % , i.zolotarjovam - 21,25 % . `` komkeri latvija '' pieder krievijas iedzīvotājam genādijam go\n",
            "ndēt pēc 2004. gada es uzņemtās valstis , arī latvija , šo finansējumu izmantojot tikai ten-t proje\n",
            "nansējumu izmantojot tikai ten-t projektiem . latvija varētu pretendēt arī uz finansējumu no pārējā\n",
            " n. ušakovs . valsts prezidents atzīmēja , ka latvija ir pasaulē varenākās militārās alianses biedr\n",
            " krita pirātu gūstā . brīvā tirgus ēnas puses latvija ir viens neliels asv satelīts , bet mūsu teri\n",
            "iens ir likuma pārkāpums , '' sacīja orlovs . latvija vēl nav tikusi galā ar “ parex ” un zviedru b\n",
            "ājs jānis reirs ceturtdien teica , ka pašlaik latvija no lietuvas sagaida atbildīgu rīcību un to , \n",
            " latvijas krājbanku '' . `` pirms trim gadiem latvija glāba `` parex banku '' un arī lietuvas filiā\n",
            "es . paredzēts , ka projektā iesaistīsies arī latvija un igaunija , kā arī bija plānota polijas līd\n",
            " jaunās aes būvniecībā iesaistīsies lietuva , latvija , igaunija un polija . šodien gājējiem tiks a\n",
            "ietu . tas rada problēmas tūkstošiem ģimeņu . latvija ir pirmajā vietā eiropā , kur ģimenēm ar bērn\n",
            "i ar kādu konkrētu tarifu plānu , norāda bite latvija klientu apkalpošanas vadītāja oksana stankevi\n",
            "eiro ( 140 miljonus latu ) , taču jau pašlaik latvija ir attiekusies tos pieņemt , ņemot vērā pašre\n"
          ]
        }
      ],
      "source": [
        "# Create a concordance for the given word\n",
        "# Increasing lines shown and number of characters\n",
        "text.concordance('Latvija', lines=50, width=100)"
      ]
    },
    {
      "cell_type": "markdown",
      "metadata": {
        "id": "uwzZJ-47Q9Ed"
      },
      "source": [
        "If we want to supply a bigram, trigram, or longer construction, they are supplied as individual strings within a Python list. (If you try to supply a string with a space in the middle, there will be no results.)"
      ]
    },
    {
      "cell_type": "code",
      "execution_count": 57,
      "metadata": {
        "colab": {
          "base_uri": "https://localhost:8080/"
        },
        "id": "Srxv5oxCQ5IP",
        "outputId": "7eded3ae-b967-4bbb-8ec8-76b9e34547b1"
      },
      "outputs": [
        {
          "output_type": "stream",
          "name": "stdout",
          "text": [
            "Displaying 8 of 8 matches:\n",
            "ksa par sen pieņemtiem lēmumiem - latvija ir apsolījusi pildīt direktīvu , kas\n",
            "ļās enerģijas īpatsvara pieaugumā latvija ir eiropas rekordiste tūlīt aiz zvie\n",
            "atonā , kur viņš skrēja 10 km . — latvija ir silta zeme ar simpātiskiem , laip\n",
            "tas , un dombrovskis atklāja , ka latvija ir ieinteresēta piesaistīt asv ekspe\n",
            ". valsts prezidents atzīmēja , ka latvija ir pasaulē varenākās militārās alian\n",
            "u gūstā . brīvā tirgus ēnas puses latvija ir viens neliels asv satelīts , bet \n",
            "ada problēmas tūkstošiem ģimeņu . latvija ir pirmajā vietā eiropā , kur ģimenē\n",
            "iljonus latu ) , taču jau pašlaik latvija ir attiekusies tos pieņemt , ņemot v\n"
          ]
        }
      ],
      "source": [
        "# Create a concordance for a sequence of words\n",
        "text.concordance(['Latvija', 'ir'])"
      ]
    },
    {
      "cell_type": "code",
      "source": [
        "text.concordance('Latvija ir')"
      ],
      "metadata": {
        "id": "FKbOvlF1WS5w",
        "outputId": "5069d027-6747-46b5-9bc5-b41d84d2dec4",
        "colab": {
          "base_uri": "https://localhost:8080/"
        }
      },
      "execution_count": 58,
      "outputs": [
        {
          "output_type": "stream",
          "name": "stdout",
          "text": [
            "no matches\n"
          ]
        }
      ]
    },
    {
      "cell_type": "markdown",
      "metadata": {
        "id": "T1iSikW6ROoR"
      },
      "source": [
        "This method works well for a quick preview of the lines, but if we want to save this concordance for later analysis we can use the `.concordance_list()` method. The `.concordance_list()` method outputs a list, but the elements of that list *are not* simple strings. They are ConcordanceLine objects."
      ]
    },
    {
      "cell_type": "code",
      "execution_count": 59,
      "metadata": {
        "id": "XI3V-jfLRQen"
      },
      "outputs": [],
      "source": [
        "# Output the concordance data\n",
        "output_list = text.concordance_list(['Latvija', 'ir'], width=200, lines=50)  # we do not have 50 matches in our dataset"
      ]
    },
    {
      "cell_type": "code",
      "execution_count": 60,
      "metadata": {
        "colab": {
          "base_uri": "https://localhost:8080/"
        },
        "id": "7VqhAHkCRHb8",
        "outputId": "32ca1189-dfe0-4166-dbf1-95f67903dad3"
      },
      "outputs": [
        {
          "output_type": "execute_result",
          "data": {
            "text/plain": [
              "nltk.text.ConcordanceLine"
            ]
          },
          "metadata": {},
          "execution_count": 60
        }
      ],
      "source": [
        "type(output_list[0])"
      ]
    },
    {
      "cell_type": "code",
      "execution_count": 61,
      "metadata": {
        "colab": {
          "base_uri": "https://localhost:8080/",
          "height": 53
        },
        "id": "tJC-ZB9LRrzw",
        "outputId": "e6715f2e-3a61-42f6-ec70-539092b15b30"
      },
      "outputs": [
        {
          "output_type": "execute_result",
          "data": {
            "text/plain": [
              "'raud pieaugt vēl vairāk , nekā solīts uz 1.aprīli . tā būs maksa par sen pieņemtiem lēmumiem - latvija ir apsolījusi pildīt direktīvu , kas paredz elektrības galapatēriņā 40 % saražot no atjaunojamaji'"
            ],
            "application/vnd.google.colaboratory.intrinsic+json": {
              "type": "string"
            }
          },
          "metadata": {},
          "execution_count": 61
        }
      ],
      "source": [
        "# We can view individual lines by using a Python list index followed by .line.\n",
        "output_list[0].line"
      ]
    },
    {
      "cell_type": "code",
      "source": [
        "output_list[0].query"
      ],
      "metadata": {
        "id": "2XTeADP_Wygw",
        "outputId": "d7a20ea6-4c81-40f3-c802-f082b593ba88",
        "colab": {
          "base_uri": "https://localhost:8080/",
          "height": 35
        }
      },
      "execution_count": 65,
      "outputs": [
        {
          "output_type": "execute_result",
          "data": {
            "text/plain": [
              "'latvija ir'"
            ],
            "application/vnd.google.colaboratory.intrinsic+json": {
              "type": "string"
            }
          },
          "metadata": {},
          "execution_count": 65
        }
      ]
    },
    {
      "cell_type": "markdown",
      "metadata": {
        "id": "kEOUvXeZR3Ph"
      },
      "source": [
        "If we want to save our concordance, we can write to a file line-by-line."
      ]
    },
    {
      "cell_type": "code",
      "execution_count": 66,
      "metadata": {
        "id": "K9-09WRYR2er"
      },
      "outputs": [],
      "source": [
        "# Writing the concordance to a text file\n",
        "\n",
        "# encoding=\"utf-8\" is very important for languages using symbols outside regular English characters\n",
        "with open('my_concordance.txt', mode='w',encoding=\"utf-8\") as f:\n",
        "    for row in output_list:\n",
        "        f.write(row.line)\n",
        "        f.write('\\n')"
      ]
    },
    {
      "cell_type": "markdown",
      "metadata": {
        "id": "d6bvdCvfSXme"
      },
      "source": [
        "### Download your files from cloud instances before finishing work!\n",
        "If you are on a local Anaconda installation you already have a file my_concordance.txt in the same directory as this notebook NLTK_Introductions.ipynb\n",
        "\n",
        "In Google Colab the file resides in the virtual machine provided by Google.\n",
        "\n",
        "Thus you need to download the file to your computer.\n",
        "\n",
        "Open the little Folder symbol to expand file view\n",
        "Click on three dots to the right of my_concordances.txt\n",
        "Choose Download"
      ]
    },
    {
      "cell_type": "markdown",
      "metadata": {
        "id": "pp6aoH59LLhn"
      },
      "source": [
        "### Dispersion plot"
      ]
    },
    {
      "cell_type": "markdown",
      "metadata": {
        "id": "JCHOtXvVS74z"
      },
      "source": [
        "Lastly, NLTK can create a dispersion plot that helps visualize where tokens occur in the document. This can reveal the way words are used in the document over time."
      ]
    },
    {
      "cell_type": "code",
      "execution_count": 68,
      "metadata": {
        "colab": {
          "base_uri": "https://localhost:8080/",
          "height": 295
        },
        "id": "RmxpCvngS845",
        "outputId": "d4a4615f-6f56-4374-81be-e462fac8d2a9"
      },
      "outputs": [
        {
          "output_type": "display_data",
          "data": {
            "text/plain": [
              "<Figure size 432x288 with 1 Axes>"
            ],
            "image/png": "[encoded data removed]"
          },
          "metadata": {
            "needs_background": "light"
          }
        }
      ],
      "source": [
        "text.dispersion_plot(['latvija', 'basketbols', 'futbols', 'vēlēšanas'])"
      ]
    },
    {
      "cell_type": "markdown",
      "metadata": {
        "id": "A3WrsuE-LLho"
      },
      "source": [
        "### Normalizing text\n",
        "\n",
        "\"basketbols\" appears in the dispersion plot just a few times. Let's see how often it is mentioned in the text."
      ]
    },
    {
      "cell_type": "code",
      "execution_count": 69,
      "metadata": {
        "id": "C1ueub-NLLho",
        "outputId": "8203d0e0-7173-45f9-b470-9c793d0f2731",
        "colab": {
          "base_uri": "https://localhost:8080/"
        }
      },
      "outputs": [
        {
          "output_type": "stream",
          "name": "stdout",
          "text": [
            "basketbols\n",
            "basketbols\n",
            "basketbols\n"
          ]
        }
      ],
      "source": [
        "for item in text:\n",
        "    if item == \"basketbols\":\n",
        "        print(item)"
      ]
    },
    {
      "cell_type": "code",
      "execution_count": 70,
      "metadata": {
        "id": "3ED3hSHhLLhp",
        "outputId": "a35dec49-14f8-47ef-aac3-b2fd7f803df9",
        "colab": {
          "base_uri": "https://localhost:8080/"
        }
      },
      "outputs": [
        {
          "output_type": "stream",
          "name": "stdout",
          "text": [
            "basketbola\n",
            "basketbola\n",
            "basketbola\n",
            "basketbola\n",
            "basketbola\n",
            "basketbolistes\n",
            "basketbola\n",
            "basketbolisti\n",
            "basketbolisti\n",
            "basketbolistu\n",
            "basketbola\n",
            "basketbolu\n",
            "basketbolisti\n",
            "basketbols\n",
            "basketbola\n",
            "basketbola\n",
            "basketbola\n",
            "basketbolam\n",
            "basketbols\n",
            "basketbols\n",
            "basketbolista\n"
          ]
        }
      ],
      "source": [
        "import regex\n",
        "\n",
        "for item in text:\n",
        "    if regex.match(r\"basket.*\", item):\n",
        "        print(item)"
      ]
    },
    {
      "cell_type": "markdown",
      "metadata": {
        "id": "_3a9rLvkLLhq"
      },
      "source": [
        "**Normalizing text is covered in NLTK Book section 3.6:**\n",
        "https://www.nltk.org/book/ch03.html#sec-normalizing-text\n",
        "\n",
        "We already normalized / converted text to lowercase but that's not enough. \n",
        "\n",
        "We may want to go further and strip off any affixes, a task known as *stemming*. A further step is to make sure that the resulting form is a known word in a dictionary, a task known as *lemmatization*. \n",
        "\n",
        "NLTK offers some stemming and lemmatization functions but they are limited to just some languages (e.g. Latvian is not one of them).\n",
        " \n",
        "https://www.nltk.org/api/nltk.stem.html"
      ]
    },
    {
      "cell_type": "code",
      "execution_count": 71,
      "metadata": {
        "id": "hjzPW0TkLLhr",
        "outputId": "3b41d803-ef6c-4767-91f4-111bbd0f45f6",
        "colab": {
          "base_uri": "https://localhost:8080/"
        }
      },
      "outputs": [
        {
          "output_type": "stream",
          "name": "stdout",
          "text": [
            "denni : listen , strang women lie in pond distribut sword is no basi for a system of govern . suprem execut power deriv from a mandat from the mass , not from some farcic aquat ceremoni . "
          ]
        }
      ],
      "source": [
        "raw = \"\"\"DENNIS: Listen, strange women lying in ponds distributing swords\n",
        "is no basis for a system of government.  Supreme executive power derives from\n",
        "a mandate from the masses, not from some farcical aquatic ceremony.\"\"\"\n",
        "\n",
        "tokens = word_tokenize(raw)\n",
        "\n",
        "porter = nltk.PorterStemmer()\n",
        "\n",
        "for t in tokens:\n",
        "    print(porter.stem(t), end=\" \")"
      ]
    },
    {
      "cell_type": "code",
      "source": [
        "nltk.download('omw-1.4')"
      ],
      "metadata": {
        "id": "5uZrxsAaZmWd",
        "outputId": "01f40287-1280-4159-85ce-37b47bf74f2b",
        "colab": {
          "base_uri": "https://localhost:8080/"
        }
      },
      "execution_count": 73,
      "outputs": [
        {
          "output_type": "stream",
          "name": "stderr",
          "text": [
            "[nltk_data] Downloading package omw-1.4 to /root/nltk_data...\n"
          ]
        },
        {
          "output_type": "execute_result",
          "data": {
            "text/plain": [
              "True"
            ]
          },
          "metadata": {},
          "execution_count": 73
        }
      ]
    },
    {
      "cell_type": "code",
      "execution_count": 74,
      "metadata": {
        "id": "Z5FUvrqzLLht",
        "outputId": "6e85b84c-e5b1-4db3-e7c6-d35a5a8a6e77",
        "colab": {
          "base_uri": "https://localhost:8080/"
        }
      },
      "outputs": [
        {
          "output_type": "stream",
          "name": "stdout",
          "text": [
            "DENNIS : Listen , strange woman lying in pond distributing sword is no basis for a system of government . Supreme executive power derives from a mandate from the mass , not from some farcical aquatic ceremony . "
          ]
        }
      ],
      "source": [
        "from nltk.stem import WordNetLemmatizer\n",
        "wnl = WordNetLemmatizer()\n",
        "\n",
        "for t in tokens:\n",
        "    print(wnl.lemmatize(t), end=\" \")"
      ]
    },
    {
      "cell_type": "markdown",
      "metadata": {
        "id": "D0cqJFhkLLhu"
      },
      "source": [
        "If the language of our text is not supported by NLTK we can use another library: \n",
        "\n",
        "simplemma: https://pypi.org/project/simplemma/\n",
        "\n",
        "More information: [A simple multilingual lemmatizer for Python](https://adrien.barbaresi.eu/blog/simple-multilingual-lemmatizer-python.html)\n"
      ]
    },
    {
      "cell_type": "code",
      "execution_count": 77,
      "metadata": {
        "id": "gN-a1B_WLLhv",
        "outputId": "4ab6752e-86ef-4982-ad43-b44dd5bcc9e0",
        "colab": {
          "base_uri": "https://localhost:8080/"
        }
      },
      "outputs": [
        {
          "output_type": "stream",
          "name": "stdout",
          "text": [
            "Looking in indexes: https://pypi.org/simple, https://us-python.pkg.dev/colab-wheels/public/simple/\n",
            "Collecting simplemma\n",
            "  Downloading simplemma-0.7.0-py3-none-any.whl (73.4 MB)\n",
            "\u001b[K     |████████████████████████████████| 73.4 MB 10 kB/s \n",
            "\u001b[?25hInstalling collected packages: simplemma\n",
            "Successfully installed simplemma-0.7.0\n"
          ]
        }
      ],
      "source": [
        "# we may need to install simplemma first (uncomment the following line to do that)\n",
        "!pip install simplemma"
      ]
    },
    {
      "cell_type": "code",
      "execution_count": 78,
      "metadata": {
        "id": "Y63TrZpuLLhw"
      },
      "outputs": [],
      "source": [
        "import simplemma as sl"
      ]
    },
    {
      "cell_type": "code",
      "execution_count": 79,
      "metadata": {
        "id": "KGicI8DjLLhw",
        "outputId": "4e5163c6-1e7c-4883-a338-47065856cfbf",
        "colab": {
          "base_uri": "https://localhost:8080/"
        }
      },
      "outputs": [
        {
          "output_type": "stream",
          "name": "stdout",
          "text": [
            "DENNIS : listen , strange woman lie in pond distribute sword be no basis for a system of government . supreme executive power derive from a mandate from the masse , not from some farcical aquatic ceremony . "
          ]
        }
      ],
      "source": [
        "for t in tokens:\n",
        "    print(sl.lemmatize(t, lang=\"en\"), end=\" \")"
      ]
    },
    {
      "cell_type": "code",
      "source": [
        "type(text)"
      ],
      "metadata": {
        "id": "Xj0wFS3GbYce",
        "outputId": "16dfa6ae-064d-4acf-9512-1f2c4f07df37",
        "colab": {
          "base_uri": "https://localhost:8080/"
        }
      },
      "execution_count": 80,
      "outputs": [
        {
          "output_type": "execute_result",
          "data": {
            "text/plain": [
              "nltk.text.Text"
            ]
          },
          "metadata": {},
          "execution_count": 80
        }
      ]
    },
    {
      "cell_type": "code",
      "source": [
        "len(text)"
      ],
      "metadata": {
        "id": "L3OP1XEXbbTA",
        "outputId": "b17ef39e-2f51-4daa-aab2-b334dce77052",
        "colab": {
          "base_uri": "https://localhost:8080/"
        }
      },
      "execution_count": 81,
      "outputs": [
        {
          "output_type": "execute_result",
          "data": {
            "text/plain": [
              "231727"
            ]
          },
          "metadata": {},
          "execution_count": 81
        }
      ]
    },
    {
      "cell_type": "code",
      "execution_count": 87,
      "metadata": {
        "id": "Jwb8_UOJLLhw",
        "outputId": "b558646f-8d1c-400b-d179-41dedfe313a7",
        "colab": {
          "base_uri": "https://localhost:8080/"
        }
      },
      "outputs": [
        {
          "output_type": "execute_result",
          "data": {
            "text/plain": [
              "['kad',\n",
              " 'maz',\n",
              " 'naudas',\n",
              " 'veselības',\n",
              " 'aprūpei',\n",
              " 'idejas',\n",
              " ',',\n",
              " 'kā',\n",
              " 'palīdzēt',\n",
              " 'skola',\n",
              " ',',\n",
              " 'uzņēmējiem',\n",
              " 'rodoties',\n",
              " 'vēl',\n",
              " 'un',\n",
              " 'vēl',\n",
              " ',',\n",
              " 'tagad',\n",
              " 'kopīgi',\n",
              " 'ar']"
            ]
          },
          "metadata": {},
          "execution_count": 87
        }
      ],
      "source": [
        "buf = []\n",
        "\n",
        "for item in text[:100]:\n",
        "    buf.append(sl.lemmatize(item, lang=\"lt\"))\n",
        "               \n",
        "buf[:20]"
      ]
    },
    {
      "cell_type": "code",
      "source": [
        "from google.colab import drive\n",
        "drive.mount('/content/drive')"
      ],
      "metadata": {
        "id": "GHWeBgxCehg7",
        "outputId": "72eec3f3-6e80-4c96-af4f-f62732d8d2bc",
        "colab": {
          "base_uri": "https://localhost:8080/"
        }
      },
      "execution_count": 93,
      "outputs": [
        {
          "output_type": "stream",
          "name": "stdout",
          "text": [
            "Mounted at /content/drive\n"
          ]
        }
      ]
    },
    {
      "cell_type": "code",
      "source": [
        ""
      ],
      "metadata": {
        "id": "GYN-mN9vc-m8"
      },
      "execution_count": null,
      "outputs": []
    },
    {
      "cell_type": "code",
      "execution_count": 83,
      "metadata": {
        "id": "YGtS-LlyLLhx"
      },
      "outputs": [],
      "source": [
        "text_new = nltk.Text(buf)"
      ]
    },
    {
      "cell_type": "code",
      "source": [
        "text_new.concordance(\"Rīga\")"
      ],
      "metadata": {
        "id": "je417o6OdAVr",
        "outputId": "f4ee976b-9806-4ba8-99b8-198f34cdd8fd",
        "colab": {
          "base_uri": "https://localhost:8080/"
        }
      },
      "execution_count": 89,
      "outputs": [
        {
          "output_type": "stream",
          "name": "stdout",
          "text": [
            "Displaying 25 of 361 matches:\n",
            "peļņu . vispirms pasākums dalībnieks Rīga skolēns pils teātris « zīļuks » pied\n",
            "s atcerēties , kā mēs sapņot , ka no Rīga lauksaimniecība ministrija pārcels u\n",
            " pēc tas vērst savs skats uz augša . Rīga zoodārzā zilonis būt apskatāmi , jo \n",
            " Jānis alksnis , šobrīd darbs notikt Rīga iela kreisais puse virziens uz Rīga \n",
            " Rīga iela kreisais puse virziens uz Rīga . nākamnedēļ sagatavošanas darbs plā\n",
            "tērpus pasūtījušas 1. līdz 5.klase , Rīga 67.vidusskolā 1. līdz 4.klase , Rīga\n",
            "Rīga 67.vidusskolā 1. līdz 4.klase , Rīga 74.viduskolā 1.klase , Rīga itas koz\n",
            ".klase , Rīga 74.viduskolā 1.klase , Rīga itas kozakēvičas polis vidusskola 1.\n",
            "ieviestas vienots žaketes , savukārt Rīga 88.vidusskolā formu ieviešana būt pr\n",
            "sskolā formu ieviešana būt process . Rīga dome pasažiere komercpārvadājumu lic\n",
            "odien akceptējusi pašvaldības sia `` Rīga satiksme '' sagatavoto sabiedriskā t\n",
            " projekts , aģentūra leta pastāstīja Rīga dome satiksmes departamenta preses s\n",
            "airbaltic '' varēt veikt lidojums no Rīga uz Ķīna galvaspilsēta Pekina , Indij\n",
            "adītā mācība gads absolvents , tagad Rīga ekonomika augstskolas students edgar\n",
            " , piemērs , 1 % apmērs nīn par zeme Rīga un Rīga rajonā 2008.gadā vidēji piea\n",
            "rs , 1 % apmērs nīn par zeme Rīga un Rīga rajonā 2008.gadā vidēji pieaugtu att\n",
            "ī `` seb unibanka '' . tas atrasties Rīga lielais tirdzniecība centrs , viens \n",
            "ns 0.50 jelgavas rajona ozolniekos , Rīga iela pagaidīt nenoskaidrots autovadī\n",
            "e radīt kultūra labvēlīgs vide ārpus Rīga , mēģināt lauzt objektīvi radis ster\n",
            "es pils direktors imants lancmanis , Rīga pilsēta galvenais arhitekts Jānis dr\n",
            "nīgs sala , '' viņš stāstīt . šodien Rīga zoodārzā tikt svinīgi atklāta jauns \n",
            "š festivāls notikt Ogre , Valmiera , Rīga , Rēzekne un ikšķilē . līdz jūlijs š\n",
            "āji , ceturtais - basketbols skola „ Rīga '' komanda , piektais - Igaunija spo\n",
            "ens 17.50 jelgavas rajona ozolniekos Rīga šosejas un saule iela krustojumā 195\n",
            "iecības temps , kā arī precizējot `` Rīga siltums '' investīciju apjoma laiks \n"
          ]
        }
      ]
    },
    {
      "cell_type": "code",
      "source": [
        "text.concordance(\"Rīg[aāu]\")\n"
      ],
      "metadata": {
        "id": "Vqfa8jLkdeY4",
        "outputId": "dda52ea0-18d9-4baf-c4f0-d3469813ea0c",
        "colab": {
          "base_uri": "https://localhost:8080/"
        }
      },
      "execution_count": 92,
      "outputs": [
        {
          "output_type": "stream",
          "name": "stdout",
          "text": [
            "no matches\n"
          ]
        }
      ]
    },
    {
      "cell_type": "code",
      "execution_count": 84,
      "metadata": {
        "id": "mxRrZuGzLLhx",
        "outputId": "4925b62e-1a2c-4248-d8c8-82676e210963",
        "colab": {
          "base_uri": "https://localhost:8080/",
          "height": 295
        }
      },
      "outputs": [
        {
          "output_type": "display_data",
          "data": {
            "text/plain": [
              "<Figure size 432x288 with 1 Axes>"
            ],
            "image/png": "[encoded data removed]"
          },
          "metadata": {
            "needs_background": "light"
          }
        }
      ],
      "source": [
        "text_new.dispersion_plot(['Latvija', 'basketbols', 'futbols', 'vēlēšanas'])"
      ]
    },
    {
      "cell_type": "markdown",
      "metadata": {
        "id": "PA4CMUHWKh8D"
      },
      "source": [
        "---\n",
        "\n",
        "## Your turn!\n",
        "\n",
        "Choose some text and **explore it using NLTK** (following the examples in this notebook).\n",
        "\n",
        "**Write code in notebook cells below**.\n",
        "* add more cells (use \"+\" icon) if necessary\n",
        "\n",
        "You may use NLTK text corpora or load your own text."
      ]
    },
    {
      "cell_type": "code",
      "execution_count": 95,
      "metadata": {
        "id": "8s86X2XzKh8D",
        "outputId": "0c4e42ba-2b34-4d99-e0c4-77dcc1852347",
        "colab": {
          "base_uri": "https://localhost:8080/"
        }
      },
      "outputs": [
        {
          "output_type": "execute_result",
          "data": {
            "text/plain": [
              "162966"
            ]
          },
          "metadata": {},
          "execution_count": 95
        }
      ],
      "source": [
        "with open(\"drive/MyDrive/13177-8.txt\", encoding=\"windows-1252\") as f:\n",
        "    text = f.read()\n",
        "len(text)"
      ]
    },
    {
      "cell_type": "code",
      "execution_count": 96,
      "metadata": {
        "id": "7lPrapprKh8D",
        "outputId": "44f53569-05b0-4a3d-b34c-a0ae0e711527",
        "colab": {
          "base_uri": "https://localhost:8080/",
          "height": 53
        }
      },
      "outputs": [
        {
          "output_type": "execute_result",
          "data": {
            "text/plain": [
              "'The Project Gutenberg EBook of Chocolate and Cocoa Recipes and Home Made\\nCandy Recipes, by Miss Parl'"
            ],
            "application/vnd.google.colaboratory.intrinsic+json": {
              "type": "string"
            }
          },
          "metadata": {},
          "execution_count": 96
        }
      ],
      "source": [
        "text[:100]"
      ]
    },
    {
      "cell_type": "code",
      "execution_count": 102,
      "metadata": {
        "id": "E9gCpF3qKh8D",
        "outputId": "1f3f3035-9844-4766-d2db-20b6256bd321",
        "colab": {
          "base_uri": "https://localhost:8080/"
        }
      },
      "outputs": [
        {
          "output_type": "execute_result",
          "data": {
            "text/plain": [
              "32301"
            ]
          },
          "metadata": {},
          "execution_count": 102
        }
      ],
      "source": [
        "lower_case = text.lower()\n",
        "tokens = word_tokenize(lower_case)\n",
        "len(tokens)"
      ]
    },
    {
      "cell_type": "code",
      "source": [
        "cookbook = nltk.Text(tokens)\n"
      ],
      "metadata": {
        "id": "tlgoE7WhfL71"
      },
      "execution_count": 103,
      "outputs": []
    },
    {
      "cell_type": "code",
      "source": [
        "cookbook.count(\"chocolate\")"
      ],
      "metadata": {
        "id": "mGwcgv3SfQVV",
        "outputId": "cd555180-d300-4b50-d100-a542b78cc6c3",
        "colab": {
          "base_uri": "https://localhost:8080/"
        }
      },
      "execution_count": 104,
      "outputs": [
        {
          "output_type": "execute_result",
          "data": {
            "text/plain": [
              "512"
            ]
          },
          "metadata": {},
          "execution_count": 104
        }
      ]
    },
    {
      "cell_type": "code",
      "source": [
        "cookbook.dispersion_plot([\"milk\", \"cookie\", \"chocolate\",\"water\", \"cream\"])"
      ],
      "metadata": {
        "id": "JEaCKdWtfetJ",
        "outputId": "506a87a2-14e0-46e6-c7b5-0816f63ee1eb",
        "colab": {
          "base_uri": "https://localhost:8080/",
          "height": 295
        }
      },
      "execution_count": 106,
      "outputs": [
        {
          "output_type": "display_data",
          "data": {
            "text/plain": [
              "<Figure size 432x288 with 1 Axes>"
            ],
            "image/png": "[encoded data removed]"
          },
          "metadata": {
            "needs_background": "light"
          }
        }
      ]
    }
  ],
  "metadata": {
    "colab": {
      "name": "NLTK_Introduction.ipynb",
      "provenance": []
    },
    "kernelspec": {
      "display_name": "Python 3 (ipykernel)",
      "language": "python",
      "name": "python3"
    },
    "language_info": {
      "codemirror_mode": {
        "name": "ipython",
        "version": 3
      },
      "file_extension": ".py",
      "mimetype": "text/x-python",
      "name": "python",
      "nbconvert_exporter": "python",
      "pygments_lexer": "ipython3",
      "version": "3.7.12"
    }
  },
  "nbformat": 4,
  "nbformat_minor": 0
}
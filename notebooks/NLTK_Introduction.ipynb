{
 "cells": [
  {
   "cell_type": "markdown",
   "metadata": {
    "id": "KXReOs-4Kh7w"
   },
   "source": [
    "## Natural Language Toolkit (NLTK)\n",
    "\n",
    "**NLTK** is a leading platform for building Python programs to work with human language data. It provides easy-to-use interfaces to [over 50 corpora and lexical resources](http://www.nltk.org/nltk_data/) such as WordNet, along with a suite of text processing libraries for classification, tokenization, stemming, tagging, parsing, and semantic reasoning, wrappers for industrial-strength NLP libraries, and an active discussion forum.\n",
    "\n",
    "http://www.nltk.org/\n",
    "\n",
    "NLTK library documentation (reference) = *Use it to look up how to use a particular NLTK library function*\n",
    "* https://www.nltk.org/api/nltk.html\n",
    "\n",
    "---\n",
    "\n",
    "NLTK wiki (collaboratively edited documentation):\n",
    "* https://github.com/nltk/nltk/wiki"
   ]
  },
  {
   "cell_type": "markdown",
   "metadata": {
    "id": "3Q4oMz88Kh71"
   },
   "source": [
    "### Book: Natural Language Processing with Python \n",
    "\n",
    "NLTK book provides a practical introduction to programming for language processing.\n",
    "\n",
    "Written by the creators of NLTK, it guides the reader through the fundamentals of writing Python programs, working with corpora, categorizing text, analyzing linguistic structure, and more.\n",
    "\n",
    "Online: http://www.nltk.org/book/\n",
    "\n",
    "* we will start with Chapter 1: [\"Language Processing and Python\"](http://www.nltk.org/book/ch01.html)\n",
    "\n",
    "---"
   ]
  },
  {
   "cell_type": "code",
   "execution_count": 1,
   "metadata": {
    "id": "BrPrMZ4RKh72"
   },
   "outputs": [],
   "source": [
    "# configuration for the notebook \n",
    "%matplotlib notebook"
   ]
  },
  {
   "cell_type": "markdown",
   "metadata": {
    "id": "c211Je63Kh73"
   },
   "source": [
    "## 1) Getting started\n",
    "\n",
    "NLTK book: http://www.nltk.org/book/ch01.html#getting-started-with-nltk\n",
    "\n",
    "* Loading NLTK (Python module)\n",
    "* Downloading NLTK language resources (corpora, ...)\n"
   ]
  },
  {
   "cell_type": "code",
   "execution_count": 30,
   "metadata": {
    "id": "P3wVnd6JKh73"
   },
   "outputs": [],
   "source": [
    "# In order to use a Python library, we need to import (load) it\n",
    "\n",
    "import nltk\n",
    "import pandas as pd # we will use it to read our data\n"
   ]
  },
  {
   "cell_type": "code",
   "execution_count": 3,
   "metadata": {
    "colab": {
     "base_uri": "https://localhost:8080/",
     "height": 35
    },
    "id": "IiDmy3H4Kh74",
    "outputId": "a9b2716b-b7b7-4de2-cf7c-0544c7b2a5bf"
   },
   "outputs": [
    {
     "data": {
      "application/vnd.google.colaboratory.intrinsic+json": {
       "type": "string"
      },
      "text/plain": [
       "'3.7'"
      ]
     },
     "execution_count": 3,
     "metadata": {},
     "output_type": "execute_result"
    }
   ],
   "source": [
    "# Let's check what NLTK version we have (for easier troubleshooting and reproducibility)\n",
    "nltk.__version__"
   ]
  },
  {
   "cell_type": "code",
   "execution_count": null,
   "metadata": {
    "id": "5oaNbYDwKh75"
   },
   "outputs": [],
   "source": [
    "# If your NLTK version is lower than 3.4.3 please update if possible.\n",
    "\n",
    "# Updating in Anaconda can be done using this command: \n",
    "# conda update nltk"
   ]
  },
  {
   "cell_type": "markdown",
   "metadata": {
    "id": "4P25KGyTKh76"
   },
   "source": [
    "### nltk.Text\n",
    "\n",
    "**`ntlk.Text` is a simple NLTK helper for loading and exploring textual content (a sequence of words / string tokens):**\n",
    "\n",
    "... intended to support initial exploration of texts (via the interactive console). It can perform a variety of analyses on the text’s contexts (e.g., counting, concordancing, collocation discovery), and display the results.\n",
    "\n",
    "Documentation: [nltk.Text](https://www.nltk.org/api/nltk.html#nltk.text.Text)\n",
    "* lists what we can do with text once it is loaded into nltk.Text(...)"
   ]
  },
  {
   "cell_type": "code",
   "execution_count": 4,
   "metadata": {
    "colab": {
     "base_uri": "https://localhost:8080/"
    },
    "id": "aGazEviJKh77",
    "outputId": "056a1043-3f02-45ab-fff9-bc24602b95a3"
   },
   "outputs": [
    {
     "data": {
      "text/plain": [
       "<Text: This is just an example Another example here...>"
      ]
     },
     "execution_count": 4,
     "metadata": {},
     "output_type": "execute_result"
    }
   ],
   "source": [
    "# Now we can try a simple example:\n",
    "\n",
    "my_word_list = [\"This\", \"is\", \"just\", \"an\", \"example\", \"Another\", \"example\", \"here\"]\n",
    "my_text = nltk.Text(my_word_list)\n",
    "\n",
    "my_text"
   ]
  },
  {
   "cell_type": "code",
   "execution_count": 5,
   "metadata": {
    "colab": {
     "base_uri": "https://localhost:8080/"
    },
    "id": "LInOevQ9Kh77",
    "outputId": "af154940-c26b-4413-a72c-2c7e4ccc8ae8"
   },
   "outputs": [
    {
     "data": {
      "text/plain": [
       "nltk.text.Text"
      ]
     },
     "execution_count": 5,
     "metadata": {},
     "output_type": "execute_result"
    }
   ],
   "source": [
    "type(my_text)"
   ]
  },
  {
   "cell_type": "code",
   "execution_count": 6,
   "metadata": {
    "colab": {
     "base_uri": "https://localhost:8080/"
    },
    "id": "cGs9PFIfKh78",
    "outputId": "38c706b8-5254-46be-b2a1-feb555a5d9d1"
   },
   "outputs": [
    {
     "data": {
      "text/plain": [
       "2"
      ]
     },
     "execution_count": 6,
     "metadata": {},
     "output_type": "execute_result"
    }
   ],
   "source": [
    "# How many times does the word \"example\" appear?\n",
    "my_text.count(\"example\")\n",
    "\n",
    "# Notes:\n",
    "#  - my_text = our text, processed (loaded) by NLTK\n",
    "#     - technically: a Python object\n",
    "#  - my_text.count(...) = requesting the object to perform a .count(...) function and return the result\n",
    "#     - technically: calling a .count() method"
   ]
  },
  {
   "cell_type": "code",
   "execution_count": 7,
   "metadata": {
    "colab": {
     "base_uri": "https://localhost:8080/"
    },
    "id": "VB6V_3NjKh78",
    "outputId": "10372e5b-7cee-48dc-d3b7-ad90c99ed712"
   },
   "outputs": [
    {
     "data": {
      "text/plain": [
       "0"
      ]
     },
     "execution_count": 7,
     "metadata": {},
     "output_type": "execute_result"
    }
   ],
   "source": [
    "# count works on tokens (full words in this case)\n",
    "my_text.count('exam')"
   ]
  },
  {
   "cell_type": "code",
   "execution_count": 8,
   "metadata": {
    "colab": {
     "base_uri": "https://localhost:8080/"
    },
    "id": "xJRLD4ZHKh78",
    "outputId": "1038575d-dbe3-4d55-905f-ade42f7810b3"
   },
   "outputs": [
    {
     "data": {
      "text/plain": [
       "False"
      ]
     },
     "execution_count": 8,
     "metadata": {},
     "output_type": "execute_result"
    }
   ],
   "source": [
    "'exam' in my_text"
   ]
  },
  {
   "cell_type": "code",
   "execution_count": 9,
   "metadata": {
    "colab": {
     "base_uri": "https://localhost:8080/"
    },
    "id": "NUHVkUsAKh79",
    "outputId": "f419c117-0764-4822-de1b-e2f685bb5e4a"
   },
   "outputs": [
    {
     "data": {
      "text/plain": [
       "True"
      ]
     },
     "execution_count": 9,
     "metadata": {},
     "output_type": "execute_result"
    }
   ],
   "source": [
    "'example' in my_text"
   ]
  },
  {
   "cell_type": "markdown",
   "metadata": {
    "id": "AnPc8tWVKh79"
   },
   "source": [
    "### Tokenizing\n",
    "\n",
    "Let's convert a text string into nltk.Text.\n",
    "First, we need to split it into tokens (to *tokenize* it). "
   ]
  },
  {
   "cell_type": "code",
   "execution_count": 10,
   "metadata": {
    "colab": {
     "base_uri": "https://localhost:8080/"
    },
    "id": "NkzEe21WKh79",
    "outputId": "2828228b-4bbb-4b2b-8d91-b711e8a620d9"
   },
   "outputs": [
    {
     "name": "stderr",
     "output_type": "stream",
     "text": [
      "[nltk_data] Downloading package punkt to /root/nltk_data...\n",
      "[nltk_data]   Unzipping tokenizers/punkt.zip.\n"
     ]
    },
    {
     "data": {
      "text/plain": [
       "True"
      ]
     },
     "execution_count": 10,
     "metadata": {},
     "output_type": "execute_result"
    }
   ],
   "source": [
    "# We need to download a package containing punctuation before we can tokenize\n",
    "import nltk # we already have this so no need to import it\n",
    "nltk.download('punkt')"
   ]
  },
  {
   "cell_type": "code",
   "execution_count": 11,
   "metadata": {
    "colab": {
     "base_uri": "https://localhost:8080/"
    },
    "id": "jv1T6GloKh7-",
    "outputId": "e70a273e-a49f-4b9f-aa4a-356d79cc7b59"
   },
   "outputs": [
    {
     "data": {
      "text/plain": [
       "['NLTK', 'has', 'been', 'called', '“', 'a']"
      ]
     },
     "execution_count": 11,
     "metadata": {},
     "output_type": "execute_result"
    }
   ],
   "source": [
    "# Splitting text into tokens (words, ...) = tokenizing\n",
    "\n",
    "from nltk.tokenize import word_tokenize\n",
    "\n",
    "excerpt = \"NLTK has been called “a wonderful tool for teaching, and working in, computational linguistics using Python,” and “an amazing library to play with natural language.”\"\n",
    "tokens = word_tokenize(excerpt)\n",
    "\n",
    "tokens[:6]"
   ]
  },
  {
   "cell_type": "code",
   "execution_count": 12,
   "metadata": {
    "colab": {
     "base_uri": "https://localhost:8080/"
    },
    "id": "r6pxVMxTKh7-",
    "outputId": "566f1bf4-d598-4868-bae4-7f450ef3315a"
   },
   "outputs": [
    {
     "name": "stdout",
     "output_type": "stream",
     "text": [
      "1\n"
     ]
    }
   ],
   "source": [
    "my_text2 = nltk.Text(tokens)\n",
    "\n",
    "print(my_text2.count(\"NLTK\"))"
   ]
  },
  {
   "cell_type": "markdown",
   "metadata": {
    "id": "QWmCHfY6Kh7-"
   },
   "source": [
    "### Downloading NLTK language resources\n",
    "\n",
    "NLTK also contains many language resources (corpora, ...) but you have select and download them separately (in order to save disk space and only download what is needed).\n",
    "\n",
    "Let's download text collections used in the NLTK book: \n",
    "* `nltk.download(\"book\")`\n",
    "\n",
    "Note: you can also download resources interactively:\n",
    "* `nltk.download()`"
   ]
  },
  {
   "cell_type": "code",
   "execution_count": 14,
   "metadata": {
    "colab": {
     "base_uri": "https://localhost:8080/"
    },
    "id": "FUvRRRMBKh7-",
    "outputId": "0f83918b-14d6-4251-d023-7d1432f2320b"
   },
   "outputs": [
    {
     "name": "stderr",
     "output_type": "stream",
     "text": [
      "[nltk_data] Downloading collection 'book'\n",
      "[nltk_data]    | \n",
      "[nltk_data]    | Downloading package abc to /root/nltk_data...\n",
      "[nltk_data]    |   Unzipping corpora/abc.zip.\n",
      "[nltk_data]    | Downloading package brown to /root/nltk_data...\n",
      "[nltk_data]    |   Unzipping corpora/brown.zip.\n",
      "[nltk_data]    | Downloading package chat80 to /root/nltk_data...\n",
      "[nltk_data]    |   Unzipping corpora/chat80.zip.\n",
      "[nltk_data]    | Downloading package cmudict to /root/nltk_data...\n",
      "[nltk_data]    |   Unzipping corpora/cmudict.zip.\n",
      "[nltk_data]    | Downloading package conll2000 to /root/nltk_data...\n",
      "[nltk_data]    |   Unzipping corpora/conll2000.zip.\n",
      "[nltk_data]    | Downloading package conll2002 to /root/nltk_data...\n",
      "[nltk_data]    |   Unzipping corpora/conll2002.zip.\n",
      "[nltk_data]    | Downloading package dependency_treebank to\n",
      "[nltk_data]    |     /root/nltk_data...\n",
      "[nltk_data]    |   Unzipping corpora/dependency_treebank.zip.\n",
      "[nltk_data]    | Downloading package genesis to /root/nltk_data...\n",
      "[nltk_data]    |   Unzipping corpora/genesis.zip.\n",
      "[nltk_data]    | Downloading package gutenberg to /root/nltk_data...\n",
      "[nltk_data]    |   Unzipping corpora/gutenberg.zip.\n",
      "[nltk_data]    | Downloading package ieer to /root/nltk_data...\n",
      "[nltk_data]    |   Unzipping corpora/ieer.zip.\n",
      "[nltk_data]    | Downloading package inaugural to /root/nltk_data...\n",
      "[nltk_data]    |   Unzipping corpora/inaugural.zip.\n",
      "[nltk_data]    | Downloading package movie_reviews to\n",
      "[nltk_data]    |     /root/nltk_data...\n",
      "[nltk_data]    |   Unzipping corpora/movie_reviews.zip.\n",
      "[nltk_data]    | Downloading package nps_chat to /root/nltk_data...\n",
      "[nltk_data]    |   Unzipping corpora/nps_chat.zip.\n",
      "[nltk_data]    | Downloading package names to /root/nltk_data...\n",
      "[nltk_data]    |   Unzipping corpora/names.zip.\n",
      "[nltk_data]    | Downloading package ppattach to /root/nltk_data...\n",
      "[nltk_data]    |   Unzipping corpora/ppattach.zip.\n",
      "[nltk_data]    | Downloading package reuters to /root/nltk_data...\n",
      "[nltk_data]    | Downloading package senseval to /root/nltk_data...\n",
      "[nltk_data]    |   Unzipping corpora/senseval.zip.\n",
      "[nltk_data]    | Downloading package state_union to /root/nltk_data...\n",
      "[nltk_data]    |   Unzipping corpora/state_union.zip.\n",
      "[nltk_data]    | Downloading package stopwords to /root/nltk_data...\n",
      "[nltk_data]    |   Unzipping corpora/stopwords.zip.\n",
      "[nltk_data]    | Downloading package swadesh to /root/nltk_data...\n",
      "[nltk_data]    |   Unzipping corpora/swadesh.zip.\n",
      "[nltk_data]    | Downloading package timit to /root/nltk_data...\n",
      "[nltk_data]    |   Unzipping corpora/timit.zip.\n",
      "[nltk_data]    | Downloading package treebank to /root/nltk_data...\n",
      "[nltk_data]    |   Unzipping corpora/treebank.zip.\n",
      "[nltk_data]    | Downloading package toolbox to /root/nltk_data...\n",
      "[nltk_data]    |   Unzipping corpora/toolbox.zip.\n",
      "[nltk_data]    | Downloading package udhr to /root/nltk_data...\n",
      "[nltk_data]    |   Unzipping corpora/udhr.zip.\n",
      "[nltk_data]    | Downloading package udhr2 to /root/nltk_data...\n",
      "[nltk_data]    |   Unzipping corpora/udhr2.zip.\n",
      "[nltk_data]    | Downloading package unicode_samples to\n",
      "[nltk_data]    |     /root/nltk_data...\n",
      "[nltk_data]    |   Unzipping corpora/unicode_samples.zip.\n",
      "[nltk_data]    | Downloading package webtext to /root/nltk_data...\n",
      "[nltk_data]    |   Unzipping corpora/webtext.zip.\n",
      "[nltk_data]    | Downloading package wordnet to /root/nltk_data...\n",
      "[nltk_data]    | Downloading package wordnet_ic to /root/nltk_data...\n",
      "[nltk_data]    |   Unzipping corpora/wordnet_ic.zip.\n",
      "[nltk_data]    | Downloading package words to /root/nltk_data...\n",
      "[nltk_data]    |   Unzipping corpora/words.zip.\n",
      "[nltk_data]    | Downloading package maxent_treebank_pos_tagger to\n",
      "[nltk_data]    |     /root/nltk_data...\n",
      "[nltk_data]    |   Unzipping taggers/maxent_treebank_pos_tagger.zip.\n",
      "[nltk_data]    | Downloading package maxent_ne_chunker to\n",
      "[nltk_data]    |     /root/nltk_data...\n",
      "[nltk_data]    |   Unzipping chunkers/maxent_ne_chunker.zip.\n",
      "[nltk_data]    | Downloading package universal_tagset to\n",
      "[nltk_data]    |     /root/nltk_data...\n",
      "[nltk_data]    |   Unzipping taggers/universal_tagset.zip.\n",
      "[nltk_data]    | Downloading package punkt to /root/nltk_data...\n",
      "[nltk_data]    |   Package punkt is already up-to-date!\n",
      "[nltk_data]    | Downloading package book_grammars to\n",
      "[nltk_data]    |     /root/nltk_data...\n",
      "[nltk_data]    |   Unzipping grammars/book_grammars.zip.\n",
      "[nltk_data]    | Downloading package city_database to\n",
      "[nltk_data]    |     /root/nltk_data...\n",
      "[nltk_data]    |   Unzipping corpora/city_database.zip.\n",
      "[nltk_data]    | Downloading package tagsets to /root/nltk_data...\n",
      "[nltk_data]    |   Unzipping help/tagsets.zip.\n",
      "[nltk_data]    | Downloading package panlex_swadesh to\n",
      "[nltk_data]    |     /root/nltk_data...\n",
      "[nltk_data]    | Downloading package averaged_perceptron_tagger to\n",
      "[nltk_data]    |     /root/nltk_data...\n",
      "[nltk_data]    |   Unzipping taggers/averaged_perceptron_tagger.zip.\n",
      "[nltk_data]    | \n",
      "[nltk_data]  Done downloading collection book\n"
     ]
    },
    {
     "data": {
      "text/plain": [
       "True"
      ]
     },
     "execution_count": 14,
     "metadata": {},
     "output_type": "execute_result"
    }
   ],
   "source": [
    "# this is a big download of all book packages\n",
    "nltk.download(\"book\")"
   ]
  },
  {
   "cell_type": "code",
   "execution_count": 16,
   "metadata": {
    "id": "nVTBPUs1Kh7_"
   },
   "outputs": [],
   "source": [
    "# After downloading the reources we still need to import them\n",
    "\n",
    "# Let's import all NLTK book resource (*)\n",
    "from nltk.book import *"
   ]
  },
  {
   "cell_type": "markdown",
   "metadata": {
    "id": "9EwcXQNvKh7_"
   },
   "source": [
    "## 2) Exploring textual content"
   ]
  },
  {
   "cell_type": "code",
   "execution_count": 17,
   "metadata": {
    "colab": {
     "base_uri": "https://localhost:8080/"
    },
    "id": "ECtX8fzqKh7_",
    "outputId": "89a36f49-d6b9-4fec-c98a-b6cd67f27652"
   },
   "outputs": [
    {
     "data": {
      "text/plain": [
       "nltk.text.Text"
      ]
     },
     "execution_count": 17,
     "metadata": {},
     "output_type": "execute_result"
    }
   ],
   "source": [
    "# text1, ... resources are of type nltk.Text (same as in the earlier example):\n",
    "\n",
    "type(text1)"
   ]
  },
  {
   "cell_type": "code",
   "execution_count": 18,
   "metadata": {
    "colab": {
     "base_uri": "https://localhost:8080/"
    },
    "id": "u-HDe1sZKh7_",
    "outputId": "c73e1f05-5d61-436d-a7ee-88ab8eb06d20"
   },
   "outputs": [
    {
     "name": "stdout",
     "output_type": "stream",
     "text": [
      "906\n"
     ]
    }
   ],
   "source": [
    "# We can run all methods that nltk.Text has.\n",
    "\n",
    "# Count words:\n",
    "print(text1.count(\"whale\"))"
   ]
  },
  {
   "cell_type": "code",
   "execution_count": 19,
   "metadata": {
    "colab": {
     "base_uri": "https://localhost:8080/"
    },
    "id": "oBdyd_r1Kh7_",
    "outputId": "2b241f36-0f15-4d88-8be4-3d0f45cf8213"
   },
   "outputs": [
    {
     "name": "stdout",
     "output_type": "stream",
     "text": [
      "Displaying 7 of 7 matches:\n",
      "cean , in order , if possible , to discover a passage through it to India , th\n",
      " throw at the whales , in order to discover when they were nigh enough to risk\n",
      "for ever reach new distances , and discover sights more sweet and strange than\n",
      "gs upon the plain , you will often discover images as of the petrified forms o\n",
      " over numberless unknown worlds to discover his one superficial western one ; \n",
      "se two heads for hours , and never discover that organ . The ear has no extern\n",
      "s keener than man ' s ; Ahab could discover no sign in the sea . But suddenly \n"
     ]
    }
   ],
   "source": [
    "# https://www.nltk.org/api/nltk.html#nltk.text.Text.concordance\n",
    "\n",
    "# Print concordance view (occurences of a word, in context):\n",
    "text1.concordance(\"discover\")"
   ]
  },
  {
   "cell_type": "code",
   "execution_count": 20,
   "metadata": {
    "colab": {
     "base_uri": "https://localhost:8080/"
    },
    "id": "BAd3tH8sKh8A",
    "outputId": "e9d4f072-581e-4806-e1c0-d3e7ef5373b5"
   },
   "outputs": [
    {
     "name": "stdout",
     "output_type": "stream",
     "text": [
      "Displaying 25 of 330 matches:\n",
      " to the character of an independent nation seems to have been distinguished by\n",
      "f Heaven can never be expected on a nation that disregards the eternal rules o\n",
      "first , the representatives of this nation , then consisting of little more th\n",
      ", situation , and relations of this nation and country than any which had ever\n",
      ", prosperity , and happiness of the nation I have acquired an habitual attachm\n",
      "an be no spectacle presented by any nation more pleasing , more noble , majest\n",
      "party for its own ends , not of the nation for the national good . If that sol\n",
      "tures and the people throughout the nation . On this subject it might become m\n",
      "if a personal esteem for the French nation , formed in a residence of seven ye\n",
      "f our fellow - citizens by whatever nation , and if success can not be obtaine\n",
      "y , continue His blessing upon this nation and its Government and give it all \n",
      "powers so justly inspire . A rising nation , spread over a wide and fruitful l\n",
      "ing now decided by the voice of the nation , announced according to the rules \n",
      "ars witness to the fact that a just nation is trusted on its word when recours\n",
      "e union of opinion which gives to a nation the blessing of harmony and the ben\n",
      "uil suffrage of a free and virtuous nation , would under any circumstances hav\n",
      "d spirit and united councils of the nation will be safeguards to its honor and\n",
      "iction that the war with a powerful nation , which forms so prominent a featur\n",
      "out breaking down the spirit of the nation , destroying all confidence in itse\n",
      "ed on the military resources of the nation . These resources are amply suffici\n",
      "the war to an honorable issue . Our nation is in number more than half that of\n",
      "ndividually have been happy and the nation prosperous . Under this Constitutio\n",
      "rights , and is able to protect the nation against injustice from foreign powe\n",
      " great agricultural interest of the nation prospers under its protection . Loc\n",
      "ak our Union , and demolish us as a nation . Our distance from Europe and the \n"
     ]
    }
   ],
   "source": [
    "text4.concordance(\"nation\")"
   ]
  },
  {
   "cell_type": "code",
   "execution_count": 21,
   "metadata": {
    "colab": {
     "base_uri": "https://localhost:8080/"
    },
    "id": "7DaGeHZYKh8A",
    "outputId": "3eb75793-2cc6-44fe-c584-4b5f7d7c829b",
    "scrolled": true
   },
   "outputs": [
    {
     "name": "stdout",
     "output_type": "stream",
     "text": [
      "country people government world union time constitution states\n",
      "republic land law earth other future party peace strength president\n",
      "way war\n"
     ]
    }
   ],
   "source": [
    "# https://www.nltk.org/api/nltk.html#nltk.text.Text.similar\n",
    "\n",
    "# Print words that appear in similar context as \"nation\".\n",
    "text4.similar(\"nation\")"
   ]
  },
  {
   "cell_type": "code",
   "execution_count": 22,
   "metadata": {
    "colab": {
     "base_uri": "https://localhost:8080/"
    },
    "id": "RChhUPlDKh8A",
    "outputId": "56ee4bd7-a900-4a40-dca6-a5bab6b1879b"
   },
   "outputs": [
    {
     "name": "stdout",
     "output_type": "stream",
     "text": [
      "that_, the_, by_, a_, that_; the_previous -_, one_, all_. the_before\n",
      "every_, by_or of_; of_. the_. this_in all_in after_, the_wore\n",
      "through_into\n"
     ]
    }
   ],
   "source": [
    "# https://www.nltk.org/api/nltk.html#nltk.text.Text.common_contexts\n",
    "\n",
    "# Find contexts common to all given words\n",
    "text1.common_contexts([\"day\", \"night\"])\n"
   ]
  },
  {
   "cell_type": "markdown",
   "metadata": {
    "id": "ZjH8eEJ6Kh8A"
   },
   "source": [
    "### Side note: Python lists\n",
    "\n",
    "A *list* contains multiple values in an ordered sequence.\n",
    "\n",
    "More about Python lists:\n",
    "* https://automatetheboringstuff.com/chapter4/"
   ]
  },
  {
   "cell_type": "code",
   "execution_count": 23,
   "metadata": {
    "colab": {
     "base_uri": "https://localhost:8080/"
    },
    "id": "cbwda6BlKh8A",
    "outputId": "9266d5ad-6c90-4356-9136-4582a3d6f90c"
   },
   "outputs": [
    {
     "name": "stdout",
     "output_type": "stream",
     "text": [
      "42\n"
     ]
    }
   ],
   "source": [
    "# nltk.Text is also a list - can do everything we can do with lists (access parts of it, ...)\n",
    "\n",
    "# What's the 1st occurence of \"He\" in the text?\n",
    "#  - note: Python is case sensitive (unless you take care of it - e.g. convert all text to lowercase)\n",
    "\n",
    "print(text1.index(\"He\"))"
   ]
  },
  {
   "cell_type": "code",
   "execution_count": 24,
   "metadata": {
    "colab": {
     "base_uri": "https://localhost:8080/"
    },
    "id": "ExM81vXJKh8A",
    "outputId": "c967756a-7210-41af-e970-e5c48157ad11"
   },
   "outputs": [
    {
     "name": "stdout",
     "output_type": "stream",
     "text": [
      "He\n"
     ]
    }
   ],
   "source": [
    "# The word at position #42\n",
    "#  - note: list indexes start from 0\n",
    "\n",
    "print(text1[42])"
   ]
  },
  {
   "cell_type": "code",
   "execution_count": 25,
   "metadata": {
    "colab": {
     "base_uri": "https://localhost:8080/"
    },
    "id": "drMJLukzKh8C",
    "outputId": "53611208-289c-4f7a-9462-78e261713c72"
   },
   "outputs": [
    {
     "name": "stdout",
     "output_type": "stream",
     "text": [
      "['He', 'was', 'ever', 'dusting', 'his', 'old', 'lexicons', 'and', 'grammars', ',']\n"
     ]
    }
   ],
   "source": [
    "print(text1[42:52])"
   ]
  },
  {
   "cell_type": "markdown",
   "metadata": {
    "id": "z2nrOBZjKh8C"
   },
   "source": [
    "## Further exploration\n",
    "\n",
    "* Dispersion plots (distribution of words throughout the text)\n",
    "* Generating text (based on example)\n",
    "\n",
    "### Visualizing the corpus"
   ]
  },
  {
   "cell_type": "code",
   "execution_count": 26,
   "metadata": {
    "colab": {
     "base_uri": "https://localhost:8080/",
     "height": 295
    },
    "id": "cPtzGbhGKh8C",
    "outputId": "a89c4113-8ce4-4e47-c348-a178e999b0fe",
    "scrolled": true
   },
   "outputs": [
    {
     "data": {
      "image/png": "[encoded data removed]",
      "text/plain": [
       "<Figure size 432x288 with 1 Axes>"
      ]
     },
     "metadata": {
      "needs_background": "light"
     },
     "output_type": "display_data"
    }
   ],
   "source": [
    "# Dispersion plot\n",
    "\n",
    "# source: Inaugural Address Corpus\n",
    "text4.dispersion_plot([\"citizens\", \"democracy\", \"duty\", \"freedom\", \"America\"])"
   ]
  },
  {
   "cell_type": "code",
   "execution_count": 27,
   "metadata": {
    "colab": {
     "base_uri": "https://localhost:8080/"
    },
    "id": "-DKY-LjYKh8C",
    "outputId": "e28beb08-3114-470a-a8dd-5e663069dedd",
    "scrolled": true
   },
   "outputs": [
    {
     "name": "stdout",
     "output_type": "stream",
     "text": [
      "Help on method dispersion_plot in module nltk.text:\n",
      "\n",
      "dispersion_plot(words) method of nltk.text.Text instance\n",
      "    Produce a plot showing the distribution of the words through the text.\n",
      "    Requires pylab to be installed.\n",
      "    \n",
      "    :param words: The words to be plotted\n",
      "    :type words: list(str)\n",
      "    :seealso: nltk.draw.dispersion_plot()\n",
      "\n"
     ]
    }
   ],
   "source": [
    "help(text4.dispersion_plot)"
   ]
  },
  {
   "cell_type": "markdown",
   "metadata": {
    "id": "KtAsGB-tKh8C"
   },
   "source": [
    "### Generating text\n",
    "\n",
    "Note: depending on your version of NLTK `generate()` functionality may or may not work (NLTK version 3.7.4 or newer is required).\n",
    "* In case it does not work, please see subsection \"Saved version of generate() results\".\n",
    "\n"
   ]
  },
  {
   "cell_type": "code",
   "execution_count": 28,
   "metadata": {
    "colab": {
     "base_uri": "https://localhost:8080/",
     "height": 243
    },
    "id": "LRfZyWKpKh8D",
    "outputId": "87543226-a939-4e9b-afb0-49ab7afb93c2"
   },
   "outputs": [
    {
     "name": "stderr",
     "output_type": "stream",
     "text": [
      "Building ngram index...\n"
     ]
    },
    {
     "name": "stdout",
     "output_type": "stream",
     "text": [
      "Why is it stripped off from some mountain torrent we had flip ? , so as to\n",
      "preserve all his might had in former years abounding with them , they\n",
      "toil with their lances , strange tales of Southern whaling .\n",
      "conceivable that this fine old Dutch Fishery , a most wealthy example\n",
      "of the sea - captain orders me to admire the magnanimity of the whole\n",
      ", and many whalemen , but dumplings ; good white cedar of the ship\n",
      "casts off her cables ; and chewed it noiselessly ; and though there\n",
      "are birds called grey albatrosses ; and yet faster\n"
     ]
    },
    {
     "data": {
      "application/vnd.google.colaboratory.intrinsic+json": {
       "type": "string"
      },
      "text/plain": [
       "'Why is it stripped off from some mountain torrent we had flip ? , so as to\\npreserve all his might had in former years abounding with them , they\\ntoil with their lances , strange tales of Southern whaling .\\nconceivable that this fine old Dutch Fishery , a most wealthy example\\nof the sea - captain orders me to admire the magnanimity of the whole\\n, and many whalemen , but dumplings ; good white cedar of the ship\\ncasts off her cables ; and chewed it noiselessly ; and though there\\nare birds called grey albatrosses ; and yet faster'"
      ]
     },
     "execution_count": 28,
     "metadata": {},
     "output_type": "execute_result"
    }
   ],
   "source": [
    "# Generate text (based on example)\n",
    "# https://www.nltk.org/api/nltk.html#nltk.text.Text.generate\n",
    "\n",
    "# we need to supply seed words\n",
    "text1.generate(text_seed = [\"Why\", \"is\", \"it\"])"
   ]
  },
  {
   "cell_type": "markdown",
   "metadata": {
    "id": "7_0AMX-sKh8D"
   },
   "source": [
    "---\n",
    "\n",
    "**NLTK `generate()` builds a [trigram] language model from the supplied text** (words are generated based on previous two words).\n",
    "\n",
    "For more information see nltk.lm: https://www.nltk.org/api/nltk.lm.html"
   ]
  },
  {
   "cell_type": "markdown",
   "metadata": {
    "id": "fLxDqd9JKh8D"
   },
   "source": [
    "**Saved version of `generate()` results:**\n",
    "    \n",
    "`text1.generate(text_seed = [\"Why\", \"is\", \"it\"])`\n",
    "\n",
    "*Building ngram index...*\n",
    "\n",
    "```\n",
    "Why is it stripped off from some mountain torrent we had flip ? , so as to\n",
    "preserve all his might had in former years abounding with them , they\n",
    "toil with their lances , strange tales of Southern whaling .\n",
    "conceivable that this fine old Dutch Fishery , a most wealthy example\n",
    "of the sea - captain orders me to admire the magnanimity of the whole\n",
    ", and many whalemen , but dumplings ; good white cedar of the ship\n",
    "casts off her cables ; and chewed it noiselessly ; and though there\n",
    "are birds called grey albatrosses ; and yet faster\n",
    "```\n"
   ]
  },
  {
   "cell_type": "code",
   "execution_count": 29,
   "metadata": {
    "colab": {
     "base_uri": "https://localhost:8080/"
    },
    "id": "Th7Or2AzKh8D",
    "outputId": "00b5bf14-a803-4b69-f0b0-283c70571eb7"
   },
   "outputs": [
    {
     "name": "stdout",
     "output_type": "stream",
     "text": [
      "Help on method generate in module nltk.text:\n",
      "\n",
      "generate(length=100, text_seed=None, random_seed=42) method of nltk.text.Text instance\n",
      "    Print random text, generated using a trigram language model.\n",
      "    See also `help(nltk.lm)`.\n",
      "    \n",
      "    :param length: The length of text to generate (default=100)\n",
      "    :type length: int\n",
      "    \n",
      "    :param text_seed: Generation can be conditioned on preceding context.\n",
      "    :type text_seed: list(str)\n",
      "    \n",
      "    :param random_seed: A random seed or an instance of `random.Random`. If provided,\n",
      "        makes the random sampling part of generation reproducible. (default=42)\n",
      "    :type random_seed: int\n",
      "\n"
     ]
    }
   ],
   "source": [
    "help(text1.generate)"
   ]
  },
  {
   "cell_type": "markdown",
   "metadata": {
    "id": "71CtOpUcLrph"
   },
   "source": [
    "## Converting Our Corpora into a NLTK Text "
   ]
  },
  {
   "cell_type": "code",
   "execution_count": 33,
   "metadata": {
    "colab": {
     "base_uri": "https://localhost:8080/"
    },
    "id": "blikIpXvLqYR",
    "outputId": "2396ec30-52f5-46d9-c84c-53a5aef1f8ec"
   },
   "outputs": [
    {
     "data": {
      "text/plain": [
       "(4999, 4)"
      ]
     },
     "execution_count": 33,
     "metadata": {},
     "output_type": "execute_result"
    }
   ],
   "source": [
    "# As we saw previously we can read data from any publicly accessible source\n",
    "url = \"https://github.com/ValRCS/BSSDH_22/raw/main/corpora/lv_old_newspapers_5k.tsv\"\n",
    "\n",
    "df = pd.read_csv(url, sep=\"\\t\")\n",
    "df.shape"
   ]
  },
  {
   "cell_type": "code",
   "execution_count": 35,
   "metadata": {
    "colab": {
     "base_uri": "https://localhost:8080/",
     "height": 363
    },
    "id": "vckh__2qM3G8",
    "outputId": "fd395ae3-ae96-4ff5-be52-badc46fef134"
   },
   "outputs": [
    {
     "data": {
      "text/html": [
       "\n",
       "  <div id=\"df-9f8ce59d-cf25-49ad-a03c-220f30525a30\">\n",
       "    <div class=\"colab-df-container\">\n",
       "      <div>\n",
       "<style scoped>\n",
       "    .dataframe tbody tr th:only-of-type {\n",
       "        vertical-align: middle;\n",
       "    }\n",
       "\n",
       "    .dataframe tbody tr th {\n",
       "        vertical-align: top;\n",
       "    }\n",
       "\n",
       "    .dataframe thead th {\n",
       "        text-align: right;\n",
       "    }\n",
       "</style>\n",
       "<table border=\"1\" class=\"dataframe\">\n",
       "  <thead>\n",
       "    <tr style=\"text-align: right;\">\n",
       "      <th></th>\n",
       "      <th>Language</th>\n",
       "      <th>Source</th>\n",
       "      <th>Date</th>\n",
       "      <th>Text</th>\n",
       "    </tr>\n",
       "  </thead>\n",
       "  <tbody>\n",
       "    <tr>\n",
       "      <th>0</th>\n",
       "      <td>Latvian</td>\n",
       "      <td>rekurzeme.lv</td>\n",
       "      <td>2008/09/04</td>\n",
       "      <td>\"Viņa pirmsnāves zīmītē bija rakstīts vienīgi ...</td>\n",
       "    </tr>\n",
       "    <tr>\n",
       "      <th>1</th>\n",
       "      <td>Latvian</td>\n",
       "      <td>diena.lv</td>\n",
       "      <td>2012/01/10</td>\n",
       "      <td>info@zurnalistiem.lv</td>\n",
       "    </tr>\n",
       "    <tr>\n",
       "      <th>2</th>\n",
       "      <td>Latvian</td>\n",
       "      <td>bauskasdzive.lv</td>\n",
       "      <td>2007/12/27</td>\n",
       "      <td>Bhuto, kas Pakistānā no trimdas atgriezās tika...</td>\n",
       "    </tr>\n",
       "    <tr>\n",
       "      <th>3</th>\n",
       "      <td>Latvian</td>\n",
       "      <td>bauskasdzive.lv</td>\n",
       "      <td>2008/10/08</td>\n",
       "      <td>Plkst. 4.00 Samoilovs / Pļaviņš (pludmales vol...</td>\n",
       "    </tr>\n",
       "    <tr>\n",
       "      <th>4</th>\n",
       "      <td>Latvian</td>\n",
       "      <td>diena.lv</td>\n",
       "      <td>2011/10/05</td>\n",
       "      <td>CVK bija vērsusies Skaburska, lūdzot izskaidro...</td>\n",
       "    </tr>\n",
       "    <tr>\n",
       "      <th>5</th>\n",
       "      <td>Latvian</td>\n",
       "      <td>zz.lv</td>\n",
       "      <td>2011/05/16</td>\n",
       "      <td>Apbalvojumus piešķir piemiņas zīmes valde Saei...</td>\n",
       "    </tr>\n",
       "    <tr>\n",
       "      <th>6</th>\n",
       "      <td>Latvian</td>\n",
       "      <td>ntz.lv</td>\n",
       "      <td>2010/08/13</td>\n",
       "      <td>- Amerikā biju uzaicināts viesoties ar visu ģi...</td>\n",
       "    </tr>\n",
       "    <tr>\n",
       "      <th>7</th>\n",
       "      <td>Latvian</td>\n",
       "      <td>rv.lv</td>\n",
       "      <td>2011/01/22</td>\n",
       "      <td>Mūrniece gan saka, ka Lužkova bitēm Latvijas p...</td>\n",
       "    </tr>\n",
       "    <tr>\n",
       "      <th>8</th>\n",
       "      <td>Latvian</td>\n",
       "      <td>diena.lv</td>\n",
       "      <td>2011/11/26</td>\n",
       "      <td>PĒDĒJĀ, kontrolēja PĀRDAUGAVAS telpu, izņemot ...</td>\n",
       "    </tr>\n",
       "    <tr>\n",
       "      <th>9</th>\n",
       "      <td>Latvian</td>\n",
       "      <td>la.lv</td>\n",
       "      <td>2011/04/30</td>\n",
       "      <td>Ar Ivaru tikāmies viņa dzimtajos \"Lazdiņos\" Za...</td>\n",
       "    </tr>\n",
       "  </tbody>\n",
       "</table>\n",
       "</div>\n",
       "      <button class=\"colab-df-convert\" onclick=\"convertToInteractive('df-9f8ce59d-cf25-49ad-a03c-220f30525a30')\"\n",
       "              title=\"Convert this dataframe to an interactive table.\"\n",
       "              style=\"display:none;\">\n",
       "        \n",
       "  <svg xmlns=\"http://www.w3.org/2000/svg\" height=\"24px\"viewBox=\"0 0 24 24\"\n",
       "       width=\"24px\">\n",
       "    <path d=\"M0 0h24v24H0V0z\" fill=\"none\"/>\n",
       "    <path d=\"M18.56 5.44l.94 2.06.94-2.06 2.06-.94-2.06-.94-.94-2.06-.94 2.06-2.06.94zm-11 1L8.5 8.5l.94-2.06 2.06-.94-2.06-.94L8.5 2.5l-.94 2.06-2.06.94zm10 10l.94 2.06.94-2.06 2.06-.94-2.06-.94-.94-2.06-.94 2.06-2.06.94z\"/><path d=\"M17.41 7.96l-1.37-1.37c-.4-.4-.92-.59-1.43-.59-.52 0-1.04.2-1.43.59L10.3 9.45l-7.72 7.72c-.78.78-.78 2.05 0 2.83L4 21.41c.39.39.9.59 1.41.59.51 0 1.02-.2 1.41-.59l7.78-7.78 2.81-2.81c.8-.78.8-2.07 0-2.86zM5.41 20L4 18.59l7.72-7.72 1.47 1.35L5.41 20z\"/>\n",
       "  </svg>\n",
       "      </button>\n",
       "      \n",
       "  <style>\n",
       "    .colab-df-container {\n",
       "      display:flex;\n",
       "      flex-wrap:wrap;\n",
       "      gap: 12px;\n",
       "    }\n",
       "\n",
       "    .colab-df-convert {\n",
       "      background-color: #E8F0FE;\n",
       "      border: none;\n",
       "      border-radius: 50%;\n",
       "      cursor: pointer;\n",
       "      display: none;\n",
       "      fill: #1967D2;\n",
       "      height: 32px;\n",
       "      padding: 0 0 0 0;\n",
       "      width: 32px;\n",
       "    }\n",
       "\n",
       "    .colab-df-convert:hover {\n",
       "      background-color: #E2EBFA;\n",
       "      box-shadow: 0px 1px 2px rgba(60, 64, 67, 0.3), 0px 1px 3px 1px rgba(60, 64, 67, 0.15);\n",
       "      fill: #174EA6;\n",
       "    }\n",
       "\n",
       "    [theme=dark] .colab-df-convert {\n",
       "      background-color: #3B4455;\n",
       "      fill: #D2E3FC;\n",
       "    }\n",
       "\n",
       "    [theme=dark] .colab-df-convert:hover {\n",
       "      background-color: #434B5C;\n",
       "      box-shadow: 0px 1px 3px 1px rgba(0, 0, 0, 0.15);\n",
       "      filter: drop-shadow(0px 1px 2px rgba(0, 0, 0, 0.3));\n",
       "      fill: #FFFFFF;\n",
       "    }\n",
       "  </style>\n",
       "\n",
       "      <script>\n",
       "        const buttonEl =\n",
       "          document.querySelector('#df-9f8ce59d-cf25-49ad-a03c-220f30525a30 button.colab-df-convert');\n",
       "        buttonEl.style.display =\n",
       "          google.colab.kernel.accessAllowed ? 'block' : 'none';\n",
       "\n",
       "        async function convertToInteractive(key) {\n",
       "          const element = document.querySelector('#df-9f8ce59d-cf25-49ad-a03c-220f30525a30');\n",
       "          const dataTable =\n",
       "            await google.colab.kernel.invokeFunction('convertToInteractive',\n",
       "                                                     [key], {});\n",
       "          if (!dataTable) return;\n",
       "\n",
       "          const docLinkHtml = 'Like what you see? Visit the ' +\n",
       "            '<a target=\"_blank\" href=https://colab.research.google.com/notebooks/data_table.ipynb>data table notebook</a>'\n",
       "            + ' to learn more about interactive tables.';\n",
       "          element.innerHTML = '';\n",
       "          dataTable['output_type'] = 'display_data';\n",
       "          await google.colab.output.renderOutput(dataTable, element);\n",
       "          const docLink = document.createElement('div');\n",
       "          docLink.innerHTML = docLinkHtml;\n",
       "          element.appendChild(docLink);\n",
       "        }\n",
       "      </script>\n",
       "    </div>\n",
       "  </div>\n",
       "  "
      ],
      "text/plain": [
       "  Language           Source        Date  \\\n",
       "0  Latvian     rekurzeme.lv  2008/09/04   \n",
       "1  Latvian         diena.lv  2012/01/10   \n",
       "2  Latvian  bauskasdzive.lv  2007/12/27   \n",
       "3  Latvian  bauskasdzive.lv  2008/10/08   \n",
       "4  Latvian         diena.lv  2011/10/05   \n",
       "5  Latvian            zz.lv  2011/05/16   \n",
       "6  Latvian           ntz.lv  2010/08/13   \n",
       "7  Latvian            rv.lv  2011/01/22   \n",
       "8  Latvian         diena.lv  2011/11/26   \n",
       "9  Latvian            la.lv  2011/04/30   \n",
       "\n",
       "                                                Text  \n",
       "0  \"Viņa pirmsnāves zīmītē bija rakstīts vienīgi ...  \n",
       "1                               info@zurnalistiem.lv  \n",
       "2  Bhuto, kas Pakistānā no trimdas atgriezās tika...  \n",
       "3  Plkst. 4.00 Samoilovs / Pļaviņš (pludmales vol...  \n",
       "4  CVK bija vērsusies Skaburska, lūdzot izskaidro...  \n",
       "5  Apbalvojumus piešķir piemiņas zīmes valde Saei...  \n",
       "6  - Amerikā biju uzaicināts viesoties ar visu ģi...  \n",
       "7  Mūrniece gan saka, ka Lužkova bitēm Latvijas p...  \n",
       "8  PĒDĒJĀ, kontrolēja PĀRDAUGAVAS telpu, izņemot ...  \n",
       "9  Ar Ivaru tikāmies viņa dzimtajos \"Lazdiņos\" Za...  "
      ]
     },
     "execution_count": 35,
     "metadata": {},
     "output_type": "execute_result"
    }
   ],
   "source": [
    "df.head(10)"
   ]
  },
  {
   "cell_type": "code",
   "execution_count": 36,
   "metadata": {
    "colab": {
     "base_uri": "https://localhost:8080/",
     "height": 363
    },
    "id": "Itqdnsz6M80z",
    "outputId": "ed0e7ee3-1082-48b9-a5b5-5ee0123a40c9"
   },
   "outputs": [
    {
     "data": {
      "text/html": [
       "\n",
       "  <div id=\"df-9e60518b-cffc-4051-8413-49f349f8b85b\">\n",
       "    <div class=\"colab-df-container\">\n",
       "      <div>\n",
       "<style scoped>\n",
       "    .dataframe tbody tr th:only-of-type {\n",
       "        vertical-align: middle;\n",
       "    }\n",
       "\n",
       "    .dataframe tbody tr th {\n",
       "        vertical-align: top;\n",
       "    }\n",
       "\n",
       "    .dataframe thead th {\n",
       "        text-align: right;\n",
       "    }\n",
       "</style>\n",
       "<table border=\"1\" class=\"dataframe\">\n",
       "  <thead>\n",
       "    <tr style=\"text-align: right;\">\n",
       "      <th></th>\n",
       "      <th>Language</th>\n",
       "      <th>Source</th>\n",
       "      <th>Date</th>\n",
       "      <th>Text</th>\n",
       "    </tr>\n",
       "  </thead>\n",
       "  <tbody>\n",
       "    <tr>\n",
       "      <th>1137</th>\n",
       "      <td>Latvian</td>\n",
       "      <td>la.lv</td>\n",
       "      <td>2005/04/27</td>\n",
       "      <td>Kad maz naudas veselības aprūpei</td>\n",
       "    </tr>\n",
       "    <tr>\n",
       "      <th>1977</th>\n",
       "      <td>Latvian</td>\n",
       "      <td>diena.lv</td>\n",
       "      <td>2006/09/21</td>\n",
       "      <td>Idejas, kā palīdzēt skolai, uzņēmējiem rodotie...</td>\n",
       "    </tr>\n",
       "    <tr>\n",
       "      <th>808</th>\n",
       "      <td>Latvian</td>\n",
       "      <td>zz.lv</td>\n",
       "      <td>2007/01/07</td>\n",
       "      <td>Ja samazinās mazuta cenas, samazinās arī tarif...</td>\n",
       "    </tr>\n",
       "    <tr>\n",
       "      <th>17</th>\n",
       "      <td>Latvian</td>\n",
       "      <td>zz.lv</td>\n",
       "      <td>2007/01/07</td>\n",
       "      <td>2008.gadā gāzes piegādes cena pieaugs vēl par ...</td>\n",
       "    </tr>\n",
       "    <tr>\n",
       "      <th>2818</th>\n",
       "      <td>Latvian</td>\n",
       "      <td>dzirkstele.lv</td>\n",
       "      <td>2007/01/08</td>\n",
       "      <td>Kā norādīja Šlesers, komersanti, kas Latvijas ...</td>\n",
       "    </tr>\n",
       "    <tr>\n",
       "      <th>4839</th>\n",
       "      <td>Latvian</td>\n",
       "      <td>zz.lv</td>\n",
       "      <td>2007/01/09</td>\n",
       "      <td>Vispirms pasākuma dalībniekiem Rīgas Skolēnu p...</td>\n",
       "    </tr>\n",
       "    <tr>\n",
       "      <th>4222</th>\n",
       "      <td>Latvian</td>\n",
       "      <td>dzirkstele.lv</td>\n",
       "      <td>2007/01/10</td>\n",
       "      <td>Sestdien pulksten 11.00 Gulbenes kultūras cent...</td>\n",
       "    </tr>\n",
       "    <tr>\n",
       "      <th>1572</th>\n",
       "      <td>Latvian</td>\n",
       "      <td>dzirkstele.lv</td>\n",
       "      <td>2007/01/10</td>\n",
       "      <td>Informāciju, ka būtu interese par VP \"Wimm-Bil...</td>\n",
       "    </tr>\n",
       "    <tr>\n",
       "      <th>3927</th>\n",
       "      <td>Latvian</td>\n",
       "      <td>zz.lv</td>\n",
       "      <td>2007/01/11</td>\n",
       "      <td>Piektdien, 2. novembrī, I.Minusai un I.Jursone...</td>\n",
       "    </tr>\n",
       "    <tr>\n",
       "      <th>3167</th>\n",
       "      <td>Latvian</td>\n",
       "      <td>bauskasdzive.lv</td>\n",
       "      <td>2007/01/12</td>\n",
       "      <td>Republikāņu partijas biedrs, jurists Larsons, ...</td>\n",
       "    </tr>\n",
       "  </tbody>\n",
       "</table>\n",
       "</div>\n",
       "      <button class=\"colab-df-convert\" onclick=\"convertToInteractive('df-9e60518b-cffc-4051-8413-49f349f8b85b')\"\n",
       "              title=\"Convert this dataframe to an interactive table.\"\n",
       "              style=\"display:none;\">\n",
       "        \n",
       "  <svg xmlns=\"http://www.w3.org/2000/svg\" height=\"24px\"viewBox=\"0 0 24 24\"\n",
       "       width=\"24px\">\n",
       "    <path d=\"M0 0h24v24H0V0z\" fill=\"none\"/>\n",
       "    <path d=\"M18.56 5.44l.94 2.06.94-2.06 2.06-.94-2.06-.94-.94-2.06-.94 2.06-2.06.94zm-11 1L8.5 8.5l.94-2.06 2.06-.94-2.06-.94L8.5 2.5l-.94 2.06-2.06.94zm10 10l.94 2.06.94-2.06 2.06-.94-2.06-.94-.94-2.06-.94 2.06-2.06.94z\"/><path d=\"M17.41 7.96l-1.37-1.37c-.4-.4-.92-.59-1.43-.59-.52 0-1.04.2-1.43.59L10.3 9.45l-7.72 7.72c-.78.78-.78 2.05 0 2.83L4 21.41c.39.39.9.59 1.41.59.51 0 1.02-.2 1.41-.59l7.78-7.78 2.81-2.81c.8-.78.8-2.07 0-2.86zM5.41 20L4 18.59l7.72-7.72 1.47 1.35L5.41 20z\"/>\n",
       "  </svg>\n",
       "      </button>\n",
       "      \n",
       "  <style>\n",
       "    .colab-df-container {\n",
       "      display:flex;\n",
       "      flex-wrap:wrap;\n",
       "      gap: 12px;\n",
       "    }\n",
       "\n",
       "    .colab-df-convert {\n",
       "      background-color: #E8F0FE;\n",
       "      border: none;\n",
       "      border-radius: 50%;\n",
       "      cursor: pointer;\n",
       "      display: none;\n",
       "      fill: #1967D2;\n",
       "      height: 32px;\n",
       "      padding: 0 0 0 0;\n",
       "      width: 32px;\n",
       "    }\n",
       "\n",
       "    .colab-df-convert:hover {\n",
       "      background-color: #E2EBFA;\n",
       "      box-shadow: 0px 1px 2px rgba(60, 64, 67, 0.3), 0px 1px 3px 1px rgba(60, 64, 67, 0.15);\n",
       "      fill: #174EA6;\n",
       "    }\n",
       "\n",
       "    [theme=dark] .colab-df-convert {\n",
       "      background-color: #3B4455;\n",
       "      fill: #D2E3FC;\n",
       "    }\n",
       "\n",
       "    [theme=dark] .colab-df-convert:hover {\n",
       "      background-color: #434B5C;\n",
       "      box-shadow: 0px 1px 3px 1px rgba(0, 0, 0, 0.15);\n",
       "      filter: drop-shadow(0px 1px 2px rgba(0, 0, 0, 0.3));\n",
       "      fill: #FFFFFF;\n",
       "    }\n",
       "  </style>\n",
       "\n",
       "      <script>\n",
       "        const buttonEl =\n",
       "          document.querySelector('#df-9e60518b-cffc-4051-8413-49f349f8b85b button.colab-df-convert');\n",
       "        buttonEl.style.display =\n",
       "          google.colab.kernel.accessAllowed ? 'block' : 'none';\n",
       "\n",
       "        async function convertToInteractive(key) {\n",
       "          const element = document.querySelector('#df-9e60518b-cffc-4051-8413-49f349f8b85b');\n",
       "          const dataTable =\n",
       "            await google.colab.kernel.invokeFunction('convertToInteractive',\n",
       "                                                     [key], {});\n",
       "          if (!dataTable) return;\n",
       "\n",
       "          const docLinkHtml = 'Like what you see? Visit the ' +\n",
       "            '<a target=\"_blank\" href=https://colab.research.google.com/notebooks/data_table.ipynb>data table notebook</a>'\n",
       "            + ' to learn more about interactive tables.';\n",
       "          element.innerHTML = '';\n",
       "          dataTable['output_type'] = 'display_data';\n",
       "          await google.colab.output.renderOutput(dataTable, element);\n",
       "          const docLink = document.createElement('div');\n",
       "          docLink.innerHTML = docLinkHtml;\n",
       "          element.appendChild(docLink);\n",
       "        }\n",
       "      </script>\n",
       "    </div>\n",
       "  </div>\n",
       "  "
      ],
      "text/plain": [
       "     Language           Source        Date  \\\n",
       "1137  Latvian            la.lv  2005/04/27   \n",
       "1977  Latvian         diena.lv  2006/09/21   \n",
       "808   Latvian            zz.lv  2007/01/07   \n",
       "17    Latvian            zz.lv  2007/01/07   \n",
       "2818  Latvian    dzirkstele.lv  2007/01/08   \n",
       "4839  Latvian            zz.lv  2007/01/09   \n",
       "4222  Latvian    dzirkstele.lv  2007/01/10   \n",
       "1572  Latvian    dzirkstele.lv  2007/01/10   \n",
       "3927  Latvian            zz.lv  2007/01/11   \n",
       "3167  Latvian  bauskasdzive.lv  2007/01/12   \n",
       "\n",
       "                                                   Text  \n",
       "1137                   Kad maz naudas veselības aprūpei  \n",
       "1977  Idejas, kā palīdzēt skolai, uzņēmējiem rodotie...  \n",
       "808   Ja samazinās mazuta cenas, samazinās arī tarif...  \n",
       "17    2008.gadā gāzes piegādes cena pieaugs vēl par ...  \n",
       "2818  Kā norādīja Šlesers, komersanti, kas Latvijas ...  \n",
       "4839  Vispirms pasākuma dalībniekiem Rīgas Skolēnu p...  \n",
       "4222  Sestdien pulksten 11.00 Gulbenes kultūras cent...  \n",
       "1572  Informāciju, ka būtu interese par VP \"Wimm-Bil...  \n",
       "3927  Piektdien, 2. novembrī, I.Minusai un I.Jursone...  \n",
       "3167  Republikāņu partijas biedrs, jurists Larsons, ...  "
      ]
     },
     "execution_count": 36,
     "metadata": {},
     "output_type": "execute_result"
    }
   ],
   "source": [
    "# Let us sort by Date - even though it is a string type\n",
    "df = df.sort_values(by=\"Date\", ascending=True)  # ascending is True by default, if you wanted Descending you could use ascending=False\n",
    "df.head(10)"
   ]
  },
  {
   "cell_type": "markdown",
   "metadata": {
    "id": "ME-ddPn8OhY4"
   },
   "source": [
    "<img align=\"left\" src=\"https://ithaka-labs.s3.amazonaws.com/static-files/images/tdm/tdmdocs/CC_BY.png\"><br />\n",
    "\n",
    "The following section is adopted by Valdis Saulespurens from notebook by [Nathan Kelber](http://nkelber.com) under [Creative Commons CC BY License](https://creativecommons.org/licenses/by/4.0/)<br />\n"
   ]
  },
  {
   "cell_type": "markdown",
   "metadata": {
    "id": "cUPq_fLRO6FL"
   },
   "source": [
    "# Concordance and Collocation\n",
    "\n",
    "**Description:** This notebook section describes how to create a concordance and collocation starting from text files and from your own CSV file.\n",
    "\n",
    "**Use Case:** For Learners (Detailed explanation, not ideal for researchers)\n",
    "\n",
    "**Difficulty:** Intermediate\n",
    "\n",
    "**Completion Time:** 45 minutes\n",
    "\n",
    "**Knowledge Required:** \n",
    "* Python Day 1 Series ([Python Introduction](https://github.com/ValRCS/BSSDH_22/blob/main/notebooks/Python%20Introduction.ipynb))\n",
    "\n",
    "**Knowledge Recommended:** None\n",
    "\n",
    "**Data Format:** Text, CSV file from previous lessons \n",
    "\n",
    "**Libraries Used:** NLTK\n",
    "\n",
    "**Research Pipeline:** None\n",
    "___"
   ]
  },
  {
   "cell_type": "markdown",
   "metadata": {
    "id": "iaK8BnPhPYlI"
   },
   "source": [
    "## Concordance\n",
    "\n",
    "The concordance has a long history in humanities study and Roberto Busa's concordance Index Thomisticus—started in 1946—is arguably the first digital humanities project. Before computers were common, they were printed in large volumes such as John Bartlett's 1982 reference book A Complete Concordance to Shakespeare—it was 1909 pages pages long! \n",
    "\n",
    "A concordance gives the context of a given word or phrase in a body of texts. For example, a literary scholar might ask: how often and in what context does Shakespeare use the phrase \"honest Iago\" in Othello? A historian might examine a particular politician's speeches, looking for examples of a particular \"dog whistle\".\n",
    "\n",
    "<font color=\"red\">Read more</font>\n",
    "\n",
    "* Geoffrey Rockwell and Stéfan Sinclair. [Tremendous Mechanical Labor: Father Busa's Algorithm](http://www.digitalhumanities.org/dhq/vol/14/3/000456/000456.html) (2020)\n",
    "* Julianne Nyhan and Marco Passarotti, eds. [One Origin of Digital Humanities: Fr Roberto Busa in His Own Words](https://www.amazon.com/One-Origin-Digital-Humanities-Roberto/dp/3030183114/) (2019)\n",
    "* Julianne Nyhan and Melissa Terras. [Uncovering 'hidden contributions to the history of Digital Humanities: the Index Thomisticus' femal keypunch operators](https://discovery.ucl.ac.uk/id/eprint/10052279/9/Nyhan_DH2017.redacted.pdf) (2017)\n",
    "* Steven E. Jones [Roberto Busa, S.J., and the Emergence of Humanities Computing](https://www.routledge.com/Roberto-Busa-S-J-and-the-Emergence-of-Humanities-Computing-The-Priest/Jones/p/book/9781138587250) (2016)\n",
    "___"
   ]
  },
  {
   "cell_type": "markdown",
   "metadata": {
    "id": "h5JPnHPNNdRo"
   },
   "source": [
    "### Extracting Text from dataframe"
   ]
  },
  {
   "cell_type": "code",
   "execution_count": null,
   "metadata": {
    "colab": {
     "base_uri": "https://localhost:8080/"
    },
    "id": "zV0TktGUNYa_",
    "outputId": "f5c9d34b-e88c-40e6-c355-ca35bb92c10b"
   },
   "outputs": [
    {
     "data": {
      "text/plain": [
       "4999"
      ]
     },
     "execution_count": 37,
     "metadata": {},
     "output_type": "execute_result"
    }
   ],
   "source": [
    "### Extracting text from dataframe\n",
    "documents = list(df.Text) # df[\"Text\"].tolist() would do the same\n",
    "len(documents)\n"
   ]
  },
  {
   "cell_type": "code",
   "execution_count": null,
   "metadata": {
    "colab": {
     "base_uri": "https://localhost:8080/"
    },
    "id": "gN_MVv2PN1Xb",
    "outputId": "3f471ed6-8918-4a15-9b44-1ffb27be5f45"
   },
   "outputs": [
    {
     "data": {
      "text/plain": [
       "['Kad maz naudas veselības aprūpei',\n",
       " 'Idejas, kā palīdzēt skolai, uzņēmējiem rodoties vēl un vēl, tagad kopīgi ar pagasta vadību prātojot, kā skolai, 100 gadu jubileju sagaidot, uzlikt jaunu jumtu. Tā kā internāta audzēkņiem nav kur nomazgāties, viesnīca Radi un draugi uzbūvējuši viņiem jauku pirtiņu ar saunu. Bērniem gan nākas bez tās iztikt vēl joprojām, jo, kā apgalvojot rajona sanitāri epidemioloģiskās stacijas ierēdņi, pirts ģērbtuves izmēri īsti neatbilstot noteiktajām prasībām. \"Mēs esam tā kā saauguši kopā, ik nedēļas sazvanāmies, dzīvojam līdzi skolas priekiem un bēdām, pārdzīvojam, lai tikai to neaizslēgtu. Šiem Latgales pagasta cilvēkiem ir tāds siltums un mīļums, viņi nekad neko mums neprasa, bet prot ar pateicību saņemt dāvāto,\" Dienai saka Aigars Bērziņš, kurš Malnavā pie vecāsmātes pavadījis bērnības vasaras.',\n",
       " 'Ja samazinās mazuta cenas, samazinās arī tarifi, un otrādi.']"
      ]
     },
     "execution_count": 38,
     "metadata": {},
     "output_type": "execute_result"
    }
   ],
   "source": [
    "documents[:3]  # first three documents"
   ]
  },
  {
   "cell_type": "code",
   "execution_count": null,
   "metadata": {
    "colab": {
     "base_uri": "https://localhost:8080/"
    },
    "id": "xLLGPiE4OBs8",
    "outputId": "5b795bf9-85d9-46ec-818f-c5aca943d4be"
   },
   "outputs": [
    {
     "data": {
      "text/plain": [
       "1415137"
      ]
     },
     "execution_count": 39,
     "metadata": {},
     "output_type": "execute_result"
    }
   ],
   "source": [
    "# for the purpose of this analysis we will join all the documents together \n",
    "# this is not always appropriate depending on your needs\n",
    "all_docs = \"\\n\".join(documents)\n",
    "len(all_docs)"
   ]
  },
  {
   "cell_type": "code",
   "execution_count": null,
   "metadata": {
    "colab": {
     "base_uri": "https://localhost:8080/",
     "height": 35
    },
    "id": "1ek62y91OQLs",
    "outputId": "b534125c-2ed1-446a-cd90-431f5a2d1319"
   },
   "outputs": [
    {
     "data": {
      "application/vnd.google.colaboratory.intrinsic+json": {
       "type": "string"
      },
      "text/plain": [
       "'Kad maz naudas veselības aprūpei\\nIdejas, kā palīdzēt skolai, uzņēmējiem rodoties vēl un vēl, tagad k'"
      ]
     },
     "execution_count": 41,
     "metadata": {},
     "output_type": "execute_result"
    }
   ],
   "source": [
    "all_docs[:100] # so now all documents are in one big string \n",
    "# notice the \\n indicating newlinesb"
   ]
  },
  {
   "cell_type": "markdown",
   "metadata": {
    "id": "5ziR_UYJQKJs"
   },
   "source": [
    "Next, we lowercase our text and use the Natural Language Toolkit (NLTK) to tokenize it. Tokenizing breaks up the the document into individual words. Finally, we use our tokens to create an NLTK Text object."
   ]
  },
  {
   "cell_type": "code",
   "execution_count": 42,
   "metadata": {
    "colab": {
     "base_uri": "https://localhost:8080/"
    },
    "id": "EOfqusj6QQfj",
    "outputId": "15c7cfe3-45db-4aee-d20a-2c105d4923f3"
   },
   "outputs": [
    {
     "name": "stderr",
     "output_type": "stream",
     "text": [
      "[nltk_data] Downloading package punkt to /root/nltk_data...\n",
      "[nltk_data]   Package punkt is already up-to-date!\n"
     ]
    }
   ],
   "source": [
    "# Tokenize one of the files\n",
    "import nltk  # not needed if you already imported\n",
    "nltk.download('punkt')  # again not needed if you already downloaded punkt\n",
    "file_contents = all_docs.lower()\n",
    "tokens = nltk.word_tokenize(file_contents)\n",
    "text = nltk.Text(tokens)"
   ]
  },
  {
   "cell_type": "code",
   "execution_count": 43,
   "metadata": {
    "colab": {
     "base_uri": "https://localhost:8080/"
    },
    "id": "xtBcbq1eQbtr",
    "outputId": "7243149c-7f22-4221-8bb4-33a755f5f08a"
   },
   "outputs": [
    {
     "data": {
      "text/plain": [
       "nltk.text.Text"
      ]
     },
     "execution_count": 43,
     "metadata": {},
     "output_type": "execute_result"
    }
   ],
   "source": [
    "# Verify that we have created an NLTK Text object\n",
    "type(text)"
   ]
  },
  {
   "cell_type": "code",
   "execution_count": 44,
   "metadata": {
    "colab": {
     "base_uri": "https://localhost:8080/"
    },
    "id": "Fd4bZGsHQd28",
    "outputId": "ba2d39f0-ed34-4704-ac9a-6c5ea5466ff3"
   },
   "outputs": [
    {
     "name": "stdout",
     "output_type": "stream",
     "text": [
      "Displaying 25 of 33 matches:\n",
      "tāji , ceturto - basketbola skolas „ rīga '' komanda , piekto - igaunijas spor\n",
      "ajai lielupes tilta šuvei uz šosejas rīga - jelgava . tur darbi risināsies būv\n",
      "ēc budapeštas , krakovas un berlīnes rīga kļūs par ceturto pilsētu aiz čehijas\n",
      "? es nesaku , ka tie nav vajadzīgi . rīga ir rīga — latvijas galvaspilsēta . t\n",
      "aku , ka tie nav vajadzīgi . rīga ir rīga — latvijas galvaspilsēta . tikai ner\n",
      "ēlē profesionālajā pūtēju orķestrī « rīga » , jānis retenais aktīvi muzicē un \n",
      "spēlējis hokeja komandā « dinamo » ( rīga ) un latvijas valsts izlasē ; jaunie\n",
      "tikās lielajā pasākumā pie `` arēnas rīga '' . `` protams , visiem gribas izju\n",
      "kcija „ mēs par velo '' 18. jūlijs : rīga - slampe xxiv vispārējo latviešu dzi\n",
      "dzelzceļa vēstures muzejā , `` arēnā rīga '' , latvijas universitātē , starpta\n",
      "limits - 8 , - rēzekne — varakļāni — rīga ( 17.20 un 4.40 ( darba dienās ) . l\n",
      "erhofa ( roja ) , viola puškarjova ( rīga ) , diāna ančikovska ( aizkraukle ) \n",
      "ga ( ventspils ) , kristiāna pelše ( rīga ) , alīna anna petkēviča ( rīga ) un\n",
      "še ( rīga ) , alīna anna petkēviča ( rīga ) un katrīna karlīna caune ( jelgava\n",
      "adi , draugi vai paziņas . apskatīta rīga , vecrīga , ādaži , mākoņkalns , tau\n",
      "sinās ceļu un atslogos a6 maģistrāli rīga — daugavpils . — vai šis ceļš būs ar\n",
      "vai un aleksandrai tihovskai . svk « rīga » komandā par labākajām tika atzītas\n",
      "t 80 % no latvijas tūrisma tirgus un rīga kā simbols ārzemniekam pagaidām esot\n",
      "aču aizvadīs arī abi rīgas klubi vef rīga un barons , kas jau nodrošinājuši vi\n",
      "esers ( lpp/lc ) , konkursu par live rīga satura izstrādi , atjaunošanu un tul\n",
      "izdevumus ? ” 6.oktobrī kinoteātrī « rīga » notiks īpašs koncerts « liepājniek\n",
      "lapā , kas atrodas uz pieprasījumu « rīga » krievijā populārā meklētājā yandex\n",
      "ielā saimniecībā tas ir īsti vietā . rīga ir ļoti mainījusies . pirms dažām di\n",
      "jānis dūklavs . · vilciens sigulda – rīga , atiet pl.17:20 , pienāk rīgā pl . \n",
      " , ka , piemēram , 700 gadu jubileju rīga svinējusi arī ar jauniem pilsētas at\n"
     ]
    }
   ],
   "source": [
    "# Create a concordance for the given word\n",
    "text.concordance('Rīga')  # notice it gives you matches in lowercase"
   ]
  },
  {
   "cell_type": "markdown",
   "metadata": {
    "id": "ewhALtehQt7B"
   },
   "source": [
    "By default, the first 25 matches are printed along with 80 characters on each side of our string text. We can specify that more lines should be shown using a `lines` and `width` argument that accept integers."
   ]
  },
  {
   "cell_type": "code",
   "execution_count": 45,
   "metadata": {
    "colab": {
     "base_uri": "https://localhost:8080/"
    },
    "id": "D2uJ1SoCQvOq",
    "outputId": "0cd355fd-b7ca-462a-8a8e-477fc6acc72e"
   },
   "outputs": [
    {
     "name": "stdout",
     "output_type": "stream",
     "text": [
      "Displaying 50 of 56 matches:\n",
      "rsvars 20:17. tomēr līdz ceturtdaļas izskaņai latvija spēja panākt 24:17. kā aģentūra leta noskaidr\n",
      " nesēju latvijas valstī , pasludināja , ka `` latvija , apvienota etnogrāfiskās robežās ( kurzeme ,\n",
      "ēstis ” sazinājās pa telefonu ar sia “ maxima latvija ” preses sekretāru , lai uzzinātu par kompāni\n",
      "ficiālais nosaukums ir latvijas republika jeb latvija . `` provizoriski izvērtējot transportlīdzekļ\n",
      "ncē bronzas godalgu izcīnīja latvieši – “ ddb latvija ” tekstu autors raimonds platacis un “ cube -\n",
      "pājas tramvajs ” , projektētājs – ps „ epkb – latvija ” ; iesildoties ieteicams izmantot nūjas , sā\n",
      "tbilisi . mišu sargāt no krievu lāča : varenā latvija grib karot visās debesu pusēs . kamēr eiropas\n",
      ", kaut kā no šīs bedres reiz izķepurosies arī latvija , tai atkal vajadzēs celtniekus , oficiantus \n",
      "nīca . dome atgādina , ka nedz rēzekne , nedz latvija un a/s “ latvijas gāze ” nevar ietekmēt dabas\n",
      "iāliem pamatskolas līmenī jābūt bez maksas un latvija šai konvencijai ir pievienojusies . turklāt l\n",
      " muļķi , vai nezina situāciju . '' nē , tukša latvija nepaliks — bēdīga gan . `` šī iemesla dēļ vis\n",
      " lieliski tiek ar šo uzdevumu galā ! ” 1. sia latvija statoil liene šomase : « ziemassvētki ir dāvi\n",
      "īvi atspoguļos ltv1 rīta raidījums „ labrīt , latvija ! ” nekustamā īpašuma nodokļa ieņēmumi ( iesk\n",
      "mniekam pagaidām esot vairāk atpazīstams nekā latvija . jubilejas gadā ir ieplānota muižu nedēļa . \n",
      "avstarpējās spēlēs . īpaši sāpīgas neveiksmes latvija piedzīvoja 2006.gada turīnas olimpiādē , kad \n",
      "s pirkšanu nevienam intereses neesot . šobrīd latvija atjaunojamo energoresursu īpatsvara ziņā ir o\n",
      "ja pilsētā » un prezentācijas tēma « lidojošā latvija , kur austrumi satiek rietumus » uzrunā izstā\n",
      "ēts inkriminēt izmeklēšanas gaitā . `` maxima latvija '' preses sekretārs ivars andiņš atklāja , ka\n",
      "jums ievērojami sarucis . '' « sorosa fonda - latvija » konsultants jānis baltačs atgādināja , ka š\n",
      "o parūpējās šī gada konkursa « mis un misters latvija » finālisti . pirmdienas vakarā jaunieši tika\n",
      "mgales olimpiskajā centrā lielais volejbols : latvija – ungārija skatoties televīzijas raidījumus s\n",
      " kauperu , '' komentē kristīne britāne , bite latvija marketinga vadītāja . - kāda , arī ņemot vērā\n",
      "latu mēnesī , liecina veikalu tīkla `` maxima latvija '' veiktā aptauja . santai piemīt īpašības , \n",
      "ā un patlaban 95. markas benzīna litrs sia `` latvija statoil '' maksā 90,5 santīmus , `` lukoil ''\n",
      " . tā būs maksa par sen pieņemtiem lēmumiem - latvija ir apsolījusi pildīt direktīvu , kas paredz e\n",
      " solījumu zaļās enerģijas īpatsvara pieaugumā latvija ir eiropas rekordiste tūlīt aiz zviedrijas , \n",
      "oda ir pirmā valoda . 2015. gada pirmajā pusē latvija pārņems es prezidentūru , un starptautiskā fr\n",
      "entu koridora noteikšana maksājumu lielumam . latvija kopā ar citām sabiedrotajām valstīm ir ieinte\n",
      "is ar pašreiz zemāku atbalsta likmi , t.sk. , latvija , pastāv uz pēc iespējas īsāku pārejas period\n",
      " » rīgas maratonā , kur viņš skrēja 10 km . — latvija ir silta zeme ar simpātiskiem , laipniem un i\n",
      "n '' , `` mans vīriņš '' , `` johaidī '' , `` latvija , zeme visskaistākā '' , `` kāzu jubileja '' \n",
      " ieguves vietas , un dombrovskis atklāja , ka latvija ir ieinteresēta piesaistīt asv ekspertus , la\n",
      "tiņš : – valsts prezidents jau paziņojis , ka latvija atbalstot bezvīzu režīma ieviešanu ar krievij\n",
      "upā ; par ko ? man kā latvietim ir kauns , ka latvija , kas 1935. gadā bija eiropas čempioni , krie\n",
      " ka jauniešiem interesē gan vēsture , gan rūp latvija šodien , tikai viņiem jāpastāsta lietas būtīb\n",
      "a urbanoviča grāmatu `` nākotnes melnraksti . latvija 1934 . -1941. '' . liepājā nopietnas problēma\n",
      "esko eesti » as ) , latvijā ( sia « konekesko latvija » ) , lietuvā ( « uab konekesko lietuva » ) u\n",
      " 75 % , i.zolotarjovam - 21,25 % . `` komkeri latvija '' pieder krievijas iedzīvotājam genādijam go\n",
      "ndēt pēc 2004. gada es uzņemtās valstis , arī latvija , šo finansējumu izmantojot tikai ten-t proje\n",
      "nansējumu izmantojot tikai ten-t projektiem . latvija varētu pretendēt arī uz finansējumu no pārējā\n",
      " n. ušakovs . valsts prezidents atzīmēja , ka latvija ir pasaulē varenākās militārās alianses biedr\n",
      " krita pirātu gūstā . brīvā tirgus ēnas puses latvija ir viens neliels asv satelīts , bet mūsu teri\n",
      "iens ir likuma pārkāpums , '' sacīja orlovs . latvija vēl nav tikusi galā ar “ parex ” un zviedru b\n",
      "ājs jānis reirs ceturtdien teica , ka pašlaik latvija no lietuvas sagaida atbildīgu rīcību un to , \n",
      " latvijas krājbanku '' . `` pirms trim gadiem latvija glāba `` parex banku '' un arī lietuvas filiā\n",
      "es . paredzēts , ka projektā iesaistīsies arī latvija un igaunija , kā arī bija plānota polijas līd\n",
      " jaunās aes būvniecībā iesaistīsies lietuva , latvija , igaunija un polija . šodien gājējiem tiks a\n",
      "ietu . tas rada problēmas tūkstošiem ģimeņu . latvija ir pirmajā vietā eiropā , kur ģimenēm ar bērn\n",
      "i ar kādu konkrētu tarifu plānu , norāda bite latvija klientu apkalpošanas vadītāja oksana stankevi\n",
      "eiro ( 140 miljonus latu ) , taču jau pašlaik latvija ir attiekusies tos pieņemt , ņemot vērā pašre\n"
     ]
    }
   ],
   "source": [
    "# Create a concordance for the given word\n",
    "# Increasing lines shown and number of characters\n",
    "text.concordance('Latvija', lines=50, width=100)"
   ]
  },
  {
   "cell_type": "markdown",
   "metadata": {
    "id": "uwzZJ-47Q9Ed"
   },
   "source": [
    "If we want to supply a bigram, trigram, or longer construction, they are supplied as individual strings within a Python list. (If you try to supply a string with a space in the middle, there will be no results.)"
   ]
  },
  {
   "cell_type": "code",
   "execution_count": 47,
   "metadata": {
    "colab": {
     "base_uri": "https://localhost:8080/"
    },
    "id": "Srxv5oxCQ5IP",
    "outputId": "0b2f9b47-e456-4353-e938-7804de4c8996"
   },
   "outputs": [
    {
     "name": "stdout",
     "output_type": "stream",
     "text": [
      "Displaying 8 of 8 matches:\n",
      "ksa par sen pieņemtiem lēmumiem - latvija ir apsolījusi pildīt direktīvu , kas\n",
      "ļās enerģijas īpatsvara pieaugumā latvija ir eiropas rekordiste tūlīt aiz zvie\n",
      "atonā , kur viņš skrēja 10 km . — latvija ir silta zeme ar simpātiskiem , laip\n",
      "tas , un dombrovskis atklāja , ka latvija ir ieinteresēta piesaistīt asv ekspe\n",
      ". valsts prezidents atzīmēja , ka latvija ir pasaulē varenākās militārās alian\n",
      "u gūstā . brīvā tirgus ēnas puses latvija ir viens neliels asv satelīts , bet \n",
      "ada problēmas tūkstošiem ģimeņu . latvija ir pirmajā vietā eiropā , kur ģimenē\n",
      "iljonus latu ) , taču jau pašlaik latvija ir attiekusies tos pieņemt , ņemot v\n"
     ]
    }
   ],
   "source": [
    "# Create a concordance for a sequence of words\n",
    "text.concordance(['Latvija', 'ir'])"
   ]
  },
  {
   "cell_type": "markdown",
   "metadata": {
    "id": "T1iSikW6ROoR"
   },
   "source": [
    "This method works well for a quick preview of the lines, but if we want to save this concordance for later analysis we can use the `.concordance_list()` method. The `.concordance_list()` method outputs a list, but the elements of that list *are not* simple strings. They are ConcordanceLine objects."
   ]
  },
  {
   "cell_type": "code",
   "execution_count": 48,
   "metadata": {
    "id": "XI3V-jfLRQen"
   },
   "outputs": [],
   "source": [
    "# Output the concordance data\n",
    "output_list = text.concordance_list(['Latvija', 'ir'], width=200, lines=50)  # we do not have 50 matches in our dataset"
   ]
  },
  {
   "cell_type": "code",
   "execution_count": 49,
   "metadata": {
    "colab": {
     "base_uri": "https://localhost:8080/"
    },
    "id": "7VqhAHkCRHb8",
    "outputId": "77773b75-4fde-4be6-a3dc-195446db4c2e"
   },
   "outputs": [
    {
     "data": {
      "text/plain": [
       "nltk.text.ConcordanceLine"
      ]
     },
     "execution_count": 49,
     "metadata": {},
     "output_type": "execute_result"
    }
   ],
   "source": [
    "type(output_list[0])"
   ]
  },
  {
   "cell_type": "code",
   "execution_count": 50,
   "metadata": {
    "colab": {
     "base_uri": "https://localhost:8080/",
     "height": 52
    },
    "id": "tJC-ZB9LRrzw",
    "outputId": "702a4ec8-71bc-4233-dbd7-08cdb9205db7"
   },
   "outputs": [
    {
     "data": {
      "application/vnd.google.colaboratory.intrinsic+json": {
       "type": "string"
      },
      "text/plain": [
       "'raud pieaugt vēl vairāk , nekā solīts uz 1.aprīli . tā būs maksa par sen pieņemtiem lēmumiem - latvija ir apsolījusi pildīt direktīvu , kas paredz elektrības galapatēriņā 40 % saražot no atjaunojamaji'"
      ]
     },
     "execution_count": 50,
     "metadata": {},
     "output_type": "execute_result"
    }
   ],
   "source": [
    "# We can view individual lines by using a Python list index followed by .line.\n",
    "output_list[0].line"
   ]
  },
  {
   "cell_type": "markdown",
   "metadata": {
    "id": "kEOUvXeZR3Ph"
   },
   "source": [
    "If we want to save our concordance, we can write to a file line-by-line."
   ]
  },
  {
   "cell_type": "code",
   "execution_count": 51,
   "metadata": {
    "id": "K9-09WRYR2er"
   },
   "outputs": [],
   "source": [
    "# Writing the concordance to a text file\n",
    "\n",
    "# encoding=\"utf-8\" is very important for languages using symbols outside regular English characters\n",
    "with open('my_concordance.txt', mode='w',encoding=\"utf-8\") as f:\n",
    "    for row in output_list:\n",
    "        f.write(row.line)\n",
    "        f.write('\\n')"
   ]
  },
  {
   "cell_type": "markdown",
   "metadata": {
    "id": "d6bvdCvfSXme"
   },
   "source": [
    "### Download your files from cloud instances before finishing work!\n",
    "If you are on a local Anaconda installation you already have a file my_concordance.txt in the same directory as this notebook NLTK_Introductions.ipynb\n",
    "\n",
    "In Google Colab the file resides in the virtual machine provided by Google.\n",
    "\n",
    "Thus you need to download the file to your computer.\n",
    "\n",
    "Open the little Folder symbol to expand file view\n",
    "Click on three dots to the right of my_concordances.txt\n",
    "Choose Download"
   ]
  },
  {
   "cell_type": "markdown",
   "metadata": {},
   "source": [
    "### Dispersion plot"
   ]
  },
  {
   "cell_type": "markdown",
   "metadata": {
    "id": "JCHOtXvVS74z"
   },
   "source": [
    "Lastly, NLTK can create a dispersion plot that helps visualize where tokens occur in the document. This can reveal the way words are used in the document over time."
   ]
  },
  {
   "cell_type": "code",
   "execution_count": 52,
   "metadata": {
    "colab": {
     "base_uri": "https://localhost:8080/",
     "height": 295
    },
    "id": "RmxpCvngS845",
    "outputId": "156482fa-ceea-49aa-bc8a-20335de880c5"
   },
   "outputs": [
    {
     "data": {
      "image/png": "[encoded data removed]",
      "text/plain": [
       "<Figure size 432x288 with 1 Axes>"
      ]
     },
     "metadata": {
      "needs_background": "light"
     },
     "output_type": "display_data"
    }
   ],
   "source": [
    "text.dispersion_plot(['Eiropa', 'basketbols', 'futbols', 'vēlēšanas'])"
   ]
  },
  {
   "cell_type": "markdown",
   "metadata": {
    "id": "PA4CMUHWKh8D"
   },
   "source": [
    "---\n",
    "\n",
    "## Your turn!\n",
    "\n",
    "Choose some text and **explore it using NLTK** (following the examples in this notebook).\n",
    "\n",
    "**Write code in notebook cells below**.\n",
    "* add more cells (use \"+\" icon) if necessary\n",
    "\n",
    "You may use NLTK text corpora or load your own text."
   ]
  },
  {
   "cell_type": "code",
   "execution_count": null,
   "metadata": {
    "id": "8s86X2XzKh8D"
   },
   "outputs": [],
   "source": []
  },
  {
   "cell_type": "code",
   "execution_count": null,
   "metadata": {
    "id": "7lPrapprKh8D"
   },
   "outputs": [],
   "source": []
  },
  {
   "cell_type": "code",
   "execution_count": null,
   "metadata": {
    "id": "E9gCpF3qKh8D"
   },
   "outputs": [],
   "source": []
  }
 ],
 "metadata": {
  "colab": {
   "name": "NLTK_Introduction.ipynb",
   "provenance": []
  },
  "kernelspec": {
   "display_name": "Python 3 (ipykernel)",
   "language": "python",
   "name": "python3"
  },
  "language_info": {
   "codemirror_mode": {
    "name": "ipython",
    "version": 3
   },
   "file_extension": ".py",
   "mimetype": "text/x-python",
   "name": "python",
   "nbconvert_exporter": "python",
   "pygments_lexer": "ipython3",
   "version": "3.7.12"
  }
 },
 "nbformat": 4,
 "nbformat_minor": 1
}

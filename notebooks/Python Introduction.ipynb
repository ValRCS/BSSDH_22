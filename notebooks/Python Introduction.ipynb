{
  "cells": [
    {
      "cell_type": "markdown",
      "metadata": {
        "id": "oXukXEtEyk6m"
      },
      "source": [
        "## Python Introduction with some detours\n",
        "![Python](https://www.python.org/static/community_logos/python-logo-generic.svg)"
      ]
    },
    {
      "cell_type": "markdown",
      "metadata": {
        "id": "axTj4oGryk6q"
      },
      "source": [
        "![xkcd](https://imgs.xkcd.com/comics/python.png)"
      ]
    },
    {
      "cell_type": "markdown",
      "metadata": {
        "id": "0I4yCl8Ayk6q"
      },
      "source": [
        "# Table of Contents <a class=\"anchor\" id=\"toc\">\n",
        "\n",
        "* [Hello World](#hello-world)\n",
        "* [Python History](#python-history)\n",
        "* [What is Programming?](#what-is-programming)\n",
        "* [Jupyter Basics](#jupyter-basics)\n",
        "* [Variables](#variables)\n",
        "* [Arithmetic](#arithmetic)\n",
        "* [Program Flow Control](#flow-control)\n",
        "* [Functions](#functions)\n",
        "* [Libraries](#libraries)\n",
        "* [Crucial Python Ideas](#python-ideas)\n",
        "* [Learning Resources](#learning-resources)"
      ]
    },
    {
      "cell_type": "markdown",
      "metadata": {
        "id": "bHuO9QYfyk6r"
      },
      "source": [
        "## Hello World <a class=\"anchor\" id=\"hello-world\">\n",
        "    \n",
        "   [Back to Table of Contents](#toc)"
      ]
    },
    {
      "cell_type": "code",
      "execution_count": 1,
      "metadata": {
        "id": "d2kT0NCCyk6r",
        "outputId": "f306f402-bd82-47b4-ede1-0d52d146423e",
        "colab": {
          "base_uri": "https://localhost:8080/"
        }
      },
      "outputs": [
        {
          "output_type": "stream",
          "name": "stdout",
          "text": [
            "Hello world!\n"
          ]
        }
      ],
      "source": [
        "print(\"Hello world!\")"
      ]
    },
    {
      "cell_type": "code",
      "execution_count": 2,
      "metadata": {
        "id": "fSK83QkGyk6s",
        "outputId": "fd9cba88-d7a8-4df5-cdd7-d9fb734dc360",
        "colab": {
          "base_uri": "https://localhost:8080/"
        }
      },
      "outputs": [
        {
          "output_type": "stream",
          "name": "stdout",
          "text": [
            "Hello BSSDH 22!\n"
          ]
        }
      ],
      "source": [
        "### Try printing a greeting of your own!\n",
        "print(\"Hello BSSDH 22!\")"
      ]
    },
    {
      "cell_type": "code",
      "execution_count": 7,
      "metadata": {
        "id": "45i-oQjayk6t",
        "outputId": "a51fc469-180d-45eb-e9d5-ba64dcdb2339",
        "colab": {
          "base_uri": "https://localhost:8080/"
        }
      },
      "outputs": [
        {
          "output_type": "stream",
          "name": "stdout",
          "text": [
            "not good\n"
          ]
        }
      ],
      "source": [
        "### What Happens when you get an error?\n",
        "print(\"not good\")"
      ]
    },
    {
      "cell_type": "markdown",
      "metadata": {
        "id": "zpS3l9lXyk6t"
      },
      "source": [
        "## Python History <a class=\"anchor\" id=\"python-history\">\n",
        "    \n",
        "[Back to Table of Contents](#toc)\n"
      ]
    },
    {
      "cell_type": "markdown",
      "metadata": {
        "id": "cUpifjuIyk6u"
      },
      "source": [
        "## Python created by Guido von Rossum in early 1990s  (later at Google,Dropbox)\n",
        "## Language reference: https://docs.python.org/3/index.html\n",
        "\n",
        "![Guido](https://upload.wikimedia.org/wikipedia/commons/thumb/d/d0/Guido-portrait-2014-curvves.jpg/290px-Guido-portrait-2014-curvves.jpg)"
      ]
    },
    {
      "cell_type": "markdown",
      "metadata": {
        "id": "_foFHuKqyk6u"
      },
      "source": [
        "# Why Python? "
      ]
    },
    {
      "cell_type": "markdown",
      "metadata": {
        "id": "x27TkJvUyk6v"
      },
      "source": [
        "## Why Python but not Julia or R or some other language or even VBA in Excel?\n",
        "### Readability, Glue Language(APIs), From Startups to Google and Facebook, Pipeline\n",
        "\n",
        "Prime numbers in J language used at some finance institutions **1: I. 2= +/ 0= (] |/ ]) i.y**"
      ]
    },
    {
      "cell_type": "markdown",
      "metadata": {
        "id": "g0S6IymXyk6v"
      },
      "source": [
        "![Python](https://github.com/ValRCS/BSSDH_22/blob/main/notebooks/img/python_growth.png?raw=1)"
      ]
    },
    {
      "cell_type": "markdown",
      "metadata": {
        "id": "mj6ujX9yyk6v"
      },
      "source": [
        "### Python is now programming language # 1 in TIOBE language index (as of July 2022)\n",
        "https://www.tiobe.com/tiobe-index/\n",
        "\n",
        "https://developers.slashdot.org/story/18/09/08/1722213/python-displaces-c-in-tiobe-index-top-3"
      ]
    },
    {
      "cell_type": "markdown",
      "metadata": {
        "id": "hdJz4L1pyk6w"
      },
      "source": [
        "![Anaconda](https://github.com/ValRCS/BSSDH_22/blob/main/notebooks/img/cropped-Anaconda_horizontal_RGB-1-600x102.png?raw=1)\n",
        "\n",
        "https://www.anaconda.com/download/"
      ]
    },
    {
      "cell_type": "markdown",
      "metadata": {
        "id": "pspUEKcXyk6w"
      },
      "source": [
        "## Batteries included principle\n",
        "![Batteries](https://github.com/ValRCS/BSSDH_22/blob/main/notebooks/img/batteries_small.jpg?raw=1)"
      ]
    },
    {
      "cell_type": "markdown",
      "metadata": {
        "id": "_SxUIYwIyk6w"
      },
      "source": [
        "## What is Programming? <a class=\"anchor\" id=\"what-is-programming\">\n",
        "    \n",
        "[Back to Table of Contents](#toc)\n",
        "\n",
        "* Egg algorithm\n",
        "* Computers are stupid, they only do what they are told to do\n",
        "* If it is stupid but it works, then it is not stupid\n",
        "* Make it work, make it right, make it fast(last two steps often not required in real life)\n",
        "* GIGO principle\n",
        "\n",
        "* Error messages are nothing to be afraid of, usually the message will explain what needs fixing!"
      ]
    },
    {
      "cell_type": "code",
      "execution_count": 8,
      "metadata": {
        "id": "dHM2iMkEyk6w"
      },
      "outputs": [],
      "source": [
        "# Our first comment\n",
        "# Real Program Comments should generally describe why\n",
        "# Here  comments will describe extra information not covered or needed for starting out\n",
        "# REPL(Read,Eval,Print, Loop) \n",
        "# Python - Interpreted Language(commands executed as they come)"
      ]
    },
    {
      "cell_type": "markdown",
      "metadata": {
        "id": "VYfAr3Xfyk6x"
      },
      "source": [
        "## Jupyter Basics <a class=\"anchor\" id=\"jupyter-basics\">\n",
        "    \n",
        "[Back to Table of Contents](#toc)\n",
        "\n",
        "\n",
        "* Esc-M turns cell into Markdown cell for formatting (https://guides.github.com/pdfs/markdown-cheatsheet-online.pdf)\n",
        "* Esc-Y turns cell into code cell(default)\n",
        "\n",
        "\n",
        "* Ctrl-Enter runs code of cell in place\n",
        "* Alt-Enter runs code for current cell and creates a new cell below\n",
        "* Esc-A creates a new cell above current cell\n",
        "* Esc-B creates a new cell below current cell\n",
        "* Esc-dd deletes current cell\n",
        "\n",
        "Note: These shortcuts work in local (Anaconda) installation of Jupyter Notebooks. Some shortcuts might not work in Google Colab."
      ]
    },
    {
      "cell_type": "code",
      "execution_count": 9,
      "metadata": {
        "id": "rh4XZC5pyk6x"
      },
      "outputs": [],
      "source": [
        "# Try Esc-B to create a new cell, \n",
        "# Enter print(\"Hello Humanities!\")\n",
        "# Press Ctrl-Enter\n",
        "# Did you get any error messages?"
      ]
    },
    {
      "cell_type": "code",
      "source": [
        ""
      ],
      "metadata": {
        "id": "EE5mmlqImZIm"
      },
      "execution_count": null,
      "outputs": []
    },
    {
      "cell_type": "code",
      "source": [
        ""
      ],
      "metadata": {
        "id": "I8-5rXfBmRMe"
      },
      "execution_count": null,
      "outputs": []
    },
    {
      "cell_type": "code",
      "execution_count": null,
      "metadata": {
        "id": "PjmtnXpUz3Ax"
      },
      "outputs": [],
      "source": [
        ""
      ]
    },
    {
      "cell_type": "markdown",
      "metadata": {
        "id": "X_eMSCgIyk6x"
      },
      "source": [
        "## Variables <a class=\"anchor\" id=\"variables\">\n",
        "    \n",
        "[Back to Table of Contents](#toc)"
      ]
    },
    {
      "cell_type": "code",
      "execution_count": 10,
      "metadata": {
        "id": "vdWtRQz0yk6x"
      },
      "outputs": [],
      "source": [
        "myname=\"Uldis\"\n",
        "# Creating our first variable will persist through this workbook once it is run"
      ]
    },
    {
      "cell_type": "code",
      "source": [
        "print(myname)"
      ],
      "metadata": {
        "id": "PacwSs_5m2MH",
        "outputId": "1b0c68be-9299-49e3-94cd-9905de89dbed",
        "colab": {
          "base_uri": "https://localhost:8080/"
        }
      },
      "execution_count": 11,
      "outputs": [
        {
          "output_type": "stream",
          "name": "stdout",
          "text": [
            "Uldis\n"
          ]
        }
      ]
    },
    {
      "cell_type": "code",
      "execution_count": 13,
      "metadata": {
        "id": "tWfsq8VEyk6y"
      },
      "outputs": [],
      "source": [
        "y = 2019"
      ]
    },
    {
      "cell_type": "code",
      "execution_count": 14,
      "metadata": {
        "id": "Bd10yN8uyk6y"
      },
      "outputs": [],
      "source": [
        "theAnswer = 42"
      ]
    },
    {
      "cell_type": "code",
      "execution_count": 15,
      "metadata": {
        "id": "sShI_dNFyk6y"
      },
      "outputs": [],
      "source": [
        "myPi = 3.14159"
      ]
    },
    {
      "cell_type": "code",
      "execution_count": 16,
      "metadata": {
        "id": "Sb_5-Sxdyk6y"
      },
      "outputs": [],
      "source": [
        "isHot = True"
      ]
    },
    {
      "cell_type": "code",
      "execution_count": 17,
      "metadata": {
        "colab": {
          "base_uri": "https://localhost:8080/"
        },
        "id": "aRuSMQHDyk6z",
        "outputId": "91b0904c-3dfc-4fb8-e18f-11c1113f2bd9"
      },
      "outputs": [
        {
          "output_type": "execute_result",
          "data": {
            "text/plain": [
              "int"
            ]
          },
          "metadata": {},
          "execution_count": 17
        }
      ],
      "source": [
        "# type(variableName) will return variable data type\n",
        "type(theAnswer)"
      ]
    },
    {
      "cell_type": "code",
      "execution_count": null,
      "metadata": {
        "id": "v-u9Q4w0yk6z"
      },
      "outputs": [],
      "source": [
        "# What is the data type of myName ?\n",
        "# How about data type of isHot ?"
      ]
    },
    {
      "cell_type": "code",
      "source": [
        "type(myPi)"
      ],
      "metadata": {
        "id": "1TKprZDunoi5",
        "outputId": "026cf71b-cd0a-4705-b7cf-1f68ab093ca6",
        "colab": {
          "base_uri": "https://localhost:8080/"
        }
      },
      "execution_count": 18,
      "outputs": [
        {
          "output_type": "execute_result",
          "data": {
            "text/plain": [
              "float"
            ]
          },
          "metadata": {},
          "execution_count": 18
        }
      ]
    },
    {
      "cell_type": "code",
      "source": [
        "type(isHot)"
      ],
      "metadata": {
        "id": "rmpJ-R1Qn_LV",
        "outputId": "85e47e84-8b73-4428-e63e-1b0039794851",
        "colab": {
          "base_uri": "https://localhost:8080/"
        }
      },
      "execution_count": 19,
      "outputs": [
        {
          "output_type": "execute_result",
          "data": {
            "text/plain": [
              "bool"
            ]
          },
          "metadata": {},
          "execution_count": 19
        }
      ]
    },
    {
      "cell_type": "code",
      "source": [
        "isHot"
      ],
      "metadata": {
        "id": "oRy0DVUvoHmW",
        "outputId": "f5e8bae6-8897-404e-9c53-f14ebe437af7",
        "colab": {
          "base_uri": "https://localhost:8080/"
        }
      },
      "execution_count": 20,
      "outputs": [
        {
          "output_type": "execute_result",
          "data": {
            "text/plain": [
              "True"
            ]
          },
          "metadata": {},
          "execution_count": 20
        }
      ]
    },
    {
      "cell_type": "code",
      "execution_count": 21,
      "metadata": {
        "colab": {
          "base_uri": "https://localhost:8080/"
        },
        "id": "h5ghzJQ9yk6z",
        "outputId": "1ab03744-2533-4ed9-e341-e5192e3f99c1"
      },
      "outputs": [
        {
          "output_type": "stream",
          "name": "stdout",
          "text": [
            "\n",
            "Here is a list of the Python keywords.  Enter any keyword to get more help.\n",
            "\n",
            "False               class               from                or\n",
            "None                continue            global              pass\n",
            "True                def                 if                  raise\n",
            "and                 del                 import              return\n",
            "as                  elif                in                  try\n",
            "assert              else                is                  while\n",
            "async               except              lambda              with\n",
            "await               finally             nonlocal            yield\n",
            "break               for                 not                 \n",
            "\n"
          ]
        }
      ],
      "source": [
        "# Variables cannot be reserved keywords\n",
        "help(\"keywords\")"
      ]
    },
    {
      "cell_type": "code",
      "source": [
        "help(print)"
      ],
      "metadata": {
        "id": "rDEpoGFJof9g",
        "outputId": "ebf0eaa2-b092-492e-be74-14b6afc4f272",
        "colab": {
          "base_uri": "https://localhost:8080/"
        }
      },
      "execution_count": 22,
      "outputs": [
        {
          "output_type": "stream",
          "name": "stdout",
          "text": [
            "Help on built-in function print in module builtins:\n",
            "\n",
            "print(...)\n",
            "    print(value, ..., sep=' ', end='\\n', file=sys.stdout, flush=False)\n",
            "    \n",
            "    Prints the values to a stream, or to sys.stdout by default.\n",
            "    Optional keyword arguments:\n",
            "    file:  a file-like object (stream); defaults to the current sys.stdout.\n",
            "    sep:   string inserted between values, default a space.\n",
            "    end:   string appended after the last value, default a newline.\n",
            "    flush: whether to forcibly flush the stream.\n",
            "\n"
          ]
        }
      ]
    },
    {
      "cell_type": "code",
      "execution_count": null,
      "metadata": {
        "id": "AYD9sHXGyk6z"
      },
      "outputs": [],
      "source": [
        "# Reserved Keywords\n",
        "\n",
        "# False               class               from                or\n",
        "# None                continue            global              pass\n",
        "# True                def                 if                  raise\n",
        "# and                 del                 import              return\n",
        "# as                  elif                in                  try\n",
        "# assert              else                is                  while\n",
        "# async               except              lambda              with\n",
        "# await               finally             nonlocal            yield\n",
        "# break               for                 not                 \n",
        " "
      ]
    },
    {
      "cell_type": "markdown",
      "metadata": {
        "id": "Qayktm7yyk6z"
      },
      "source": [
        "\n",
        "### Data types in Python 3.x\n",
        "\n",
        "* Integers type(42) int\n",
        "* Floating Point type(3.14) float\n",
        "* Boolean type(True),type(False) bool\n",
        "* String(ordered, immutable char sequence) type(\"OyCaramba\") str\n",
        "* List type([1,2,63,\"aha\",\"youcanmixtypeinsidelist\", [\"even\",\"nest\"]]) list\n",
        "* Dictionary(key:value pairs) type({\"foo\":\"bar\", \"favoriteday\":\"Friday\"}) dict\n",
        "* Tuple - ordered immutable sequence type(\"sup\",7,\"dwarves\") tup\n",
        "* Set (unordered collection of uniques) (\"k\",\"a\",\"r\",\"t\",\"u\",\"p\",\"e\",\"l\",\"i\",\"s\")"
      ]
    },
    {
      "cell_type": "markdown",
      "metadata": {
        "id": "NLqBrqSmyk6z"
      },
      "source": [
        "## More on variables\n",
        "https://realpython.com/python-variables"
      ]
    },
    {
      "cell_type": "markdown",
      "metadata": {
        "id": "nLLz0VyPyk60"
      },
      "source": [
        "## Strings\n",
        "* immutable\n",
        "* Unicode support\n",
        "\n",
        "\n",
        "* implement all common sequence operators\n",
        "https://docs.python.org/3/library/stdtypes.html#typesseq-common\n",
        "\n",
        "* string specific methods\n",
        "https://docs.python.org/3/library/stdtypes.html#string-methods"
      ]
    },
    {
      "cell_type": "code",
      "execution_count": 33,
      "metadata": {
        "colab": {
          "base_uri": "https://localhost:8080/"
        },
        "id": "ZJkwgms1yk60",
        "outputId": "16abc6df-ba66-4425-876e-57eff9e117a6"
      },
      "outputs": [
        {
          "output_type": "stream",
          "name": "stdout",
          "text": [
            "Valdis\n"
          ]
        }
      ],
      "source": [
        "name = \"Valdis\"\n",
        "print(name)"
      ]
    },
    {
      "cell_type": "code",
      "source": [
        "myName = \"Uldis\""
      ],
      "metadata": {
        "id": "AiWmhksdpxC3"
      },
      "execution_count": 25,
      "outputs": []
    },
    {
      "cell_type": "code",
      "source": [
        "print(myName)"
      ],
      "metadata": {
        "id": "_IIK6FraqVas",
        "outputId": "de6589d9-8262-436a-875e-ed026feb7164",
        "colab": {
          "base_uri": "https://localhost:8080/"
        }
      },
      "execution_count": 28,
      "outputs": [
        {
          "output_type": "stream",
          "name": "stdout",
          "text": [
            "Uldis\n"
          ]
        }
      ]
    },
    {
      "cell_type": "code",
      "execution_count": 34,
      "metadata": {
        "id": "_cCBXOM9yk60",
        "outputId": "ed606c4a-1506-4a20-c6f9-211dcd68c73d",
        "colab": {
          "base_uri": "https://localhost:8080/"
        }
      },
      "outputs": [
        {
          "output_type": "execute_result",
          "data": {
            "text/plain": [
              "6"
            ]
          },
          "metadata": {},
          "execution_count": 34
        }
      ],
      "source": [
        "# String length\n",
        "len(name)"
      ]
    },
    {
      "cell_type": "code",
      "execution_count": null,
      "metadata": {
        "id": "rIHKrMgQyk60"
      },
      "outputs": [],
      "source": [
        "# How is this different from name ?\n",
        "len(\"name\")"
      ]
    },
    {
      "cell_type": "code",
      "execution_count": 36,
      "metadata": {
        "id": "evJmIiRkyk60",
        "outputId": "8082c69f-b627-49f7-a785-d5638d3a9364",
        "colab": {
          "base_uri": "https://localhost:8080/",
          "height": 35
        }
      },
      "outputs": [
        {
          "output_type": "execute_result",
          "data": {
            "text/plain": [
              "'a'"
            ],
            "application/vnd.google.colaboratory.intrinsic+json": {
              "type": "string"
            }
          },
          "metadata": {},
          "execution_count": 36
        }
      ],
      "source": [
        "# Getting Individual characters\n",
        "name[1]"
      ]
    },
    {
      "cell_type": "code",
      "execution_count": 37,
      "metadata": {
        "id": "F5gUZK5Ayk60",
        "outputId": "79d414be-c354-4f4d-d731-d9234154763e",
        "colab": {
          "base_uri": "https://localhost:8080/",
          "height": 35
        }
      },
      "outputs": [
        {
          "output_type": "execute_result",
          "data": {
            "text/plain": [
              "'s'"
            ],
            "application/vnd.google.colaboratory.intrinsic+json": {
              "type": "string"
            }
          },
          "metadata": {},
          "execution_count": 37
        }
      ],
      "source": [
        "# Getting last char\n",
        "name[-1]"
      ]
    },
    {
      "cell_type": "markdown",
      "metadata": {
        "id": "w4Lf34OUyk61"
      },
      "source": [
        "### String Slicing"
      ]
    },
    {
      "cell_type": "code",
      "execution_count": 38,
      "metadata": {
        "id": "d2Frzw-Lyk61",
        "outputId": "79c861c4-0c2c-4ff7-c5fa-cad8e0aaa15d",
        "colab": {
          "base_uri": "https://localhost:8080/",
          "height": 35
        }
      },
      "outputs": [
        {
          "output_type": "execute_result",
          "data": {
            "text/plain": [
              "'Val'"
            ],
            "application/vnd.google.colaboratory.intrinsic+json": {
              "type": "string"
            }
          },
          "metadata": {},
          "execution_count": 38
        }
      ],
      "source": [
        "# Slicing syntax\n",
        "# Start at 0 an go until but not including 3\n",
        "name[0:3]"
      ]
    },
    {
      "cell_type": "code",
      "source": [
        "name[:3]"
      ],
      "metadata": {
        "id": "Ar7t3e_krf6F",
        "outputId": "a40d2179-b359-473b-f91c-82095f02f42f",
        "colab": {
          "base_uri": "https://localhost:8080/",
          "height": 35
        }
      },
      "execution_count": 39,
      "outputs": [
        {
          "output_type": "execute_result",
          "data": {
            "text/plain": [
              "'Val'"
            ],
            "application/vnd.google.colaboratory.intrinsic+json": {
              "type": "string"
            }
          },
          "metadata": {},
          "execution_count": 39
        }
      ]
    },
    {
      "cell_type": "code",
      "execution_count": 40,
      "metadata": {
        "id": "4tk6jWskyk61",
        "outputId": "da41eca8-04ef-4774-8371-bc6a401704f1",
        "colab": {
          "base_uri": "https://localhost:8080/",
          "height": 35
        }
      },
      "outputs": [
        {
          "output_type": "execute_result",
          "data": {
            "text/plain": [
              "'al'"
            ],
            "application/vnd.google.colaboratory.intrinsic+json": {
              "type": "string"
            }
          },
          "metadata": {},
          "execution_count": 40
        }
      ],
      "source": [
        "name[1:3]"
      ]
    },
    {
      "cell_type": "code",
      "source": [
        "# last three characters\n",
        "name[-3:] # so we slice from 3 characters in the end and go towards that end"
      ],
      "metadata": {
        "id": "MypGDyJgrxAU",
        "outputId": "54bbd31a-a53d-4a2e-bab8-a14b7d6bd608",
        "colab": {
          "base_uri": "https://localhost:8080/",
          "height": 35
        }
      },
      "execution_count": 41,
      "outputs": [
        {
          "output_type": "execute_result",
          "data": {
            "text/plain": [
              "'dis'"
            ],
            "application/vnd.google.colaboratory.intrinsic+json": {
              "type": "string"
            }
          },
          "metadata": {},
          "execution_count": 41
        }
      ]
    },
    {
      "cell_type": "code",
      "source": [
        "name[-3:-1] # this will give 3rd and 2nd character from the end BUT not the last one"
      ],
      "metadata": {
        "id": "Mc2G_duCr8yY",
        "outputId": "d2ccef3e-90c7-4244-8dad-b44bae691f81",
        "colab": {
          "base_uri": "https://localhost:8080/",
          "height": 35
        }
      },
      "execution_count": 42,
      "outputs": [
        {
          "output_type": "execute_result",
          "data": {
            "text/plain": [
              "'di'"
            ],
            "application/vnd.google.colaboratory.intrinsic+json": {
              "type": "string"
            }
          },
          "metadata": {},
          "execution_count": 42
        }
      ]
    },
    {
      "cell_type": "code",
      "source": [
        "name[5], name[-1] # so Python offers two indexes one from the start starting at 0, and one from the end starting at -1"
      ],
      "metadata": {
        "id": "pyDMGpozsGKg",
        "outputId": "e82f4179-a067-4405-816b-76f196c15b97",
        "colab": {
          "base_uri": "https://localhost:8080/"
        }
      },
      "execution_count": 44,
      "outputs": [
        {
          "output_type": "execute_result",
          "data": {
            "text/plain": [
              "('s', 's')"
            ]
          },
          "metadata": {},
          "execution_count": 44
        }
      ]
    },
    {
      "cell_type": "code",
      "source": [
        "name[9000]"
      ],
      "metadata": {
        "id": "dMCauuGEsaGT",
        "outputId": "d29c57f0-78dc-4976-9caa-d65211693d25",
        "colab": {
          "base_uri": "https://localhost:8080/",
          "height": 168
        }
      },
      "execution_count": 45,
      "outputs": [
        {
          "output_type": "error",
          "ename": "IndexError",
          "evalue": "ignored",
          "traceback": [
            "\u001b[0;31m---------------------------------------------------------------------------\u001b[0m",
            "\u001b[0;31mIndexError\u001b[0m                                Traceback (most recent call last)",
            "\u001b[0;32m<ipython-input-45-0b720389bc66>\u001b[0m in \u001b[0;36m<module>\u001b[0;34m()\u001b[0m\n\u001b[0;32m----> 1\u001b[0;31m \u001b[0mname\u001b[0m\u001b[0;34m[\u001b[0m\u001b[0;36m9000\u001b[0m\u001b[0;34m]\u001b[0m\u001b[0;34m\u001b[0m\u001b[0;34m\u001b[0m\u001b[0m\n\u001b[0m",
            "\u001b[0;31mIndexError\u001b[0m: string index out of range"
          ]
        }
      ]
    },
    {
      "cell_type": "code",
      "source": [
        "# slicing will let you specify indexes out of range\n",
        "name[-500:700]"
      ],
      "metadata": {
        "id": "UO0sSwZJsfCy",
        "outputId": "fd3bc05f-7bc6-479c-d3ba-620f5c0a5d31",
        "colab": {
          "base_uri": "https://localhost:8080/",
          "height": 35
        }
      },
      "execution_count": 46,
      "outputs": [
        {
          "output_type": "execute_result",
          "data": {
            "text/plain": [
              "'Valdis'"
            ],
            "application/vnd.google.colaboratory.intrinsic+json": {
              "type": "string"
            }
          },
          "metadata": {},
          "execution_count": 46
        }
      ]
    },
    {
      "cell_type": "code",
      "source": [
        "name[-3:9000]"
      ],
      "metadata": {
        "id": "TZZZjQtPsrTB",
        "outputId": "c103d8d9-6c8a-4836-88eb-71542640a253",
        "colab": {
          "base_uri": "https://localhost:8080/",
          "height": 35
        }
      },
      "execution_count": 47,
      "outputs": [
        {
          "output_type": "execute_result",
          "data": {
            "text/plain": [
              "'dis'"
            ],
            "application/vnd.google.colaboratory.intrinsic+json": {
              "type": "string"
            }
          },
          "metadata": {},
          "execution_count": 47
        }
      ]
    },
    {
      "cell_type": "code",
      "execution_count": 48,
      "metadata": {
        "id": "V4nvBiFTyk61",
        "outputId": "8ae11cf3-6c41-43c4-9651-d794f2622daa",
        "colab": {
          "base_uri": "https://localhost:8080/",
          "height": 35
        }
      },
      "outputs": [
        {
          "output_type": "execute_result",
          "data": {
            "text/plain": [
              "'Vli'"
            ],
            "application/vnd.google.colaboratory.intrinsic+json": {
              "type": "string"
            }
          },
          "metadata": {},
          "execution_count": 48
        }
      ],
      "source": [
        "# slicing syntax actually has a 3rd optional modifier - step\n",
        "name[0:6:2]"
      ]
    },
    {
      "cell_type": "code",
      "source": [
        "name[::2] # so I want to print all letters starting from start but skip every 2nd one"
      ],
      "metadata": {
        "id": "k3NY_dcotAxv",
        "outputId": "9970c90b-fea0-465a-bfd2-1ffbdbbe4a9d",
        "colab": {
          "base_uri": "https://localhost:8080/",
          "height": 35
        }
      },
      "execution_count": 49,
      "outputs": [
        {
          "output_type": "execute_result",
          "data": {
            "text/plain": [
              "'Vli'"
            ],
            "application/vnd.google.colaboratory.intrinsic+json": {
              "type": "string"
            }
          },
          "metadata": {},
          "execution_count": 49
        }
      ]
    },
    {
      "cell_type": "code",
      "execution_count": 50,
      "metadata": {
        "id": "i2rgqIrQyk61",
        "outputId": "5929b846-793b-4537-8e23-8f7ffb086f17",
        "colab": {
          "base_uri": "https://localhost:8080/",
          "height": 35
        }
      },
      "outputs": [
        {
          "output_type": "execute_result",
          "data": {
            "text/plain": [
              "'ptte'"
            ],
            "application/vnd.google.colaboratory.intrinsic+json": {
              "type": "string"
            }
          },
          "metadata": {},
          "execution_count": 50
        }
      ],
      "source": [
        "# lets play with food!\n",
        "food = \"potatoes\"\n",
        "food[::2]"
      ]
    },
    {
      "cell_type": "code",
      "execution_count": 51,
      "metadata": {
        "id": "iwXQNx-tyk62",
        "outputId": "c126a913-0906-43e6-edaa-19da8cbbea96",
        "colab": {
          "base_uri": "https://localhost:8080/",
          "height": 35
        }
      },
      "outputs": [
        {
          "output_type": "execute_result",
          "data": {
            "text/plain": [
              "'oaos'"
            ],
            "application/vnd.google.colaboratory.intrinsic+json": {
              "type": "string"
            }
          },
          "metadata": {},
          "execution_count": 51
        }
      ],
      "source": [
        "food[1::2] # we start with a 2nd letter and skip every 2nd letter from then on"
      ]
    },
    {
      "cell_type": "code",
      "execution_count": 52,
      "metadata": {
        "id": "Msa_Ad2Myk62",
        "outputId": "3041c503-d178-46ef-be91-136976879a03",
        "colab": {
          "base_uri": "https://localhost:8080/",
          "height": 35
        }
      },
      "outputs": [
        {
          "output_type": "execute_result",
          "data": {
            "text/plain": [
              "'oao'"
            ],
            "application/vnd.google.colaboratory.intrinsic+json": {
              "type": "string"
            }
          },
          "metadata": {},
          "execution_count": 52
        }
      ],
      "source": [
        "food[1:6:2]"
      ]
    },
    {
      "cell_type": "code",
      "execution_count": 53,
      "metadata": {
        "id": "eVA7IzQcyk62",
        "outputId": "851e7e3a-3daf-4507-b501-1d56ff76752b",
        "colab": {
          "base_uri": "https://localhost:8080/",
          "height": 35
        }
      },
      "outputs": [
        {
          "output_type": "execute_result",
          "data": {
            "text/plain": [
              "'seotatop'"
            ],
            "application/vnd.google.colaboratory.intrinsic+json": {
              "type": "string"
            }
          },
          "metadata": {},
          "execution_count": 53
        }
      ],
      "source": [
        "# Pythonic way of reversing a string\n",
        "food[::-1]\n"
      ]
    },
    {
      "cell_type": "code",
      "source": [
        "food[2] = \"x\""
      ],
      "metadata": {
        "id": "nORDYX41t09O",
        "outputId": "25701c39-6548-4523-898f-13257564527f",
        "colab": {
          "base_uri": "https://localhost:8080/",
          "height": 168
        }
      },
      "execution_count": 54,
      "outputs": [
        {
          "output_type": "error",
          "ename": "TypeError",
          "evalue": "ignored",
          "traceback": [
            "\u001b[0;31m---------------------------------------------------------------------------\u001b[0m",
            "\u001b[0;31mTypeError\u001b[0m                                 Traceback (most recent call last)",
            "\u001b[0;32m<ipython-input-54-f8c1ae6dd029>\u001b[0m in \u001b[0;36m<module>\u001b[0;34m()\u001b[0m\n\u001b[0;32m----> 1\u001b[0;31m \u001b[0mfood\u001b[0m\u001b[0;34m[\u001b[0m\u001b[0;36m2\u001b[0m\u001b[0;34m]\u001b[0m \u001b[0;34m=\u001b[0m \u001b[0;34m\"x\"\u001b[0m\u001b[0;34m\u001b[0m\u001b[0;34m\u001b[0m\u001b[0m\n\u001b[0m",
            "\u001b[0;31mTypeError\u001b[0m: 'str' object does not support item assignment"
          ]
        }
      ]
    },
    {
      "cell_type": "code",
      "execution_count": 55,
      "metadata": {
        "id": "j4ils2ODyk62",
        "outputId": "53dc9220-f0b8-41e7-b7c5-80bdc620f668",
        "colab": {
          "base_uri": "https://localhost:8080/",
          "height": 35
        }
      },
      "outputs": [
        {
          "output_type": "execute_result",
          "data": {
            "text/plain": [
              "'poxatoes'"
            ],
            "application/vnd.google.colaboratory.intrinsic+json": {
              "type": "string"
            }
          },
          "metadata": {},
          "execution_count": 55
        }
      ],
      "source": [
        "# modifying strings\n",
        "# unmutability\n",
        "# food[2]=\"x\" is not allowed\n",
        "newfood = food[:2] + \"x\" + food[3:] # so we concatanate first 2 letters from food then add letter \"x\" and then rest of letters from food starting with the 4th characters\n",
        "newfood"
      ]
    },
    {
      "cell_type": "code",
      "source": [
        "last_name = \"Saulespurēns\"\n",
        "last_name"
      ],
      "metadata": {
        "id": "_sQ4cEufuRfA",
        "outputId": "85b5d19a-e036-42a7-91d2-6576f41d6b6a",
        "colab": {
          "base_uri": "https://localhost:8080/",
          "height": 35
        }
      },
      "execution_count": 56,
      "outputs": [
        {
          "output_type": "execute_result",
          "data": {
            "text/plain": [
              "'Saulespurēns'"
            ],
            "application/vnd.google.colaboratory.intrinsic+json": {
              "type": "string"
            }
          },
          "metadata": {},
          "execution_count": 56
        }
      ]
    },
    {
      "cell_type": "code",
      "source": [
        "full_name = name + last_name\n",
        "full_name"
      ],
      "metadata": {
        "id": "qGh04I3zuYTM",
        "outputId": "b7878caf-6c55-4f5b-f3ed-cb739e90bb99",
        "colab": {
          "base_uri": "https://localhost:8080/",
          "height": 35
        }
      },
      "execution_count": 60,
      "outputs": [
        {
          "output_type": "execute_result",
          "data": {
            "text/plain": [
              "'ValdisSaulespurēns'"
            ],
            "application/vnd.google.colaboratory.intrinsic+json": {
              "type": "string"
            }
          },
          "metadata": {},
          "execution_count": 60
        }
      ]
    },
    {
      "cell_type": "code",
      "source": [
        "full_name = name + \" \" + last_name\n",
        "full_name"
      ],
      "metadata": {
        "id": "tMK5ad-Jum3N",
        "outputId": "8789a5ef-536c-4630-9d86-5b7ec656eba6",
        "colab": {
          "base_uri": "https://localhost:8080/",
          "height": 35
        }
      },
      "execution_count": 61,
      "outputs": [
        {
          "output_type": "execute_result",
          "data": {
            "text/plain": [
              "'Valdis Saulespurēns'"
            ],
            "application/vnd.google.colaboratory.intrinsic+json": {
              "type": "string"
            }
          },
          "metadata": {},
          "execution_count": 61
        }
      ]
    },
    {
      "cell_type": "code",
      "execution_count": 62,
      "metadata": {
        "id": "DthXz9ujyk62"
      },
      "outputs": [],
      "source": [
        "# 'some text', \"some text again\" work the same\n",
        "# '''  For multiline ''' also \"\"\" and \"\"\"\n",
        "longstring = ''' This will be a very long string\n",
        "    and a very long day you can write what you want\n",
        "\n",
        "    and a very long summer\n",
        "'''"
      ]
    },
    {
      "cell_type": "code",
      "execution_count": 63,
      "metadata": {
        "id": "L2VRCfQ-yk63",
        "outputId": "1245c410-d1c2-4f45-bb8b-bc3d19bf0e3d",
        "colab": {
          "base_uri": "https://localhost:8080/",
          "height": 35
        }
      },
      "outputs": [
        {
          "output_type": "execute_result",
          "data": {
            "text/plain": [
              "' This will be a very long string\\n    and a very long day\\n    and a very long summer\\n'"
            ],
            "application/vnd.google.colaboratory.intrinsic+json": {
              "type": "string"
            }
          },
          "metadata": {},
          "execution_count": 63
        }
      ],
      "source": [
        "# print out the longstring\n",
        "longstring"
      ]
    },
    {
      "cell_type": "code",
      "source": [
        "print(longstring)"
      ],
      "metadata": {
        "id": "Bc1GfIiNu_jE",
        "outputId": "80b05a40-1e99-4b96-eb67-f184d80077b1",
        "colab": {
          "base_uri": "https://localhost:8080/"
        }
      },
      "execution_count": 64,
      "outputs": [
        {
          "output_type": "stream",
          "name": "stdout",
          "text": [
            " This will be a very long string\n",
            "    and a very long day\n",
            "    and a very long summer\n",
            "\n"
          ]
        }
      ]
    },
    {
      "cell_type": "markdown",
      "metadata": {
        "id": "pwOxFbXsyk63"
      },
      "source": [
        "## \"f-strings\", “formatted string literals”\n",
        "\n",
        "In some other languages also known as string interpolation"
      ]
    },
    {
      "cell_type": "code",
      "execution_count": 65,
      "metadata": {
        "id": "eGwasQzEyk63",
        "outputId": "7ed742c1-77a5-4616-dd8e-ecdee0e49702",
        "colab": {
          "base_uri": "https://localhost:8080/",
          "height": 35
        }
      },
      "outputs": [
        {
          "output_type": "execute_result",
          "data": {
            "text/plain": [
              "'Uldis'"
            ],
            "application/vnd.google.colaboratory.intrinsic+json": {
              "type": "string"
            }
          },
          "metadata": {},
          "execution_count": 65
        }
      ],
      "source": [
        "# Create myname and favfood variables with appropriate text\n",
        "# Then run the cell below\n",
        "# What would happen if you did not assign variables ?\n",
        "myname"
      ]
    },
    {
      "cell_type": "code",
      "source": [
        "favfood = \"pizza\"\n",
        "favfood"
      ],
      "metadata": {
        "id": "btOR_9VDv0Q1",
        "outputId": "bdc4477f-76f6-4eb7-86e7-8b866aac26b2",
        "colab": {
          "base_uri": "https://localhost:8080/",
          "height": 35
        }
      },
      "execution_count": 66,
      "outputs": [
        {
          "output_type": "execute_result",
          "data": {
            "text/plain": [
              "'pizza'"
            ],
            "application/vnd.google.colaboratory.intrinsic+json": {
              "type": "string"
            }
          },
          "metadata": {},
          "execution_count": 66
        }
      ]
    },
    {
      "cell_type": "code",
      "execution_count": 67,
      "metadata": {
        "id": "F6iqEY0Jyk63",
        "outputId": "61d49dba-efb1-4940-fa3b-9053044a0a17",
        "colab": {
          "base_uri": "https://localhost:8080/"
        }
      },
      "outputs": [
        {
          "output_type": "stream",
          "name": "stdout",
          "text": [
            "My name is Uldis and my favorite food is pizza \n"
          ]
        }
      ],
      "source": [
        "print(f\"My name is {myname} and my favorite food is {favfood} \")\n",
        "# f strings in Python 3.6+ older formatting methods not covered in this course\n",
        "# https://realpython.com/python-f-strings/\n"
      ]
    },
    {
      "cell_type": "code",
      "source": [
        "print(\"My name is {myname} and my favorite food is {favfood} \") # just a regular string and no variables will be replaced"
      ],
      "metadata": {
        "id": "1ZITJytQwDb7",
        "outputId": "d40052ed-e816-45f1-cab9-e04ac8300ccb",
        "colab": {
          "base_uri": "https://localhost:8080/"
        }
      },
      "execution_count": 68,
      "outputs": [
        {
          "output_type": "stream",
          "name": "stdout",
          "text": [
            "My name is {myname} and my favorite food is {favfood} \n"
          ]
        }
      ]
    },
    {
      "cell_type": "code",
      "execution_count": 69,
      "metadata": {
        "id": "XNZHcE6fyk63",
        "outputId": "79145bfb-1e1f-4425-b5b1-d45aede136e6",
        "colab": {
          "base_uri": "https://localhost:8080/"
        }
      },
      "outputs": [
        {
          "output_type": "stream",
          "name": "stdout",
          "text": [
            "My name is Uldis and my favorite food is pizza\n"
          ]
        }
      ],
      "source": [
        "# Old string concatation method\n",
        "print(\"My name is \" + myname + \" and my favorite food is \" + favfood)"
      ]
    },
    {
      "cell_type": "code",
      "source": [
        "food_string = f\"My name is {myname} and my favorite food is {favfood} \"  # anything inside \" is significant\"\n",
        "food_string"
      ],
      "metadata": {
        "id": "mkSNQTbLwO0M",
        "outputId": "3518f0d7-1634-4a6e-de02-35521a9e84aa",
        "colab": {
          "base_uri": "https://localhost:8080/",
          "height": 35
        }
      },
      "execution_count": 70,
      "outputs": [
        {
          "output_type": "execute_result",
          "data": {
            "text/plain": [
              "'My name is Uldis and my favorite food is pizza '"
            ],
            "application/vnd.google.colaboratory.intrinsic+json": {
              "type": "string"
            }
          },
          "metadata": {},
          "execution_count": 70
        }
      ]
    },
    {
      "cell_type": "markdown",
      "metadata": {
        "id": "Ab46RX_Ayk63"
      },
      "source": [
        "## Python Lists\n",
        "\n",
        "* Ordered\n",
        "* Mutable(can change individual members!)\n",
        "* Comma separated between brackets [1,3,2,5,6,2]\n",
        "* Can have duplicates\n",
        "* Can be nested\n"
      ]
    },
    {
      "cell_type": "code",
      "execution_count": 71,
      "metadata": {
        "colab": {
          "base_uri": "https://localhost:8080/"
        },
        "id": "Pj1LtSiiyk63",
        "outputId": "30883ca8-54b2-415a-a5b6-25e29cf8e2a9"
      },
      "outputs": [
        {
          "output_type": "stream",
          "name": "stdout",
          "text": [
            "[11, 12, 13, 14, 15, 16, 17, 18, 19, 20]\n"
          ]
        }
      ],
      "source": [
        "mylist = list(range(11,21,1)) \n",
        "# mylist = [11, 12, 13, 14, 15, 16, 17, 18, 19, 20] would work too but not practical for longer ranges...\n",
        "print(mylist)"
      ]
    },
    {
      "cell_type": "code",
      "source": [
        "shopping_list = [\"Chocolate\", \"Milk\", \"Cookies\"] # so i created a list of 3 strings - can be changed later on as needed\n",
        "shopping_list"
      ],
      "metadata": {
        "id": "ov8VuKAEw4oZ",
        "outputId": "0b7ba00a-8970-476b-e492-7ae7166e3f21",
        "colab": {
          "base_uri": "https://localhost:8080/"
        }
      },
      "execution_count": 72,
      "outputs": [
        {
          "output_type": "execute_result",
          "data": {
            "text/plain": [
              "['Chocolate', 'Milk', 'Cookies']"
            ]
          },
          "metadata": {},
          "execution_count": 72
        }
      ]
    },
    {
      "cell_type": "markdown",
      "metadata": {
        "id": "lS62R1xHyk63"
      },
      "source": [
        "### Slice notation\n",
        "\n",
        "somestring[start:end:step]\n",
        "\n",
        "somelist[start:end:step]\n",
        "\n",
        "start is at index 0(first element), end is -1 the actual index\n",
        "#### Examples below"
      ]
    },
    {
      "cell_type": "code",
      "execution_count": 96,
      "metadata": {
        "colab": {
          "base_uri": "https://localhost:8080/"
        },
        "id": "tKZeoEl-yk64",
        "outputId": "9b4ba575-ea8d-4cd7-b578-cfff8ffe8c3a"
      },
      "outputs": [
        {
          "output_type": "execute_result",
          "data": {
            "text/plain": [
              "11"
            ]
          },
          "metadata": {},
          "execution_count": 96
        }
      ],
      "source": [
        "mylist[0]"
      ]
    },
    {
      "cell_type": "code",
      "source": [
        "shopping_list[-1]"
      ],
      "metadata": {
        "id": "zyZZ9KXGxQog",
        "outputId": "758948ca-56fb-49ab-a9b6-d2a6cf8787e1",
        "colab": {
          "base_uri": "https://localhost:8080/",
          "height": 35
        }
      },
      "execution_count": 74,
      "outputs": [
        {
          "output_type": "execute_result",
          "data": {
            "text/plain": [
              "'Cookies'"
            ],
            "application/vnd.google.colaboratory.intrinsic+json": {
              "type": "string"
            }
          },
          "metadata": {},
          "execution_count": 74
        }
      ]
    },
    {
      "cell_type": "code",
      "source": [
        "shopping_list[-1] = \"Potatoes\"\n",
        "shopping_list"
      ],
      "metadata": {
        "id": "Xd3DkIPgxYmL",
        "outputId": "5ed2c01a-c6e1-49dc-a44d-6144266ce1d3",
        "colab": {
          "base_uri": "https://localhost:8080/"
        }
      },
      "execution_count": 75,
      "outputs": [
        {
          "output_type": "execute_result",
          "data": {
            "text/plain": [
              "['Chocolate', 'Milk', 'Potatoes']"
            ]
          },
          "metadata": {},
          "execution_count": 75
        }
      ]
    },
    {
      "cell_type": "code",
      "execution_count": 76,
      "metadata": {
        "colab": {
          "base_uri": "https://localhost:8080/"
        },
        "id": "cg8Nn8Xlyk64",
        "outputId": "65fbf700-9692-409e-d0ec-f59e492fe137"
      },
      "outputs": [
        {
          "output_type": "execute_result",
          "data": {
            "text/plain": [
              "[14, 15, 16, 17, 18, 19, 20]"
            ]
          },
          "metadata": {},
          "execution_count": 76
        }
      ],
      "source": [
        "mylist[3:] # so starting from the 4th element(with index 3)"
      ]
    },
    {
      "cell_type": "code",
      "execution_count": 77,
      "metadata": {
        "id": "PF9Pqnyeyk64",
        "outputId": "a1043717-e3ea-465c-fa66-7ba751d57e5a",
        "colab": {
          "base_uri": "https://localhost:8080/"
        }
      },
      "outputs": [
        {
          "output_type": "execute_result",
          "data": {
            "text/plain": [
              "[11, 12, 13, 14, 15, 16, 17, 18]"
            ]
          },
          "metadata": {},
          "execution_count": 77
        }
      ],
      "source": [
        "mylist[:-2] # so everything BUT the last two items"
      ]
    },
    {
      "cell_type": "code",
      "execution_count": 78,
      "metadata": {
        "id": "xmKJGEc0yk64",
        "outputId": "217193c9-ec5a-49d7-cad0-82bbbde1077d",
        "colab": {
          "base_uri": "https://localhost:8080/"
        }
      },
      "outputs": [
        {
          "output_type": "execute_result",
          "data": {
            "text/plain": [
              "[11, 13, 15, 17, 19]"
            ]
          },
          "metadata": {},
          "execution_count": 78
        }
      ],
      "source": [
        "mylist[::2]"
      ]
    },
    {
      "cell_type": "code",
      "execution_count": null,
      "metadata": {
        "colab": {
          "base_uri": "https://localhost:8080/",
          "height": 35
        },
        "id": "XBQVRvFCyk64",
        "outputId": "a1ea3900-d7f5-4818-f60f-379f751255a6"
      },
      "outputs": [
        {
          "data": {
            "application/vnd.google.colaboratory.intrinsic+json": {
              "type": "string"
            },
            "text/plain": [
              "'ldi'"
            ]
          },
          "execution_count": 17,
          "metadata": {},
          "output_type": "execute_result"
        }
      ],
      "source": [
        "\"Valdis\"[2:5]"
      ]
    },
    {
      "cell_type": "code",
      "execution_count": null,
      "metadata": {
        "id": "32NEQe4vyk64"
      },
      "outputs": [],
      "source": [
        "myname[-1]"
      ]
    },
    {
      "cell_type": "code",
      "execution_count": null,
      "metadata": {
        "id": "XsTGTVo0yk65"
      },
      "outputs": [],
      "source": [
        "myname[::-1]"
      ]
    },
    {
      "cell_type": "markdown",
      "metadata": {
        "id": "LFGg71Z6yk65"
      },
      "source": [
        "\n",
        "### Common list methods.\n",
        "* list.append(elem) -- adds a single element to the end of the list. Common error: does not return the new list, just modifies the original.\n",
        "* list.insert(index, elem) -- inserts the element at the given index, shifting elements to the right.\n",
        "* list.extend(list2) adds the elements in list2 to the end of the list. Using + or += on a list is similar to using extend().\n",
        "* list.index(elem) -- searches for the given element from the start of the list and returns its index. Throws a ValueError if the element does not appear (use \"in\" to check without a ValueError).\n",
        "* list.remove(elem) -- searches for the first instance of the given element and removes it (throws ValueError if not present)\n",
        "* list.sort() -- sorts the list in place (does not return it). (The sorted() function shown later is preferred.)\n",
        "* list.reverse() -- reverses the list in place (does not return it)\n",
        "* list.pop(index)-- removes and returns the element at the given index. Returns the rightmost element if index is omitted (roughly the opposite of append())."
      ]
    },
    {
      "cell_type": "code",
      "source": [
        "shopping_list"
      ],
      "metadata": {
        "id": "pbsx7duKx5ha",
        "outputId": "9d38e52e-d13f-4184-ee34-5388b275b855",
        "colab": {
          "base_uri": "https://localhost:8080/"
        }
      },
      "execution_count": 79,
      "outputs": [
        {
          "output_type": "execute_result",
          "data": {
            "text/plain": [
              "['Chocolate', 'Milk', 'Potatoes']"
            ]
          },
          "metadata": {},
          "execution_count": 79
        }
      ]
    },
    {
      "cell_type": "code",
      "source": [
        "shopping_list.append(\"Kefir\")\n",
        "shopping_list"
      ],
      "metadata": {
        "id": "Kbu66bEgx9-s",
        "outputId": "057cf978-3cc9-4538-d61a-f644b51860d6",
        "colab": {
          "base_uri": "https://localhost:8080/"
        }
      },
      "execution_count": 80,
      "outputs": [
        {
          "output_type": "execute_result",
          "data": {
            "text/plain": [
              "['Chocolate', 'Milk', 'Potatoes', 'Kefir']"
            ]
          },
          "metadata": {},
          "execution_count": 80
        }
      ]
    },
    {
      "cell_type": "code",
      "source": [
        "shopping_list.sort() # this will sort a list\n",
        "shopping_list"
      ],
      "metadata": {
        "id": "U3febKV1yMUI",
        "outputId": "691623b1-2a67-4e80-d2df-af8ee0d792f5",
        "colab": {
          "base_uri": "https://localhost:8080/"
        }
      },
      "execution_count": 81,
      "outputs": [
        {
          "output_type": "execute_result",
          "data": {
            "text/plain": [
              "['Chocolate', 'Kefir', 'Milk', 'Potatoes']"
            ]
          },
          "metadata": {},
          "execution_count": 81
        }
      ]
    },
    {
      "cell_type": "code",
      "source": [
        "shopping_list.append(\"fork\")\n",
        "shopping_list"
      ],
      "metadata": {
        "id": "JO5st21XyVhY",
        "outputId": "a1d2807d-e336-4c6f-972c-9c1f9c404e81",
        "colab": {
          "base_uri": "https://localhost:8080/"
        }
      },
      "execution_count": 86,
      "outputs": [
        {
          "output_type": "execute_result",
          "data": {
            "text/plain": [
              "['Chocolate', 'Kefir', 'Milk', 'Potatoes', 'fork', 'fork', 'fork', 'fork']"
            ]
          },
          "metadata": {},
          "execution_count": 86
        }
      ]
    },
    {
      "cell_type": "code",
      "source": [
        "shopping_list = shopping_list[:-3] # so remove last 3 items\n",
        "shopping_list"
      ],
      "metadata": {
        "id": "rwChOk8GyvbG",
        "outputId": "869715bf-d676-4779-9a76-8fcef59153ba",
        "colab": {
          "base_uri": "https://localhost:8080/"
        }
      },
      "execution_count": 87,
      "outputs": [
        {
          "output_type": "execute_result",
          "data": {
            "text/plain": [
              "['Chocolate', 'Kefir', 'Milk', 'Potatoes', 'fork']"
            ]
          },
          "metadata": {},
          "execution_count": 87
        }
      ]
    },
    {
      "cell_type": "code",
      "source": [
        "shopping_list.sort()\n",
        "shopping_list"
      ],
      "metadata": {
        "id": "g5FqcG8eyeKH",
        "outputId": "5c5d2ba6-216e-49f3-a4dc-cae3efd28407",
        "colab": {
          "base_uri": "https://localhost:8080/"
        }
      },
      "execution_count": 83,
      "outputs": [
        {
          "output_type": "execute_result",
          "data": {
            "text/plain": [
              "['Chocolate', 'Kefir', 'Milk', 'Potatoes', 'fork']"
            ]
          },
          "metadata": {},
          "execution_count": 83
        }
      ]
    },
    {
      "cell_type": "code",
      "source": [
        "shopping_list.remove(\"Milk\")\n",
        "shopping_list"
      ],
      "metadata": {
        "id": "lDug1ZoazASu",
        "outputId": "71593163-de2a-444e-99b5-425c784b309f",
        "colab": {
          "base_uri": "https://localhost:8080/"
        }
      },
      "execution_count": 88,
      "outputs": [
        {
          "output_type": "execute_result",
          "data": {
            "text/plain": [
              "['Chocolate', 'Kefir', 'Potatoes', 'fork']"
            ]
          },
          "metadata": {},
          "execution_count": 88
        }
      ]
    },
    {
      "cell_type": "code",
      "source": [
        "\"Kefir\" in shopping_list  # this needs to be exact match"
      ],
      "metadata": {
        "id": "FkHGu6fazRCF",
        "outputId": "257007c1-bcf6-4f20-b0f8-021e6edc8d6d",
        "colab": {
          "base_uri": "https://localhost:8080/"
        }
      },
      "execution_count": 90,
      "outputs": [
        {
          "output_type": "execute_result",
          "data": {
            "text/plain": [
              "True"
            ]
          },
          "metadata": {},
          "execution_count": 90
        }
      ]
    },
    {
      "cell_type": "code",
      "source": [
        "\"kefir\" in shopping_list # case sensitive so it should be false"
      ],
      "metadata": {
        "id": "LBm6xnhAzb9Y",
        "outputId": "ff613497-b96f-4c1b-cf76-c855a14ab87c",
        "colab": {
          "base_uri": "https://localhost:8080/"
        }
      },
      "execution_count": 92,
      "outputs": [
        {
          "output_type": "execute_result",
          "data": {
            "text/plain": [
              "False"
            ]
          },
          "metadata": {},
          "execution_count": 92
        }
      ]
    },
    {
      "cell_type": "code",
      "source": [
        "\"Milk\" in shopping_list"
      ],
      "metadata": {
        "id": "b-aF5slHzYG5",
        "outputId": "6746dd62-94a5-4b75-dcc9-cd47723c4495",
        "colab": {
          "base_uri": "https://localhost:8080/"
        }
      },
      "execution_count": 91,
      "outputs": [
        {
          "output_type": "execute_result",
          "data": {
            "text/plain": [
              "False"
            ]
          },
          "metadata": {},
          "execution_count": 91
        }
      ]
    },
    {
      "cell_type": "code",
      "source": [
        "\"dis\" in myName"
      ],
      "metadata": {
        "id": "V9tvNzyTzlhY",
        "outputId": "7ee2a482-7116-4480-a246-7a1de2add738",
        "colab": {
          "base_uri": "https://localhost:8080/"
        }
      },
      "execution_count": 93,
      "outputs": [
        {
          "output_type": "execute_result",
          "data": {
            "text/plain": [
              "True"
            ]
          },
          "metadata": {},
          "execution_count": 93
        }
      ]
    },
    {
      "cell_type": "code",
      "source": [
        "\"al\" in myName # Uldis does not have \"al\" substring"
      ],
      "metadata": {
        "id": "rNORT9z4zrSx",
        "outputId": "0934496a-8b67-4c6d-8eed-e2ca9200958a",
        "colab": {
          "base_uri": "https://localhost:8080/"
        }
      },
      "execution_count": 94,
      "outputs": [
        {
          "output_type": "execute_result",
          "data": {
            "text/plain": [
              "False"
            ]
          },
          "metadata": {},
          "execution_count": 94
        }
      ]
    },
    {
      "cell_type": "code",
      "source": [
        "\"al\" in name"
      ],
      "metadata": {
        "id": "05uwzExvzwUK",
        "outputId": "1b18fa1a-88f4-4e0d-8102-466eaa45abc9",
        "colab": {
          "base_uri": "https://localhost:8080/"
        }
      },
      "execution_count": 95,
      "outputs": [
        {
          "output_type": "execute_result",
          "data": {
            "text/plain": [
              "True"
            ]
          },
          "metadata": {},
          "execution_count": 95
        }
      ]
    },
    {
      "cell_type": "markdown",
      "metadata": {
        "id": "migbFQ7eyk65"
      },
      "source": [
        "## Dictionaries\n",
        "\n",
        "* Collection of Key - Value pairs\n",
        "* also known as associative array\n",
        "* unordered\n",
        "* keys unique in one dictionary\n",
        "* storing, extracting"
      ]
    },
    {
      "cell_type": "code",
      "execution_count": null,
      "metadata": {
        "id": "BrClGPCfyk65"
      },
      "outputs": [],
      "source": [
        "mydict = {\"country\":\"Latvia\"} #Key-Value store, also knows as Hashmaps, Keys must be unique"
      ]
    },
    {
      "cell_type": "code",
      "execution_count": null,
      "metadata": {
        "id": "LPQs68Ipyk65"
      },
      "outputs": [],
      "source": [
        "mydict[\"food\"]=\"potatoes\""
      ]
    },
    {
      "cell_type": "code",
      "execution_count": null,
      "metadata": {
        "colab": {
          "base_uri": "https://localhost:8080/",
          "height": 35
        },
        "id": "nBD4T-WNyk65",
        "outputId": "8e2f7701-c0a1-45a4-f033-59344e3b4e81"
      },
      "outputs": [
        {
          "data": {
            "application/vnd.google.colaboratory.intrinsic+json": {
              "type": "string"
            },
            "text/plain": [
              "'potatoes'"
            ]
          },
          "execution_count": 20,
          "metadata": {},
          "output_type": "execute_result"
        }
      ],
      "source": [
        "mydict[\"food\"]"
      ]
    },
    {
      "cell_type": "code",
      "execution_count": null,
      "metadata": {
        "colab": {
          "base_uri": "https://localhost:8080/",
          "height": 35
        },
        "id": "YKZr15c7yk65",
        "outputId": "44ef3c46-2263-4a9f-d65b-837e5a584636"
      },
      "outputs": [
        {
          "data": {
            "application/vnd.google.colaboratory.intrinsic+json": {
              "type": "string"
            },
            "text/plain": [
              "'Latvia'"
            ]
          },
          "execution_count": 21,
          "metadata": {},
          "output_type": "execute_result"
        }
      ],
      "source": [
        "mydict[\"country\"]"
      ]
    },
    {
      "cell_type": "code",
      "execution_count": null,
      "metadata": {
        "id": "vdIvCt81yk65"
      },
      "outputs": [],
      "source": [
        "mydict.keys()"
      ]
    },
    {
      "cell_type": "code",
      "execution_count": null,
      "metadata": {
        "id": "yct3q-j5yk66"
      },
      "outputs": [],
      "source": [
        "mydict.values()"
      ]
    },
    {
      "cell_type": "code",
      "execution_count": null,
      "metadata": {
        "id": "EaMSZFjmyk66"
      },
      "outputs": [],
      "source": [
        "\"potatoes\" in mydict.values()"
      ]
    },
    {
      "cell_type": "markdown",
      "metadata": {
        "id": "WYWFwAhVyk66"
      },
      "source": [
        "## Sets\n",
        "\n",
        "* unordered\n",
        "* uniques only\n",
        "* curly braces {3, 6, 7}"
      ]
    },
    {
      "cell_type": "code",
      "execution_count": null,
      "metadata": {
        "id": "i7v28_CZyk66"
      },
      "outputs": [],
      "source": [
        "s={3,3,6,1,3,6,7}\n",
        "print(s)"
      ]
    },
    {
      "cell_type": "markdown",
      "metadata": {
        "id": "uLGx0rlGyk66"
      },
      "source": [
        "## Tuples\n",
        "\n",
        "*  ordered\n",
        "* immutable (cannot be changed!)\n",
        "* Can be used as a collection of fields"
      ]
    },
    {
      "cell_type": "code",
      "execution_count": null,
      "metadata": {
        "id": "6ECR4BjKyk66"
      },
      "outputs": [],
      "source": [
        "mytuple = 6, 4, 9\n",
        "print(mytuple)"
      ]
    },
    {
      "cell_type": "markdown",
      "metadata": {
        "id": "VNKMQuIyyk66"
      },
      "source": [
        "## Arithmetic Operators <a class=\"anchor\" id=\"arithmetic\">\n",
        "    \n",
        "[Back to Table of Contents](#toc)\n",
        "* `+ - * / `\n",
        "* `**(power)` \n",
        "* `% modulus` \n",
        "* `//(integer division)`\n",
        "* `() parenthesis for order`\n"
      ]
    },
    {
      "cell_type": "code",
      "execution_count": null,
      "metadata": {
        "id": "nQX4h96pyk66"
      },
      "outputs": [],
      "source": [
        "5+4*3-(6/2)"
      ]
    },
    {
      "cell_type": "code",
      "execution_count": null,
      "metadata": {
        "id": "iGIvNReTyk67"
      },
      "outputs": [],
      "source": [
        "5//2\n"
      ]
    },
    {
      "cell_type": "code",
      "execution_count": null,
      "metadata": {
        "id": "6jo8PZW8yk67"
      },
      "outputs": [],
      "source": [
        "4%3"
      ]
    },
    {
      "cell_type": "code",
      "execution_count": null,
      "metadata": {
        "id": "5bYgoxkzyk67"
      },
      "outputs": [],
      "source": [
        "type(1)"
      ]
    },
    {
      "cell_type": "code",
      "execution_count": null,
      "metadata": {
        "id": "Nrua1v5Iyk67"
      },
      "outputs": [],
      "source": [
        "type(14.0)"
      ]
    },
    {
      "cell_type": "code",
      "execution_count": null,
      "metadata": {
        "id": "Y0Md1cP9yk67"
      },
      "outputs": [],
      "source": [
        "5**33"
      ]
    },
    {
      "cell_type": "code",
      "execution_count": null,
      "metadata": {
        "id": "6dx9JpjTyk67"
      },
      "outputs": [],
      "source": [
        "11**120 # no maximum anymore"
      ]
    },
    {
      "cell_type": "markdown",
      "metadata": {
        "id": "94m41ooSyk67"
      },
      "source": [
        "## Flow Control <a class=\"anchor\" id=\"flow-control\">\n",
        "    \n",
        "[Back to Table of Contents](#toc)"
      ]
    },
    {
      "cell_type": "code",
      "execution_count": null,
      "metadata": {
        "id": "T7BtimQbyk67"
      },
      "outputs": [],
      "source": [
        "# With Flow Control we can tell our program/cells to choose different paths"
      ]
    },
    {
      "cell_type": "markdown",
      "metadata": {
        "id": "u8W4uJO1yk68"
      },
      "source": [
        "## Conditional operators \n",
        "\n",
        "`< > <= >= == != and or not`"
      ]
    },
    {
      "cell_type": "code",
      "execution_count": null,
      "metadata": {
        "id": "om2-RYt5yk68"
      },
      "outputs": [],
      "source": [
        "# What is truth in computer language?"
      ]
    },
    {
      "cell_type": "code",
      "execution_count": null,
      "metadata": {
        "id": "MONkq4S3yk68"
      },
      "outputs": [],
      "source": [
        "2*2 == 4"
      ]
    },
    {
      "cell_type": "code",
      "execution_count": null,
      "metadata": {
        "id": "osZweVjuyk68"
      },
      "outputs": [],
      "source": [
        "5 > 7\n"
      ]
    },
    {
      "cell_type": "code",
      "execution_count": null,
      "metadata": {
        "id": "WtcIqTKqyk68"
      },
      "outputs": [],
      "source": [
        "print(5 == int('5'))\n",
        "\n",
        "print(5 <= 6)"
      ]
    },
    {
      "cell_type": "code",
      "execution_count": null,
      "metadata": {
        "id": "RjVP_FTuyk68"
      },
      "outputs": [],
      "source": [
        "print(5 <= 5)\n",
        "\n",
        "# check if 5 is NOT equal to 6\n",
        "print(5 != 6)\n",
        "\n",
        "print(5 != 5)\n"
      ]
    },
    {
      "cell_type": "code",
      "execution_count": null,
      "metadata": {
        "id": "dV-16LNayk68"
      },
      "outputs": [],
      "source": [
        "# We check each letter from left side\n",
        "# on mismatch we check ASCII (UTF-8) tables for values\n",
        "\n",
        "'VALDIS' < 'VOLDEMARS'"
      ]
    },
    {
      "cell_type": "code",
      "execution_count": null,
      "metadata": {
        "id": "LBrFsFhLyk68"
      },
      "outputs": [],
      "source": [
        "len('VALDIS') < len('VOLDEMARS')"
      ]
    },
    {
      "cell_type": "code",
      "execution_count": null,
      "metadata": {
        "id": "wNB92r86yk68"
      },
      "outputs": [],
      "source": [
        "True and True"
      ]
    },
    {
      "cell_type": "code",
      "execution_count": null,
      "metadata": {
        "id": "PDSDoyhtyk69"
      },
      "outputs": [],
      "source": [
        "True or False"
      ]
    },
    {
      "cell_type": "code",
      "execution_count": null,
      "metadata": {
        "id": "_yRvWtvsyk69"
      },
      "outputs": [],
      "source": [
        "not True"
      ]
    },
    {
      "cell_type": "markdown",
      "metadata": {
        "id": "8Lh_uafdyk69"
      },
      "source": [
        "## If Statement"
      ]
    },
    {
      "cell_type": "code",
      "execution_count": null,
      "metadata": {
        "id": "1VFw0D6Yyk69"
      },
      "outputs": [],
      "source": [
        "## Conditional execution\n",
        "# if 4 is larger than 5 then do something\n",
        "if 4 > 5:\n",
        "    print(\"4 is larger than 5 wow!\")"
      ]
    },
    {
      "cell_type": "code",
      "execution_count": null,
      "metadata": {
        "id": "ff_Wgf1kyk69"
      },
      "outputs": [],
      "source": [
        "if 5 >= 5:\n",
        "    print(\"hello\")\n",
        "if 5 <= 5:\n",
        "    print(\"hello\")\n",
        "if 5 == 6:\n",
        "    print(\"hello thats magic\")\n",
        "if 5 != 6:\n",
        "    print(\"hello thats not magic\")"
      ]
    },
    {
      "cell_type": "code",
      "execution_count": null,
      "metadata": {
        "id": "07vTwFUXyk69"
      },
      "outputs": [],
      "source": [
        "if 2*2 == 4:\n",
        "    print(\"Do one thing if if is True\")\n",
        "    print(\"DO more things if if is True\")\n",
        "print(\"Do this always\")"
      ]
    },
    {
      "cell_type": "code",
      "execution_count": null,
      "metadata": {
        "id": "dpvM7gpDyk69"
      },
      "outputs": [],
      "source": [
        "c = float(input(\"Enter  temperature in Celsius \"))\n",
        "f = c * 9/5 + 32\n",
        "print(\"Farenheit Temperature is\", f)\n",
        "if f > 100:\n",
        "    print(\"You are too hot, find a doctor?\")"
      ]
    },
    {
      "cell_type": "code",
      "execution_count": null,
      "metadata": {
        "id": "y0WBr_Ilyk69"
      },
      "outputs": [],
      "source": [
        "# Try reversing the above program to create a Farenheit to Celsius converter"
      ]
    },
    {
      "cell_type": "code",
      "execution_count": null,
      "metadata": {
        "id": "bwQ6KgAJyk6-"
      },
      "outputs": [],
      "source": [
        "a = 55\n",
        "if a > 5:\n",
        "    print('a is larger than 5')\n",
        "    # do more stuff\n",
        "else:\n",
        "    print('a is NOT larger than 5')\n",
        "    # do more stuff if a is not larger than 5"
      ]
    },
    {
      "cell_type": "code",
      "execution_count": null,
      "metadata": {
        "id": "jn3qWMZtyk6-"
      },
      "outputs": [],
      "source": [
        "#elif comes from else if\n",
        "x = int(input(\"Enter an integer please! \"))\n",
        "if x > 42:\n",
        "    print(\"Too ambitious an answer!\")\n",
        "elif x < 42:\n",
        "    print(\"You dream too little!\")\n",
        "else:\n",
        "    print(\"That is the answer to everything!\")\n",
        "#These lines below will execute always\n",
        "print('Your number is', x)"
      ]
    },
    {
      "cell_type": "markdown",
      "metadata": {
        "id": "QtrFl0dByk6-"
      },
      "source": [
        "## Loops"
      ]
    },
    {
      "cell_type": "code",
      "execution_count": null,
      "metadata": {
        "id": "nMuqut4Fyk6-"
      },
      "outputs": [],
      "source": [
        "# How would be perform the same/similar action multiple times?"
      ]
    },
    {
      "cell_type": "code",
      "execution_count": null,
      "metadata": {
        "id": "4lBUdvm7yk6-"
      },
      "outputs": [],
      "source": [
        "i = 0\n",
        "print(\"Alice did \")\n",
        "while i < 5:\n",
        "    print(\"talk\")\n",
        "    i+= 1 # same as i = i + 1"
      ]
    },
    {
      "cell_type": "code",
      "execution_count": null,
      "metadata": {
        "id": "O8Rk73-4yk6-"
      },
      "outputs": [],
      "source": [
        "# What would happen if we did not have i+=1 in our above program ?"
      ]
    },
    {
      "cell_type": "code",
      "execution_count": null,
      "metadata": {
        "id": "9iQlG4C5yk6-"
      },
      "outputs": [],
      "source": [
        "for x in range(10):\n",
        "    print(x)"
      ]
    },
    {
      "cell_type": "code",
      "execution_count": null,
      "metadata": {
        "id": "o7QcqVXDyk6-"
      },
      "outputs": [],
      "source": [
        "for c in \"Valdis\":\n",
        "    print(c)"
      ]
    },
    {
      "cell_type": "code",
      "execution_count": null,
      "metadata": {
        "colab": {
          "base_uri": "https://localhost:8080/"
        },
        "id": "b90_H3Vtzb40",
        "outputId": "aa4c7ad8-588b-4b30-e834-41361af73759"
      },
      "outputs": [
        {
          "name": "stdout",
          "output_type": "stream",
          "text": [
            "Item 11\n",
            "Item 12\n",
            "Item 13\n",
            "Item 14\n",
            "Item 15\n",
            "Item 16\n",
            "Item 17\n",
            "Item 18\n",
            "Item 19\n",
            "Item 20\n"
          ]
        }
      ],
      "source": [
        "for item in mylist:\n",
        "    print(\"Item\", item)"
      ]
    },
    {
      "cell_type": "code",
      "execution_count": null,
      "metadata": {
        "id": "W-wWdtOfyk6_"
      },
      "outputs": [],
      "source": [
        "for k,v in mydict.items():\n",
        "    print(k,v)"
      ]
    },
    {
      "cell_type": "code",
      "execution_count": null,
      "metadata": {
        "id": "RhVAv5xjyk6_"
      },
      "outputs": [],
      "source": [
        "## Splitting a line of text into words\n",
        "mytext = \"A quick brown fox jumped over a sleeping dog\"\n",
        "words = mytext.split()\n"
      ]
    },
    {
      "cell_type": "code",
      "execution_count": null,
      "metadata": {
        "id": "zFuwBnH0yk6_"
      },
      "outputs": [],
      "source": [
        "print(words)"
      ]
    },
    {
      "cell_type": "code",
      "execution_count": null,
      "metadata": {
        "id": "NGODLi24yk6_"
      },
      "outputs": [],
      "source": [
        "## Print first letter of each word\n",
        "for w in words:\n",
        "    print(w[0], w[0].isupper(), w.istitle()) ## istitle() checks every word in a string so not good for unsplit strings"
      ]
    },
    {
      "cell_type": "code",
      "execution_count": null,
      "metadata": {
        "id": "hwjDVnwpyk6_"
      },
      "outputs": [],
      "source": [
        "myline=\"Mr. Sherlock Holmes, who was usually very late in the mornings\""
      ]
    },
    {
      "cell_type": "code",
      "execution_count": null,
      "metadata": {
        "id": "n5wwnnSHyk7A"
      },
      "outputs": [],
      "source": [
        "words=myline.split()"
      ]
    },
    {
      "cell_type": "code",
      "execution_count": null,
      "metadata": {
        "id": "tBGR77iWyk7B"
      },
      "outputs": [],
      "source": [
        "words"
      ]
    },
    {
      "cell_type": "code",
      "execution_count": null,
      "metadata": {
        "id": "2ljnfqi1yk7B"
      },
      "outputs": [],
      "source": [
        "words[1][0].isupper()"
      ]
    },
    {
      "cell_type": "code",
      "execution_count": null,
      "metadata": {
        "id": "9d01teFfyk7B"
      },
      "outputs": [],
      "source": [
        "# Enumerate for showing index of item when going through many items\n",
        "for i, x in enumerate(range(10,15)):\n",
        "    print(i, x)"
      ]
    },
    {
      "cell_type": "code",
      "execution_count": null,
      "metadata": {
        "id": "lZhC-cpoyk7B"
      },
      "outputs": [],
      "source": [
        "for i, c in enumerate(myname):\n",
        "    print(i, c)"
      ]
    },
    {
      "cell_type": "markdown",
      "metadata": {
        "id": "7bywoUw-yk7B"
      },
      "source": [
        "## What is a function? <a class=\"anchor\" id=\"functions\">\n",
        "    \n",
        "[Back to Table of Contents](#toc)\n",
        "* A function is a block of organized, reusable code that is used to perform a single, related action.\n",
        "* Single, organized, related always ? :)\n",
        "###  DRY - Do not Repeat Yourself principle\n",
        "* Every piece of knowledge must have a single, unambiguous, authoritative representation within a system. http://wiki.c2.com/?DontRepeatYourself\n",
        "\n",
        "* Contrast WET - We Enjoy Typing, Write Everything Twice, Waste Everyone's Time"
      ]
    },
    {
      "cell_type": "code",
      "execution_count": null,
      "metadata": {
        "id": "4issPuv3yk7B"
      },
      "outputs": [],
      "source": [
        "# Here we define our first function\n",
        "def myFirstFunc():\n",
        "    print(\"Running My first func\")"
      ]
    },
    {
      "cell_type": "code",
      "execution_count": null,
      "metadata": {
        "id": "ktTvhI2Qyk7B"
      },
      "outputs": [],
      "source": [
        "# function has to be defined before it is called\n",
        "myFirstFunc()"
      ]
    },
    {
      "cell_type": "code",
      "execution_count": null,
      "metadata": {
        "id": "o2AKHLrcyk7C"
      },
      "outputs": [],
      "source": [
        "# Passing parameters(arguments)\n",
        "def printName(name):\n",
        "    print(f\"Maybe my name is: {name}\")\n"
      ]
    },
    {
      "cell_type": "code",
      "execution_count": null,
      "metadata": {
        "id": "khh9boPkyk7C"
      },
      "outputs": [],
      "source": [
        "def add(a, b):\n",
        "    print(a+b)"
      ]
    },
    {
      "cell_type": "code",
      "execution_count": null,
      "metadata": {
        "id": "5Fggm4P7yk7C"
      },
      "outputs": [],
      "source": [
        "add(4,6)\n",
        "add(9,233)\n",
        "add(\"Hello \",\"Riga\")\n",
        "add([1,2,7],list(range(6,12)))\n",
        "# Try calling add function with other parameters"
      ]
    },
    {
      "cell_type": "code",
      "execution_count": null,
      "metadata": {
        "id": "hcWHULvNyk7C"
      },
      "outputs": [],
      "source": [
        "\n"
      ]
    },
    {
      "cell_type": "code",
      "execution_count": null,
      "metadata": {
        "id": "UmUUiVofyk7C"
      },
      "outputs": [],
      "source": [
        "# We make Docstrings with '''Helpful function description inside'''\n",
        "def mult(a, b):\n",
        "    '''Returns \n",
        "    multiple from first two arguments'''\n",
        "    print(\"Look ma I am multiplying!\", a, b, a*b)\n",
        "    return a*b"
      ]
    },
    {
      "cell_type": "code",
      "execution_count": null,
      "metadata": {
        "id": "mGGMB7Fhyk7C"
      },
      "outputs": [],
      "source": [
        "def printnum(num):\n",
        "    if num > 10:\n",
        "        print(f\"This number {num} is too unwieldy for me to print\")\n",
        "    else:\n",
        "        print(f\"This {num} is a nice number\")"
      ]
    },
    {
      "cell_type": "code",
      "execution_count": null,
      "metadata": {
        "id": "PuTApljOyk7C"
      },
      "outputs": [],
      "source": [
        "def isEven(num):\n",
        "    if num%2 == 0:\n",
        "        print(f\"{num} is even\")\n",
        "    else:\n",
        "        print(f\"{num} is odd\")\n",
        "\n",
        "isEven(3)\n",
        "isEven(4)"
      ]
    },
    {
      "cell_type": "code",
      "execution_count": null,
      "metadata": {
        "id": "lTTPOUoKyk7D"
      },
      "outputs": [],
      "source": [
        "def processLine(line):\n",
        "    words = line.split()\n",
        "    linegood=False\n",
        "    for word in words:        \n",
        "        if word[0].isupper():\n",
        "            print(word, end='\\t')\n",
        "            linegood=True\n",
        "    if linegood == True:\n",
        "        print('')"
      ]
    },
    {
      "cell_type": "markdown",
      "metadata": {
        "id": "rQWerPaTyk7D"
      },
      "source": [
        "## Libraries <a class=\"anchor\" id=\"libraries\">\n",
        "    \n",
        "[Back to Table of Contents](#toc)"
      ]
    },
    {
      "cell_type": "code",
      "execution_count": null,
      "metadata": {
        "id": "ue-Y0NMtyk7D"
      },
      "outputs": [],
      "source": [
        "# Python and Batteries Included Philosophy\n",
        "## Why reinvent the wheel?"
      ]
    },
    {
      "cell_type": "code",
      "execution_count": null,
      "metadata": {
        "id": "JSa9NWcYyk7D"
      },
      "outputs": [],
      "source": [
        "# Try importing this\n",
        "import this"
      ]
    },
    {
      "cell_type": "code",
      "execution_count": null,
      "metadata": {
        "id": "kKAZZ2RPyk7D"
      },
      "outputs": [],
      "source": [
        "import math\n"
      ]
    },
    {
      "cell_type": "code",
      "execution_count": null,
      "metadata": {
        "id": "xrBBGDl-yk7D"
      },
      "outputs": [],
      "source": [
        "# notice the . syntax helper\n",
        "math.cos(3.14)"
      ]
    },
    {
      "cell_type": "code",
      "execution_count": null,
      "metadata": {
        "id": "jyiYv9ZWyk7D"
      },
      "outputs": [],
      "source": [
        "from collections import Counter"
      ]
    },
    {
      "cell_type": "code",
      "execution_count": null,
      "metadata": {
        "id": "naQt3oPuyk7D"
      },
      "outputs": [],
      "source": [
        "magic = \"abracadabra\"\n",
        "cnt = Counter(magic)\n",
        "cnt"
      ]
    },
    {
      "cell_type": "code",
      "execution_count": null,
      "metadata": {
        "id": "gi5kXSV8yk7E"
      },
      "outputs": [],
      "source": [
        "# There are hundreds of useful Python libraries\n",
        "## Crucial libraries are collected in Standard Library\n",
        "# https://docs.python.org/3/library/\n",
        "# Batteries included\n"
      ]
    },
    {
      "cell_type": "markdown",
      "metadata": {
        "id": "Rq7cOLLMyk7E"
      },
      "source": [
        "## Most important Python ideas <a class=\"anchor\" id=\"python-ideas\">\n",
        "    \n",
        "[Back to Table of Contents](#toc)\n",
        "\n",
        "* dir(myobject) to find what can be done (most decent text editors/IDEs will offer autocompletion and hints though)\n",
        "* help(myobject) general help\n",
        "* type(myobject) what type it is\n",
        "\n",
        "## Slicing Syntax for sequences(strings,lists and more)\n",
        "`\n",
        "myname[start:end:step]\n",
        "myname[:5]`\n",
        "\n",
        "## : indicates a new indentation level \n",
        "\n",
        "`if x > 5:\n",
        "     print(\"Do Work when x > 5\")\n",
        "print(\"Always Do this\")`"
      ]
    },
    {
      "cell_type": "markdown",
      "metadata": {
        "id": "z1q0FQFKyk7E"
      },
      "source": [
        "# Python Resources <a class=\"anchor\" id=\"learning-resources\">\n",
        "    \n",
        "[Back to Table of Contents](#toc)"
      ]
    },
    {
      "cell_type": "markdown",
      "metadata": {
        "id": "ghG_aM5ayk7E"
      },
      "source": [
        "## Wiki for Tutorials\n",
        "\n",
        "https://wiki.python.org/moin/BeginnersGuide/NonProgrammers"
      ]
    },
    {
      "cell_type": "markdown",
      "metadata": {
        "id": "R34PGbyzyk7E"
      },
      "source": [
        "## Tutorials Begginner to Intermediate\n",
        "\n",
        "\n",
        "\n",
        "\n",
        "* https://automatetheboringstuff.com/ - Anything by Al Sweigart is great\n",
        "* http://newcoder.io/tutorials/ - 5 sets of practical tutorials\n",
        "* [Think Like a Computer Scientist](http://interactivepython.org/runestone/static/thinkcspy/index.html) full tutorial\n",
        "* [Non-Programmers Tutorial for Python 3](https://en.wikibooks.org/wiki/Non-Programmer%27s_Tutorial_for_Python_3) quite good for wikibooks\n",
        "* [Real Python](https://realpython.com/) Python Tutorials for all levels\n",
        "\n",
        "\n",
        "* [Learn Python 3 the Hard Way](https://learnpythonthehardway.org/python3/intro.html) controversial author but very exhaustive, some like this approach"
      ]
    },
    {
      "cell_type": "markdown",
      "metadata": {
        "id": "k65CF3Hdyk7E"
      },
      "source": [
        "## More Advanced Python Specific Books\n",
        "\n",
        "* [Python Cookbook](https://www.amazon.com/Python-Cookbook-Third-David-Beazley/dp/1449340377) Recipes for specific situations\n",
        "\n",
        "* [Effective Python](https://effectivepython.com/) best practices\n",
        "* [Fluent Python](http://shop.oreilly.com/product/0636920032519.do) **highly recommended**, shows Python's advantages"
      ]
    },
    {
      "cell_type": "markdown",
      "metadata": {
        "id": "B0Q3iEMFyk7E"
      },
      "source": [
        "## General Best Practices Books\n",
        "#### (not Python specific)\n",
        "\n",
        "* [Code Complete 2](https://www.goodreads.com/book/show/4845.Code_Complete) - Fantastic best practices\n",
        "* [The Mythical Man-Month](https://en.wikipedia.org/wiki/The_Mythical_Man-Month) - No silver bullet even after 40 years.\n",
        "* [The Pragmatic Programmer](https://www.amazon.com/Pragmatic-Programmer-Journeyman-Master/dp/020161622X) - More practical advice\n",
        "* [Clean Code](https://www.amazon.com/Clean-Code-Handbook-Software-Craftsmanship/dp/0132350882) - more towards agile"
      ]
    },
    {
      "cell_type": "markdown",
      "metadata": {
        "id": "EJoNusgnyk7E"
      },
      "source": [
        "## Blogs / Personalities / forums\n",
        "\n",
        "* [Dan Bader](https://dbader.org/)\n",
        "* [Reddit Python](https://www.reddit.com/r/python)"
      ]
    },
    {
      "cell_type": "markdown",
      "metadata": {
        "id": "Vb1uuHhJyk7E"
      },
      "source": [
        "## Exercises/Challenges\n",
        "* http://www.pythonchallenge.com/ - first one is easy but after that...\n",
        "* [Advent of Code](https://adventofcode.com/) - yearly programming challenges\n",
        "* https://projecteuler.net/ - gets very mathematical but first problems are great for testing "
      ]
    },
    {
      "cell_type": "markdown",
      "metadata": {
        "id": "6AePUe0Qyk7F"
      },
      "source": [
        "## Explore Public Notebooks on Github\n",
        " Download them and try them out for yourself\n",
        " \n",
        "https://github.com/jupyter/jupyter/wiki/A-gallery-of-interesting-Jupyter-Notebooks"
      ]
    },
    {
      "cell_type": "markdown",
      "metadata": {
        "id": "IuOw1wXiyk7F"
      },
      "source": [
        "## Questions / Suggestions ? \n",
        "\n",
        "Pull requests welcome\n",
        "\n",
        "e-mail **valdis.s.coding at gmail.com**"
      ]
    }
  ],
  "metadata": {
    "colab": {
      "name": "Python Introduction.ipynb",
      "provenance": []
    },
    "kernelspec": {
      "display_name": "Python 3 (ipykernel)",
      "language": "python",
      "name": "python3"
    },
    "language_info": {
      "codemirror_mode": {
        "name": "ipython",
        "version": 3
      },
      "file_extension": ".py",
      "mimetype": "text/x-python",
      "name": "python",
      "nbconvert_exporter": "python",
      "pygments_lexer": "ipython3",
      "version": "3.7.12"
    }
  },
  "nbformat": 4,
  "nbformat_minor": 0
}
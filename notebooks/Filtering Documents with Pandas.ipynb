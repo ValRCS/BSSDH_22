{
  "cells": [
    {
      "cell_type": "markdown",
      "id": "372b87dd",
      "metadata": {
        "id": "372b87dd"
      },
      "source": [
        "# Filtering Documents with Pandas\n",
        "\n",
        "This notebook demonstrates how you can process and filter text documents using Pandas"
      ]
    },
    {
      "cell_type": "code",
      "execution_count": 1,
      "id": "eab375b3",
      "metadata": {
        "id": "eab375b3"
      },
      "outputs": [],
      "source": [
        "import pandas"
      ]
    },
    {
      "cell_type": "code",
      "execution_count": null,
      "id": "3a6399f2",
      "metadata": {
        "id": "3a6399f2"
      },
      "outputs": [],
      "source": [
        "# ..."
      ]
    },
    {
      "cell_type": "code",
      "execution_count": 2,
      "id": "e81b0c29",
      "metadata": {
        "colab": {
          "base_uri": "https://localhost:8080/"
        },
        "id": "e81b0c29",
        "outputId": "37c6061c-e5f8-4c80-8c1b-eb246eaeb383"
      },
      "outputs": [
        {
          "output_type": "execute_result",
          "data": {
            "text/plain": [
              "(4999, 4)"
            ]
          },
          "metadata": {},
          "execution_count": 2
        }
      ],
      "source": [
        "# for speed we will use our small 5k corpus\n",
        "url = \"https://github.com/ValRCS/BSSDH_22/raw/main/corpora/lv_old_newspapers_5k.tsv\"\n",
        "# if this was zip we would add compression='zip' parameter\n",
        "df = pandas.read_csv(url, sep=\"\\t\")\n",
        "df.shape"
      ]
    },
    {
      "cell_type": "code",
      "execution_count": 3,
      "id": "24a27d60",
      "metadata": {
        "colab": {
          "base_uri": "https://localhost:8080/",
          "height": 206
        },
        "id": "24a27d60",
        "outputId": "efcab86d-f2a6-4f03-f16e-c02acb606741"
      },
      "outputs": [
        {
          "output_type": "execute_result",
          "data": {
            "text/plain": [
              "  Language           Source        Date  \\\n",
              "0  Latvian     rekurzeme.lv  2008/09/04   \n",
              "1  Latvian         diena.lv  2012/01/10   \n",
              "2  Latvian  bauskasdzive.lv  2007/12/27   \n",
              "3  Latvian  bauskasdzive.lv  2008/10/08   \n",
              "4  Latvian         diena.lv  2011/10/05   \n",
              "\n",
              "                                                Text  \n",
              "0  \"Viņa pirmsnāves zīmītē bija rakstīts vienīgi ...  \n",
              "1                               info@zurnalistiem.lv  \n",
              "2  Bhuto, kas Pakistānā no trimdas atgriezās tika...  \n",
              "3  Plkst. 4.00 Samoilovs / Pļaviņš (pludmales vol...  \n",
              "4  CVK bija vērsusies Skaburska, lūdzot izskaidro...  "
            ],
            "text/html": [
              "\n",
              "  <div id=\"df-cc5df90c-7656-4c2f-ad4d-5db5c5eb3b79\">\n",
              "    <div class=\"colab-df-container\">\n",
              "      <div>\n",
              "<style scoped>\n",
              "    .dataframe tbody tr th:only-of-type {\n",
              "        vertical-align: middle;\n",
              "    }\n",
              "\n",
              "    .dataframe tbody tr th {\n",
              "        vertical-align: top;\n",
              "    }\n",
              "\n",
              "    .dataframe thead th {\n",
              "        text-align: right;\n",
              "    }\n",
              "</style>\n",
              "<table border=\"1\" class=\"dataframe\">\n",
              "  <thead>\n",
              "    <tr style=\"text-align: right;\">\n",
              "      <th></th>\n",
              "      <th>Language</th>\n",
              "      <th>Source</th>\n",
              "      <th>Date</th>\n",
              "      <th>Text</th>\n",
              "    </tr>\n",
              "  </thead>\n",
              "  <tbody>\n",
              "    <tr>\n",
              "      <th>0</th>\n",
              "      <td>Latvian</td>\n",
              "      <td>rekurzeme.lv</td>\n",
              "      <td>2008/09/04</td>\n",
              "      <td>\"Viņa pirmsnāves zīmītē bija rakstīts vienīgi ...</td>\n",
              "    </tr>\n",
              "    <tr>\n",
              "      <th>1</th>\n",
              "      <td>Latvian</td>\n",
              "      <td>diena.lv</td>\n",
              "      <td>2012/01/10</td>\n",
              "      <td>info@zurnalistiem.lv</td>\n",
              "    </tr>\n",
              "    <tr>\n",
              "      <th>2</th>\n",
              "      <td>Latvian</td>\n",
              "      <td>bauskasdzive.lv</td>\n",
              "      <td>2007/12/27</td>\n",
              "      <td>Bhuto, kas Pakistānā no trimdas atgriezās tika...</td>\n",
              "    </tr>\n",
              "    <tr>\n",
              "      <th>3</th>\n",
              "      <td>Latvian</td>\n",
              "      <td>bauskasdzive.lv</td>\n",
              "      <td>2008/10/08</td>\n",
              "      <td>Plkst. 4.00 Samoilovs / Pļaviņš (pludmales vol...</td>\n",
              "    </tr>\n",
              "    <tr>\n",
              "      <th>4</th>\n",
              "      <td>Latvian</td>\n",
              "      <td>diena.lv</td>\n",
              "      <td>2011/10/05</td>\n",
              "      <td>CVK bija vērsusies Skaburska, lūdzot izskaidro...</td>\n",
              "    </tr>\n",
              "  </tbody>\n",
              "</table>\n",
              "</div>\n",
              "      <button class=\"colab-df-convert\" onclick=\"convertToInteractive('df-cc5df90c-7656-4c2f-ad4d-5db5c5eb3b79')\"\n",
              "              title=\"Convert this dataframe to an interactive table.\"\n",
              "              style=\"display:none;\">\n",
              "        \n",
              "  <svg xmlns=\"http://www.w3.org/2000/svg\" height=\"24px\"viewBox=\"0 0 24 24\"\n",
              "       width=\"24px\">\n",
              "    <path d=\"M0 0h24v24H0V0z\" fill=\"none\"/>\n",
              "    <path d=\"M18.56 5.44l.94 2.06.94-2.06 2.06-.94-2.06-.94-.94-2.06-.94 2.06-2.06.94zm-11 1L8.5 8.5l.94-2.06 2.06-.94-2.06-.94L8.5 2.5l-.94 2.06-2.06.94zm10 10l.94 2.06.94-2.06 2.06-.94-2.06-.94-.94-2.06-.94 2.06-2.06.94z\"/><path d=\"M17.41 7.96l-1.37-1.37c-.4-.4-.92-.59-1.43-.59-.52 0-1.04.2-1.43.59L10.3 9.45l-7.72 7.72c-.78.78-.78 2.05 0 2.83L4 21.41c.39.39.9.59 1.41.59.51 0 1.02-.2 1.41-.59l7.78-7.78 2.81-2.81c.8-.78.8-2.07 0-2.86zM5.41 20L4 18.59l7.72-7.72 1.47 1.35L5.41 20z\"/>\n",
              "  </svg>\n",
              "      </button>\n",
              "      \n",
              "  <style>\n",
              "    .colab-df-container {\n",
              "      display:flex;\n",
              "      flex-wrap:wrap;\n",
              "      gap: 12px;\n",
              "    }\n",
              "\n",
              "    .colab-df-convert {\n",
              "      background-color: #E8F0FE;\n",
              "      border: none;\n",
              "      border-radius: 50%;\n",
              "      cursor: pointer;\n",
              "      display: none;\n",
              "      fill: #1967D2;\n",
              "      height: 32px;\n",
              "      padding: 0 0 0 0;\n",
              "      width: 32px;\n",
              "    }\n",
              "\n",
              "    .colab-df-convert:hover {\n",
              "      background-color: #E2EBFA;\n",
              "      box-shadow: 0px 1px 2px rgba(60, 64, 67, 0.3), 0px 1px 3px 1px rgba(60, 64, 67, 0.15);\n",
              "      fill: #174EA6;\n",
              "    }\n",
              "\n",
              "    [theme=dark] .colab-df-convert {\n",
              "      background-color: #3B4455;\n",
              "      fill: #D2E3FC;\n",
              "    }\n",
              "\n",
              "    [theme=dark] .colab-df-convert:hover {\n",
              "      background-color: #434B5C;\n",
              "      box-shadow: 0px 1px 3px 1px rgba(0, 0, 0, 0.15);\n",
              "      filter: drop-shadow(0px 1px 2px rgba(0, 0, 0, 0.3));\n",
              "      fill: #FFFFFF;\n",
              "    }\n",
              "  </style>\n",
              "\n",
              "      <script>\n",
              "        const buttonEl =\n",
              "          document.querySelector('#df-cc5df90c-7656-4c2f-ad4d-5db5c5eb3b79 button.colab-df-convert');\n",
              "        buttonEl.style.display =\n",
              "          google.colab.kernel.accessAllowed ? 'block' : 'none';\n",
              "\n",
              "        async function convertToInteractive(key) {\n",
              "          const element = document.querySelector('#df-cc5df90c-7656-4c2f-ad4d-5db5c5eb3b79');\n",
              "          const dataTable =\n",
              "            await google.colab.kernel.invokeFunction('convertToInteractive',\n",
              "                                                     [key], {});\n",
              "          if (!dataTable) return;\n",
              "\n",
              "          const docLinkHtml = 'Like what you see? Visit the ' +\n",
              "            '<a target=\"_blank\" href=https://colab.research.google.com/notebooks/data_table.ipynb>data table notebook</a>'\n",
              "            + ' to learn more about interactive tables.';\n",
              "          element.innerHTML = '';\n",
              "          dataTable['output_type'] = 'display_data';\n",
              "          await google.colab.output.renderOutput(dataTable, element);\n",
              "          const docLink = document.createElement('div');\n",
              "          docLink.innerHTML = docLinkHtml;\n",
              "          element.appendChild(docLink);\n",
              "        }\n",
              "      </script>\n",
              "    </div>\n",
              "  </div>\n",
              "  "
            ]
          },
          "metadata": {},
          "execution_count": 3
        }
      ],
      "source": [
        "df.head()"
      ]
    },
    {
      "cell_type": "code",
      "execution_count": 5,
      "id": "o2zoTdJUAEkL",
      "metadata": {
        "colab": {
          "base_uri": "https://localhost:8080/"
        },
        "id": "o2zoTdJUAEkL",
        "outputId": "ed26c74e-5910-48cc-ca5a-237bfa40fdb1"
      },
      "outputs": [
        {
          "output_type": "execute_result",
          "data": {
            "text/plain": [
              "array(['Latvian'], dtype=object)"
            ]
          },
          "metadata": {},
          "execution_count": 5
        }
      ],
      "source": [
        "# df.Language.unique() # let's check what languages the articles use # Language is the name of the column\n",
        "# if column names use spaces you need to use full syntax\n",
        "df[\"Language\"].unique()  # same as above but will work with spaces"
      ]
    },
    {
      "cell_type": "code",
      "execution_count": null,
      "id": "nWZJ_RZGAMno",
      "metadata": {
        "id": "nWZJ_RZGAMno"
      },
      "outputs": [],
      "source": [
        "# Looks like we have a single language\n",
        "# How about Sources?"
      ]
    },
    {
      "cell_type": "code",
      "execution_count": 6,
      "id": "E9mp62aYAR99",
      "metadata": {
        "colab": {
          "base_uri": "https://localhost:8080/"
        },
        "id": "E9mp62aYAR99",
        "outputId": "f78d0a45-598b-4059-8766-7a023da3f3e1"
      },
      "outputs": [
        {
          "output_type": "execute_result",
          "data": {
            "text/plain": [
              "array(['rekurzeme.lv', 'diena.lv', 'bauskasdzive.lv', 'zz.lv', 'ntz.lv',\n",
              "       'rv.lv', 'la.lv', 'nra.lv', 'ziemellatvija.lv', 'db.lv',\n",
              "       'bdaugava.lv', 'dzirkstele.lv', 'staburags.lv'], dtype=object)"
            ]
          },
          "metadata": {},
          "execution_count": 6
        }
      ],
      "source": [
        "df.Source.unique()"
      ]
    },
    {
      "cell_type": "code",
      "execution_count": 7,
      "id": "S5FlNVFkAc1D",
      "metadata": {
        "colab": {
          "base_uri": "https://localhost:8080/"
        },
        "id": "S5FlNVFkAc1D",
        "outputId": "c37a3b66-5f10-4fbe-dcf4-b48e4380dcd6"
      },
      "outputs": [
        {
          "output_type": "execute_result",
          "data": {
            "text/plain": [
              "(634, 4)"
            ]
          },
          "metadata": {},
          "execution_count": 7
        }
      ],
      "source": [
        "# How to get only articles from a single Source?\n",
        "# note: Diena is a Latvian newspaper - Day in English\n",
        "# you are creating a Dataframe (techically a  view from original DataFrame) which is a subset\n",
        "diena_df = df[df.Source == 'diena.lv']\n",
        "diena_df.shape"
      ]
    },
    {
      "cell_type": "code",
      "execution_count": 8,
      "id": "KiYp01hHAnQ4",
      "metadata": {
        "colab": {
          "base_uri": "https://localhost:8080/"
        },
        "id": "KiYp01hHAnQ4",
        "outputId": "156e84cc-d92f-4630-ba5b-d25a2cf04fa0"
      },
      "outputs": [
        {
          "output_type": "execute_result",
          "data": {
            "text/plain": [
              "array(['diena.lv'], dtype=object)"
            ]
          },
          "metadata": {},
          "execution_count": 8
        }
      ],
      "source": [
        "# let's check how many different sources we have in this new dataframe\n",
        "diena_df.Source.unique()"
      ]
    },
    {
      "cell_type": "code",
      "execution_count": 9,
      "id": "W5mC5EjGAvw7",
      "metadata": {
        "colab": {
          "base_uri": "https://localhost:8080/",
          "height": 206
        },
        "id": "W5mC5EjGAvw7",
        "outputId": "b129421f-dd4a-4e6a-8cb2-d363a90570b2"
      },
      "outputs": [
        {
          "output_type": "execute_result",
          "data": {
            "text/plain": [
              "   Language    Source        Date  \\\n",
              "1   Latvian  diena.lv  2012/01/10   \n",
              "4   Latvian  diena.lv  2011/10/05   \n",
              "8   Latvian  diena.lv  2011/11/26   \n",
              "20  Latvian  diena.lv  2010/02/12   \n",
              "23  Latvian  diena.lv  2011/10/25   \n",
              "\n",
              "                                                 Text  \n",
              "1                                info@zurnalistiem.lv  \n",
              "4   CVK bija vērsusies Skaburska, lūdzot izskaidro...  \n",
              "8   PĒDĒJĀ, kontrolēja PĀRDAUGAVAS telpu, izņemot ...  \n",
              "20                                   Grezna kompānija  \n",
              "23  18. decembrī muzejā tiks svinēts Bluķa vakars ...  "
            ],
            "text/html": [
              "\n",
              "  <div id=\"df-bf2e4aa1-d58b-4b11-a1c9-6e541a91de5c\">\n",
              "    <div class=\"colab-df-container\">\n",
              "      <div>\n",
              "<style scoped>\n",
              "    .dataframe tbody tr th:only-of-type {\n",
              "        vertical-align: middle;\n",
              "    }\n",
              "\n",
              "    .dataframe tbody tr th {\n",
              "        vertical-align: top;\n",
              "    }\n",
              "\n",
              "    .dataframe thead th {\n",
              "        text-align: right;\n",
              "    }\n",
              "</style>\n",
              "<table border=\"1\" class=\"dataframe\">\n",
              "  <thead>\n",
              "    <tr style=\"text-align: right;\">\n",
              "      <th></th>\n",
              "      <th>Language</th>\n",
              "      <th>Source</th>\n",
              "      <th>Date</th>\n",
              "      <th>Text</th>\n",
              "    </tr>\n",
              "  </thead>\n",
              "  <tbody>\n",
              "    <tr>\n",
              "      <th>1</th>\n",
              "      <td>Latvian</td>\n",
              "      <td>diena.lv</td>\n",
              "      <td>2012/01/10</td>\n",
              "      <td>info@zurnalistiem.lv</td>\n",
              "    </tr>\n",
              "    <tr>\n",
              "      <th>4</th>\n",
              "      <td>Latvian</td>\n",
              "      <td>diena.lv</td>\n",
              "      <td>2011/10/05</td>\n",
              "      <td>CVK bija vērsusies Skaburska, lūdzot izskaidro...</td>\n",
              "    </tr>\n",
              "    <tr>\n",
              "      <th>8</th>\n",
              "      <td>Latvian</td>\n",
              "      <td>diena.lv</td>\n",
              "      <td>2011/11/26</td>\n",
              "      <td>PĒDĒJĀ, kontrolēja PĀRDAUGAVAS telpu, izņemot ...</td>\n",
              "    </tr>\n",
              "    <tr>\n",
              "      <th>20</th>\n",
              "      <td>Latvian</td>\n",
              "      <td>diena.lv</td>\n",
              "      <td>2010/02/12</td>\n",
              "      <td>Grezna kompānija</td>\n",
              "    </tr>\n",
              "    <tr>\n",
              "      <th>23</th>\n",
              "      <td>Latvian</td>\n",
              "      <td>diena.lv</td>\n",
              "      <td>2011/10/25</td>\n",
              "      <td>18. decembrī muzejā tiks svinēts Bluķa vakars ...</td>\n",
              "    </tr>\n",
              "  </tbody>\n",
              "</table>\n",
              "</div>\n",
              "      <button class=\"colab-df-convert\" onclick=\"convertToInteractive('df-bf2e4aa1-d58b-4b11-a1c9-6e541a91de5c')\"\n",
              "              title=\"Convert this dataframe to an interactive table.\"\n",
              "              style=\"display:none;\">\n",
              "        \n",
              "  <svg xmlns=\"http://www.w3.org/2000/svg\" height=\"24px\"viewBox=\"0 0 24 24\"\n",
              "       width=\"24px\">\n",
              "    <path d=\"M0 0h24v24H0V0z\" fill=\"none\"/>\n",
              "    <path d=\"M18.56 5.44l.94 2.06.94-2.06 2.06-.94-2.06-.94-.94-2.06-.94 2.06-2.06.94zm-11 1L8.5 8.5l.94-2.06 2.06-.94-2.06-.94L8.5 2.5l-.94 2.06-2.06.94zm10 10l.94 2.06.94-2.06 2.06-.94-2.06-.94-.94-2.06-.94 2.06-2.06.94z\"/><path d=\"M17.41 7.96l-1.37-1.37c-.4-.4-.92-.59-1.43-.59-.52 0-1.04.2-1.43.59L10.3 9.45l-7.72 7.72c-.78.78-.78 2.05 0 2.83L4 21.41c.39.39.9.59 1.41.59.51 0 1.02-.2 1.41-.59l7.78-7.78 2.81-2.81c.8-.78.8-2.07 0-2.86zM5.41 20L4 18.59l7.72-7.72 1.47 1.35L5.41 20z\"/>\n",
              "  </svg>\n",
              "      </button>\n",
              "      \n",
              "  <style>\n",
              "    .colab-df-container {\n",
              "      display:flex;\n",
              "      flex-wrap:wrap;\n",
              "      gap: 12px;\n",
              "    }\n",
              "\n",
              "    .colab-df-convert {\n",
              "      background-color: #E8F0FE;\n",
              "      border: none;\n",
              "      border-radius: 50%;\n",
              "      cursor: pointer;\n",
              "      display: none;\n",
              "      fill: #1967D2;\n",
              "      height: 32px;\n",
              "      padding: 0 0 0 0;\n",
              "      width: 32px;\n",
              "    }\n",
              "\n",
              "    .colab-df-convert:hover {\n",
              "      background-color: #E2EBFA;\n",
              "      box-shadow: 0px 1px 2px rgba(60, 64, 67, 0.3), 0px 1px 3px 1px rgba(60, 64, 67, 0.15);\n",
              "      fill: #174EA6;\n",
              "    }\n",
              "\n",
              "    [theme=dark] .colab-df-convert {\n",
              "      background-color: #3B4455;\n",
              "      fill: #D2E3FC;\n",
              "    }\n",
              "\n",
              "    [theme=dark] .colab-df-convert:hover {\n",
              "      background-color: #434B5C;\n",
              "      box-shadow: 0px 1px 3px 1px rgba(0, 0, 0, 0.15);\n",
              "      filter: drop-shadow(0px 1px 2px rgba(0, 0, 0, 0.3));\n",
              "      fill: #FFFFFF;\n",
              "    }\n",
              "  </style>\n",
              "\n",
              "      <script>\n",
              "        const buttonEl =\n",
              "          document.querySelector('#df-bf2e4aa1-d58b-4b11-a1c9-6e541a91de5c button.colab-df-convert');\n",
              "        buttonEl.style.display =\n",
              "          google.colab.kernel.accessAllowed ? 'block' : 'none';\n",
              "\n",
              "        async function convertToInteractive(key) {\n",
              "          const element = document.querySelector('#df-bf2e4aa1-d58b-4b11-a1c9-6e541a91de5c');\n",
              "          const dataTable =\n",
              "            await google.colab.kernel.invokeFunction('convertToInteractive',\n",
              "                                                     [key], {});\n",
              "          if (!dataTable) return;\n",
              "\n",
              "          const docLinkHtml = 'Like what you see? Visit the ' +\n",
              "            '<a target=\"_blank\" href=https://colab.research.google.com/notebooks/data_table.ipynb>data table notebook</a>'\n",
              "            + ' to learn more about interactive tables.';\n",
              "          element.innerHTML = '';\n",
              "          dataTable['output_type'] = 'display_data';\n",
              "          await google.colab.output.renderOutput(dataTable, element);\n",
              "          const docLink = document.createElement('div');\n",
              "          docLink.innerHTML = docLinkHtml;\n",
              "          element.appendChild(docLink);\n",
              "        }\n",
              "      </script>\n",
              "    </div>\n",
              "  </div>\n",
              "  "
            ]
          },
          "metadata": {},
          "execution_count": 9
        }
      ],
      "source": [
        "diena_df.head()"
      ]
    },
    {
      "cell_type": "code",
      "source": [
        "document_list = list(diena_df.Text)\n",
        "len(document_list)"
      ],
      "metadata": {
        "id": "9T6qKkDgquPb",
        "outputId": "4d674ba5-b422-4945-d281-4cb7ee5f81a1",
        "colab": {
          "base_uri": "https://localhost:8080/"
        }
      },
      "id": "9T6qKkDgquPb",
      "execution_count": 10,
      "outputs": [
        {
          "output_type": "execute_result",
          "data": {
            "text/plain": [
              "634"
            ]
          },
          "metadata": {},
          "execution_count": 10
        }
      ]
    },
    {
      "cell_type": "code",
      "source": [
        "document_list[:3]"
      ],
      "metadata": {
        "id": "PZ7WY2mjq3hW",
        "outputId": "8096e31c-7c2b-4dc4-a16a-5a51955561ac",
        "colab": {
          "base_uri": "https://localhost:8080/"
        }
      },
      "id": "PZ7WY2mjq3hW",
      "execution_count": 11,
      "outputs": [
        {
          "output_type": "execute_result",
          "data": {
            "text/plain": [
              "['info@zurnalistiem.lv',\n",
              " 'CVK bija vērsusies Skaburska, lūdzot izskaidrot, kāpēc viņa palikusi aiz svītras, ja sākotnēji tika ziņots, ka viņa ir ievēlēta.',\n",
              " 'PĒDĒJĀ, kontrolēja PĀRDAUGAVAS telpu, izņemot LATVIEŠIEM pēkšņi atgūstot Bolderājas telpu, kur latviešiem ar savu karakuģu iznīcinošu uguni izlīdzēja briti un franči un veiksmīgu pašu organizēto DESANTU izdevās atkārtoti ieņemt telpu un Daugavgrīvas cietoksni, saņemot gūstā pustūkstoti krievu izcelsmes bermontiešu, kas LATVIJAS armijai palīdzēja radīt placdarmu nākotnes notikumiem, nedodot iespēju „kņazam”, Daugavai aizsalstot, to pāriet un sākt LATVIJAI liktenīgu UZBRUKUMU RĪGAI no ziemeļiem... Šķita dižais „kņazs” gaidīja Daugavas pārklāšanos ar ledu, kas']"
            ]
          },
          "metadata": {},
          "execution_count": 11
        }
      ]
    },
    {
      "cell_type": "code",
      "source": [
        "with open(\"diena_docs.txt\", mode=\"w\", encoding=\"utf-8\") as f:\n",
        "    f.writelines(\"\\n\".join(document_list)) # so each document separated by newline\n",
        "    # f.writelines(document_list) # this will write without \\n so ONE BIG STRING"
      ],
      "metadata": {
        "id": "eXW6nolVrA2d"
      },
      "id": "eXW6nolVrA2d",
      "execution_count": 13,
      "outputs": []
    },
    {
      "cell_type": "code",
      "execution_count": 14,
      "id": "j5-VQx6-A6K0",
      "metadata": {
        "colab": {
          "base_uri": "https://localhost:8080/"
        },
        "id": "j5-VQx6-A6K0",
        "outputId": "302e3ed5-f3e4-4797-82ff-3088b30f08ed"
      },
      "outputs": [
        {
          "output_type": "stream",
          "name": "stdout",
          "text": [
            "<class 'pandas.core.frame.DataFrame'>\n",
            "Int64Index: 634 entries, 1 to 4996\n",
            "Data columns (total 4 columns):\n",
            " #   Column    Non-Null Count  Dtype \n",
            "---  ------    --------------  ----- \n",
            " 0   Language  634 non-null    object\n",
            " 1   Source    634 non-null    object\n",
            " 2   Date      634 non-null    object\n",
            " 3   Text      634 non-null    object\n",
            "dtypes: object(4)\n",
            "memory usage: 24.8+ KB\n"
          ]
        }
      ],
      "source": [
        "# How about Date?\n",
        "# First let's check our data types\n",
        "diena_df.info() # so object means string here"
      ]
    },
    {
      "cell_type": "code",
      "execution_count": null,
      "id": "63Hg8nurBXS6",
      "metadata": {
        "id": "63Hg8nurBXS6"
      },
      "outputs": [],
      "source": [
        "# Looks like all our columns are objects (so strings)\n",
        "# Pandas also has a special datetime data type\n",
        "# More on this here: https://pandas.pydata.org/docs/reference/arrays.html?highlight=datetime#datetime-data\n",
        "\n",
        "# In our case we will use regular string methods to filter our years"
      ]
    },
    {
      "cell_type": "code",
      "execution_count": null,
      "id": "Lo9-A1kPCGbF",
      "metadata": {
        "id": "Lo9-A1kPCGbF"
      },
      "outputs": [],
      "source": [
        "# Let's make a new column which will contain year"
      ]
    },
    {
      "cell_type": "code",
      "execution_count": 15,
      "id": "sKUXUhMkEEf5",
      "metadata": {
        "colab": {
          "base_uri": "https://localhost:8080/",
          "height": 332
        },
        "id": "sKUXUhMkEEf5",
        "outputId": "e3664ea3-3ed0-4aa4-f1e8-df2aff12a760"
      },
      "outputs": [
        {
          "output_type": "stream",
          "name": "stderr",
          "text": [
            "/usr/local/lib/python3.7/dist-packages/ipykernel_launcher.py:1: SettingWithCopyWarning: \n",
            "A value is trying to be set on a copy of a slice from a DataFrame.\n",
            "Try using .loc[row_indexer,col_indexer] = value instead\n",
            "\n",
            "See the caveats in the documentation: https://pandas.pydata.org/pandas-docs/stable/user_guide/indexing.html#returning-a-view-versus-a-copy\n",
            "  \"\"\"Entry point for launching an IPython kernel.\n"
          ]
        },
        {
          "output_type": "execute_result",
          "data": {
            "text/plain": [
              "   Language    Source        Date  \\\n",
              "1   Latvian  diena.lv  2012/01/10   \n",
              "4   Latvian  diena.lv  2011/10/05   \n",
              "8   Latvian  diena.lv  2011/11/26   \n",
              "20  Latvian  diena.lv  2010/02/12   \n",
              "23  Latvian  diena.lv  2011/10/25   \n",
              "\n",
              "                                                 Text  CurrentYear  \n",
              "1                                info@zurnalistiem.lv         2022  \n",
              "4   CVK bija vērsusies Skaburska, lūdzot izskaidro...         2022  \n",
              "8   PĒDĒJĀ, kontrolēja PĀRDAUGAVAS telpu, izņemot ...         2022  \n",
              "20                                   Grezna kompānija         2022  \n",
              "23  18. decembrī muzejā tiks svinēts Bluķa vakars ...         2022  "
            ],
            "text/html": [
              "\n",
              "  <div id=\"df-75c6bc90-b5b8-4e3d-92f7-6615a2e5f261\">\n",
              "    <div class=\"colab-df-container\">\n",
              "      <div>\n",
              "<style scoped>\n",
              "    .dataframe tbody tr th:only-of-type {\n",
              "        vertical-align: middle;\n",
              "    }\n",
              "\n",
              "    .dataframe tbody tr th {\n",
              "        vertical-align: top;\n",
              "    }\n",
              "\n",
              "    .dataframe thead th {\n",
              "        text-align: right;\n",
              "    }\n",
              "</style>\n",
              "<table border=\"1\" class=\"dataframe\">\n",
              "  <thead>\n",
              "    <tr style=\"text-align: right;\">\n",
              "      <th></th>\n",
              "      <th>Language</th>\n",
              "      <th>Source</th>\n",
              "      <th>Date</th>\n",
              "      <th>Text</th>\n",
              "      <th>CurrentYear</th>\n",
              "    </tr>\n",
              "  </thead>\n",
              "  <tbody>\n",
              "    <tr>\n",
              "      <th>1</th>\n",
              "      <td>Latvian</td>\n",
              "      <td>diena.lv</td>\n",
              "      <td>2012/01/10</td>\n",
              "      <td>info@zurnalistiem.lv</td>\n",
              "      <td>2022</td>\n",
              "    </tr>\n",
              "    <tr>\n",
              "      <th>4</th>\n",
              "      <td>Latvian</td>\n",
              "      <td>diena.lv</td>\n",
              "      <td>2011/10/05</td>\n",
              "      <td>CVK bija vērsusies Skaburska, lūdzot izskaidro...</td>\n",
              "      <td>2022</td>\n",
              "    </tr>\n",
              "    <tr>\n",
              "      <th>8</th>\n",
              "      <td>Latvian</td>\n",
              "      <td>diena.lv</td>\n",
              "      <td>2011/11/26</td>\n",
              "      <td>PĒDĒJĀ, kontrolēja PĀRDAUGAVAS telpu, izņemot ...</td>\n",
              "      <td>2022</td>\n",
              "    </tr>\n",
              "    <tr>\n",
              "      <th>20</th>\n",
              "      <td>Latvian</td>\n",
              "      <td>diena.lv</td>\n",
              "      <td>2010/02/12</td>\n",
              "      <td>Grezna kompānija</td>\n",
              "      <td>2022</td>\n",
              "    </tr>\n",
              "    <tr>\n",
              "      <th>23</th>\n",
              "      <td>Latvian</td>\n",
              "      <td>diena.lv</td>\n",
              "      <td>2011/10/25</td>\n",
              "      <td>18. decembrī muzejā tiks svinēts Bluķa vakars ...</td>\n",
              "      <td>2022</td>\n",
              "    </tr>\n",
              "  </tbody>\n",
              "</table>\n",
              "</div>\n",
              "      <button class=\"colab-df-convert\" onclick=\"convertToInteractive('df-75c6bc90-b5b8-4e3d-92f7-6615a2e5f261')\"\n",
              "              title=\"Convert this dataframe to an interactive table.\"\n",
              "              style=\"display:none;\">\n",
              "        \n",
              "  <svg xmlns=\"http://www.w3.org/2000/svg\" height=\"24px\"viewBox=\"0 0 24 24\"\n",
              "       width=\"24px\">\n",
              "    <path d=\"M0 0h24v24H0V0z\" fill=\"none\"/>\n",
              "    <path d=\"M18.56 5.44l.94 2.06.94-2.06 2.06-.94-2.06-.94-.94-2.06-.94 2.06-2.06.94zm-11 1L8.5 8.5l.94-2.06 2.06-.94-2.06-.94L8.5 2.5l-.94 2.06-2.06.94zm10 10l.94 2.06.94-2.06 2.06-.94-2.06-.94-.94-2.06-.94 2.06-2.06.94z\"/><path d=\"M17.41 7.96l-1.37-1.37c-.4-.4-.92-.59-1.43-.59-.52 0-1.04.2-1.43.59L10.3 9.45l-7.72 7.72c-.78.78-.78 2.05 0 2.83L4 21.41c.39.39.9.59 1.41.59.51 0 1.02-.2 1.41-.59l7.78-7.78 2.81-2.81c.8-.78.8-2.07 0-2.86zM5.41 20L4 18.59l7.72-7.72 1.47 1.35L5.41 20z\"/>\n",
              "  </svg>\n",
              "      </button>\n",
              "      \n",
              "  <style>\n",
              "    .colab-df-container {\n",
              "      display:flex;\n",
              "      flex-wrap:wrap;\n",
              "      gap: 12px;\n",
              "    }\n",
              "\n",
              "    .colab-df-convert {\n",
              "      background-color: #E8F0FE;\n",
              "      border: none;\n",
              "      border-radius: 50%;\n",
              "      cursor: pointer;\n",
              "      display: none;\n",
              "      fill: #1967D2;\n",
              "      height: 32px;\n",
              "      padding: 0 0 0 0;\n",
              "      width: 32px;\n",
              "    }\n",
              "\n",
              "    .colab-df-convert:hover {\n",
              "      background-color: #E2EBFA;\n",
              "      box-shadow: 0px 1px 2px rgba(60, 64, 67, 0.3), 0px 1px 3px 1px rgba(60, 64, 67, 0.15);\n",
              "      fill: #174EA6;\n",
              "    }\n",
              "\n",
              "    [theme=dark] .colab-df-convert {\n",
              "      background-color: #3B4455;\n",
              "      fill: #D2E3FC;\n",
              "    }\n",
              "\n",
              "    [theme=dark] .colab-df-convert:hover {\n",
              "      background-color: #434B5C;\n",
              "      box-shadow: 0px 1px 3px 1px rgba(0, 0, 0, 0.15);\n",
              "      filter: drop-shadow(0px 1px 2px rgba(0, 0, 0, 0.3));\n",
              "      fill: #FFFFFF;\n",
              "    }\n",
              "  </style>\n",
              "\n",
              "      <script>\n",
              "        const buttonEl =\n",
              "          document.querySelector('#df-75c6bc90-b5b8-4e3d-92f7-6615a2e5f261 button.colab-df-convert');\n",
              "        buttonEl.style.display =\n",
              "          google.colab.kernel.accessAllowed ? 'block' : 'none';\n",
              "\n",
              "        async function convertToInteractive(key) {\n",
              "          const element = document.querySelector('#df-75c6bc90-b5b8-4e3d-92f7-6615a2e5f261');\n",
              "          const dataTable =\n",
              "            await google.colab.kernel.invokeFunction('convertToInteractive',\n",
              "                                                     [key], {});\n",
              "          if (!dataTable) return;\n",
              "\n",
              "          const docLinkHtml = 'Like what you see? Visit the ' +\n",
              "            '<a target=\"_blank\" href=https://colab.research.google.com/notebooks/data_table.ipynb>data table notebook</a>'\n",
              "            + ' to learn more about interactive tables.';\n",
              "          element.innerHTML = '';\n",
              "          dataTable['output_type'] = 'display_data';\n",
              "          await google.colab.output.renderOutput(dataTable, element);\n",
              "          const docLink = document.createElement('div');\n",
              "          docLink.innerHTML = docLinkHtml;\n",
              "          element.appendChild(docLink);\n",
              "        }\n",
              "      </script>\n",
              "    </div>\n",
              "  </div>\n",
              "  "
            ]
          },
          "metadata": {},
          "execution_count": 15
        }
      ],
      "source": [
        "diena_df[\"CurrentYear\"] = 2022 # this would create a new column with 2022 for ALL rows\n",
        "diena_df.head()"
      ]
    },
    {
      "cell_type": "code",
      "execution_count": null,
      "id": "GtroG3dyEXZm",
      "metadata": {
        "id": "GtroG3dyEXZm"
      },
      "outputs": [],
      "source": [
        "# Notice the warning, pandas actually is referencing the original BIG dataframe \n",
        "# To avoid this warning we could have made a copy of our dataframe first diena_copy = diena_df.copy() \n",
        "# usually this is not necessary\n"
      ]
    },
    {
      "cell_type": "code",
      "execution_count": 16,
      "id": "T-bArbMsEsHT",
      "metadata": {
        "colab": {
          "base_uri": "https://localhost:8080/",
          "height": 332
        },
        "id": "T-bArbMsEsHT",
        "outputId": "48962106-66d6-4560-e8ad-1e3a73b7fa1b"
      },
      "outputs": [
        {
          "output_type": "stream",
          "name": "stderr",
          "text": [
            "/usr/local/lib/python3.7/dist-packages/ipykernel_launcher.py:4: SettingWithCopyWarning: \n",
            "A value is trying to be set on a copy of a slice from a DataFrame.\n",
            "Try using .loc[row_indexer,col_indexer] = value instead\n",
            "\n",
            "See the caveats in the documentation: https://pandas.pydata.org/pandas-docs/stable/user_guide/indexing.html#returning-a-view-versus-a-copy\n",
            "  after removing the cwd from sys.path.\n"
          ]
        },
        {
          "output_type": "execute_result",
          "data": {
            "text/plain": [
              "   Language    Source        Date  \\\n",
              "1   Latvian  diena.lv  2012/01/10   \n",
              "4   Latvian  diena.lv  2011/10/05   \n",
              "8   Latvian  diena.lv  2011/11/26   \n",
              "20  Latvian  diena.lv  2010/02/12   \n",
              "23  Latvian  diena.lv  2011/10/25   \n",
              "\n",
              "                                                 Text  CurrentYear  Year  \n",
              "1                                info@zurnalistiem.lv         2022  2012  \n",
              "4   CVK bija vērsusies Skaburska, lūdzot izskaidro...         2022  2011  \n",
              "8   PĒDĒJĀ, kontrolēja PĀRDAUGAVAS telpu, izņemot ...         2022  2011  \n",
              "20                                   Grezna kompānija         2022  2010  \n",
              "23  18. decembrī muzejā tiks svinēts Bluķa vakars ...         2022  2011  "
            ],
            "text/html": [
              "\n",
              "  <div id=\"df-84fde4dd-7320-4d82-af0b-096384d64fd1\">\n",
              "    <div class=\"colab-df-container\">\n",
              "      <div>\n",
              "<style scoped>\n",
              "    .dataframe tbody tr th:only-of-type {\n",
              "        vertical-align: middle;\n",
              "    }\n",
              "\n",
              "    .dataframe tbody tr th {\n",
              "        vertical-align: top;\n",
              "    }\n",
              "\n",
              "    .dataframe thead th {\n",
              "        text-align: right;\n",
              "    }\n",
              "</style>\n",
              "<table border=\"1\" class=\"dataframe\">\n",
              "  <thead>\n",
              "    <tr style=\"text-align: right;\">\n",
              "      <th></th>\n",
              "      <th>Language</th>\n",
              "      <th>Source</th>\n",
              "      <th>Date</th>\n",
              "      <th>Text</th>\n",
              "      <th>CurrentYear</th>\n",
              "      <th>Year</th>\n",
              "    </tr>\n",
              "  </thead>\n",
              "  <tbody>\n",
              "    <tr>\n",
              "      <th>1</th>\n",
              "      <td>Latvian</td>\n",
              "      <td>diena.lv</td>\n",
              "      <td>2012/01/10</td>\n",
              "      <td>info@zurnalistiem.lv</td>\n",
              "      <td>2022</td>\n",
              "      <td>2012</td>\n",
              "    </tr>\n",
              "    <tr>\n",
              "      <th>4</th>\n",
              "      <td>Latvian</td>\n",
              "      <td>diena.lv</td>\n",
              "      <td>2011/10/05</td>\n",
              "      <td>CVK bija vērsusies Skaburska, lūdzot izskaidro...</td>\n",
              "      <td>2022</td>\n",
              "      <td>2011</td>\n",
              "    </tr>\n",
              "    <tr>\n",
              "      <th>8</th>\n",
              "      <td>Latvian</td>\n",
              "      <td>diena.lv</td>\n",
              "      <td>2011/11/26</td>\n",
              "      <td>PĒDĒJĀ, kontrolēja PĀRDAUGAVAS telpu, izņemot ...</td>\n",
              "      <td>2022</td>\n",
              "      <td>2011</td>\n",
              "    </tr>\n",
              "    <tr>\n",
              "      <th>20</th>\n",
              "      <td>Latvian</td>\n",
              "      <td>diena.lv</td>\n",
              "      <td>2010/02/12</td>\n",
              "      <td>Grezna kompānija</td>\n",
              "      <td>2022</td>\n",
              "      <td>2010</td>\n",
              "    </tr>\n",
              "    <tr>\n",
              "      <th>23</th>\n",
              "      <td>Latvian</td>\n",
              "      <td>diena.lv</td>\n",
              "      <td>2011/10/25</td>\n",
              "      <td>18. decembrī muzejā tiks svinēts Bluķa vakars ...</td>\n",
              "      <td>2022</td>\n",
              "      <td>2011</td>\n",
              "    </tr>\n",
              "  </tbody>\n",
              "</table>\n",
              "</div>\n",
              "      <button class=\"colab-df-convert\" onclick=\"convertToInteractive('df-84fde4dd-7320-4d82-af0b-096384d64fd1')\"\n",
              "              title=\"Convert this dataframe to an interactive table.\"\n",
              "              style=\"display:none;\">\n",
              "        \n",
              "  <svg xmlns=\"http://www.w3.org/2000/svg\" height=\"24px\"viewBox=\"0 0 24 24\"\n",
              "       width=\"24px\">\n",
              "    <path d=\"M0 0h24v24H0V0z\" fill=\"none\"/>\n",
              "    <path d=\"M18.56 5.44l.94 2.06.94-2.06 2.06-.94-2.06-.94-.94-2.06-.94 2.06-2.06.94zm-11 1L8.5 8.5l.94-2.06 2.06-.94-2.06-.94L8.5 2.5l-.94 2.06-2.06.94zm10 10l.94 2.06.94-2.06 2.06-.94-2.06-.94-.94-2.06-.94 2.06-2.06.94z\"/><path d=\"M17.41 7.96l-1.37-1.37c-.4-.4-.92-.59-1.43-.59-.52 0-1.04.2-1.43.59L10.3 9.45l-7.72 7.72c-.78.78-.78 2.05 0 2.83L4 21.41c.39.39.9.59 1.41.59.51 0 1.02-.2 1.41-.59l7.78-7.78 2.81-2.81c.8-.78.8-2.07 0-2.86zM5.41 20L4 18.59l7.72-7.72 1.47 1.35L5.41 20z\"/>\n",
              "  </svg>\n",
              "      </button>\n",
              "      \n",
              "  <style>\n",
              "    .colab-df-container {\n",
              "      display:flex;\n",
              "      flex-wrap:wrap;\n",
              "      gap: 12px;\n",
              "    }\n",
              "\n",
              "    .colab-df-convert {\n",
              "      background-color: #E8F0FE;\n",
              "      border: none;\n",
              "      border-radius: 50%;\n",
              "      cursor: pointer;\n",
              "      display: none;\n",
              "      fill: #1967D2;\n",
              "      height: 32px;\n",
              "      padding: 0 0 0 0;\n",
              "      width: 32px;\n",
              "    }\n",
              "\n",
              "    .colab-df-convert:hover {\n",
              "      background-color: #E2EBFA;\n",
              "      box-shadow: 0px 1px 2px rgba(60, 64, 67, 0.3), 0px 1px 3px 1px rgba(60, 64, 67, 0.15);\n",
              "      fill: #174EA6;\n",
              "    }\n",
              "\n",
              "    [theme=dark] .colab-df-convert {\n",
              "      background-color: #3B4455;\n",
              "      fill: #D2E3FC;\n",
              "    }\n",
              "\n",
              "    [theme=dark] .colab-df-convert:hover {\n",
              "      background-color: #434B5C;\n",
              "      box-shadow: 0px 1px 3px 1px rgba(0, 0, 0, 0.15);\n",
              "      filter: drop-shadow(0px 1px 2px rgba(0, 0, 0, 0.3));\n",
              "      fill: #FFFFFF;\n",
              "    }\n",
              "  </style>\n",
              "\n",
              "      <script>\n",
              "        const buttonEl =\n",
              "          document.querySelector('#df-84fde4dd-7320-4d82-af0b-096384d64fd1 button.colab-df-convert');\n",
              "        buttonEl.style.display =\n",
              "          google.colab.kernel.accessAllowed ? 'block' : 'none';\n",
              "\n",
              "        async function convertToInteractive(key) {\n",
              "          const element = document.querySelector('#df-84fde4dd-7320-4d82-af0b-096384d64fd1');\n",
              "          const dataTable =\n",
              "            await google.colab.kernel.invokeFunction('convertToInteractive',\n",
              "                                                     [key], {});\n",
              "          if (!dataTable) return;\n",
              "\n",
              "          const docLinkHtml = 'Like what you see? Visit the ' +\n",
              "            '<a target=\"_blank\" href=https://colab.research.google.com/notebooks/data_table.ipynb>data table notebook</a>'\n",
              "            + ' to learn more about interactive tables.';\n",
              "          element.innerHTML = '';\n",
              "          dataTable['output_type'] = 'display_data';\n",
              "          await google.colab.output.renderOutput(dataTable, element);\n",
              "          const docLink = document.createElement('div');\n",
              "          docLink.innerHTML = docLinkHtml;\n",
              "          element.appendChild(docLink);\n",
              "        }\n",
              "      </script>\n",
              "    </div>\n",
              "  </div>\n",
              "  "
            ]
          },
          "metadata": {},
          "execution_count": 16
        }
      ],
      "source": [
        "# okay we made a new column with current year,but that is not useful here\n",
        "# we want the year of the publication\n",
        "# to get year we will split the Date column and save the first part\n",
        "diena_df[\"Year\"] = df.Date.str.split(\"/\").str[0]\n",
        "diena_df.head()"
      ]
    },
    {
      "cell_type": "code",
      "execution_count": 17,
      "id": "oNbaSiCCFIbe",
      "metadata": {
        "colab": {
          "base_uri": "https://localhost:8080/"
        },
        "id": "oNbaSiCCFIbe",
        "outputId": "96d30a18-dbcf-40f6-cb94-2334496f84f8"
      },
      "outputs": [
        {
          "output_type": "execute_result",
          "data": {
            "text/plain": [
              "array(['2012', '2011', '2010', '2009', '2008', '2007', '2006'],\n",
              "      dtype=object)"
            ]
          },
          "metadata": {},
          "execution_count": 17
        }
      ],
      "source": [
        "# let's check how many years our mini corpus covers\n",
        "diena_df.Year.unique()"
      ]
    },
    {
      "cell_type": "code",
      "execution_count": 18,
      "id": "fRkLYA9uFQD4",
      "metadata": {
        "colab": {
          "base_uri": "https://localhost:8080/"
        },
        "id": "fRkLYA9uFQD4",
        "outputId": "de7f5659-3c42-4751-aab6-c9109fe7bafb"
      },
      "outputs": [
        {
          "output_type": "execute_result",
          "data": {
            "text/plain": [
              "2011    442\n",
              "2012    106\n",
              "2010     41\n",
              "2009     26\n",
              "2008     15\n",
              "2007      3\n",
              "2006      1\n",
              "Name: Year, dtype: int64"
            ]
          },
          "metadata": {},
          "execution_count": 18
        }
      ],
      "source": [
        "# let's check how many articles we have for each year\n",
        "diena_df.Year.value_counts()"
      ]
    },
    {
      "cell_type": "code",
      "execution_count": null,
      "id": "tdaqkYR_FcnD",
      "metadata": {
        "id": "tdaqkYR_FcnD"
      },
      "outputs": [],
      "source": [
        "# Let's get year 2011"
      ]
    },
    {
      "cell_type": "code",
      "execution_count": 19,
      "id": "GHPv3DSRFfFn",
      "metadata": {
        "colab": {
          "base_uri": "https://localhost:8080/",
          "height": 206
        },
        "id": "GHPv3DSRFfFn",
        "outputId": "282a623f-31a1-4ea0-898d-d925354ec335"
      },
      "outputs": [
        {
          "output_type": "execute_result",
          "data": {
            "text/plain": [
              "   Language    Source        Date  \\\n",
              "4   Latvian  diena.lv  2011/10/05   \n",
              "8   Latvian  diena.lv  2011/11/26   \n",
              "23  Latvian  diena.lv  2011/10/25   \n",
              "25  Latvian  diena.lv  2011/12/01   \n",
              "28  Latvian  diena.lv  2011/12/28   \n",
              "\n",
              "                                                 Text  CurrentYear  Year  \n",
              "4   CVK bija vērsusies Skaburska, lūdzot izskaidro...         2022  2011  \n",
              "8   PĒDĒJĀ, kontrolēja PĀRDAUGAVAS telpu, izņemot ...         2022  2011  \n",
              "23  18. decembrī muzejā tiks svinēts Bluķa vakars ...         2022  2011  \n",
              "25  Ceturtdien iekšlietu ministrs Rihards Kozlovsk...         2022  2011  \n",
              "28                        (Rakstā ir 2235 simboli...)         2022  2011  "
            ],
            "text/html": [
              "\n",
              "  <div id=\"df-a7e608b9-1c80-4b73-a7ba-9c88895140b2\">\n",
              "    <div class=\"colab-df-container\">\n",
              "      <div>\n",
              "<style scoped>\n",
              "    .dataframe tbody tr th:only-of-type {\n",
              "        vertical-align: middle;\n",
              "    }\n",
              "\n",
              "    .dataframe tbody tr th {\n",
              "        vertical-align: top;\n",
              "    }\n",
              "\n",
              "    .dataframe thead th {\n",
              "        text-align: right;\n",
              "    }\n",
              "</style>\n",
              "<table border=\"1\" class=\"dataframe\">\n",
              "  <thead>\n",
              "    <tr style=\"text-align: right;\">\n",
              "      <th></th>\n",
              "      <th>Language</th>\n",
              "      <th>Source</th>\n",
              "      <th>Date</th>\n",
              "      <th>Text</th>\n",
              "      <th>CurrentYear</th>\n",
              "      <th>Year</th>\n",
              "    </tr>\n",
              "  </thead>\n",
              "  <tbody>\n",
              "    <tr>\n",
              "      <th>4</th>\n",
              "      <td>Latvian</td>\n",
              "      <td>diena.lv</td>\n",
              "      <td>2011/10/05</td>\n",
              "      <td>CVK bija vērsusies Skaburska, lūdzot izskaidro...</td>\n",
              "      <td>2022</td>\n",
              "      <td>2011</td>\n",
              "    </tr>\n",
              "    <tr>\n",
              "      <th>8</th>\n",
              "      <td>Latvian</td>\n",
              "      <td>diena.lv</td>\n",
              "      <td>2011/11/26</td>\n",
              "      <td>PĒDĒJĀ, kontrolēja PĀRDAUGAVAS telpu, izņemot ...</td>\n",
              "      <td>2022</td>\n",
              "      <td>2011</td>\n",
              "    </tr>\n",
              "    <tr>\n",
              "      <th>23</th>\n",
              "      <td>Latvian</td>\n",
              "      <td>diena.lv</td>\n",
              "      <td>2011/10/25</td>\n",
              "      <td>18. decembrī muzejā tiks svinēts Bluķa vakars ...</td>\n",
              "      <td>2022</td>\n",
              "      <td>2011</td>\n",
              "    </tr>\n",
              "    <tr>\n",
              "      <th>25</th>\n",
              "      <td>Latvian</td>\n",
              "      <td>diena.lv</td>\n",
              "      <td>2011/12/01</td>\n",
              "      <td>Ceturtdien iekšlietu ministrs Rihards Kozlovsk...</td>\n",
              "      <td>2022</td>\n",
              "      <td>2011</td>\n",
              "    </tr>\n",
              "    <tr>\n",
              "      <th>28</th>\n",
              "      <td>Latvian</td>\n",
              "      <td>diena.lv</td>\n",
              "      <td>2011/12/28</td>\n",
              "      <td>(Rakstā ir 2235 simboli...)</td>\n",
              "      <td>2022</td>\n",
              "      <td>2011</td>\n",
              "    </tr>\n",
              "  </tbody>\n",
              "</table>\n",
              "</div>\n",
              "      <button class=\"colab-df-convert\" onclick=\"convertToInteractive('df-a7e608b9-1c80-4b73-a7ba-9c88895140b2')\"\n",
              "              title=\"Convert this dataframe to an interactive table.\"\n",
              "              style=\"display:none;\">\n",
              "        \n",
              "  <svg xmlns=\"http://www.w3.org/2000/svg\" height=\"24px\"viewBox=\"0 0 24 24\"\n",
              "       width=\"24px\">\n",
              "    <path d=\"M0 0h24v24H0V0z\" fill=\"none\"/>\n",
              "    <path d=\"M18.56 5.44l.94 2.06.94-2.06 2.06-.94-2.06-.94-.94-2.06-.94 2.06-2.06.94zm-11 1L8.5 8.5l.94-2.06 2.06-.94-2.06-.94L8.5 2.5l-.94 2.06-2.06.94zm10 10l.94 2.06.94-2.06 2.06-.94-2.06-.94-.94-2.06-.94 2.06-2.06.94z\"/><path d=\"M17.41 7.96l-1.37-1.37c-.4-.4-.92-.59-1.43-.59-.52 0-1.04.2-1.43.59L10.3 9.45l-7.72 7.72c-.78.78-.78 2.05 0 2.83L4 21.41c.39.39.9.59 1.41.59.51 0 1.02-.2 1.41-.59l7.78-7.78 2.81-2.81c.8-.78.8-2.07 0-2.86zM5.41 20L4 18.59l7.72-7.72 1.47 1.35L5.41 20z\"/>\n",
              "  </svg>\n",
              "      </button>\n",
              "      \n",
              "  <style>\n",
              "    .colab-df-container {\n",
              "      display:flex;\n",
              "      flex-wrap:wrap;\n",
              "      gap: 12px;\n",
              "    }\n",
              "\n",
              "    .colab-df-convert {\n",
              "      background-color: #E8F0FE;\n",
              "      border: none;\n",
              "      border-radius: 50%;\n",
              "      cursor: pointer;\n",
              "      display: none;\n",
              "      fill: #1967D2;\n",
              "      height: 32px;\n",
              "      padding: 0 0 0 0;\n",
              "      width: 32px;\n",
              "    }\n",
              "\n",
              "    .colab-df-convert:hover {\n",
              "      background-color: #E2EBFA;\n",
              "      box-shadow: 0px 1px 2px rgba(60, 64, 67, 0.3), 0px 1px 3px 1px rgba(60, 64, 67, 0.15);\n",
              "      fill: #174EA6;\n",
              "    }\n",
              "\n",
              "    [theme=dark] .colab-df-convert {\n",
              "      background-color: #3B4455;\n",
              "      fill: #D2E3FC;\n",
              "    }\n",
              "\n",
              "    [theme=dark] .colab-df-convert:hover {\n",
              "      background-color: #434B5C;\n",
              "      box-shadow: 0px 1px 3px 1px rgba(0, 0, 0, 0.15);\n",
              "      filter: drop-shadow(0px 1px 2px rgba(0, 0, 0, 0.3));\n",
              "      fill: #FFFFFF;\n",
              "    }\n",
              "  </style>\n",
              "\n",
              "      <script>\n",
              "        const buttonEl =\n",
              "          document.querySelector('#df-a7e608b9-1c80-4b73-a7ba-9c88895140b2 button.colab-df-convert');\n",
              "        buttonEl.style.display =\n",
              "          google.colab.kernel.accessAllowed ? 'block' : 'none';\n",
              "\n",
              "        async function convertToInteractive(key) {\n",
              "          const element = document.querySelector('#df-a7e608b9-1c80-4b73-a7ba-9c88895140b2');\n",
              "          const dataTable =\n",
              "            await google.colab.kernel.invokeFunction('convertToInteractive',\n",
              "                                                     [key], {});\n",
              "          if (!dataTable) return;\n",
              "\n",
              "          const docLinkHtml = 'Like what you see? Visit the ' +\n",
              "            '<a target=\"_blank\" href=https://colab.research.google.com/notebooks/data_table.ipynb>data table notebook</a>'\n",
              "            + ' to learn more about interactive tables.';\n",
              "          element.innerHTML = '';\n",
              "          dataTable['output_type'] = 'display_data';\n",
              "          await google.colab.output.renderOutput(dataTable, element);\n",
              "          const docLink = document.createElement('div');\n",
              "          docLink.innerHTML = docLinkHtml;\n",
              "          element.appendChild(docLink);\n",
              "        }\n",
              "      </script>\n",
              "    </div>\n",
              "  </div>\n",
              "  "
            ]
          },
          "metadata": {},
          "execution_count": 19
        }
      ],
      "source": [
        "diena_2011 = diena_df[diena_df.Year == \"2011\"]  # Notice we use quotes for year since it is still a string\n",
        "diena_2011.head()"
      ]
    },
    {
      "cell_type": "code",
      "execution_count": 20,
      "id": "fpe1vPSpFuq_",
      "metadata": {
        "colab": {
          "base_uri": "https://localhost:8080/"
        },
        "id": "fpe1vPSpFuq_",
        "outputId": "d6aece90-7f60-4e1f-d467-9baa42ea8dfc"
      },
      "outputs": [
        {
          "output_type": "stream",
          "name": "stdout",
          "text": [
            "<class 'pandas.core.frame.DataFrame'>\n",
            "Int64Index: 442 entries, 4 to 4990\n",
            "Data columns (total 6 columns):\n",
            " #   Column       Non-Null Count  Dtype \n",
            "---  ------       --------------  ----- \n",
            " 0   Language     442 non-null    object\n",
            " 1   Source       442 non-null    object\n",
            " 2   Date         442 non-null    object\n",
            " 3   Text         442 non-null    object\n",
            " 4   CurrentYear  442 non-null    int64 \n",
            " 5   Year         442 non-null    object\n",
            "dtypes: int64(1), object(5)\n",
            "memory usage: 24.2+ KB\n"
          ]
        }
      ],
      "source": [
        "diena_2011.info()"
      ]
    },
    {
      "cell_type": "code",
      "execution_count": 21,
      "id": "D9a4CxTnFyvd",
      "metadata": {
        "colab": {
          "base_uri": "https://localhost:8080/",
          "height": 428
        },
        "id": "D9a4CxTnFyvd",
        "outputId": "3d2eeb13-6929-4bc6-857d-a50b18df3ebf"
      },
      "outputs": [
        {
          "output_type": "stream",
          "name": "stderr",
          "text": [
            "/usr/local/lib/python3.7/dist-packages/ipykernel_launcher.py:6: SettingWithCopyWarning: \n",
            "A value is trying to be set on a copy of a slice from a DataFrame.\n",
            "Try using .loc[row_indexer,col_indexer] = value instead\n",
            "\n",
            "See the caveats in the documentation: https://pandas.pydata.org/pandas-docs/stable/user_guide/indexing.html#returning-a-view-versus-a-copy\n",
            "  \n"
          ]
        },
        {
          "output_type": "execute_result",
          "data": {
            "text/plain": [
              "   Language    Source        Date  \\\n",
              "1   Latvian  diena.lv  2012/01/10   \n",
              "4   Latvian  diena.lv  2011/10/05   \n",
              "8   Latvian  diena.lv  2011/11/26   \n",
              "20  Latvian  diena.lv  2010/02/12   \n",
              "23  Latvian  diena.lv  2011/10/25   \n",
              "\n",
              "                                                 Text  CurrentYear  Year  \\\n",
              "1                                info@zurnalistiem.lv         2022  2012   \n",
              "4   CVK bija vērsusies Skaburska, lūdzot izskaidro...         2022  2011   \n",
              "8   PĒDĒJĀ, kontrolēja PĀRDAUGAVAS telpu, izņemot ...         2022  2011   \n",
              "20                                   Grezna kompānija         2022  2010   \n",
              "23  18. decembrī muzejā tiks svinēts Bluķa vakars ...         2022  2011   \n",
              "\n",
              "    Year_Numeric  \n",
              "1           2012  \n",
              "4           2011  \n",
              "8           2011  \n",
              "20          2010  \n",
              "23          2011  "
            ],
            "text/html": [
              "\n",
              "  <div id=\"df-d6ce106d-ef88-46ec-8cee-41427cda3e25\">\n",
              "    <div class=\"colab-df-container\">\n",
              "      <div>\n",
              "<style scoped>\n",
              "    .dataframe tbody tr th:only-of-type {\n",
              "        vertical-align: middle;\n",
              "    }\n",
              "\n",
              "    .dataframe tbody tr th {\n",
              "        vertical-align: top;\n",
              "    }\n",
              "\n",
              "    .dataframe thead th {\n",
              "        text-align: right;\n",
              "    }\n",
              "</style>\n",
              "<table border=\"1\" class=\"dataframe\">\n",
              "  <thead>\n",
              "    <tr style=\"text-align: right;\">\n",
              "      <th></th>\n",
              "      <th>Language</th>\n",
              "      <th>Source</th>\n",
              "      <th>Date</th>\n",
              "      <th>Text</th>\n",
              "      <th>CurrentYear</th>\n",
              "      <th>Year</th>\n",
              "      <th>Year_Numeric</th>\n",
              "    </tr>\n",
              "  </thead>\n",
              "  <tbody>\n",
              "    <tr>\n",
              "      <th>1</th>\n",
              "      <td>Latvian</td>\n",
              "      <td>diena.lv</td>\n",
              "      <td>2012/01/10</td>\n",
              "      <td>info@zurnalistiem.lv</td>\n",
              "      <td>2022</td>\n",
              "      <td>2012</td>\n",
              "      <td>2012</td>\n",
              "    </tr>\n",
              "    <tr>\n",
              "      <th>4</th>\n",
              "      <td>Latvian</td>\n",
              "      <td>diena.lv</td>\n",
              "      <td>2011/10/05</td>\n",
              "      <td>CVK bija vērsusies Skaburska, lūdzot izskaidro...</td>\n",
              "      <td>2022</td>\n",
              "      <td>2011</td>\n",
              "      <td>2011</td>\n",
              "    </tr>\n",
              "    <tr>\n",
              "      <th>8</th>\n",
              "      <td>Latvian</td>\n",
              "      <td>diena.lv</td>\n",
              "      <td>2011/11/26</td>\n",
              "      <td>PĒDĒJĀ, kontrolēja PĀRDAUGAVAS telpu, izņemot ...</td>\n",
              "      <td>2022</td>\n",
              "      <td>2011</td>\n",
              "      <td>2011</td>\n",
              "    </tr>\n",
              "    <tr>\n",
              "      <th>20</th>\n",
              "      <td>Latvian</td>\n",
              "      <td>diena.lv</td>\n",
              "      <td>2010/02/12</td>\n",
              "      <td>Grezna kompānija</td>\n",
              "      <td>2022</td>\n",
              "      <td>2010</td>\n",
              "      <td>2010</td>\n",
              "    </tr>\n",
              "    <tr>\n",
              "      <th>23</th>\n",
              "      <td>Latvian</td>\n",
              "      <td>diena.lv</td>\n",
              "      <td>2011/10/25</td>\n",
              "      <td>18. decembrī muzejā tiks svinēts Bluķa vakars ...</td>\n",
              "      <td>2022</td>\n",
              "      <td>2011</td>\n",
              "      <td>2011</td>\n",
              "    </tr>\n",
              "  </tbody>\n",
              "</table>\n",
              "</div>\n",
              "      <button class=\"colab-df-convert\" onclick=\"convertToInteractive('df-d6ce106d-ef88-46ec-8cee-41427cda3e25')\"\n",
              "              title=\"Convert this dataframe to an interactive table.\"\n",
              "              style=\"display:none;\">\n",
              "        \n",
              "  <svg xmlns=\"http://www.w3.org/2000/svg\" height=\"24px\"viewBox=\"0 0 24 24\"\n",
              "       width=\"24px\">\n",
              "    <path d=\"M0 0h24v24H0V0z\" fill=\"none\"/>\n",
              "    <path d=\"M18.56 5.44l.94 2.06.94-2.06 2.06-.94-2.06-.94-.94-2.06-.94 2.06-2.06.94zm-11 1L8.5 8.5l.94-2.06 2.06-.94-2.06-.94L8.5 2.5l-.94 2.06-2.06.94zm10 10l.94 2.06.94-2.06 2.06-.94-2.06-.94-.94-2.06-.94 2.06-2.06.94z\"/><path d=\"M17.41 7.96l-1.37-1.37c-.4-.4-.92-.59-1.43-.59-.52 0-1.04.2-1.43.59L10.3 9.45l-7.72 7.72c-.78.78-.78 2.05 0 2.83L4 21.41c.39.39.9.59 1.41.59.51 0 1.02-.2 1.41-.59l7.78-7.78 2.81-2.81c.8-.78.8-2.07 0-2.86zM5.41 20L4 18.59l7.72-7.72 1.47 1.35L5.41 20z\"/>\n",
              "  </svg>\n",
              "      </button>\n",
              "      \n",
              "  <style>\n",
              "    .colab-df-container {\n",
              "      display:flex;\n",
              "      flex-wrap:wrap;\n",
              "      gap: 12px;\n",
              "    }\n",
              "\n",
              "    .colab-df-convert {\n",
              "      background-color: #E8F0FE;\n",
              "      border: none;\n",
              "      border-radius: 50%;\n",
              "      cursor: pointer;\n",
              "      display: none;\n",
              "      fill: #1967D2;\n",
              "      height: 32px;\n",
              "      padding: 0 0 0 0;\n",
              "      width: 32px;\n",
              "    }\n",
              "\n",
              "    .colab-df-convert:hover {\n",
              "      background-color: #E2EBFA;\n",
              "      box-shadow: 0px 1px 2px rgba(60, 64, 67, 0.3), 0px 1px 3px 1px rgba(60, 64, 67, 0.15);\n",
              "      fill: #174EA6;\n",
              "    }\n",
              "\n",
              "    [theme=dark] .colab-df-convert {\n",
              "      background-color: #3B4455;\n",
              "      fill: #D2E3FC;\n",
              "    }\n",
              "\n",
              "    [theme=dark] .colab-df-convert:hover {\n",
              "      background-color: #434B5C;\n",
              "      box-shadow: 0px 1px 3px 1px rgba(0, 0, 0, 0.15);\n",
              "      filter: drop-shadow(0px 1px 2px rgba(0, 0, 0, 0.3));\n",
              "      fill: #FFFFFF;\n",
              "    }\n",
              "  </style>\n",
              "\n",
              "      <script>\n",
              "        const buttonEl =\n",
              "          document.querySelector('#df-d6ce106d-ef88-46ec-8cee-41427cda3e25 button.colab-df-convert');\n",
              "        buttonEl.style.display =\n",
              "          google.colab.kernel.accessAllowed ? 'block' : 'none';\n",
              "\n",
              "        async function convertToInteractive(key) {\n",
              "          const element = document.querySelector('#df-d6ce106d-ef88-46ec-8cee-41427cda3e25');\n",
              "          const dataTable =\n",
              "            await google.colab.kernel.invokeFunction('convertToInteractive',\n",
              "                                                     [key], {});\n",
              "          if (!dataTable) return;\n",
              "\n",
              "          const docLinkHtml = 'Like what you see? Visit the ' +\n",
              "            '<a target=\"_blank\" href=https://colab.research.google.com/notebooks/data_table.ipynb>data table notebook</a>'\n",
              "            + ' to learn more about interactive tables.';\n",
              "          element.innerHTML = '';\n",
              "          dataTable['output_type'] = 'display_data';\n",
              "          await google.colab.output.renderOutput(dataTable, element);\n",
              "          const docLink = document.createElement('div');\n",
              "          docLink.innerHTML = docLinkHtml;\n",
              "          element.appendChild(docLink);\n",
              "        }\n",
              "      </script>\n",
              "    </div>\n",
              "  </div>\n",
              "  "
            ]
          },
          "metadata": {},
          "execution_count": 21
        }
      ],
      "source": [
        "# Notice how CurrentYear is int64 - 64 bit integer that can hold huge values\n",
        "# we can convert a string to integer if we want to do numeric operations\n",
        "# it would be useful if we wanted to filter multiple years\n",
        "# because string comparison > < works differently than numeric\n",
        "\n",
        "diena_df[\"Year_Numeric\"] = diena_df.Year.astype(int)\n",
        "# here we are creating a new column but we could have overwritten an existing column as well\n",
        "# for exbample:\n",
        "# diena_df[\"Year\"] = diena_df.Year.astype(int) # would overwrite old column with new column - same data different data type\n",
        "diena_df.head()"
      ]
    },
    {
      "cell_type": "code",
      "source": [
        "# why integers from strings\n",
        "\"9\" > \"20\" # this might not be what you want"
      ],
      "metadata": {
        "id": "RtiPdrafsfD2",
        "outputId": "a34513e8-1ef9-4c26-c3ee-3b0fe464e193",
        "colab": {
          "base_uri": "https://localhost:8080/"
        }
      },
      "id": "RtiPdrafsfD2",
      "execution_count": 22,
      "outputs": [
        {
          "output_type": "execute_result",
          "data": {
            "text/plain": [
              "True"
            ]
          },
          "metadata": {},
          "execution_count": 22
        }
      ]
    },
    {
      "cell_type": "code",
      "source": [
        "# we want this\n",
        "9 > 20"
      ],
      "metadata": {
        "id": "htL78t3msoy4",
        "outputId": "9382b952-b7b8-4c48-96b7-d3e01c5aa1c0",
        "colab": {
          "base_uri": "https://localhost:8080/"
        }
      },
      "id": "htL78t3msoy4",
      "execution_count": 23,
      "outputs": [
        {
          "output_type": "execute_result",
          "data": {
            "text/plain": [
              "False"
            ]
          },
          "metadata": {},
          "execution_count": 23
        }
      ]
    },
    {
      "cell_type": "code",
      "execution_count": 24,
      "id": "tUEk3Vv_GcpR",
      "metadata": {
        "colab": {
          "base_uri": "https://localhost:8080/"
        },
        "id": "tUEk3Vv_GcpR",
        "outputId": "dcfde812-cfbd-4fbb-d149-8a619cf6e9a9"
      },
      "outputs": [
        {
          "output_type": "stream",
          "name": "stdout",
          "text": [
            "<class 'pandas.core.frame.DataFrame'>\n",
            "Int64Index: 634 entries, 1 to 4996\n",
            "Data columns (total 7 columns):\n",
            " #   Column        Non-Null Count  Dtype \n",
            "---  ------        --------------  ----- \n",
            " 0   Language      634 non-null    object\n",
            " 1   Source        634 non-null    object\n",
            " 2   Date          634 non-null    object\n",
            " 3   Text          634 non-null    object\n",
            " 4   CurrentYear   634 non-null    int64 \n",
            " 5   Year          634 non-null    object\n",
            " 6   Year_Numeric  634 non-null    int64 \n",
            "dtypes: int64(2), object(5)\n",
            "memory usage: 39.6+ KB\n"
          ]
        }
      ],
      "source": [
        "diena_df.info()"
      ]
    },
    {
      "cell_type": "code",
      "execution_count": 25,
      "id": "10YBitrwG8vZ",
      "metadata": {
        "colab": {
          "base_uri": "https://localhost:8080/"
        },
        "id": "10YBitrwG8vZ",
        "outputId": "926ab08d-f28b-47a2-d2ee-1dcbb7cda930"
      },
      "outputs": [
        {
          "output_type": "execute_result",
          "data": {
            "text/plain": [
              "Index(['Language', 'Source', 'Date', 'Text', 'CurrentYear', 'Year',\n",
              "       'Year_Numeric'],\n",
              "      dtype='object')"
            ]
          },
          "metadata": {},
          "execution_count": 25
        }
      ],
      "source": [
        "diena_df.columns"
      ]
    },
    {
      "cell_type": "code",
      "execution_count": 26,
      "id": "EhDSIYRdGvUw",
      "metadata": {
        "colab": {
          "base_uri": "https://localhost:8080/"
        },
        "id": "EhDSIYRdGvUw",
        "outputId": "074bd987-684a-4110-a526-ccceee885e8f"
      },
      "outputs": [
        {
          "output_type": "stream",
          "name": "stderr",
          "text": [
            "/usr/local/lib/python3.7/dist-packages/ipykernel_launcher.py:2: UserWarning: Boolean Series key will be reindexed to match DataFrame index.\n",
            "  \n"
          ]
        },
        {
          "output_type": "execute_result",
          "data": {
            "text/plain": [
              "array([2011, 2010, 2009])"
            ]
          },
          "metadata": {},
          "execution_count": 26
        }
      ],
      "source": [
        "# lets get years 2009 to 2011\n",
        "diena_2009_to_2011 = diena_df[diena_df.Year_Numeric >= 2009][diena_df.Year_Numeric <= 2011]\n",
        "diena_2009_to_2011.Year_Numeric.unique()\n",
        "# there is another way of filtering multiple conditions with slightly hairier syntax\n",
        "# Here is a link: https://kanoki.org/2020/01/21/pandas-dataframe-filter-with-multiple-conditions/"
      ]
    },
    {
      "cell_type": "code",
      "execution_count": 27,
      "id": "qSifN2LzHdGn",
      "metadata": {
        "colab": {
          "base_uri": "https://localhost:8080/"
        },
        "id": "qSifN2LzHdGn",
        "outputId": "83661ab7-f477-4c38-9253-ad78fafe299c"
      },
      "outputs": [
        {
          "output_type": "execute_result",
          "data": {
            "text/plain": [
              "(37, 7)"
            ]
          },
          "metadata": {},
          "execution_count": 27
        }
      ],
      "source": [
        "# How about using some text filters\n",
        "# Let's look for all documents mentioning Rīga\n",
        "d_Riga = diena_df[diena_df.Text.str.contains(\"Rīga\")]\n",
        "d_Riga.shape"
      ]
    },
    {
      "cell_type": "code",
      "execution_count": 31,
      "id": "5xzySJ-5IBCD",
      "metadata": {
        "colab": {
          "base_uri": "https://localhost:8080/",
          "height": 337
        },
        "id": "5xzySJ-5IBCD",
        "outputId": "6d45f761-398a-44c8-93e6-b376b0fc10a3"
      },
      "outputs": [
        {
          "output_type": "execute_result",
          "data": {
            "text/plain": [
              "     Language    Source        Date  \\\n",
              "4874  Latvian  diena.lv  2011/12/19   \n",
              "723   Latvian  diena.lv  2012/01/13   \n",
              "3795  Latvian  diena.lv  2012/01/09   \n",
              "322   Latvian  diena.lv  2011/09/01   \n",
              "2343  Latvian  diena.lv  2011/10/31   \n",
              "\n",
              "                                                   Text  CurrentYear  Year  \\\n",
              "4874  Viņa minēja, ka visuzskatāmākais piemērs ir re...         2022  2011   \n",
              "723   Klifs Grants ir Rīgas Zooloģiskajā dārzā mītoš...         2022  2012   \n",
              "3795  Kā pastāstīja Bite, saistībā ar gaidāmo ģimene...         2022  2012   \n",
              "322   Kā aģentūru LETA informēja policijas Rīgas reģ...         2022  2011   \n",
              "2343  Svētdien Kārsavas muitas kontroles punktā, vei...         2022  2011   \n",
              "\n",
              "      Year_Numeric  \n",
              "4874          2011  \n",
              "723           2012  \n",
              "3795          2012  \n",
              "322           2011  \n",
              "2343          2011  "
            ],
            "text/html": [
              "\n",
              "  <div id=\"df-a831eabd-0d8d-4ff9-bfec-9395dc3911e2\">\n",
              "    <div class=\"colab-df-container\">\n",
              "      <div>\n",
              "<style scoped>\n",
              "    .dataframe tbody tr th:only-of-type {\n",
              "        vertical-align: middle;\n",
              "    }\n",
              "\n",
              "    .dataframe tbody tr th {\n",
              "        vertical-align: top;\n",
              "    }\n",
              "\n",
              "    .dataframe thead th {\n",
              "        text-align: right;\n",
              "    }\n",
              "</style>\n",
              "<table border=\"1\" class=\"dataframe\">\n",
              "  <thead>\n",
              "    <tr style=\"text-align: right;\">\n",
              "      <th></th>\n",
              "      <th>Language</th>\n",
              "      <th>Source</th>\n",
              "      <th>Date</th>\n",
              "      <th>Text</th>\n",
              "      <th>CurrentYear</th>\n",
              "      <th>Year</th>\n",
              "      <th>Year_Numeric</th>\n",
              "    </tr>\n",
              "  </thead>\n",
              "  <tbody>\n",
              "    <tr>\n",
              "      <th>4874</th>\n",
              "      <td>Latvian</td>\n",
              "      <td>diena.lv</td>\n",
              "      <td>2011/12/19</td>\n",
              "      <td>Viņa minēja, ka visuzskatāmākais piemērs ir re...</td>\n",
              "      <td>2022</td>\n",
              "      <td>2011</td>\n",
              "      <td>2011</td>\n",
              "    </tr>\n",
              "    <tr>\n",
              "      <th>723</th>\n",
              "      <td>Latvian</td>\n",
              "      <td>diena.lv</td>\n",
              "      <td>2012/01/13</td>\n",
              "      <td>Klifs Grants ir Rīgas Zooloģiskajā dārzā mītoš...</td>\n",
              "      <td>2022</td>\n",
              "      <td>2012</td>\n",
              "      <td>2012</td>\n",
              "    </tr>\n",
              "    <tr>\n",
              "      <th>3795</th>\n",
              "      <td>Latvian</td>\n",
              "      <td>diena.lv</td>\n",
              "      <td>2012/01/09</td>\n",
              "      <td>Kā pastāstīja Bite, saistībā ar gaidāmo ģimene...</td>\n",
              "      <td>2022</td>\n",
              "      <td>2012</td>\n",
              "      <td>2012</td>\n",
              "    </tr>\n",
              "    <tr>\n",
              "      <th>322</th>\n",
              "      <td>Latvian</td>\n",
              "      <td>diena.lv</td>\n",
              "      <td>2011/09/01</td>\n",
              "      <td>Kā aģentūru LETA informēja policijas Rīgas reģ...</td>\n",
              "      <td>2022</td>\n",
              "      <td>2011</td>\n",
              "      <td>2011</td>\n",
              "    </tr>\n",
              "    <tr>\n",
              "      <th>2343</th>\n",
              "      <td>Latvian</td>\n",
              "      <td>diena.lv</td>\n",
              "      <td>2011/10/31</td>\n",
              "      <td>Svētdien Kārsavas muitas kontroles punktā, vei...</td>\n",
              "      <td>2022</td>\n",
              "      <td>2011</td>\n",
              "      <td>2011</td>\n",
              "    </tr>\n",
              "  </tbody>\n",
              "</table>\n",
              "</div>\n",
              "      <button class=\"colab-df-convert\" onclick=\"convertToInteractive('df-a831eabd-0d8d-4ff9-bfec-9395dc3911e2')\"\n",
              "              title=\"Convert this dataframe to an interactive table.\"\n",
              "              style=\"display:none;\">\n",
              "        \n",
              "  <svg xmlns=\"http://www.w3.org/2000/svg\" height=\"24px\"viewBox=\"0 0 24 24\"\n",
              "       width=\"24px\">\n",
              "    <path d=\"M0 0h24v24H0V0z\" fill=\"none\"/>\n",
              "    <path d=\"M18.56 5.44l.94 2.06.94-2.06 2.06-.94-2.06-.94-.94-2.06-.94 2.06-2.06.94zm-11 1L8.5 8.5l.94-2.06 2.06-.94-2.06-.94L8.5 2.5l-.94 2.06-2.06.94zm10 10l.94 2.06.94-2.06 2.06-.94-2.06-.94-.94-2.06-.94 2.06-2.06.94z\"/><path d=\"M17.41 7.96l-1.37-1.37c-.4-.4-.92-.59-1.43-.59-.52 0-1.04.2-1.43.59L10.3 9.45l-7.72 7.72c-.78.78-.78 2.05 0 2.83L4 21.41c.39.39.9.59 1.41.59.51 0 1.02-.2 1.41-.59l7.78-7.78 2.81-2.81c.8-.78.8-2.07 0-2.86zM5.41 20L4 18.59l7.72-7.72 1.47 1.35L5.41 20z\"/>\n",
              "  </svg>\n",
              "      </button>\n",
              "      \n",
              "  <style>\n",
              "    .colab-df-container {\n",
              "      display:flex;\n",
              "      flex-wrap:wrap;\n",
              "      gap: 12px;\n",
              "    }\n",
              "\n",
              "    .colab-df-convert {\n",
              "      background-color: #E8F0FE;\n",
              "      border: none;\n",
              "      border-radius: 50%;\n",
              "      cursor: pointer;\n",
              "      display: none;\n",
              "      fill: #1967D2;\n",
              "      height: 32px;\n",
              "      padding: 0 0 0 0;\n",
              "      width: 32px;\n",
              "    }\n",
              "\n",
              "    .colab-df-convert:hover {\n",
              "      background-color: #E2EBFA;\n",
              "      box-shadow: 0px 1px 2px rgba(60, 64, 67, 0.3), 0px 1px 3px 1px rgba(60, 64, 67, 0.15);\n",
              "      fill: #174EA6;\n",
              "    }\n",
              "\n",
              "    [theme=dark] .colab-df-convert {\n",
              "      background-color: #3B4455;\n",
              "      fill: #D2E3FC;\n",
              "    }\n",
              "\n",
              "    [theme=dark] .colab-df-convert:hover {\n",
              "      background-color: #434B5C;\n",
              "      box-shadow: 0px 1px 3px 1px rgba(0, 0, 0, 0.15);\n",
              "      filter: drop-shadow(0px 1px 2px rgba(0, 0, 0, 0.3));\n",
              "      fill: #FFFFFF;\n",
              "    }\n",
              "  </style>\n",
              "\n",
              "      <script>\n",
              "        const buttonEl =\n",
              "          document.querySelector('#df-a831eabd-0d8d-4ff9-bfec-9395dc3911e2 button.colab-df-convert');\n",
              "        buttonEl.style.display =\n",
              "          google.colab.kernel.accessAllowed ? 'block' : 'none';\n",
              "\n",
              "        async function convertToInteractive(key) {\n",
              "          const element = document.querySelector('#df-a831eabd-0d8d-4ff9-bfec-9395dc3911e2');\n",
              "          const dataTable =\n",
              "            await google.colab.kernel.invokeFunction('convertToInteractive',\n",
              "                                                     [key], {});\n",
              "          if (!dataTable) return;\n",
              "\n",
              "          const docLinkHtml = 'Like what you see? Visit the ' +\n",
              "            '<a target=\"_blank\" href=https://colab.research.google.com/notebooks/data_table.ipynb>data table notebook</a>'\n",
              "            + ' to learn more about interactive tables.';\n",
              "          element.innerHTML = '';\n",
              "          dataTable['output_type'] = 'display_data';\n",
              "          await google.colab.output.renderOutput(dataTable, element);\n",
              "          const docLink = document.createElement('div');\n",
              "          docLink.innerHTML = docLinkHtml;\n",
              "          element.appendChild(docLink);\n",
              "        }\n",
              "      </script>\n",
              "    </div>\n",
              "  </div>\n",
              "  "
            ]
          },
          "metadata": {},
          "execution_count": 31
        }
      ],
      "source": [
        "d_Riga.sample(5) # same as head or tails except gives us random sample of our rows"
      ]
    },
    {
      "cell_type": "code",
      "execution_count": 32,
      "id": "50nr4zpnIO-j",
      "metadata": {
        "colab": {
          "base_uri": "https://localhost:8080/",
          "height": 124
        },
        "id": "50nr4zpnIO-j",
        "outputId": "12706fcc-63cb-4c9e-809e-6b1a212bd879"
      },
      "outputs": [
        {
          "output_type": "execute_result",
          "data": {
            "text/plain": [
              "'Latvijas skatītāji Cirque du Soleil mākslu iepazīs šovā Saltimbanco, kas decembrī tiks demonstrēts Arēnā Rīga. Šīs programmas pirmizrāde notika 1992. gada 23. aprīlī Monreālā, 2007. gadā iestudējums tika atsvaidzināts. Ik gadu Saltimbanco viesojas 40 pilsētās. Iestudējums, kurā piedalās 50 mākslinieku, stāsta par transformācijām, kuras piedzīvo cilvēks, pārceļoties no provinces lielpilsētā. Ja gribat uzzināt par akrobātu un vingrotāju trikiem, kas tiek izpildīti šajā šovā, ieejiet Saltimbanco sadaļā Cirque du Soleil mājaslapā. Nemēģiniet tos atkārtot mājās!'"
            ],
            "application/vnd.google.colaboratory.intrinsic+json": {
              "type": "string"
            }
          },
          "metadata": {},
          "execution_count": 32
        }
      ],
      "source": [
        "first_doc_text = list(d_Riga.Text)[0] # text of first article in our sub corpus\n",
        "first_doc_text"
      ]
    },
    {
      "cell_type": "code",
      "execution_count": 33,
      "id": "06OIKfYRIcEV",
      "metadata": {
        "colab": {
          "base_uri": "https://localhost:8080/"
        },
        "id": "06OIKfYRIcEV",
        "outputId": "74773883-c5bc-45a3-ced2-2d644f4146dd"
      },
      "outputs": [
        {
          "output_type": "execute_result",
          "data": {
            "text/plain": [
              "(40, 7)"
            ]
          },
          "metadata": {},
          "execution_count": 33
        }
      ],
      "source": [
        "# We can use regular expression syntax to utilize more powerful searh capabilities\n",
        "# https://regex101.com/ just one of the places to practice your regex skills\n",
        "d_Riga_2 = diena_df[diena_df.Text.str.contains(\"Rīg[aāu]\")] # so we find a Rīga AND Rīgā AND Rīgu\n",
        "d_Riga_2.shape"
      ]
    },
    {
      "cell_type": "code",
      "execution_count": 34,
      "id": "R62-sIWODX0U",
      "metadata": {
        "id": "R62-sIWODX0U",
        "outputId": "d76d30ae-052b-4716-ea8e-ee35958726de",
        "colab": {
          "base_uri": "https://localhost:8080/"
        }
      },
      "outputs": [
        {
          "output_type": "execute_result",
          "data": {
            "text/plain": [
              "(37, 7)"
            ]
          },
          "metadata": {},
          "execution_count": 34
        }
      ],
      "source": [
        "# We can exclude search terms\n",
        "d_Riga_3 = d_Riga_2[~d_Riga_2.Text.str.contains(\"sport\")] # so we exclude all rows which contains sport, notice ~\n",
        "d_Riga_3.shape"
      ]
    },
    {
      "cell_type": "code",
      "execution_count": 35,
      "id": "433i-vQTJW1Z",
      "metadata": {
        "colab": {
          "base_uri": "https://localhost:8080/"
        },
        "id": "433i-vQTJW1Z",
        "outputId": "cf6312f2-7fb4-4a19-a139-66cd8d7ca5f9"
      },
      "outputs": [
        {
          "output_type": "execute_result",
          "data": {
            "text/plain": [
              "(114, 7)"
            ]
          },
          "metadata": {},
          "execution_count": 35
        }
      ],
      "source": [
        "# How about combining our dataframes assuming they have same type of rows?\n",
        "df_combined = pandas.concat([d_Riga, d_Riga_2, d_Riga_3], ignore_index = True) # index is not meaningful here so we drop it\n",
        "df_combined.shape"
      ]
    },
    {
      "cell_type": "code",
      "source": [
        "df_combined.head()"
      ],
      "metadata": {
        "id": "9bzHKyhouIaY",
        "outputId": "8b2ed59d-e23f-4bf1-ed75-d7146a0c75a5",
        "colab": {
          "base_uri": "https://localhost:8080/",
          "height": 285
        }
      },
      "id": "9bzHKyhouIaY",
      "execution_count": 36,
      "outputs": [
        {
          "output_type": "execute_result",
          "data": {
            "text/plain": [
              "  Language    Source        Date  \\\n",
              "0  Latvian  diena.lv  2011/12/13   \n",
              "1  Latvian  diena.lv  2011/09/01   \n",
              "2  Latvian  diena.lv  2010/07/30   \n",
              "3  Latvian  diena.lv  2012/01/13   \n",
              "4  Latvian  diena.lv  2011/09/28   \n",
              "\n",
              "                                                Text  CurrentYear  Year  \\\n",
              "0  Latvijas skatītāji Cirque du Soleil mākslu iep...         2022  2011   \n",
              "1  Kā aģentūru LETA informēja policijas Rīgas reģ...         2022  2011   \n",
              "2  To Dienai apliecināja divi šīs ballītes viesi ...         2022  2010   \n",
              "3  Klifs Grants ir Rīgas Zooloģiskajā dārzā mītoš...         2022  2012   \n",
              "4  Taču vides draugi apgalvo, ka pie pašreizējiem...         2022  2011   \n",
              "\n",
              "   Year_Numeric  \n",
              "0          2011  \n",
              "1          2011  \n",
              "2          2010  \n",
              "3          2012  \n",
              "4          2011  "
            ],
            "text/html": [
              "\n",
              "  <div id=\"df-e293fbf1-31ea-40e8-8cad-9c8840a4bdf1\">\n",
              "    <div class=\"colab-df-container\">\n",
              "      <div>\n",
              "<style scoped>\n",
              "    .dataframe tbody tr th:only-of-type {\n",
              "        vertical-align: middle;\n",
              "    }\n",
              "\n",
              "    .dataframe tbody tr th {\n",
              "        vertical-align: top;\n",
              "    }\n",
              "\n",
              "    .dataframe thead th {\n",
              "        text-align: right;\n",
              "    }\n",
              "</style>\n",
              "<table border=\"1\" class=\"dataframe\">\n",
              "  <thead>\n",
              "    <tr style=\"text-align: right;\">\n",
              "      <th></th>\n",
              "      <th>Language</th>\n",
              "      <th>Source</th>\n",
              "      <th>Date</th>\n",
              "      <th>Text</th>\n",
              "      <th>CurrentYear</th>\n",
              "      <th>Year</th>\n",
              "      <th>Year_Numeric</th>\n",
              "    </tr>\n",
              "  </thead>\n",
              "  <tbody>\n",
              "    <tr>\n",
              "      <th>0</th>\n",
              "      <td>Latvian</td>\n",
              "      <td>diena.lv</td>\n",
              "      <td>2011/12/13</td>\n",
              "      <td>Latvijas skatītāji Cirque du Soleil mākslu iep...</td>\n",
              "      <td>2022</td>\n",
              "      <td>2011</td>\n",
              "      <td>2011</td>\n",
              "    </tr>\n",
              "    <tr>\n",
              "      <th>1</th>\n",
              "      <td>Latvian</td>\n",
              "      <td>diena.lv</td>\n",
              "      <td>2011/09/01</td>\n",
              "      <td>Kā aģentūru LETA informēja policijas Rīgas reģ...</td>\n",
              "      <td>2022</td>\n",
              "      <td>2011</td>\n",
              "      <td>2011</td>\n",
              "    </tr>\n",
              "    <tr>\n",
              "      <th>2</th>\n",
              "      <td>Latvian</td>\n",
              "      <td>diena.lv</td>\n",
              "      <td>2010/07/30</td>\n",
              "      <td>To Dienai apliecināja divi šīs ballītes viesi ...</td>\n",
              "      <td>2022</td>\n",
              "      <td>2010</td>\n",
              "      <td>2010</td>\n",
              "    </tr>\n",
              "    <tr>\n",
              "      <th>3</th>\n",
              "      <td>Latvian</td>\n",
              "      <td>diena.lv</td>\n",
              "      <td>2012/01/13</td>\n",
              "      <td>Klifs Grants ir Rīgas Zooloģiskajā dārzā mītoš...</td>\n",
              "      <td>2022</td>\n",
              "      <td>2012</td>\n",
              "      <td>2012</td>\n",
              "    </tr>\n",
              "    <tr>\n",
              "      <th>4</th>\n",
              "      <td>Latvian</td>\n",
              "      <td>diena.lv</td>\n",
              "      <td>2011/09/28</td>\n",
              "      <td>Taču vides draugi apgalvo, ka pie pašreizējiem...</td>\n",
              "      <td>2022</td>\n",
              "      <td>2011</td>\n",
              "      <td>2011</td>\n",
              "    </tr>\n",
              "  </tbody>\n",
              "</table>\n",
              "</div>\n",
              "      <button class=\"colab-df-convert\" onclick=\"convertToInteractive('df-e293fbf1-31ea-40e8-8cad-9c8840a4bdf1')\"\n",
              "              title=\"Convert this dataframe to an interactive table.\"\n",
              "              style=\"display:none;\">\n",
              "        \n",
              "  <svg xmlns=\"http://www.w3.org/2000/svg\" height=\"24px\"viewBox=\"0 0 24 24\"\n",
              "       width=\"24px\">\n",
              "    <path d=\"M0 0h24v24H0V0z\" fill=\"none\"/>\n",
              "    <path d=\"M18.56 5.44l.94 2.06.94-2.06 2.06-.94-2.06-.94-.94-2.06-.94 2.06-2.06.94zm-11 1L8.5 8.5l.94-2.06 2.06-.94-2.06-.94L8.5 2.5l-.94 2.06-2.06.94zm10 10l.94 2.06.94-2.06 2.06-.94-2.06-.94-.94-2.06-.94 2.06-2.06.94z\"/><path d=\"M17.41 7.96l-1.37-1.37c-.4-.4-.92-.59-1.43-.59-.52 0-1.04.2-1.43.59L10.3 9.45l-7.72 7.72c-.78.78-.78 2.05 0 2.83L4 21.41c.39.39.9.59 1.41.59.51 0 1.02-.2 1.41-.59l7.78-7.78 2.81-2.81c.8-.78.8-2.07 0-2.86zM5.41 20L4 18.59l7.72-7.72 1.47 1.35L5.41 20z\"/>\n",
              "  </svg>\n",
              "      </button>\n",
              "      \n",
              "  <style>\n",
              "    .colab-df-container {\n",
              "      display:flex;\n",
              "      flex-wrap:wrap;\n",
              "      gap: 12px;\n",
              "    }\n",
              "\n",
              "    .colab-df-convert {\n",
              "      background-color: #E8F0FE;\n",
              "      border: none;\n",
              "      border-radius: 50%;\n",
              "      cursor: pointer;\n",
              "      display: none;\n",
              "      fill: #1967D2;\n",
              "      height: 32px;\n",
              "      padding: 0 0 0 0;\n",
              "      width: 32px;\n",
              "    }\n",
              "\n",
              "    .colab-df-convert:hover {\n",
              "      background-color: #E2EBFA;\n",
              "      box-shadow: 0px 1px 2px rgba(60, 64, 67, 0.3), 0px 1px 3px 1px rgba(60, 64, 67, 0.15);\n",
              "      fill: #174EA6;\n",
              "    }\n",
              "\n",
              "    [theme=dark] .colab-df-convert {\n",
              "      background-color: #3B4455;\n",
              "      fill: #D2E3FC;\n",
              "    }\n",
              "\n",
              "    [theme=dark] .colab-df-convert:hover {\n",
              "      background-color: #434B5C;\n",
              "      box-shadow: 0px 1px 3px 1px rgba(0, 0, 0, 0.15);\n",
              "      filter: drop-shadow(0px 1px 2px rgba(0, 0, 0, 0.3));\n",
              "      fill: #FFFFFF;\n",
              "    }\n",
              "  </style>\n",
              "\n",
              "      <script>\n",
              "        const buttonEl =\n",
              "          document.querySelector('#df-e293fbf1-31ea-40e8-8cad-9c8840a4bdf1 button.colab-df-convert');\n",
              "        buttonEl.style.display =\n",
              "          google.colab.kernel.accessAllowed ? 'block' : 'none';\n",
              "\n",
              "        async function convertToInteractive(key) {\n",
              "          const element = document.querySelector('#df-e293fbf1-31ea-40e8-8cad-9c8840a4bdf1');\n",
              "          const dataTable =\n",
              "            await google.colab.kernel.invokeFunction('convertToInteractive',\n",
              "                                                     [key], {});\n",
              "          if (!dataTable) return;\n",
              "\n",
              "          const docLinkHtml = 'Like what you see? Visit the ' +\n",
              "            '<a target=\"_blank\" href=https://colab.research.google.com/notebooks/data_table.ipynb>data table notebook</a>'\n",
              "            + ' to learn more about interactive tables.';\n",
              "          element.innerHTML = '';\n",
              "          dataTable['output_type'] = 'display_data';\n",
              "          await google.colab.output.renderOutput(dataTable, element);\n",
              "          const docLink = document.createElement('div');\n",
              "          docLink.innerHTML = docLinkHtml;\n",
              "          element.appendChild(docLink);\n",
              "        }\n",
              "      </script>\n",
              "    </div>\n",
              "  </div>\n",
              "  "
            ]
          },
          "metadata": {},
          "execution_count": 36
        }
      ]
    },
    {
      "cell_type": "code",
      "execution_count": 37,
      "id": "Bf4KBkkBKBFs",
      "metadata": {
        "colab": {
          "base_uri": "https://localhost:8080/"
        },
        "id": "Bf4KBkkBKBFs",
        "outputId": "596fb328-9e94-4c56-b9a5-7b4bb4b5ed25"
      },
      "outputs": [
        {
          "output_type": "execute_result",
          "data": {
            "text/plain": [
              "(40, 7)"
            ]
          },
          "metadata": {},
          "execution_count": 37
        }
      ],
      "source": [
        "# we have quite a few duplicate rows here\n",
        "# Let's drop them: https://pandas.pydata.org/docs/reference/api/pandas.DataFrame.drop_duplicates.html\n",
        "df_unique_rows = df_combined.drop_duplicates()\n",
        "df_unique_rows.shape"
      ]
    },
    {
      "cell_type": "code",
      "execution_count": 38,
      "id": "OVhwdqOvKTJf",
      "metadata": {
        "colab": {
          "base_uri": "https://localhost:8080/",
          "height": 1000
        },
        "id": "OVhwdqOvKTJf",
        "outputId": "5b7b803a-0d6a-435c-b27f-4e0b9022c384"
      },
      "outputs": [
        {
          "output_type": "execute_result",
          "data": {
            "text/plain": [
              "   Language    Source        Date  \\\n",
              "31  Latvian  diena.lv  2009/10/22   \n",
              "34  Latvian  diena.lv  2010/01/15   \n",
              "15  Latvian  diena.lv  2010/03/31   \n",
              "18  Latvian  diena.lv  2010/05/21   \n",
              "2   Latvian  diena.lv  2010/07/30   \n",
              "9   Latvian  diena.lv  2010/08/31   \n",
              "23  Latvian  diena.lv  2011/02/28   \n",
              "11  Latvian  diena.lv  2011/05/13   \n",
              "19  Latvian  diena.lv  2011/05/26   \n",
              "28  Latvian  diena.lv  2011/06/22   \n",
              "57  Latvian  diena.lv  2011/08/04   \n",
              "10  Latvian  diena.lv  2011/08/19   \n",
              "36  Latvian  diena.lv  2011/08/22   \n",
              "33  Latvian  diena.lv  2011/08/22   \n",
              "1   Latvian  diena.lv  2011/09/01   \n",
              "4   Latvian  diena.lv  2011/09/28   \n",
              "13  Latvian  diena.lv  2011/10/10   \n",
              "16  Latvian  diena.lv  2011/10/19   \n",
              "17  Latvian  diena.lv  2011/10/31   \n",
              "7   Latvian  diena.lv  2011/11/14   \n",
              "12  Latvian  diena.lv  2011/11/17   \n",
              "20  Latvian  diena.lv  2011/11/17   \n",
              "27  Latvian  diena.lv  2011/11/17   \n",
              "25  Latvian  diena.lv  2011/11/21   \n",
              "0   Latvian  diena.lv  2011/12/13   \n",
              "8   Latvian  diena.lv  2011/12/15   \n",
              "35  Latvian  diena.lv  2011/12/19   \n",
              "24  Latvian  diena.lv  2011/12/21   \n",
              "29  Latvian  diena.lv  2011/12/23   \n",
              "40  Latvian  diena.lv  2011/12/23   \n",
              "32  Latvian  diena.lv  2011/12/29   \n",
              "26  Latvian  diena.lv  2011/12/30   \n",
              "14  Latvian  diena.lv  2011/12/30   \n",
              "21  Latvian  diena.lv  2012/01/06   \n",
              "5   Latvian  diena.lv  2012/01/09   \n",
              "30  Latvian  diena.lv  2012/01/09   \n",
              "6   Latvian  diena.lv  2012/01/09   \n",
              "22  Latvian  diena.lv  2012/01/11   \n",
              "55  Latvian  diena.lv  2012/01/12   \n",
              "3   Latvian  diena.lv  2012/01/13   \n",
              "\n",
              "                                                 Text  CurrentYear  Year  \\\n",
              "31  Ikgadējais čempionāts \"Latvijas lielākais ķirb...         2022  2009   \n",
              "34  Gada vārda, nevārda un spārnotā teiciena meklē...         2022  2010   \n",
              "15  Līdz LBL pamatturnīra beigām atlicis aizvadīt ...         2022  2010   \n",
              "18  Šo svētdien tas parādīsies Nordea Rīgas marato...         2022  2010   \n",
              "2   To Dienai apliecināja divi šīs ballītes viesi ...         2022  2010   \n",
              "9   RTAB, kura izveidi savulaik iniciējis galvaspi...         2022  2010   \n",
              "23  Saktastirgotāja Inta Koļesņikova A pauda bažas...         2022  2011   \n",
              "11  Tieto darbinieki ir aizrautīgi un aktīvi, ko a...         2022  2011   \n",
              "19  Atbalstu fonda idejai apliecinājuši Romas kato...         2022  2011   \n",
              "28  Lielākā daļa \"Maxima X\" veikalu 23.jūnijā būs ...         2022  2011   \n",
              "57  «Pašlaik nevar runāt par mākslīgu cenu burbuli...         2022  2011   \n",
              "10  Veselības inspekcija aicināja iedzīvotājus rūp...         2022  2011   \n",
              "36  Ryanair no Rīgas pašlaik veic lidojumus uz 15 ...         2022  2011   \n",
              "33  Tajā ar saviem darbiem piedalās individuāli st...         2022  2011   \n",
              "1   Kā aģentūru LETA informēja policijas Rīgas reģ...         2022  2011   \n",
              "4   Taču vides draugi apgalvo, ka pie pašreizējiem...         2022  2011   \n",
              "13  Viņa norādīja, ka tostarp centralizētā siltuma...         2022  2011   \n",
              "16  Savukārt Latvijas skatītājiem decembrī būs ies...         2022  2011   \n",
              "17  Svētdien Kārsavas muitas kontroles punktā, vei...         2022  2011   \n",
              "7   Uz jautājumu, vai Ušakova dalība šajā parakstu...         2022  2011   \n",
              "12  Vērtējot koalīcijas veidošanas procesu, N.Ušak...         2022  2011   \n",
              "20  Pirmo disciplinārlietu pret Puķīti Štokenbergs...         2022  2011   \n",
              "27  Cenu diapazons, kādā notiek darījumi, ir visai...         2022  2011   \n",
              "25  Vakar redzētais Spartak atgādināja klases vole...         2022  2011   \n",
              "0   Latvijas skatītāji Cirque du Soleil mākslu iep...         2022  2011   \n",
              "8   Projekta galvenais mērķis ir novērst ostas akt...         2022  2011   \n",
              "35  Viņa minēja, ka visuzskatāmākais piemērs ir re...         2022  2011   \n",
              "24  Kaut kur nerealizēto (jo naudas devēju komisij...         2022  2011   \n",
              "29  Rīgas 199. pirmsskolas izglītības iestādes aud...         2022  2011   \n",
              "40  Savukārt 13.43 Rīgā, Daugavgrīvas ielā, kravas...         2022  2011   \n",
              "32  Ņemot vērā, ka Rīga 2014.gadā būs Eiropas kult...         2022  2011   \n",
              "26  Aizvadītajā gadā apmeklētākais pasākums Latvij...         2022  2011   \n",
              "14  Izstāde pieskaras intriģējošam jautājumam - ka...         2022  2011   \n",
              "21  Nizhny Novgorod ar piecām uzvarām desmit spēlē...         2022  2012   \n",
              "5   ZRP par reformām gan vēl būs jāpārliecina Vien...         2022  2012   \n",
              "30  Kā pastāstīja Bite, saistībā ar gaidāmo ģimene...         2022  2012   \n",
              "6   Rīgas apgabaltiesa pērn 15.martā pēc prokurora...         2022  2012   \n",
              "22  Par notikušo Valsts policijas Rīgas reģiona pā...         2022  2012   \n",
              "55  Fiļipovs uzsvēra, ka staciju teritoriju saimni...         2022  2012   \n",
              "3   Klifs Grants ir Rīgas Zooloģiskajā dārzā mītoš...         2022  2012   \n",
              "\n",
              "    Year_Numeric  \n",
              "31          2009  \n",
              "34          2010  \n",
              "15          2010  \n",
              "18          2010  \n",
              "2           2010  \n",
              "9           2010  \n",
              "23          2011  \n",
              "11          2011  \n",
              "19          2011  \n",
              "28          2011  \n",
              "57          2011  \n",
              "10          2011  \n",
              "36          2011  \n",
              "33          2011  \n",
              "1           2011  \n",
              "4           2011  \n",
              "13          2011  \n",
              "16          2011  \n",
              "17          2011  \n",
              "7           2011  \n",
              "12          2011  \n",
              "20          2011  \n",
              "27          2011  \n",
              "25          2011  \n",
              "0           2011  \n",
              "8           2011  \n",
              "35          2011  \n",
              "24          2011  \n",
              "29          2011  \n",
              "40          2011  \n",
              "32          2011  \n",
              "26          2011  \n",
              "14          2011  \n",
              "21          2012  \n",
              "5           2012  \n",
              "30          2012  \n",
              "6           2012  \n",
              "22          2012  \n",
              "55          2012  \n",
              "3           2012  "
            ],
            "text/html": [
              "\n",
              "  <div id=\"df-71ec30e2-8224-4c6b-a598-9eb01f8110d7\">\n",
              "    <div class=\"colab-df-container\">\n",
              "      <div>\n",
              "<style scoped>\n",
              "    .dataframe tbody tr th:only-of-type {\n",
              "        vertical-align: middle;\n",
              "    }\n",
              "\n",
              "    .dataframe tbody tr th {\n",
              "        vertical-align: top;\n",
              "    }\n",
              "\n",
              "    .dataframe thead th {\n",
              "        text-align: right;\n",
              "    }\n",
              "</style>\n",
              "<table border=\"1\" class=\"dataframe\">\n",
              "  <thead>\n",
              "    <tr style=\"text-align: right;\">\n",
              "      <th></th>\n",
              "      <th>Language</th>\n",
              "      <th>Source</th>\n",
              "      <th>Date</th>\n",
              "      <th>Text</th>\n",
              "      <th>CurrentYear</th>\n",
              "      <th>Year</th>\n",
              "      <th>Year_Numeric</th>\n",
              "    </tr>\n",
              "  </thead>\n",
              "  <tbody>\n",
              "    <tr>\n",
              "      <th>31</th>\n",
              "      <td>Latvian</td>\n",
              "      <td>diena.lv</td>\n",
              "      <td>2009/10/22</td>\n",
              "      <td>Ikgadējais čempionāts \"Latvijas lielākais ķirb...</td>\n",
              "      <td>2022</td>\n",
              "      <td>2009</td>\n",
              "      <td>2009</td>\n",
              "    </tr>\n",
              "    <tr>\n",
              "      <th>34</th>\n",
              "      <td>Latvian</td>\n",
              "      <td>diena.lv</td>\n",
              "      <td>2010/01/15</td>\n",
              "      <td>Gada vārda, nevārda un spārnotā teiciena meklē...</td>\n",
              "      <td>2022</td>\n",
              "      <td>2010</td>\n",
              "      <td>2010</td>\n",
              "    </tr>\n",
              "    <tr>\n",
              "      <th>15</th>\n",
              "      <td>Latvian</td>\n",
              "      <td>diena.lv</td>\n",
              "      <td>2010/03/31</td>\n",
              "      <td>Līdz LBL pamatturnīra beigām atlicis aizvadīt ...</td>\n",
              "      <td>2022</td>\n",
              "      <td>2010</td>\n",
              "      <td>2010</td>\n",
              "    </tr>\n",
              "    <tr>\n",
              "      <th>18</th>\n",
              "      <td>Latvian</td>\n",
              "      <td>diena.lv</td>\n",
              "      <td>2010/05/21</td>\n",
              "      <td>Šo svētdien tas parādīsies Nordea Rīgas marato...</td>\n",
              "      <td>2022</td>\n",
              "      <td>2010</td>\n",
              "      <td>2010</td>\n",
              "    </tr>\n",
              "    <tr>\n",
              "      <th>2</th>\n",
              "      <td>Latvian</td>\n",
              "      <td>diena.lv</td>\n",
              "      <td>2010/07/30</td>\n",
              "      <td>To Dienai apliecināja divi šīs ballītes viesi ...</td>\n",
              "      <td>2022</td>\n",
              "      <td>2010</td>\n",
              "      <td>2010</td>\n",
              "    </tr>\n",
              "    <tr>\n",
              "      <th>9</th>\n",
              "      <td>Latvian</td>\n",
              "      <td>diena.lv</td>\n",
              "      <td>2010/08/31</td>\n",
              "      <td>RTAB, kura izveidi savulaik iniciējis galvaspi...</td>\n",
              "      <td>2022</td>\n",
              "      <td>2010</td>\n",
              "      <td>2010</td>\n",
              "    </tr>\n",
              "    <tr>\n",
              "      <th>23</th>\n",
              "      <td>Latvian</td>\n",
              "      <td>diena.lv</td>\n",
              "      <td>2011/02/28</td>\n",
              "      <td>Saktastirgotāja Inta Koļesņikova A pauda bažas...</td>\n",
              "      <td>2022</td>\n",
              "      <td>2011</td>\n",
              "      <td>2011</td>\n",
              "    </tr>\n",
              "    <tr>\n",
              "      <th>11</th>\n",
              "      <td>Latvian</td>\n",
              "      <td>diena.lv</td>\n",
              "      <td>2011/05/13</td>\n",
              "      <td>Tieto darbinieki ir aizrautīgi un aktīvi, ko a...</td>\n",
              "      <td>2022</td>\n",
              "      <td>2011</td>\n",
              "      <td>2011</td>\n",
              "    </tr>\n",
              "    <tr>\n",
              "      <th>19</th>\n",
              "      <td>Latvian</td>\n",
              "      <td>diena.lv</td>\n",
              "      <td>2011/05/26</td>\n",
              "      <td>Atbalstu fonda idejai apliecinājuši Romas kato...</td>\n",
              "      <td>2022</td>\n",
              "      <td>2011</td>\n",
              "      <td>2011</td>\n",
              "    </tr>\n",
              "    <tr>\n",
              "      <th>28</th>\n",
              "      <td>Latvian</td>\n",
              "      <td>diena.lv</td>\n",
              "      <td>2011/06/22</td>\n",
              "      <td>Lielākā daļa \"Maxima X\" veikalu 23.jūnijā būs ...</td>\n",
              "      <td>2022</td>\n",
              "      <td>2011</td>\n",
              "      <td>2011</td>\n",
              "    </tr>\n",
              "    <tr>\n",
              "      <th>57</th>\n",
              "      <td>Latvian</td>\n",
              "      <td>diena.lv</td>\n",
              "      <td>2011/08/04</td>\n",
              "      <td>«Pašlaik nevar runāt par mākslīgu cenu burbuli...</td>\n",
              "      <td>2022</td>\n",
              "      <td>2011</td>\n",
              "      <td>2011</td>\n",
              "    </tr>\n",
              "    <tr>\n",
              "      <th>10</th>\n",
              "      <td>Latvian</td>\n",
              "      <td>diena.lv</td>\n",
              "      <td>2011/08/19</td>\n",
              "      <td>Veselības inspekcija aicināja iedzīvotājus rūp...</td>\n",
              "      <td>2022</td>\n",
              "      <td>2011</td>\n",
              "      <td>2011</td>\n",
              "    </tr>\n",
              "    <tr>\n",
              "      <th>36</th>\n",
              "      <td>Latvian</td>\n",
              "      <td>diena.lv</td>\n",
              "      <td>2011/08/22</td>\n",
              "      <td>Ryanair no Rīgas pašlaik veic lidojumus uz 15 ...</td>\n",
              "      <td>2022</td>\n",
              "      <td>2011</td>\n",
              "      <td>2011</td>\n",
              "    </tr>\n",
              "    <tr>\n",
              "      <th>33</th>\n",
              "      <td>Latvian</td>\n",
              "      <td>diena.lv</td>\n",
              "      <td>2011/08/22</td>\n",
              "      <td>Tajā ar saviem darbiem piedalās individuāli st...</td>\n",
              "      <td>2022</td>\n",
              "      <td>2011</td>\n",
              "      <td>2011</td>\n",
              "    </tr>\n",
              "    <tr>\n",
              "      <th>1</th>\n",
              "      <td>Latvian</td>\n",
              "      <td>diena.lv</td>\n",
              "      <td>2011/09/01</td>\n",
              "      <td>Kā aģentūru LETA informēja policijas Rīgas reģ...</td>\n",
              "      <td>2022</td>\n",
              "      <td>2011</td>\n",
              "      <td>2011</td>\n",
              "    </tr>\n",
              "    <tr>\n",
              "      <th>4</th>\n",
              "      <td>Latvian</td>\n",
              "      <td>diena.lv</td>\n",
              "      <td>2011/09/28</td>\n",
              "      <td>Taču vides draugi apgalvo, ka pie pašreizējiem...</td>\n",
              "      <td>2022</td>\n",
              "      <td>2011</td>\n",
              "      <td>2011</td>\n",
              "    </tr>\n",
              "    <tr>\n",
              "      <th>13</th>\n",
              "      <td>Latvian</td>\n",
              "      <td>diena.lv</td>\n",
              "      <td>2011/10/10</td>\n",
              "      <td>Viņa norādīja, ka tostarp centralizētā siltuma...</td>\n",
              "      <td>2022</td>\n",
              "      <td>2011</td>\n",
              "      <td>2011</td>\n",
              "    </tr>\n",
              "    <tr>\n",
              "      <th>16</th>\n",
              "      <td>Latvian</td>\n",
              "      <td>diena.lv</td>\n",
              "      <td>2011/10/19</td>\n",
              "      <td>Savukārt Latvijas skatītājiem decembrī būs ies...</td>\n",
              "      <td>2022</td>\n",
              "      <td>2011</td>\n",
              "      <td>2011</td>\n",
              "    </tr>\n",
              "    <tr>\n",
              "      <th>17</th>\n",
              "      <td>Latvian</td>\n",
              "      <td>diena.lv</td>\n",
              "      <td>2011/10/31</td>\n",
              "      <td>Svētdien Kārsavas muitas kontroles punktā, vei...</td>\n",
              "      <td>2022</td>\n",
              "      <td>2011</td>\n",
              "      <td>2011</td>\n",
              "    </tr>\n",
              "    <tr>\n",
              "      <th>7</th>\n",
              "      <td>Latvian</td>\n",
              "      <td>diena.lv</td>\n",
              "      <td>2011/11/14</td>\n",
              "      <td>Uz jautājumu, vai Ušakova dalība šajā parakstu...</td>\n",
              "      <td>2022</td>\n",
              "      <td>2011</td>\n",
              "      <td>2011</td>\n",
              "    </tr>\n",
              "    <tr>\n",
              "      <th>12</th>\n",
              "      <td>Latvian</td>\n",
              "      <td>diena.lv</td>\n",
              "      <td>2011/11/17</td>\n",
              "      <td>Vērtējot koalīcijas veidošanas procesu, N.Ušak...</td>\n",
              "      <td>2022</td>\n",
              "      <td>2011</td>\n",
              "      <td>2011</td>\n",
              "    </tr>\n",
              "    <tr>\n",
              "      <th>20</th>\n",
              "      <td>Latvian</td>\n",
              "      <td>diena.lv</td>\n",
              "      <td>2011/11/17</td>\n",
              "      <td>Pirmo disciplinārlietu pret Puķīti Štokenbergs...</td>\n",
              "      <td>2022</td>\n",
              "      <td>2011</td>\n",
              "      <td>2011</td>\n",
              "    </tr>\n",
              "    <tr>\n",
              "      <th>27</th>\n",
              "      <td>Latvian</td>\n",
              "      <td>diena.lv</td>\n",
              "      <td>2011/11/17</td>\n",
              "      <td>Cenu diapazons, kādā notiek darījumi, ir visai...</td>\n",
              "      <td>2022</td>\n",
              "      <td>2011</td>\n",
              "      <td>2011</td>\n",
              "    </tr>\n",
              "    <tr>\n",
              "      <th>25</th>\n",
              "      <td>Latvian</td>\n",
              "      <td>diena.lv</td>\n",
              "      <td>2011/11/21</td>\n",
              "      <td>Vakar redzētais Spartak atgādināja klases vole...</td>\n",
              "      <td>2022</td>\n",
              "      <td>2011</td>\n",
              "      <td>2011</td>\n",
              "    </tr>\n",
              "    <tr>\n",
              "      <th>0</th>\n",
              "      <td>Latvian</td>\n",
              "      <td>diena.lv</td>\n",
              "      <td>2011/12/13</td>\n",
              "      <td>Latvijas skatītāji Cirque du Soleil mākslu iep...</td>\n",
              "      <td>2022</td>\n",
              "      <td>2011</td>\n",
              "      <td>2011</td>\n",
              "    </tr>\n",
              "    <tr>\n",
              "      <th>8</th>\n",
              "      <td>Latvian</td>\n",
              "      <td>diena.lv</td>\n",
              "      <td>2011/12/15</td>\n",
              "      <td>Projekta galvenais mērķis ir novērst ostas akt...</td>\n",
              "      <td>2022</td>\n",
              "      <td>2011</td>\n",
              "      <td>2011</td>\n",
              "    </tr>\n",
              "    <tr>\n",
              "      <th>35</th>\n",
              "      <td>Latvian</td>\n",
              "      <td>diena.lv</td>\n",
              "      <td>2011/12/19</td>\n",
              "      <td>Viņa minēja, ka visuzskatāmākais piemērs ir re...</td>\n",
              "      <td>2022</td>\n",
              "      <td>2011</td>\n",
              "      <td>2011</td>\n",
              "    </tr>\n",
              "    <tr>\n",
              "      <th>24</th>\n",
              "      <td>Latvian</td>\n",
              "      <td>diena.lv</td>\n",
              "      <td>2011/12/21</td>\n",
              "      <td>Kaut kur nerealizēto (jo naudas devēju komisij...</td>\n",
              "      <td>2022</td>\n",
              "      <td>2011</td>\n",
              "      <td>2011</td>\n",
              "    </tr>\n",
              "    <tr>\n",
              "      <th>29</th>\n",
              "      <td>Latvian</td>\n",
              "      <td>diena.lv</td>\n",
              "      <td>2011/12/23</td>\n",
              "      <td>Rīgas 199. pirmsskolas izglītības iestādes aud...</td>\n",
              "      <td>2022</td>\n",
              "      <td>2011</td>\n",
              "      <td>2011</td>\n",
              "    </tr>\n",
              "    <tr>\n",
              "      <th>40</th>\n",
              "      <td>Latvian</td>\n",
              "      <td>diena.lv</td>\n",
              "      <td>2011/12/23</td>\n",
              "      <td>Savukārt 13.43 Rīgā, Daugavgrīvas ielā, kravas...</td>\n",
              "      <td>2022</td>\n",
              "      <td>2011</td>\n",
              "      <td>2011</td>\n",
              "    </tr>\n",
              "    <tr>\n",
              "      <th>32</th>\n",
              "      <td>Latvian</td>\n",
              "      <td>diena.lv</td>\n",
              "      <td>2011/12/29</td>\n",
              "      <td>Ņemot vērā, ka Rīga 2014.gadā būs Eiropas kult...</td>\n",
              "      <td>2022</td>\n",
              "      <td>2011</td>\n",
              "      <td>2011</td>\n",
              "    </tr>\n",
              "    <tr>\n",
              "      <th>26</th>\n",
              "      <td>Latvian</td>\n",
              "      <td>diena.lv</td>\n",
              "      <td>2011/12/30</td>\n",
              "      <td>Aizvadītajā gadā apmeklētākais pasākums Latvij...</td>\n",
              "      <td>2022</td>\n",
              "      <td>2011</td>\n",
              "      <td>2011</td>\n",
              "    </tr>\n",
              "    <tr>\n",
              "      <th>14</th>\n",
              "      <td>Latvian</td>\n",
              "      <td>diena.lv</td>\n",
              "      <td>2011/12/30</td>\n",
              "      <td>Izstāde pieskaras intriģējošam jautājumam - ka...</td>\n",
              "      <td>2022</td>\n",
              "      <td>2011</td>\n",
              "      <td>2011</td>\n",
              "    </tr>\n",
              "    <tr>\n",
              "      <th>21</th>\n",
              "      <td>Latvian</td>\n",
              "      <td>diena.lv</td>\n",
              "      <td>2012/01/06</td>\n",
              "      <td>Nizhny Novgorod ar piecām uzvarām desmit spēlē...</td>\n",
              "      <td>2022</td>\n",
              "      <td>2012</td>\n",
              "      <td>2012</td>\n",
              "    </tr>\n",
              "    <tr>\n",
              "      <th>5</th>\n",
              "      <td>Latvian</td>\n",
              "      <td>diena.lv</td>\n",
              "      <td>2012/01/09</td>\n",
              "      <td>ZRP par reformām gan vēl būs jāpārliecina Vien...</td>\n",
              "      <td>2022</td>\n",
              "      <td>2012</td>\n",
              "      <td>2012</td>\n",
              "    </tr>\n",
              "    <tr>\n",
              "      <th>30</th>\n",
              "      <td>Latvian</td>\n",
              "      <td>diena.lv</td>\n",
              "      <td>2012/01/09</td>\n",
              "      <td>Kā pastāstīja Bite, saistībā ar gaidāmo ģimene...</td>\n",
              "      <td>2022</td>\n",
              "      <td>2012</td>\n",
              "      <td>2012</td>\n",
              "    </tr>\n",
              "    <tr>\n",
              "      <th>6</th>\n",
              "      <td>Latvian</td>\n",
              "      <td>diena.lv</td>\n",
              "      <td>2012/01/09</td>\n",
              "      <td>Rīgas apgabaltiesa pērn 15.martā pēc prokurora...</td>\n",
              "      <td>2022</td>\n",
              "      <td>2012</td>\n",
              "      <td>2012</td>\n",
              "    </tr>\n",
              "    <tr>\n",
              "      <th>22</th>\n",
              "      <td>Latvian</td>\n",
              "      <td>diena.lv</td>\n",
              "      <td>2012/01/11</td>\n",
              "      <td>Par notikušo Valsts policijas Rīgas reģiona pā...</td>\n",
              "      <td>2022</td>\n",
              "      <td>2012</td>\n",
              "      <td>2012</td>\n",
              "    </tr>\n",
              "    <tr>\n",
              "      <th>55</th>\n",
              "      <td>Latvian</td>\n",
              "      <td>diena.lv</td>\n",
              "      <td>2012/01/12</td>\n",
              "      <td>Fiļipovs uzsvēra, ka staciju teritoriju saimni...</td>\n",
              "      <td>2022</td>\n",
              "      <td>2012</td>\n",
              "      <td>2012</td>\n",
              "    </tr>\n",
              "    <tr>\n",
              "      <th>3</th>\n",
              "      <td>Latvian</td>\n",
              "      <td>diena.lv</td>\n",
              "      <td>2012/01/13</td>\n",
              "      <td>Klifs Grants ir Rīgas Zooloģiskajā dārzā mītoš...</td>\n",
              "      <td>2022</td>\n",
              "      <td>2012</td>\n",
              "      <td>2012</td>\n",
              "    </tr>\n",
              "  </tbody>\n",
              "</table>\n",
              "</div>\n",
              "      <button class=\"colab-df-convert\" onclick=\"convertToInteractive('df-71ec30e2-8224-4c6b-a598-9eb01f8110d7')\"\n",
              "              title=\"Convert this dataframe to an interactive table.\"\n",
              "              style=\"display:none;\">\n",
              "        \n",
              "  <svg xmlns=\"http://www.w3.org/2000/svg\" height=\"24px\"viewBox=\"0 0 24 24\"\n",
              "       width=\"24px\">\n",
              "    <path d=\"M0 0h24v24H0V0z\" fill=\"none\"/>\n",
              "    <path d=\"M18.56 5.44l.94 2.06.94-2.06 2.06-.94-2.06-.94-.94-2.06-.94 2.06-2.06.94zm-11 1L8.5 8.5l.94-2.06 2.06-.94-2.06-.94L8.5 2.5l-.94 2.06-2.06.94zm10 10l.94 2.06.94-2.06 2.06-.94-2.06-.94-.94-2.06-.94 2.06-2.06.94z\"/><path d=\"M17.41 7.96l-1.37-1.37c-.4-.4-.92-.59-1.43-.59-.52 0-1.04.2-1.43.59L10.3 9.45l-7.72 7.72c-.78.78-.78 2.05 0 2.83L4 21.41c.39.39.9.59 1.41.59.51 0 1.02-.2 1.41-.59l7.78-7.78 2.81-2.81c.8-.78.8-2.07 0-2.86zM5.41 20L4 18.59l7.72-7.72 1.47 1.35L5.41 20z\"/>\n",
              "  </svg>\n",
              "      </button>\n",
              "      \n",
              "  <style>\n",
              "    .colab-df-container {\n",
              "      display:flex;\n",
              "      flex-wrap:wrap;\n",
              "      gap: 12px;\n",
              "    }\n",
              "\n",
              "    .colab-df-convert {\n",
              "      background-color: #E8F0FE;\n",
              "      border: none;\n",
              "      border-radius: 50%;\n",
              "      cursor: pointer;\n",
              "      display: none;\n",
              "      fill: #1967D2;\n",
              "      height: 32px;\n",
              "      padding: 0 0 0 0;\n",
              "      width: 32px;\n",
              "    }\n",
              "\n",
              "    .colab-df-convert:hover {\n",
              "      background-color: #E2EBFA;\n",
              "      box-shadow: 0px 1px 2px rgba(60, 64, 67, 0.3), 0px 1px 3px 1px rgba(60, 64, 67, 0.15);\n",
              "      fill: #174EA6;\n",
              "    }\n",
              "\n",
              "    [theme=dark] .colab-df-convert {\n",
              "      background-color: #3B4455;\n",
              "      fill: #D2E3FC;\n",
              "    }\n",
              "\n",
              "    [theme=dark] .colab-df-convert:hover {\n",
              "      background-color: #434B5C;\n",
              "      box-shadow: 0px 1px 3px 1px rgba(0, 0, 0, 0.15);\n",
              "      filter: drop-shadow(0px 1px 2px rgba(0, 0, 0, 0.3));\n",
              "      fill: #FFFFFF;\n",
              "    }\n",
              "  </style>\n",
              "\n",
              "      <script>\n",
              "        const buttonEl =\n",
              "          document.querySelector('#df-71ec30e2-8224-4c6b-a598-9eb01f8110d7 button.colab-df-convert');\n",
              "        buttonEl.style.display =\n",
              "          google.colab.kernel.accessAllowed ? 'block' : 'none';\n",
              "\n",
              "        async function convertToInteractive(key) {\n",
              "          const element = document.querySelector('#df-71ec30e2-8224-4c6b-a598-9eb01f8110d7');\n",
              "          const dataTable =\n",
              "            await google.colab.kernel.invokeFunction('convertToInteractive',\n",
              "                                                     [key], {});\n",
              "          if (!dataTable) return;\n",
              "\n",
              "          const docLinkHtml = 'Like what you see? Visit the ' +\n",
              "            '<a target=\"_blank\" href=https://colab.research.google.com/notebooks/data_table.ipynb>data table notebook</a>'\n",
              "            + ' to learn more about interactive tables.';\n",
              "          element.innerHTML = '';\n",
              "          dataTable['output_type'] = 'display_data';\n",
              "          await google.colab.output.renderOutput(dataTable, element);\n",
              "          const docLink = document.createElement('div');\n",
              "          docLink.innerHTML = docLinkHtml;\n",
              "          element.appendChild(docLink);\n",
              "        }\n",
              "      </script>\n",
              "    </div>\n",
              "  </div>\n",
              "  "
            ]
          },
          "metadata": {},
          "execution_count": 38
        }
      ],
      "source": [
        "# lets sort them by Date\n",
        "df_sorted = df_unique_rows.sort_values(by=\"Date\", ascending=True)\n",
        "df_sorted"
      ]
    },
    {
      "cell_type": "code",
      "execution_count": 39,
      "id": "eBddjO6jKkWg",
      "metadata": {
        "id": "eBddjO6jKkWg"
      },
      "outputs": [],
      "source": [
        "# now we can save our mini corpus\n",
        "df_sorted.to_csv(\"diena_Rīga.csv\", sep=\"\\t\") # we continue using tab for separation\n"
      ]
    },
    {
      "cell_type": "code",
      "execution_count": null,
      "id": "htYcfAFaK-ZG",
      "metadata": {
        "id": "htYcfAFaK-ZG"
      },
      "outputs": [],
      "source": [
        "# if we are running Jupyter notebooks locally we already have the file on our computer\n",
        "# if we are using Google Colab then we need to download the File\n"
      ]
    },
    {
      "cell_type": "markdown",
      "id": "Xqez1W3FLJkk",
      "metadata": {
        "id": "Xqez1W3FLJkk"
      },
      "source": [
        "# Your Task\n",
        "\n",
        "## Open the big corpus (.zip files ) for your language (EE,LV,UA) as a starting point \n",
        "## Filter your own corpus of at least 100 rows\n",
        "\n",
        "* As a minimum you should use some keyword matching for filters.\n",
        "* Save the corpus as a .csv file using tab for separator\n",
        "* Also Download the notebook (if you are on Colab)\n",
        "* Submit Both notebook (.ipynb file) and corpus (.csv) (in order to receive ECTS credit points from the University of Latvia)\n",
        "* Naming for .ipynb can remain same as Filtering Documents with Pandas.ipynb\n",
        "* Naming for .csv should reflect your corpus for example: \n",
        "Spring_in_Tallinn.csv\n",
        "\n",
        "[Submission Form](https://forms.gle/kaN7CGrtcP2UWEFw8)\n",
        "\n",
        "PS If you do not use Google services (that is completed the assignment without Google Colab, and do not have Gmail account) then you can e-mail the files directly to valdis.s.coding at gmail com"
      ]
    },
    {
      "cell_type": "code",
      "source": [
        "diena_df.shape"
      ],
      "metadata": {
        "id": "lXdKnCqOvS9V",
        "outputId": "f6cc4f42-e647-44f6-f6ac-351c4a69c744",
        "colab": {
          "base_uri": "https://localhost:8080/"
        }
      },
      "id": "lXdKnCqOvS9V",
      "execution_count": 40,
      "outputs": [
        {
          "output_type": "execute_result",
          "data": {
            "text/plain": [
              "(634, 7)"
            ]
          },
          "metadata": {},
          "execution_count": 40
        }
      ]
    },
    {
      "cell_type": "code",
      "source": [
        "diena_100 = diena_df.sample(100) # could use head(100) or tail(100)\n",
        "# for full credit do not just use this single command I want to see some filtering beforehand\n",
        "diena_100.shape"
      ],
      "metadata": {
        "id": "CU7ef3C3vVjP",
        "outputId": "e66a6f93-edc7-4394-f69c-6f46ef06f2a6",
        "colab": {
          "base_uri": "https://localhost:8080/"
        }
      },
      "id": "CU7ef3C3vVjP",
      "execution_count": 41,
      "outputs": [
        {
          "output_type": "execute_result",
          "data": {
            "text/plain": [
              "(100, 7)"
            ]
          },
          "metadata": {},
          "execution_count": 41
        }
      ]
    },
    {
      "cell_type": "code",
      "source": [
        "diena_100.to_csv(\"diena_100.csv\", sep=\"\\t\")"
      ],
      "metadata": {
        "id": "5bOMnoSdvmCu"
      },
      "id": "5bOMnoSdvmCu",
      "execution_count": 43,
      "outputs": []
    },
    {
      "cell_type": "code",
      "execution_count": null,
      "id": "P93wQBinLIbB",
      "metadata": {
        "id": "P93wQBinLIbB"
      },
      "outputs": [],
      "source": [
        "# Your work starts here\n",
        "# you submit this same notebook just with your code below\n"
      ]
    }
  ],
  "metadata": {
    "colab": {
      "name": "Filtering Documents with Pandas.ipynb",
      "provenance": []
    },
    "kernelspec": {
      "display_name": "Python 3 (ipykernel)",
      "language": "python",
      "name": "python3"
    },
    "language_info": {
      "codemirror_mode": {
        "name": "ipython",
        "version": 3
      },
      "file_extension": ".py",
      "mimetype": "text/x-python",
      "name": "python",
      "nbconvert_exporter": "python",
      "pygments_lexer": "ipython3",
      "version": "3.7.12"
    }
  },
  "nbformat": 4,
  "nbformat_minor": 5
}
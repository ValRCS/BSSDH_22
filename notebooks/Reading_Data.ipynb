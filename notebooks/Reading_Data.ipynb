{
  "cells": [
    {
      "cell_type": "markdown",
      "id": "46614261",
      "metadata": {
        "id": "46614261"
      },
      "source": [
        "# Reading Data\n",
        "\n",
        "There are various file formats, how do we make a sense of them all?\n",
        "\n",
        "* There are archive formats such as .zip, .rar, .7z, .tar those hold other files.\n",
        "* There are text formats such as .txt, .csv, .json, .tsv\n",
        "* There are binary formats such as .exe, .jpg, .png - those are not human readable\n",
        "\n"
      ]
    },
    {
      "cell_type": "markdown",
      "source": [
        "Text formats have an additional complication that they can have different encodings depending on the country. This can complicate reading of diacritic symbols."
      ],
      "metadata": {
        "id": "LNYtPH8_zpRQ"
      },
      "id": "LNYtPH8_zpRQ"
    }
  ],
  "metadata": {
    "kernelspec": {
      "display_name": "Python 3 (ipykernel)",
      "language": "python",
      "name": "python3"
    },
    "language_info": {
      "codemirror_mode": {
        "name": "ipython",
        "version": 3
      },
      "file_extension": ".py",
      "mimetype": "text/x-python",
      "name": "python",
      "nbconvert_exporter": "python",
      "pygments_lexer": "ipython3",
      "version": "3.9.7"
    },
    "colab": {
      "name": "Reading_Data.ipynb",
      "provenance": []
    }
  },
  "nbformat": 4,
  "nbformat_minor": 5
}
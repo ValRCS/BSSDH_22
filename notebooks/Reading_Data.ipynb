{
 "cells": [
  {
   "cell_type": "markdown",
   "id": "abd01521",
   "metadata": {},
   "source": [
    "# Reading Data\n",
    "\n",
    "There are various file formats, how do we make a sense of them all?\n",
    "\n",
    "* There are archive/compression formats such as .zip, .rar, .7z, .tar those hold other files.\n",
    "* There are text formats such as .txt, .csv, .json, .tsv - those can be read by humans in a text editor\n",
    "* There are binary formats such as .exe, .jpg, .png - those are not human readable"
   ]
  },
  {
   "cell_type": "markdown",
   "id": "06bf08d1",
   "metadata": {},
   "source": [
    "### Reading text files\n",
    "\n",
    "In this section we will read a simple text file. It contains text from the start of English Wikipedia article about Riga: https://en.wikipedia.org/wiki/Riga"
   ]
  },
  {
   "cell_type": "code",
   "execution_count": 1,
   "id": "ac177026",
   "metadata": {},
   "outputs": [],
   "source": [
    "filename = \"data/riga_wikipedia.txt\""
   ]
  },
  {
   "cell_type": "code",
   "execution_count": 2,
   "id": "0bdded79",
   "metadata": {},
   "outputs": [],
   "source": [
    "# open the file for reading\n",
    "file_1 = open(filename)\n",
    "\n",
    "# read contents of the file\n",
    "data = file_1.read()\n",
    "\n",
    "# close the file\n",
    "file_1.close()"
   ]
  },
  {
   "cell_type": "markdown",
   "id": "0c5b67e7",
   "metadata": {},
   "source": [
    "Note: The above action (reading a local file) will fail if you execute it in Google Colab. \n",
    "\n",
    "If that's the case, uncomment (remove # marks from start of the line) the code below that reads the same file from a remote web location (a Github repository in this case):"
   ]
  },
  {
   "cell_type": "code",
   "execution_count": 3,
   "id": "2db22d13",
   "metadata": {},
   "outputs": [],
   "source": [
    "#import requests\n",
    "\n",
    "#url = \"https://raw.githubusercontent.com/ValRCS/BSSDH_22/main/notebooks/data/riga_wikipedia.txt\"\n",
    "\n",
    "#response = requests.get(url)\n",
    "#data = response.text"
   ]
  },
  {
   "cell_type": "code",
   "execution_count": 4,
   "id": "56c83bfd",
   "metadata": {},
   "outputs": [
    {
     "name": "stdout",
     "output_type": "stream",
     "text": [
      "Riga (/ˈriːɡə/; Latvian: Rīga [ˈriːɡa] (listen), Livonian: Rīgõ) is the capital of Latvia and is hom\n"
     ]
    }
   ],
   "source": [
    "# print the first 100 characters of the file\n",
    "print(data[:100])"
   ]
  },
  {
   "cell_type": "code",
   "execution_count": 5,
   "id": "30b91449",
   "metadata": {},
   "outputs": [],
   "source": [
    "# split text into tokens (words)\n",
    "words = data.split()"
   ]
  },
  {
   "cell_type": "code",
   "execution_count": 6,
   "id": "e6a4c041",
   "metadata": {},
   "outputs": [
    {
     "name": "stdout",
     "output_type": "stream",
     "text": [
      "257\n"
     ]
    }
   ],
   "source": [
    "# count the number of tokens in text\n",
    "\n",
    "print(len(words))"
   ]
  },
  {
   "cell_type": "code",
   "execution_count": 7,
   "id": "6696dd23",
   "metadata": {},
   "outputs": [
    {
     "name": "stdout",
     "output_type": "stream",
     "text": [
      "['Riga', '(/ˈriːɡə/;', 'Latvian:', 'Rīga', '[ˈriːɡa]', '(listen),', 'Livonian:', 'Rīgõ)', 'is', 'the', 'capital', 'of', 'Latvia', 'and', 'is', 'home', 'to', '671,000', 'inhabitants', '[10][11][12]', 'which', 'is', 'a', 'third', 'of', \"Latvia's\", 'population.', 'Being', 'significantly', 'larger', 'than', 'other', 'cities', 'of', 'Latvia,', 'Riga', 'is', 'the', \"country's\", 'primate', 'city.', 'It', 'is', 'also', 'the', 'largest', 'city', 'in', 'the', 'three']\n"
     ]
    }
   ],
   "source": [
    "# print the first 50 tokens\n",
    "print(words[:50])"
   ]
  },
  {
   "cell_type": "markdown",
   "id": "63f41a77",
   "metadata": {},
   "source": [
    "### Counting word frequency\n",
    "\n",
    "Here we will use Python's Counter object (from Python collections library) to determine word frequency of the text. \n",
    "\n",
    "https://docs.python.org/3/library/collections.html#collections.Counter"
   ]
  },
  {
   "cell_type": "code",
   "execution_count": 8,
   "id": "e3391228",
   "metadata": {},
   "outputs": [],
   "source": [
    "from collections import Counter"
   ]
  },
  {
   "cell_type": "code",
   "execution_count": 9,
   "id": "ac286d47",
   "metadata": {},
   "outputs": [],
   "source": [
    "c = Counter(words)"
   ]
  },
  {
   "cell_type": "code",
   "execution_count": 10,
   "id": "2b41935a",
   "metadata": {},
   "outputs": [
    {
     "name": "stdout",
     "output_type": "stream",
     "text": [
      "[('the', 21), ('of', 13), ('is', 11), ('Riga', 9), ('and', 9), ('a', 5), ('in', 5), ('Baltic', 5), ('European', 5), ('World', 4), ('home', 3), ('to', 3), ('city', 3), ('was', 3), ('Union', 3), ('It', 2), ('largest', 2), ('three', 2), ('The', 2), ('lies', 2)]\n"
     ]
    }
   ],
   "source": [
    "# print the 20 most common words (tokens)\n",
    "print(c.most_common(20))"
   ]
  },
  {
   "cell_type": "code",
   "execution_count": 11,
   "id": "de34be2e",
   "metadata": {},
   "outputs": [
    {
     "name": "stdout",
     "output_type": "stream",
     "text": [
      "the: 21\n",
      "of: 13\n",
      "is: 11\n",
      "Riga: 9\n",
      "and: 9\n",
      "a: 5\n",
      "in: 5\n",
      "Baltic: 5\n",
      "European: 5\n",
      "World: 4\n",
      "home: 3\n",
      "to: 3\n",
      "city: 3\n",
      "was: 3\n",
      "Union: 3\n",
      "It: 2\n",
      "largest: 2\n",
      "three: 2\n",
      "The: 2\n",
      "lies: 2\n"
     ]
    }
   ],
   "source": [
    "# a nicer way of printing counter results using a *for* cycle\n",
    "\n",
    "for token, count in c.most_common(20):\n",
    "    print(f\"{token}: {count}\")\n"
   ]
  },
  {
   "cell_type": "markdown",
   "id": "5ecf4f58",
   "metadata": {},
   "source": [
    "Notice how words may appear in both lowercase (\"the\") and uppercase (\"The\"). You may want to normalize the text by converting it all to lowercase and do other clean-up steps. "
   ]
  },
  {
   "cell_type": "markdown",
   "id": "b42c1dae",
   "metadata": {},
   "source": [
    "### 🔴 Note: varbūt te derētu arī kāds CSV faila piemērs 🔴"
   ]
  },
  {
   "cell_type": "markdown",
   "id": "f49d1d0b",
   "metadata": {},
   "source": [
    "### Reading TSV files\n",
    "\n",
    "Corpora that we will work with are located in archived TSV (Tab-separated-values) files:\n",
    "https://github.com/ValRCS/BSSDH_22/tree/main/corpora\n",
    "\n",
    "These files consist of rows (records) that contain one or more values separated by \"Tab\" characters.\n",
    "\n",
    "We will use Pandas library to read a TSV file that contains a smaller version of the \"lv_old_newspapers.zip\" corpus: https://github.com/ValRCS/BSSDH_22/blob/main/corpora/lv_old_newspapers_5k.tsv"
   ]
  },
  {
   "cell_type": "code",
   "execution_count": 12,
   "id": "5194e455",
   "metadata": {},
   "outputs": [],
   "source": [
    "import pandas"
   ]
  },
  {
   "cell_type": "code",
   "execution_count": 13,
   "id": "787b4e8f",
   "metadata": {},
   "outputs": [],
   "source": [
    "filename = \"../corpora/lv_old_newspapers_5k.tsv\""
   ]
  },
  {
   "cell_type": "code",
   "execution_count": 14,
   "id": "694238e0",
   "metadata": {},
   "outputs": [],
   "source": [
    "# read the tab-separated file (\"sep\" parameter tells Pandas that values in the file\n",
    "# are separated with the \"tab\" character.\n",
    "\n",
    "df_1 = pandas.read_csv(filename, sep=\"\\t\")"
   ]
  },
  {
   "cell_type": "markdown",
   "id": "89655e67",
   "metadata": {},
   "source": [
    "Note: The above action (reading a local file) will fail if you execute it in Google Colab.\n",
    "\n",
    "If that's the case, uncomment (remove # marks from start of the line) the code below that reads the same file from a remote web location (a Github repository in this case):\n"
   ]
  },
  {
   "cell_type": "code",
   "execution_count": 15,
   "id": "69605e00",
   "metadata": {},
   "outputs": [],
   "source": [
    "#url = \"https://github.com/ValRCS/BSSDH_22/raw/main/corpora/lv_old_newspapers_5k.tsv\"\n",
    "\n",
    "#df_1 = pandas.read_csv(url, sep=\"\\t\")"
   ]
  },
  {
   "cell_type": "code",
   "execution_count": 16,
   "id": "efc14e84",
   "metadata": {},
   "outputs": [
    {
     "data": {
      "text/html": [
       "<div>\n",
       "<style scoped>\n",
       "    .dataframe tbody tr th:only-of-type {\n",
       "        vertical-align: middle;\n",
       "    }\n",
       "\n",
       "    .dataframe tbody tr th {\n",
       "        vertical-align: top;\n",
       "    }\n",
       "\n",
       "    .dataframe thead th {\n",
       "        text-align: right;\n",
       "    }\n",
       "</style>\n",
       "<table border=\"1\" class=\"dataframe\">\n",
       "  <thead>\n",
       "    <tr style=\"text-align: right;\">\n",
       "      <th></th>\n",
       "      <th>Language</th>\n",
       "      <th>Source</th>\n",
       "      <th>Date</th>\n",
       "      <th>Text</th>\n",
       "    </tr>\n",
       "  </thead>\n",
       "  <tbody>\n",
       "    <tr>\n",
       "      <th>0</th>\n",
       "      <td>Latvian</td>\n",
       "      <td>rekurzeme.lv</td>\n",
       "      <td>2008/09/04</td>\n",
       "      <td>\"Viņa pirmsnāves zīmītē bija rakstīts vienīgi ...</td>\n",
       "    </tr>\n",
       "    <tr>\n",
       "      <th>1</th>\n",
       "      <td>Latvian</td>\n",
       "      <td>diena.lv</td>\n",
       "      <td>2012/01/10</td>\n",
       "      <td>info@zurnalistiem.lv</td>\n",
       "    </tr>\n",
       "    <tr>\n",
       "      <th>2</th>\n",
       "      <td>Latvian</td>\n",
       "      <td>bauskasdzive.lv</td>\n",
       "      <td>2007/12/27</td>\n",
       "      <td>Bhuto, kas Pakistānā no trimdas atgriezās tika...</td>\n",
       "    </tr>\n",
       "    <tr>\n",
       "      <th>3</th>\n",
       "      <td>Latvian</td>\n",
       "      <td>bauskasdzive.lv</td>\n",
       "      <td>2008/10/08</td>\n",
       "      <td>Plkst. 4.00 Samoilovs / Pļaviņš (pludmales vol...</td>\n",
       "    </tr>\n",
       "    <tr>\n",
       "      <th>4</th>\n",
       "      <td>Latvian</td>\n",
       "      <td>diena.lv</td>\n",
       "      <td>2011/10/05</td>\n",
       "      <td>CVK bija vērsusies Skaburska, lūdzot izskaidro...</td>\n",
       "    </tr>\n",
       "    <tr>\n",
       "      <th>...</th>\n",
       "      <td>...</td>\n",
       "      <td>...</td>\n",
       "      <td>...</td>\n",
       "      <td>...</td>\n",
       "    </tr>\n",
       "    <tr>\n",
       "      <th>4994</th>\n",
       "      <td>Latvian</td>\n",
       "      <td>zz.lv</td>\n",
       "      <td>2011/04/25</td>\n",
       "      <td>Mākslas dienu laikā Jelgavā viesosies Baltkrie...</td>\n",
       "    </tr>\n",
       "    <tr>\n",
       "      <th>4995</th>\n",
       "      <td>Latvian</td>\n",
       "      <td>diena.lv</td>\n",
       "      <td>2010/05/12</td>\n",
       "      <td>\"\"Melnās Piektdienas” četru pastāvēšanas gadu ...</td>\n",
       "    </tr>\n",
       "    <tr>\n",
       "      <th>4996</th>\n",
       "      <td>Latvian</td>\n",
       "      <td>diena.lv</td>\n",
       "      <td>2009/09/17</td>\n",
       "      <td>Nevaru mierā nosēdēt</td>\n",
       "    </tr>\n",
       "    <tr>\n",
       "      <th>4997</th>\n",
       "      <td>Latvian</td>\n",
       "      <td>zz.lv</td>\n",
       "      <td>2010/02/25</td>\n",
       "      <td>Vairāki pasākumi veltīti jaunākajiem lasītājie...</td>\n",
       "    </tr>\n",
       "    <tr>\n",
       "      <th>4998</th>\n",
       "      <td>Latvian</td>\n",
       "      <td>ziemellatvija.lv</td>\n",
       "      <td>2008/03/29</td>\n",
       "      <td>Pēc lidojuma, piecu stundu pavadīšanas Taškent...</td>\n",
       "    </tr>\n",
       "  </tbody>\n",
       "</table>\n",
       "<p>4999 rows × 4 columns</p>\n",
       "</div>"
      ],
      "text/plain": [
       "     Language            Source        Date  \\\n",
       "0     Latvian      rekurzeme.lv  2008/09/04   \n",
       "1     Latvian          diena.lv  2012/01/10   \n",
       "2     Latvian   bauskasdzive.lv  2007/12/27   \n",
       "3     Latvian   bauskasdzive.lv  2008/10/08   \n",
       "4     Latvian          diena.lv  2011/10/05   \n",
       "...       ...               ...         ...   \n",
       "4994  Latvian             zz.lv  2011/04/25   \n",
       "4995  Latvian          diena.lv  2010/05/12   \n",
       "4996  Latvian          diena.lv  2009/09/17   \n",
       "4997  Latvian             zz.lv  2010/02/25   \n",
       "4998  Latvian  ziemellatvija.lv  2008/03/29   \n",
       "\n",
       "                                                   Text  \n",
       "0     \"Viņa pirmsnāves zīmītē bija rakstīts vienīgi ...  \n",
       "1                                  info@zurnalistiem.lv  \n",
       "2     Bhuto, kas Pakistānā no trimdas atgriezās tika...  \n",
       "3     Plkst. 4.00 Samoilovs / Pļaviņš (pludmales vol...  \n",
       "4     CVK bija vērsusies Skaburska, lūdzot izskaidro...  \n",
       "...                                                 ...  \n",
       "4994  Mākslas dienu laikā Jelgavā viesosies Baltkrie...  \n",
       "4995  \"\"Melnās Piektdienas” četru pastāvēšanas gadu ...  \n",
       "4996                               Nevaru mierā nosēdēt  \n",
       "4997  Vairāki pasākumi veltīti jaunākajiem lasītājie...  \n",
       "4998  Pēc lidojuma, piecu stundu pavadīšanas Taškent...  \n",
       "\n",
       "[4999 rows x 4 columns]"
      ]
     },
     "execution_count": 16,
     "metadata": {},
     "output_type": "execute_result"
    }
   ],
   "source": [
    "df_1"
   ]
  },
  {
   "cell_type": "code",
   "execution_count": 17,
   "id": "4bcc2734",
   "metadata": {},
   "outputs": [
    {
     "name": "stdout",
     "output_type": "stream",
     "text": [
      "4999\n"
     ]
    }
   ],
   "source": [
    "# the size of the corpus:\n",
    "\n",
    "print(len(df_1))"
   ]
  },
  {
   "cell_type": "code",
   "execution_count": 18,
   "id": "62c5f4f8",
   "metadata": {},
   "outputs": [
    {
     "data": {
      "text/plain": [
       "0    \"Viņa pirmsnāves zīmītē bija rakstīts vienīgi ...\n",
       "1                                 info@zurnalistiem.lv\n",
       "2    Bhuto, kas Pakistānā no trimdas atgriezās tika...\n",
       "3    Plkst. 4.00 Samoilovs / Pļaviņš (pludmales vol...\n",
       "4    CVK bija vērsusies Skaburska, lūdzot izskaidro...\n",
       "5    Apbalvojumus piešķir piemiņas zīmes valde Saei...\n",
       "6    - Amerikā biju uzaicināts viesoties ar visu ģi...\n",
       "7    Mūrniece gan saka, ka Lužkova bitēm Latvijas p...\n",
       "8    PĒDĒJĀ, kontrolēja PĀRDAUGAVAS telpu, izņemot ...\n",
       "9    Ar Ivaru tikāmies viņa dzimtajos \"Lazdiņos\" Za...\n",
       "Name: Text, dtype: object"
      ]
     },
     "execution_count": 18,
     "metadata": {},
     "output_type": "execute_result"
    }
   ],
   "source": [
    "# select the Text column, show the first 10 entries\n",
    "\n",
    "df_1[\"Text\"][:10]"
   ]
  },
  {
   "cell_type": "markdown",
   "id": "1cf6122c",
   "metadata": {},
   "source": [
    "#### 🔴 Note: Te derētu parādīt vārdu biežuma skaitīšanu df_1 datiem 🔴\n"
   ]
  },
  {
   "cell_type": "markdown",
   "id": "e28c46d3",
   "metadata": {},
   "source": [
    "### Reading archived files\n",
    "\n",
    "Pandas can also read archived CSV and TSV files."
   ]
  },
  {
   "cell_type": "code",
   "execution_count": 19,
   "id": "3d0af606",
   "metadata": {},
   "outputs": [],
   "source": [
    "filename_2 = \"../corpora/lv_old_newspapers.zip\""
   ]
  },
  {
   "cell_type": "code",
   "execution_count": 20,
   "id": "1d6803f9",
   "metadata": {},
   "outputs": [],
   "source": [
    "# read the archived, tab-separated file (\"compression\" parameter tells\n",
    "# Pandas that this is a ZIP archived file).\n",
    "\n",
    "df_2 = pandas.read_csv(filename_2, sep=\"\\t\", compression=\"zip\")"
   ]
  },
  {
   "cell_type": "markdown",
   "id": "589c131a",
   "metadata": {},
   "source": [
    "Note: The above action (reading a local file) will fail if you execute it in Google Colab.\n",
    "\n",
    "If that's the case, uncomment (remove # marks from start of the line) the code below that reads the same file from a remote web location (a Github repository in this case):"
   ]
  },
  {
   "cell_type": "code",
   "execution_count": 21,
   "id": "cccef3e2",
   "metadata": {},
   "outputs": [],
   "source": [
    "#url_2 = \"https://github.com/ValRCS/BSSDH_22/raw/main/corpora/lv_old_newspapers.zip\"\n",
    "\n",
    "#df_2 = pandas.read_csv(url_2, sep=\"\\t\", compression=\"zip\")"
   ]
  },
  {
   "cell_type": "code",
   "execution_count": 22,
   "id": "e9587588",
   "metadata": {},
   "outputs": [
    {
     "name": "stdout",
     "output_type": "stream",
     "text": [
      "319428\n"
     ]
    }
   ],
   "source": [
    "# the size of the corpus:\n",
    "\n",
    "print(len(df_2))"
   ]
  },
  {
   "cell_type": "code",
   "execution_count": 23,
   "id": "6525f55f",
   "metadata": {},
   "outputs": [
    {
     "data": {
      "text/html": [
       "<div>\n",
       "<style scoped>\n",
       "    .dataframe tbody tr th:only-of-type {\n",
       "        vertical-align: middle;\n",
       "    }\n",
       "\n",
       "    .dataframe tbody tr th {\n",
       "        vertical-align: top;\n",
       "    }\n",
       "\n",
       "    .dataframe thead th {\n",
       "        text-align: right;\n",
       "    }\n",
       "</style>\n",
       "<table border=\"1\" class=\"dataframe\">\n",
       "  <thead>\n",
       "    <tr style=\"text-align: right;\">\n",
       "      <th></th>\n",
       "      <th>Language</th>\n",
       "      <th>Source</th>\n",
       "      <th>Date</th>\n",
       "      <th>Text</th>\n",
       "    </tr>\n",
       "  </thead>\n",
       "  <tbody>\n",
       "    <tr>\n",
       "      <th>319418</th>\n",
       "      <td>Latvian</td>\n",
       "      <td>bdaugava.lv</td>\n",
       "      <td>2010/01/16</td>\n",
       "      <td>Ceturtdien no rajona padomes ēkas tika svinīgi...</td>\n",
       "    </tr>\n",
       "    <tr>\n",
       "      <th>319419</th>\n",
       "      <td>Latvian</td>\n",
       "      <td>nra.lv</td>\n",
       "      <td>2011/12/21</td>\n",
       "      <td>AFP vēsta, ka naktī uz otrdienu, jau piekto na...</td>\n",
       "    </tr>\n",
       "    <tr>\n",
       "      <th>319420</th>\n",
       "      <td>Latvian</td>\n",
       "      <td>db.lv</td>\n",
       "      <td>2011/12/02</td>\n",
       "      <td>TOP 500 ir vienīgais ikgadējais izdevums Latvi...</td>\n",
       "    </tr>\n",
       "    <tr>\n",
       "      <th>319421</th>\n",
       "      <td>Latvian</td>\n",
       "      <td>diena.lv</td>\n",
       "      <td>2009/12/21</td>\n",
       "      <td>ka pati visu mūžu bijusi saistīta ar šo jomu. ...</td>\n",
       "    </tr>\n",
       "    <tr>\n",
       "      <th>319422</th>\n",
       "      <td>Latvian</td>\n",
       "      <td>la.lv</td>\n",
       "      <td>2011/12/08</td>\n",
       "      <td>Prakse liecina, ka tādos gadījumos tiesu izpil...</td>\n",
       "    </tr>\n",
       "    <tr>\n",
       "      <th>319423</th>\n",
       "      <td>Latvian</td>\n",
       "      <td>ziemellatvija.lv</td>\n",
       "      <td>2008/01/30</td>\n",
       "      <td>Beigu beigās I. Klempere kopā ar dēlu mājās de...</td>\n",
       "    </tr>\n",
       "    <tr>\n",
       "      <th>319424</th>\n",
       "      <td>Latvian</td>\n",
       "      <td>db.lv</td>\n",
       "      <td>2012/01/03</td>\n",
       "      <td>Vienkāršā valodā tas nozīmē, ka investori par ...</td>\n",
       "    </tr>\n",
       "    <tr>\n",
       "      <th>319425</th>\n",
       "      <td>Latvian</td>\n",
       "      <td>la.lv</td>\n",
       "      <td>2011/08/27</td>\n",
       "      <td>– Visi mūsu projekti ir notikuši sadarbībā ar ...</td>\n",
       "    </tr>\n",
       "    <tr>\n",
       "      <th>319426</th>\n",
       "      <td>Latvian</td>\n",
       "      <td>ziemellatvija.lv</td>\n",
       "      <td>2007/03/12</td>\n",
       "      <td>Pole atzina, ka par šo ziņojumu VM saņēmusi li...</td>\n",
       "    </tr>\n",
       "    <tr>\n",
       "      <th>319427</th>\n",
       "      <td>Latvian</td>\n",
       "      <td>bauskasdzive.lv</td>\n",
       "      <td>2011/07/07</td>\n",
       "      <td>Trešdienas, 6. jūlija, vakarā projekta vadītāj...</td>\n",
       "    </tr>\n",
       "  </tbody>\n",
       "</table>\n",
       "</div>"
      ],
      "text/plain": [
       "       Language            Source        Date  \\\n",
       "319418  Latvian       bdaugava.lv  2010/01/16   \n",
       "319419  Latvian            nra.lv  2011/12/21   \n",
       "319420  Latvian             db.lv  2011/12/02   \n",
       "319421  Latvian          diena.lv  2009/12/21   \n",
       "319422  Latvian             la.lv  2011/12/08   \n",
       "319423  Latvian  ziemellatvija.lv  2008/01/30   \n",
       "319424  Latvian             db.lv  2012/01/03   \n",
       "319425  Latvian             la.lv  2011/08/27   \n",
       "319426  Latvian  ziemellatvija.lv  2007/03/12   \n",
       "319427  Latvian   bauskasdzive.lv  2011/07/07   \n",
       "\n",
       "                                                     Text  \n",
       "319418  Ceturtdien no rajona padomes ēkas tika svinīgi...  \n",
       "319419  AFP vēsta, ka naktī uz otrdienu, jau piekto na...  \n",
       "319420  TOP 500 ir vienīgais ikgadējais izdevums Latvi...  \n",
       "319421  ka pati visu mūžu bijusi saistīta ar šo jomu. ...  \n",
       "319422  Prakse liecina, ka tādos gadījumos tiesu izpil...  \n",
       "319423  Beigu beigās I. Klempere kopā ar dēlu mājās de...  \n",
       "319424  Vienkāršā valodā tas nozīmē, ka investori par ...  \n",
       "319425  – Visi mūsu projekti ir notikuši sadarbībā ar ...  \n",
       "319426  Pole atzina, ka par šo ziņojumu VM saņēmusi li...  \n",
       "319427  Trešdienas, 6. jūlija, vakarā projekta vadītāj...  "
      ]
     },
     "execution_count": 23,
     "metadata": {},
     "output_type": "execute_result"
    }
   ],
   "source": [
    "# show the last 10 entries\n",
    "\n",
    "df_2[-10:]"
   ]
  }
 ],
 "metadata": {
  "kernelspec": {
   "display_name": "Python 3 (ipykernel)",
   "language": "python",
   "name": "python3"
  },
  "language_info": {
   "codemirror_mode": {
    "name": "ipython",
    "version": 3
   },
   "file_extension": ".py",
   "mimetype": "text/x-python",
   "name": "python",
   "nbconvert_exporter": "python",
   "pygments_lexer": "ipython3",
   "version": "3.7.12"
  }
 },
 "nbformat": 4,
 "nbformat_minor": 5
}

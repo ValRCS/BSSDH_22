{
 "cells": [
  {
   "cell_type": "markdown",
   "id": "abd01521",
   "metadata": {},
   "source": [
    "# Reading Data\n",
    "\n",
    "There are various file formats, how do we make a sense of them all?\n",
    "\n",
    "* There are archive/compression formats such as .zip, .rar, .7z, .tar those hold other files.\n",
    "* There are text formats such as .txt, .csv, .json, .tsv - those can be read by humans in a text editor\n",
    "* There are binary formats such as .exe, .jpg, .png - those are not human readable"
   ]
  },
  {
   "cell_type": "markdown",
   "id": "03243a74",
   "metadata": {},
   "source": [
    "### Reading text files\n",
    "\n",
    "In this section we will read a simple text file. It contains text from the start of English Wikipedia article about Riga: https://en.wikipedia.org/wiki/Riga"
   ]
  },
  {
   "cell_type": "code",
   "execution_count": 1,
   "id": "c7202ad7",
   "metadata": {},
   "outputs": [],
   "source": [
    "filename = \"data/riga_wikipedia.txt\""
   ]
  },
  {
   "cell_type": "code",
   "execution_count": 2,
   "id": "ba38814a",
   "metadata": {},
   "outputs": [],
   "source": [
    "# open the file for reading\n",
    "file_1 = open(filename)\n",
    "\n",
    "# read contents of the file\n",
    "data = file_1.read()\n",
    "\n",
    "# close the file\n",
    "file_1.close()"
   ]
  },
  {
   "cell_type": "code",
   "execution_count": 3,
   "id": "d25dc44f",
   "metadata": {},
   "outputs": [
    {
     "name": "stdout",
     "output_type": "stream",
     "text": [
      "Riga (/ˈriːɡə/; Latvian: Rīga [ˈriːɡa] (listen), Livonian: Rīgõ) is the capital of Latvia and is hom\n"
     ]
    }
   ],
   "source": [
    "# print the first 100 characters of the file\n",
    "print(data[:100])"
   ]
  },
  {
   "cell_type": "code",
   "execution_count": 13,
   "id": "372893da",
   "metadata": {},
   "outputs": [],
   "source": [
    "# split text into tokens (words)\n",
    "words = data.split()"
   ]
  },
  {
   "cell_type": "code",
   "execution_count": 12,
   "id": "d1480e86",
   "metadata": {},
   "outputs": [
    {
     "name": "stdout",
     "output_type": "stream",
     "text": [
      "257\n"
     ]
    }
   ],
   "source": [
    "# count the number of tokens in text\n",
    "\n",
    "print(len(words))"
   ]
  },
  {
   "cell_type": "code",
   "execution_count": 14,
   "id": "db3d4915",
   "metadata": {},
   "outputs": [
    {
     "name": "stdout",
     "output_type": "stream",
     "text": [
      "['Riga', '(/ˈriːɡə/;', 'Latvian:', 'Rīga', '[ˈriːɡa]', '(listen),', 'Livonian:', 'Rīgõ)', 'is', 'the', 'capital', 'of', 'Latvia', 'and', 'is', 'home', 'to', '671,000', 'inhabitants', '[10][11][12]', 'which', 'is', 'a', 'third', 'of', \"Latvia's\", 'population.', 'Being', 'significantly', 'larger', 'than', 'other', 'cities', 'of', 'Latvia,', 'Riga', 'is', 'the', \"country's\", 'primate', 'city.', 'It', 'is', 'also', 'the', 'largest', 'city', 'in', 'the', 'three']\n"
     ]
    }
   ],
   "source": [
    "# print the first 50 tokens\n",
    "print(words[:50])"
   ]
  },
  {
   "cell_type": "markdown",
   "id": "43dcb013",
   "metadata": {},
   "source": [
    "### Counting word frequency\n",
    "\n",
    "Here we will use Python's Counter object (from Python collections library) to determine word frequency of the text. \n",
    "\n",
    "https://docs.python.org/3/library/collections.html#collections.Counter"
   ]
  },
  {
   "cell_type": "code",
   "execution_count": 6,
   "id": "dd488dca",
   "metadata": {},
   "outputs": [],
   "source": [
    "from collections import Counter"
   ]
  },
  {
   "cell_type": "code",
   "execution_count": 7,
   "id": "d26d3e1c",
   "metadata": {},
   "outputs": [],
   "source": [
    "c = Counter(words)"
   ]
  },
  {
   "cell_type": "code",
   "execution_count": 8,
   "id": "e78efd41",
   "metadata": {},
   "outputs": [
    {
     "name": "stdout",
     "output_type": "stream",
     "text": [
      "[('the', 21), ('of', 13), ('is', 11), ('Riga', 9), ('and', 9), ('a', 5), ('in', 5), ('Baltic', 5), ('European', 5), ('World', 4), ('home', 3), ('to', 3), ('city', 3), ('was', 3), ('Union', 3), ('It', 2), ('largest', 2), ('three', 2), ('The', 2), ('lies', 2)]\n"
     ]
    }
   ],
   "source": [
    "# print the 20 most common words (tokens)\n",
    "print(c.most_common(20))"
   ]
  },
  {
   "cell_type": "code",
   "execution_count": 11,
   "id": "5f922f3e",
   "metadata": {},
   "outputs": [
    {
     "name": "stdout",
     "output_type": "stream",
     "text": [
      "the: 21\n",
      "of: 13\n",
      "is: 11\n",
      "Riga: 9\n",
      "and: 9\n",
      "a: 5\n",
      "in: 5\n",
      "Baltic: 5\n",
      "European: 5\n",
      "World: 4\n",
      "home: 3\n",
      "to: 3\n",
      "city: 3\n",
      "was: 3\n",
      "Union: 3\n",
      "It: 2\n",
      "largest: 2\n",
      "three: 2\n",
      "The: 2\n",
      "lies: 2\n"
     ]
    }
   ],
   "source": [
    "# a nicer way of printing counter results using a *for* cycle\n",
    "\n",
    "for token, count in c.most_common(20):\n",
    "    print(f\"{token}: {count}\")\n"
   ]
  },
  {
   "cell_type": "markdown",
   "id": "c61a3ab5",
   "metadata": {},
   "source": [
    "Notice how words may appear in both lowercase (\"the\") and uppercase (\"The\"). You may want to normalize the text by converting it all to lowercase and do other clean-up steps. "
   ]
  }
 ],
 "metadata": {
  "kernelspec": {
   "display_name": "Python 3 (ipykernel)",
   "language": "python",
   "name": "python3"
  },
  "language_info": {
   "codemirror_mode": {
    "name": "ipython",
    "version": 3
   },
   "file_extension": ".py",
   "mimetype": "text/x-python",
   "name": "python",
   "nbconvert_exporter": "python",
   "pygments_lexer": "ipython3",
   "version": "3.7.12"
  }
 },
 "nbformat": 4,
 "nbformat_minor": 5
}
